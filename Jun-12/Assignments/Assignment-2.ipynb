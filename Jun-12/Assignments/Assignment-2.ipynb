{
 "cells": [
  {
   "cell_type": "code",
   "execution_count": 0,
   "metadata": {
    "application/vnd.databricks.v1+cell": {
     "cellMetadata": {
      "byteLimit": 2048000,
      "rowLimit": 10000
     },
     "inputWidgets": {},
     "nuid": "ffd8754a-b206-4339-b336-58f8e0e7a3c9",
     "showTitle": false,
     "tableResultSettingsMap": {},
     "title": ""
    }
   },
   "outputs": [],
   "source": [
    "from pyspark.sql import SparkSession\n",
    "from pyspark.sql import functions as F\n",
    "from pyspark.sql import Row\n",
    "from datetime import datetime\n",
    "from pyspark.sql.window import Window as W"
   ]
  },
  {
   "cell_type": "code",
   "execution_count": 0,
   "metadata": {
    "application/vnd.databricks.v1+cell": {
     "cellMetadata": {
      "byteLimit": 2048000,
      "rowLimit": 10000
     },
     "inputWidgets": {},
     "nuid": "f7cbdad0-8066-4c4c-a01f-b8453b290b10",
     "showTitle": false,
     "tableResultSettingsMap": {},
     "title": ""
    }
   },
   "outputs": [
    {
     "output_type": "execute_result",
     "data": {
      "text/html": [
       "\n",
       "            <div>\n",
       "                <p><b>SparkSession - hive</b></p>\n",
       "                \n",
       "        <div>\n",
       "            <p><b>SparkContext</b></p>\n",
       "\n",
       "            <p><a href=\"/?o=1520322650531891#setting/sparkui/0611-042249-grg1r6w4/driver-5594160078528939871\">Spark UI</a></p>\n",
       "\n",
       "            <dl>\n",
       "              <dt>Version</dt>\n",
       "                <dd><code>v3.5.2</code></dd>\n",
       "              <dt>Master</dt>\n",
       "                <dd><code>local[*, 4]</code></dd>\n",
       "              <dt>AppName</dt>\n",
       "                <dd><code>Databricks Shell</code></dd>\n",
       "            </dl>\n",
       "        </div>\n",
       "        \n",
       "            </div>\n",
       "        "
      ],
      "text/plain": [
       "<pyspark.sql.session.SparkSession at 0x7a2f3c1cbf80>"
      ]
     },
     "execution_count": 4,
     "metadata": {},
     "output_type": "execute_result"
    }
   ],
   "source": [
    "spark = SparkSession.builder.appName(\"NB-1\").getOrCreate()\n",
    "spark"
   ]
  },
  {
   "cell_type": "markdown",
   "metadata": {
    "application/vnd.databricks.v1+cell": {
     "cellMetadata": {
      "byteLimit": 2048000,
      "rowLimit": 10000
     },
     "inputWidgets": {},
     "nuid": "532f2583-534a-4bab-8c99-bb793e23ddbc",
     "showTitle": false,
     "tableResultSettingsMap": {},
     "title": ""
    }
   },
   "source": [
    "#**Dataset**\n"
   ]
  },
  {
   "cell_type": "code",
   "execution_count": 0,
   "metadata": {
    "application/vnd.databricks.v1+cell": {
     "cellMetadata": {
      "byteLimit": 2048000,
      "rowLimit": 10000
     },
     "inputWidgets": {},
     "nuid": "1f28d0fd-bb69-49de-9d8c-cc6582e03879",
     "showTitle": false,
     "tableResultSettingsMap": {},
     "title": ""
    }
   },
   "outputs": [
    {
     "output_type": "stream",
     "name": "stdout",
     "output_type": "stream",
     "text": [
      "+------+--------+-------------------+--------+-------+-------+\n|UserID|Page    |Timestamp          |Duration|Device |Country|\n+------+--------+-------------------+--------+-------+-------+\n|1     |Home    |2024-04-10 10:00:00|35      |Mobile |India  |\n|2     |Products|2024-04-10 10:02:00|120     |Desktop|USA    |\n|3     |Cart    |2024-04-10 10:05:00|45      |Tablet |UK     |\n|1     |Checkout|2024-04-10 10:08:00|60      |Mobile |India  |\n|4     |Home    |2024-04-10 10:10:00|15      |Mobile |Canada |\n|2     |Contact |2024-04-10 10:15:00|25      |Desktop|USA    |\n|5     |Products|2024-04-10 10:20:00|90      |Desktop|India  |\n+------+--------+-------------------+--------+-------+-------+\n\n"
     ]
    }
   ],
   "source": [
    "web_data = [\n",
    "Row(UserID=1, Page=\"Home\", Timestamp=\"2024-04-10 10:00:00\", Duration=35,\n",
    "Device=\"Mobile\", Country=\"India\"),\n",
    "Row(UserID=2, Page=\"Products\", Timestamp=\"2024-04-10 10:02:00\", Duration=120,\n",
    "Device=\"Desktop\", Country=\"USA\"),\n",
    "Row(UserID=3, Page=\"Cart\", Timestamp=\"2024-04-10 10:05:00\", Duration=45,\n",
    "Device=\"Tablet\", Country=\"UK\"),\n",
    "Row(UserID=1, Page=\"Checkout\", Timestamp=\"2024-04-10 10:08:00\", Duration=60,\n",
    "Device=\"Mobile\", Country=\"India\"),\n",
    "Row(UserID=4, Page=\"Home\", Timestamp=\"2024-04-10 10:10:00\", Duration=15,\n",
    "Device=\"Mobile\", Country=\"Canada\"),\n",
    "Row(UserID=2, Page=\"Contact\", Timestamp=\"2024-04-10 10:15:00\", Duration=25,\n",
    "Device=\"Desktop\", Country=\"USA\"),\n",
    "Row(UserID=5, Page=\"Products\", Timestamp=\"2024-04-10 10:20:00\", Duration=90,\n",
    "Device=\"Desktop\", Country=\"India\"),\n",
    "]\n",
    "df_web = spark.createDataFrame(web_data)\n",
    "df_web.show(truncate=False)"
   ]
  },
  {
   "cell_type": "markdown",
   "metadata": {
    "application/vnd.databricks.v1+cell": {
     "cellMetadata": {},
     "inputWidgets": {},
     "nuid": "1ee66d25-f343-4edd-8f6b-37781ee1a977",
     "showTitle": false,
     "tableResultSettingsMap": {},
     "title": ""
    }
   },
   "source": [
    "#**Data Exploration & Preparation**"
   ]
  },
  {
   "cell_type": "code",
   "execution_count": 0,
   "metadata": {
    "application/vnd.databricks.v1+cell": {
     "cellMetadata": {
      "byteLimit": 2048000,
      "rowLimit": 10000
     },
     "inputWidgets": {},
     "nuid": "9ffc59d2-0f42-40e7-adad-1e5ea86a9c8f",
     "showTitle": false,
     "tableResultSettingsMap": {},
     "title": ""
    }
   },
   "outputs": [
    {
     "output_type": "stream",
     "name": "stdout",
     "output_type": "stream",
     "text": [
      "root\n |-- UserID: long (nullable = true)\n |-- Page: string (nullable = true)\n |-- Timestamp: string (nullable = true)\n |-- Duration: long (nullable = true)\n |-- Device: string (nullable = true)\n |-- Country: string (nullable = true)\n\n"
     ]
    }
   ],
   "source": [
    "# 1. Display the schema of web_traffic_data .\n",
    "df_web.printSchema()"
   ]
  },
  {
   "cell_type": "code",
   "execution_count": 0,
   "metadata": {
    "application/vnd.databricks.v1+cell": {
     "cellMetadata": {
      "byteLimit": 2048000,
      "rowLimit": 10000
     },
     "inputWidgets": {},
     "nuid": "71e06aad-3718-49a5-a9e9-90a2103a1d57",
     "showTitle": false,
     "tableResultSettingsMap": {},
     "title": ""
    }
   },
   "outputs": [
    {
     "output_type": "stream",
     "name": "stdout",
     "output_type": "stream",
     "text": [
      "+------+--------+-------------------+--------+-------+-------+\n|UserID|    Page|          TimeStamp|Duration| Device|Country|\n+------+--------+-------------------+--------+-------+-------+\n|     1|    Home|2024-04-10 10:00:00|      35| Mobile|  India|\n|     2|Products|2024-04-10 10:02:00|     120|Desktop|    USA|\n|     3|    Cart|2024-04-10 10:05:00|      45| Tablet|     UK|\n|     1|Checkout|2024-04-10 10:08:00|      60| Mobile|  India|\n|     4|    Home|2024-04-10 10:10:00|      15| Mobile| Canada|\n|     2| Contact|2024-04-10 10:15:00|      25|Desktop|    USA|\n|     5|Products|2024-04-10 10:20:00|      90|Desktop|  India|\n+------+--------+-------------------+--------+-------+-------+\n\n"
     ]
    }
   ],
   "source": [
    "# 2. Convert the Timestamp column to a proper timestamp type.\n",
    "df_web = df_web.withColumn(\"Timestamp\", F.to_timestamp(\"Timestamp\", \"yyyy-MM-dd HH:mm:ss\"))\n",
    "df_web.show()"
   ]
  },
  {
   "cell_type": "code",
   "execution_count": 0,
   "metadata": {
    "application/vnd.databricks.v1+cell": {
     "cellMetadata": {
      "byteLimit": 2048000,
      "rowLimit": 10000
     },
     "inputWidgets": {},
     "nuid": "4a173100-ca8f-43a0-bfe3-cdd6ed0a0c99",
     "showTitle": false,
     "tableResultSettingsMap": {},
     "title": ""
    }
   },
   "outputs": [
    {
     "output_type": "stream",
     "name": "stdout",
     "output_type": "stream",
     "text": [
      "+------+--------+-------------------+--------+-------+-------+-------------+\n|UserID|    Page|          TimeStamp|Duration| Device|Country|SessionMinute|\n+------+--------+-------------------+--------+-------+-------+-------------+\n|     1|    Home|2024-04-10 10:00:00|      35| Mobile|  India|            0|\n|     2|Products|2024-04-10 10:02:00|     120|Desktop|    USA|            2|\n|     3|    Cart|2024-04-10 10:05:00|      45| Tablet|     UK|            5|\n|     1|Checkout|2024-04-10 10:08:00|      60| Mobile|  India|            8|\n|     4|    Home|2024-04-10 10:10:00|      15| Mobile| Canada|           10|\n|     2| Contact|2024-04-10 10:15:00|      25|Desktop|    USA|           15|\n|     5|Products|2024-04-10 10:20:00|      90|Desktop|  India|           20|\n+------+--------+-------------------+--------+-------+-------+-------------+\n\n"
     ]
    }
   ],
   "source": [
    "\n",
    "# 3. Add a new column SessionMinute by extracting the minute from the Timestamp .\n",
    "df_web = df_web.withColumn(\"SessionMinute\", F.minute(\"Timestamp\"))\n",
    "df_web.show()"
   ]
  },
  {
   "cell_type": "markdown",
   "metadata": {
    "application/vnd.databricks.v1+cell": {
     "cellMetadata": {},
     "inputWidgets": {},
     "nuid": "05570e82-7678-4d20-bc91-ceaada70fe69",
     "showTitle": false,
     "tableResultSettingsMap": {},
     "title": ""
    }
   },
   "source": [
    "#**Filtering and Conditions**"
   ]
  },
  {
   "cell_type": "code",
   "execution_count": 0,
   "metadata": {
    "application/vnd.databricks.v1+cell": {
     "cellMetadata": {
      "byteLimit": 2048000,
      "rowLimit": 10000
     },
     "inputWidgets": {},
     "nuid": "4967bdfa-3f81-438a-955c-55717cd20306",
     "showTitle": false,
     "tableResultSettingsMap": {},
     "title": ""
    }
   },
   "outputs": [
    {
     "output_type": "stream",
     "name": "stdout",
     "output_type": "stream",
     "text": [
      "+------+--------+-------------------+--------+------+-------+-------------+\n|UserID|    Page|          TimeStamp|Duration|Device|Country|SessionMinute|\n+------+--------+-------------------+--------+------+-------+-------------+\n|     1|Checkout|2024-04-10 10:08:00|      60|Mobile|  India|            8|\n+------+--------+-------------------+--------+------+-------+-------------+\n\n"
     ]
    }
   ],
   "source": [
    "# 4. Filter users who used a \"Mobile\" device and visited the \"Checkout\" page.\n",
    "df_web.filter((df_web.Page == \"Checkout\") & (df_web.Device == \"Mobile\")).show()"
   ]
  },
  {
   "cell_type": "code",
   "execution_count": 0,
   "metadata": {
    "application/vnd.databricks.v1+cell": {
     "cellMetadata": {
      "byteLimit": 2048000,
      "rowLimit": 10000
     },
     "inputWidgets": {},
     "nuid": "b1ba4c07-e983-4b86-9d32-dc91927c917c",
     "showTitle": false,
     "tableResultSettingsMap": {},
     "title": ""
    }
   },
   "outputs": [
    {
     "output_type": "stream",
     "name": "stdout",
     "output_type": "stream",
     "text": [
      "+------+--------+-------------------+--------+-------+-------+-------------+\n|UserID|    Page|          TimeStamp|Duration| Device|Country|SessionMinute|\n+------+--------+-------------------+--------+-------+-------+-------------+\n|     2|Products|2024-04-10 10:02:00|     120|Desktop|    USA|            2|\n|     5|Products|2024-04-10 10:20:00|      90|Desktop|  India|           20|\n+------+--------+-------------------+--------+-------+-------+-------------+\n\n"
     ]
    }
   ],
   "source": [
    "# 5. Show all entries with a Duration greater than 60 seconds.\n",
    "df_web.filter(df_web.Duration > 60).show()"
   ]
  },
  {
   "cell_type": "code",
   "execution_count": 0,
   "metadata": {
    "application/vnd.databricks.v1+cell": {
     "cellMetadata": {
      "byteLimit": 2048000,
      "rowLimit": 10000
     },
     "inputWidgets": {},
     "nuid": "4427759d-7c42-4b06-85fe-ea9bd981a97a",
     "showTitle": false,
     "tableResultSettingsMap": {},
     "title": ""
    }
   },
   "outputs": [
    {
     "output_type": "stream",
     "name": "stdout",
     "output_type": "stream",
     "text": [
      "+------+--------+-------------------+--------+-------+-------+-------------+\n|UserID|    Page|          TimeStamp|Duration| Device|Country|SessionMinute|\n+------+--------+-------------------+--------+-------+-------+-------------+\n|     5|Products|2024-04-10 10:20:00|      90|Desktop|  India|           20|\n+------+--------+-------------------+--------+-------+-------+-------------+\n\n"
     ]
    }
   ],
   "source": [
    "# 6. Find all users from India who visited the \"Products\" page.\n",
    "df_web.filter((df_web.Country == \"India\") & (df_web.Page == \"Products\")).show()"
   ]
  },
  {
   "cell_type": "markdown",
   "metadata": {
    "application/vnd.databricks.v1+cell": {
     "cellMetadata": {},
     "inputWidgets": {},
     "nuid": "9bf12481-7d00-4c6b-9ffc-e5ca93993b40",
     "showTitle": false,
     "tableResultSettingsMap": {},
     "title": ""
    }
   },
   "source": [
    "#**Aggregation and Grouping**"
   ]
  },
  {
   "cell_type": "code",
   "execution_count": 0,
   "metadata": {
    "application/vnd.databricks.v1+cell": {
     "cellMetadata": {
      "byteLimit": 2048000,
      "rowLimit": 10000
     },
     "inputWidgets": {},
     "nuid": "08b57516-a544-4494-8d3a-5fd15a1902d6",
     "showTitle": false,
     "tableResultSettingsMap": {},
     "title": ""
    }
   },
   "outputs": [
    {
     "output_type": "stream",
     "name": "stdout",
     "output_type": "stream",
     "text": [
      "+-------+---------------+\n| Device|AverageDuration|\n+-------+---------------+\n| Mobile|          36.67|\n| Tablet|           45.0|\n|Desktop|          78.33|\n+-------+---------------+\n\n"
     ]
    }
   ],
   "source": [
    "# 7. Get the average duration per device type.\n",
    "df_web.groupby(\"Device\").agg(\n",
    "  F.round(F.mean(df_web.Duration), 2).alias(\"AverageDuration\")\n",
    ").show()"
   ]
  },
  {
   "cell_type": "code",
   "execution_count": 0,
   "metadata": {
    "application/vnd.databricks.v1+cell": {
     "cellMetadata": {
      "byteLimit": 2048000,
      "rowLimit": 10000
     },
     "inputWidgets": {},
     "nuid": "a171fb32-dea2-4b2e-917f-571ac2327337",
     "showTitle": false,
     "tableResultSettingsMap": {},
     "title": ""
    }
   },
   "outputs": [
    {
     "output_type": "stream",
     "name": "stdout",
     "output_type": "stream",
     "text": [
      "+-------+------------------+\n|Country|SessionsPerCountry|\n+-------+------------------+\n|  India|                 3|\n|    USA|                 2|\n|     UK|                 1|\n| Canada|                 1|\n+-------+------------------+\n\n"
     ]
    }
   ],
   "source": [
    "# 8. Count the number of sessions per country.\n",
    "df_web.groupby(\"Country\").agg(\n",
    "    F.count('*').alias(\"SessionsPerCountry\")\n",
    ").show()"
   ]
  },
  {
   "cell_type": "code",
   "execution_count": 0,
   "metadata": {
    "application/vnd.databricks.v1+cell": {
     "cellMetadata": {
      "byteLimit": 2048000,
      "rowLimit": 10000
     },
     "inputWidgets": {},
     "nuid": "eeb8abaa-f732-4bbc-90ad-279fa83ae1cd",
     "showTitle": false,
     "tableResultSettingsMap": {},
     "title": ""
    }
   },
   "outputs": [
    {
     "output_type": "stream",
     "name": "stdout",
     "output_type": "stream",
     "text": [
      "+----+------------+\n|Page|TimesVisited|\n+----+------------+\n|Home|           2|\n+----+------------+\nonly showing top 1 row\n"
     ]
    }
   ],
   "source": [
    "# 9. Find the most visited page overall.\n",
    "df_web.groupby(\"Page\").agg(\n",
    "    F.count('*').alias(\"TimesVisited\")\n",
    ").sort(\"TimesVisited\", ascending=False).show(1)"
   ]
  },
  {
   "cell_type": "markdown",
   "metadata": {
    "application/vnd.databricks.v1+cell": {
     "cellMetadata": {},
     "inputWidgets": {},
     "nuid": "70fa2cb6-7fb9-43e4-bbbf-fdc0abc70d44",
     "showTitle": false,
     "tableResultSettingsMap": {},
     "title": ""
    }
   },
   "source": [
    "#**Window Functions**"
   ]
  },
  {
   "cell_type": "code",
   "execution_count": 0,
   "metadata": {
    "application/vnd.databricks.v1+cell": {
     "cellMetadata": {
      "byteLimit": 2048000,
      "rowLimit": 10000
     },
     "inputWidgets": {},
     "nuid": "21b0a702-d546-47a1-8e7b-3de087d057d8",
     "showTitle": false,
     "tableResultSettingsMap": {},
     "title": ""
    }
   },
   "outputs": [
    {
     "output_type": "stream",
     "name": "stdout",
     "output_type": "stream",
     "text": [
      "+------+--------+-------------------+--------+-------+-------+-------------+----+\n|UserID|    Page|          TimeStamp|Duration| Device|Country|SessionMinute|Rank|\n+------+--------+-------------------+--------+-------+-------+-------------+----+\n|     1|    Home|2024-04-10 10:00:00|      35| Mobile|  India|            0|   1|\n|     1|Checkout|2024-04-10 10:08:00|      60| Mobile|  India|            8|   2|\n|     2|Products|2024-04-10 10:02:00|     120|Desktop|    USA|            2|   1|\n|     2| Contact|2024-04-10 10:15:00|      25|Desktop|    USA|           15|   2|\n|     3|    Cart|2024-04-10 10:05:00|      45| Tablet|     UK|            5|   1|\n|     4|    Home|2024-04-10 10:10:00|      15| Mobile| Canada|           10|   1|\n|     5|Products|2024-04-10 10:20:00|      90|Desktop|  India|           20|   1|\n+------+--------+-------------------+--------+-------+-------+-------------+----+\n\n"
     ]
    }
   ],
   "source": [
    "# 10. Rank each user’s pages by timestamp (oldest to newest).\n",
    "windo = W.partitionBy(\"UserID\").orderBy(\"Timestamp\")\n",
    "df_web.withColumn(\"Rank\", F.rank().over(windo)).show()"
   ]
  },
  {
   "cell_type": "code",
   "execution_count": 0,
   "metadata": {
    "application/vnd.databricks.v1+cell": {
     "cellMetadata": {
      "byteLimit": 2048000,
      "rowLimit": 10000
     },
     "inputWidgets": {},
     "nuid": "b79eed84-d58c-4e0e-8105-02062fd40269",
     "showTitle": false,
     "tableResultSettingsMap": {},
     "title": ""
    }
   },
   "outputs": [
    {
     "output_type": "stream",
     "name": "stdout",
     "output_type": "stream",
     "text": [
      "+------+-------------+\n|UserID|TotalDuration|\n+------+-------------+\n|     1|           95|\n|     3|           45|\n|     2|          145|\n|     4|           15|\n|     5|           90|\n+------+-------------+\n\n"
     ]
    }
   ],
   "source": [
    "# 11. Find the total duration of all sessions per user using groupBy .\n",
    "df_web.groupby(\"UserID\").agg(\n",
    "    F.sum(\"Duration\").alias(\"TotalDuration\")\n",
    ").show()"
   ]
  },
  {
   "cell_type": "markdown",
   "metadata": {
    "application/vnd.databricks.v1+cell": {
     "cellMetadata": {},
     "inputWidgets": {},
     "nuid": "d6fdfe19-8a83-4c9b-9b63-4efef083978f",
     "showTitle": false,
     "tableResultSettingsMap": {},
     "title": ""
    }
   },
   "source": [
    "#**Spark SQL Tasks**"
   ]
  },
  {
   "cell_type": "code",
   "execution_count": 0,
   "metadata": {
    "application/vnd.databricks.v1+cell": {
     "cellMetadata": {
      "byteLimit": 2048000,
      "rowLimit": 10000
     },
     "inputWidgets": {},
     "nuid": "f1d3022c-1a42-49ae-8b3b-a87332adf720",
     "showTitle": false,
     "tableResultSettingsMap": {},
     "title": ""
    }
   },
   "outputs": [
    {
     "output_type": "stream",
     "name": "stdout",
     "output_type": "stream",
     "text": [
      "+------+--------+-------------------+--------+-------+-------+-------------+\n|UserID|    Page|          TimeStamp|Duration| Device|Country|SessionMinute|\n+------+--------+-------------------+--------+-------+-------+-------------+\n|     1|    Home|2024-04-10 10:00:00|      35| Mobile|  India|            0|\n|     2|Products|2024-04-10 10:02:00|     120|Desktop|    USA|            2|\n|     3|    Cart|2024-04-10 10:05:00|      45| Tablet|     UK|            5|\n|     1|Checkout|2024-04-10 10:08:00|      60| Mobile|  India|            8|\n|     4|    Home|2024-04-10 10:10:00|      15| Mobile| Canada|           10|\n|     2| Contact|2024-04-10 10:15:00|      25|Desktop|    USA|           15|\n|     5|Products|2024-04-10 10:20:00|      90|Desktop|  India|           20|\n+------+--------+-------------------+--------+-------+-------+-------------+\n\n"
     ]
    }
   ],
   "source": [
    "# 12. Create a temporary view called traffic_view .\n",
    "df_web.createOrReplaceTempView(\"traffic_view\")\n",
    "spark.sql(\"SELECT * FROM traffic_view\").show()"
   ]
  },
  {
   "cell_type": "code",
   "execution_count": 0,
   "metadata": {
    "application/vnd.databricks.v1+cell": {
     "cellMetadata": {
      "byteLimit": 2048000,
      "rowLimit": 10000
     },
     "inputWidgets": {},
     "nuid": "5d2ae9f3-9f7c-4623-b747-6e44cf9d47f7",
     "showTitle": false,
     "tableResultSettingsMap": {},
     "title": ""
    }
   },
   "outputs": [
    {
     "output_type": "stream",
     "name": "stdout",
     "output_type": "stream",
     "text": [
      "+------+--------+-------------------+--------+-------+-------+-------------+\n|UserID|    Page|          TimeStamp|Duration| Device|Country|SessionMinute|\n+------+--------+-------------------+--------+-------+-------+-------------+\n|     2|Products|2024-04-10 10:02:00|     120|Desktop|    USA|            2|\n|     5|Products|2024-04-10 10:20:00|      90|Desktop|  India|           20|\n+------+--------+-------------------+--------+-------+-------+-------------+\n\n"
     ]
    }
   ],
   "source": [
    "# 13. Write a SQL query to get the top 2 longest sessions by duration.\n",
    "spark.sql(\"\"\"\n",
    "          SELECT * FROM traffic_view\n",
    "          ORDER BY Duration DESC\n",
    "          LIMIT 2\n",
    "          \"\"\").show()"
   ]
  },
  {
   "cell_type": "code",
   "execution_count": 0,
   "metadata": {
    "application/vnd.databricks.v1+cell": {
     "cellMetadata": {
      "byteLimit": 2048000,
      "rowLimit": 10000
     },
     "inputWidgets": {},
     "nuid": "41682a72-8ccb-4682-bc20-0a70a97a28d1",
     "showTitle": false,
     "tableResultSettingsMap": {},
     "title": ""
    }
   },
   "outputs": [
    {
     "output_type": "stream",
     "name": "stdout",
     "output_type": "stream",
     "text": [
      "+--------+-----------+\n|    Page|UniqueUsers|\n+--------+-----------+\n|    Cart|          1|\n|    Home|          2|\n|Checkout|          1|\n|Products|          2|\n| Contact|          1|\n+--------+-----------+\n\n"
     ]
    }
   ],
   "source": [
    "# 14. Get the number of unique users per page using SQL.\n",
    "spark.sql(\"\"\"\n",
    "          SELECT Page, COUNT(DISTINCT(UserID)) AS UniqueUsers FROM traffic_view\n",
    "          GROUP BY Page\n",
    "          \"\"\").show()"
   ]
  },
  {
   "cell_type": "markdown",
   "metadata": {
    "application/vnd.databricks.v1+cell": {
     "cellMetadata": {},
     "inputWidgets": {},
     "nuid": "c430cf6e-60bd-437e-a58d-1f0d7fe59b68",
     "showTitle": false,
     "tableResultSettingsMap": {},
     "title": ""
    }
   },
   "source": [
    "#**Export & Save**"
   ]
  },
  {
   "cell_type": "code",
   "execution_count": 0,
   "metadata": {
    "application/vnd.databricks.v1+cell": {
     "cellMetadata": {
      "byteLimit": 2048000,
      "rowLimit": 10000
     },
     "inputWidgets": {},
     "nuid": "8c400c8d-d2eb-4aae-9209-d1c9208168f6",
     "showTitle": false,
     "tableResultSettingsMap": {},
     "title": ""
    }
   },
   "outputs": [],
   "source": [
    "# 15. Save the final DataFrame to CSV.\n",
    "df_web.write.mode(\"overwrite\").option(\"header\", \"true\").csv(\"/Workspace/Shared/web_data/df_web\")"
   ]
  },
  {
   "cell_type": "code",
   "execution_count": 0,
   "metadata": {
    "application/vnd.databricks.v1+cell": {
     "cellMetadata": {
      "byteLimit": 2048000,
      "rowLimit": 10000
     },
     "inputWidgets": {},
     "nuid": "98c8c05e-0759-422e-8b48-14963a4de0f9",
     "showTitle": false,
     "tableResultSettingsMap": {},
     "title": ""
    }
   },
   "outputs": [],
   "source": [
    "# 16. Save partitioned by Country in Parquet format.\n",
    "df_web.write.mode(\"overwrite\").parquet(\"/Workspace/Shared/web_data/df_web_parquet\", partitionBy=\"Country\")"
   ]
  },
  {
   "cell_type": "code",
   "execution_count": 0,
   "metadata": {
    "application/vnd.databricks.v1+cell": {
     "cellMetadata": {},
     "inputWidgets": {},
     "nuid": "32ded424-2e39-4529-a035-f52cafee07eb",
     "showTitle": false,
     "tableResultSettingsMap": {},
     "title": ""
    }
   },
   "outputs": [],
   "source": []
  }
 ],
 "metadata": {
  "application/vnd.databricks.v1+notebook": {
   "computePreferences": null,
   "dashboards": [],
   "environmentMetadata": {
    "base_environment": "",
    "environment_version": "2"
   },
   "inputWidgetPreferences": null,
   "language": "python",
   "notebookMetadata": {
    "pythonIndentUnit": 4
   },
   "notebookName": "Assignment-1",
   "widgets": {}
  },
  "language_info": {
   "name": "python"
  }
 },
 "nbformat": 4,
 "nbformat_minor": 0
}