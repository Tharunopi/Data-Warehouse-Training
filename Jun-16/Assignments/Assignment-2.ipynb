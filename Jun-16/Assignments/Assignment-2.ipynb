{
 "cells": [
  {
   "cell_type": "code",
   "execution_count": 0,
   "metadata": {
    "application/vnd.databricks.v1+cell": {
     "cellMetadata": {
      "byteLimit": 2048000,
      "rowLimit": 10000
     },
     "inputWidgets": {},
     "nuid": "bfd64339-ad92-4726-9079-f378f0d1a24e",
     "showTitle": false,
     "tableResultSettingsMap": {},
     "title": ""
    }
   },
   "outputs": [],
   "source": [
    "from pyspark.sql import SparkSession\n",
    "import pyspark.sql.functions as F\n",
    "from pyspark.sql.window import Window as W\n",
    "from delta.tables import DeltaTable"
   ]
  },
  {
   "cell_type": "code",
   "execution_count": 0,
   "metadata": {
    "application/vnd.databricks.v1+cell": {
     "cellMetadata": {
      "byteLimit": 2048000,
      "rowLimit": 10000
     },
     "inputWidgets": {},
     "nuid": "9aa24e59-fe6c-46d1-901d-488b41ba11aa",
     "showTitle": false,
     "tableResultSettingsMap": {},
     "title": ""
    }
   },
   "outputs": [
    {
     "output_type": "execute_result",
     "data": {
      "text/html": [
       "\n",
       "            <div>\n",
       "                <p><b>SparkSession - hive</b></p>\n",
       "                \n",
       "        <div>\n",
       "            <p><b>SparkContext</b></p>\n",
       "\n",
       "            <p><a href=\"/?o=1520322650531891#setting/sparkui/0611-042249-grg1r6w4/driver-6789252531605708921\">Spark UI</a></p>\n",
       "\n",
       "            <dl>\n",
       "              <dt>Version</dt>\n",
       "                <dd><code>v3.5.2</code></dd>\n",
       "              <dt>Master</dt>\n",
       "                <dd><code>local[*, 4]</code></dd>\n",
       "              <dt>AppName</dt>\n",
       "                <dd><code>Databricks Shell</code></dd>\n",
       "            </dl>\n",
       "        </div>\n",
       "        \n",
       "            </div>\n",
       "        "
      ],
      "text/plain": [
       "<pyspark.sql.session.SparkSession at 0x72b155fafe30>"
      ]
     },
     "execution_count": 4,
     "metadata": {},
     "output_type": "execute_result"
    }
   ],
   "source": [
    "spark = SparkSession.builder.appName(\"assignments\").getOrCreate()\n",
    "spark"
   ]
  },
  {
   "cell_type": "code",
   "execution_count": 0,
   "metadata": {
    "application/vnd.databricks.v1+cell": {
     "cellMetadata": {
      "byteLimit": 2048000,
      "rowLimit": 10000
     },
     "inputWidgets": {},
     "nuid": "4b7fa426-d695-4fe1-b796-253172fddae7",
     "showTitle": false,
     "tableResultSettingsMap": {},
     "title": ""
    }
   },
   "outputs": [],
   "source": [
    "dfSub = spark.read.csv(\"file:/Workspace/Shared/jun-16/subscriptions.csv\", header=True, inferSchema=True)\n",
    "dfUser = spark.read.csv(\"file:/Workspace/Shared/jun-16/user_activity.csv\", header=True, inferSchema=True)"
   ]
  },
  {
   "cell_type": "code",
   "execution_count": 0,
   "metadata": {
    "application/vnd.databricks.v1+cell": {
     "cellMetadata": {
      "byteLimit": 2048000,
      "rowLimit": 10000
     },
     "inputWidgets": {},
     "nuid": "b82f4bb7-f895-46aa-882c-43db011628dc",
     "showTitle": false,
     "tableResultSettingsMap": {},
     "title": ""
    }
   },
   "outputs": [],
   "source": [
    "dfSub.write.format(\"delta\").mode(\"overwrite\").saveAsTable(\"subscriptions_delta\")\n",
    "subDelta = DeltaTable.forName(spark, \"subscriptions_delta\")"
   ]
  },
  {
   "cell_type": "code",
   "execution_count": 0,
   "metadata": {
    "application/vnd.databricks.v1+cell": {
     "cellMetadata": {
      "byteLimit": 2048000,
      "rowLimit": 10000
     },
     "inputWidgets": {},
     "nuid": "98113a44-17c0-4871-8cc4-42c0c726e151",
     "showTitle": false,
     "tableResultSettingsMap": {},
     "title": ""
    }
   },
   "outputs": [
    {
     "output_type": "stream",
     "name": "stdout",
     "output_type": "stream",
     "text": [
      "root\n |-- SubscriptionID: string (nullable = true)\n |-- UserID: string (nullable = true)\n |-- PlanType: string (nullable = true)\n |-- StartDate: date (nullable = true)\n |-- EndDate: date (nullable = true)\n |-- PriceUSD: double (nullable = true)\n |-- IsActive: boolean (nullable = true)\n |-- AutoRenew: boolean (nullable = true)\n\nroot\n |-- UserID: string (nullable = true)\n |-- EventTime: timestamp (nullable = true)\n |-- EventType: string (nullable = true)\n |-- FeatureUsed: string (nullable = true)\n\n"
     ]
    }
   ],
   "source": [
    "dfSub.printSchema()\n",
    "dfUser.printSchema()"
   ]
  },
  {
   "cell_type": "markdown",
   "metadata": {
    "application/vnd.databricks.v1+cell": {
     "cellMetadata": {},
     "inputWidgets": {},
     "nuid": "e780ea51-45c1-4d4d-a379-4d0b02605502",
     "showTitle": false,
     "tableResultSettingsMap": {},
     "title": ""
    }
   },
   "source": [
    "#**Subscription Engagement Score**"
   ]
  },
  {
   "cell_type": "code",
   "execution_count": 0,
   "metadata": {
    "application/vnd.databricks.v1+cell": {
     "cellMetadata": {
      "byteLimit": 2048000,
      "rowLimit": 10000
     },
     "inputWidgets": {},
     "nuid": "f076dcbc-df23-472e-9a51-5a1e5a8fbfd5",
     "showTitle": false,
     "tableResultSettingsMap": {},
     "title": ""
    }
   },
   "outputs": [],
   "source": [
    "# 1. Combine both datasets.\n",
    "dfJoined = dfSub.join(dfUser, on=\"UserID\", how=\"inner\")"
   ]
  },
  {
   "cell_type": "code",
   "execution_count": 0,
   "metadata": {
    "application/vnd.databricks.v1+cell": {
     "cellMetadata": {
      "byteLimit": 2048000,
      "rowLimit": 10000
     },
     "inputWidgets": {},
     "nuid": "55f66af1-459c-4f96-ba15-94a0a3aaf5fd",
     "showTitle": false,
     "tableResultSettingsMap": {},
     "title": ""
    }
   },
   "outputs": [
    {
     "output_type": "stream",
     "name": "stdout",
     "output_type": "stream",
     "text": [
      "+------+--------------+--------+----------+----------+--------+--------+---------+-------------------+---------+-----------+----------+\n|UserID|SubscriptionID|PlanType| StartDate|   EndDate|PriceUSD|IsActive|AutoRenew|          EventTime|EventType|FeatureUsed|ActiveDays|\n+------+--------------+--------+----------+----------+--------+--------+---------+-------------------+---------+-----------+----------+\n|  U001|        SUB001|   Basic|2024-01-01|2024-04-01|    30.0|    true|     true|2024-04-10 16:00:00|   logout|  Dashboard|        91|\n|  U002|        SUB002|     Pro|2024-02-15|2024-05-15|    90.0|    true|    false|2024-04-08 11:10:00|   upload|    Reports|        90|\n|  U003|        SUB003|     Pro|2024-03-10|2024-06-10|    90.0|   false|    false|2024-04-09 09:45:00| download|  Analytics|        92|\n|  U001|        SUB004| Premium|2024-04-05|2024-07-05|   120.0|    true|     true|2024-04-10 16:00:00|   logout|  Dashboard|        91|\n|  U004|        SUB005|   Basic|2024-01-20|2024-04-20|    30.0|   false|    false|2024-04-11 12:00:00|    login|  Dashboard|        91|\n|  U001|        SUB001|   Basic|2024-01-01|2024-04-01|    30.0|    true|     true|2024-04-07 10:22:00|    login|  Dashboard|        91|\n|  U001|        SUB004| Premium|2024-04-05|2024-07-05|   120.0|    true|     true|2024-04-07 10:22:00|    login|  Dashboard|        91|\n+------+--------------+--------+----------+----------+--------+--------+---------+-------------------+---------+-----------+----------+\n\n"
     ]
    }
   ],
   "source": [
    "# Calculate: active_days = EndDate - StartDate\n",
    "dfJoined = dfJoined.withColumn(\"ActiveDays\", F.date_diff(F.col(\"EndDate\"), F.col(\"StartDate\")))\n",
    "dfJoined.show()"
   ]
  },
  {
   "cell_type": "code",
   "execution_count": 0,
   "metadata": {
    "application/vnd.databricks.v1+cell": {
     "cellMetadata": {
      "byteLimit": 2048000,
      "rowLimit": 10000
     },
     "inputWidgets": {},
     "nuid": "36d92598-fbfc-4863-b1dd-ebac51b11d54",
     "showTitle": false,
     "tableResultSettingsMap": {},
     "title": ""
    }
   },
   "outputs": [
    {
     "output_type": "stream",
     "name": "stdout",
     "output_type": "stream",
     "text": [
      "+------+-------------+----------+-----+\n|UserID|EventsPerUser|ActiveDays|Price|\n+------+-------------+----------+-----+\n|  U004|            1|        91| 30.0|\n|  U002|            1|        90| 90.0|\n|  U003|            1|        92| 90.0|\n|  U001|            4|       364|300.0|\n+------+-------------+----------+-----+\n\n"
     ]
    }
   ],
   "source": [
    "# Calculate: events_per_user = count(EventType) grouped by UserID\n",
    "dfMetrics = dfJoined.groupBy(\"UserID\").agg(\n",
    "    F.count(\"EventType\").alias(\"EventsPerUser\"),\n",
    "    F.sum(\"ActiveDays\").alias(\"ActiveDays\"),\n",
    "    F.sum(\"PriceUSD\").alias(\"Price\")\n",
    ")\n",
    "dfMetrics.show()"
   ]
  },
  {
   "cell_type": "code",
   "execution_count": 0,
   "metadata": {
    "application/vnd.databricks.v1+cell": {
     "cellMetadata": {
      "byteLimit": 2048000,
      "rowLimit": 10000
     },
     "inputWidgets": {},
     "nuid": "87dc593d-3524-427d-8faf-b5ccaca37c3a",
     "showTitle": false,
     "tableResultSettingsMap": {},
     "title": ""
    }
   },
   "outputs": [
    {
     "output_type": "stream",
     "name": "stdout",
     "output_type": "stream",
     "text": [
      "+------+-------------+----------+-----+---------------+\n|UserID|EventsPerUser|ActiveDays|Price|EngagementScore|\n+------+-------------+----------+-----+---------------+\n|  U004|            1|        91| 30.0|           0.33|\n|  U002|            1|        90| 90.0|            1.0|\n|  U003|            1|        92| 90.0|           0.98|\n|  U001|            4|       364|300.0|            3.3|\n+------+-------------+----------+-----+---------------+\n\n"
     ]
    }
   ],
   "source": [
    "# Create a score: engagement_score = (events_per_user / active_days) * PriceUSD\n",
    "dfMetrics = dfMetrics.withColumn(\n",
    "    \"EngagementScore\",\n",
    "    F.round((F.col(\"EventsPerUser\") / F.col(\"ActiveDays\")) * F.col(\"Price\"), 2)\n",
    ")\n",
    "dfMetrics.show()"
   ]
  },
  {
   "cell_type": "markdown",
   "metadata": {
    "application/vnd.databricks.v1+cell": {
     "cellMetadata": {},
     "inputWidgets": {},
     "nuid": "cff88ed5-7494-4656-bcc3-e5d7de2bb5dd",
     "showTitle": false,
     "tableResultSettingsMap": {},
     "title": ""
    }
   },
   "source": [
    "#**Anomaly Detection via SQL**"
   ]
  },
  {
   "cell_type": "code",
   "execution_count": 0,
   "metadata": {
    "application/vnd.databricks.v1+cell": {
     "cellMetadata": {
      "byteLimit": 2048000,
      "rowLimit": 10000
     },
     "inputWidgets": {},
     "nuid": "2a14485a-f80c-46e2-9e02-56690d1ba272",
     "showTitle": false,
     "tableResultSettingsMap": {},
     "title": ""
    }
   },
   "outputs": [],
   "source": [
    "dfUser.createOrReplaceTempView(\"user_activity\")\n",
    "dfSub.createOrReplaceTempView(\"subscription\")"
   ]
  },
  {
   "cell_type": "code",
   "execution_count": 0,
   "metadata": {
    "application/vnd.databricks.v1+cell": {
     "cellMetadata": {
      "byteLimit": 2048000,
      "rowLimit": 10000
     },
     "inputWidgets": {},
     "nuid": "13a228af-3c5e-4c6e-8737-86d1eda7a1f7",
     "showTitle": false,
     "tableResultSettingsMap": {},
     "title": ""
    }
   },
   "outputs": [
    {
     "output_type": "stream",
     "name": "stdout",
     "output_type": "stream",
     "text": [
      "+------+---------+---------+\n|UserID|SubExpiry|LastLogin|\n+------+---------+---------+\n+------+---------+---------+\n\n"
     ]
    }
   ],
   "source": [
    "# Identify users with:\n",
    "# Subscription inactive but recent activity\n",
    "spark.sql(\"\"\"\n",
    "          SELECT u.UserID, s.SubExpiry, u.LastLogin FROM \n",
    "          (SELECT UserID, MAX(EndDate) AS SubExpiry FROM subscription \n",
    "          GROUP BY UserID) s\n",
    "          INNER JOIN (SELECT UserID, MAX(EventTime) AS LastLogin FROM user_Activity \n",
    "                      GROUP BY UserID) u\n",
    "          ON s.UserID = u.UserID\n",
    "          WHERE u.LastLogin > s.SubExpiry\n",
    "          \"\"\").show()\n",
    "\n",
    "# None is displayed because no activity found"
   ]
  },
  {
   "cell_type": "code",
   "execution_count": 0,
   "metadata": {
    "application/vnd.databricks.v1+cell": {
     "cellMetadata": {
      "byteLimit": 2048000,
      "rowLimit": 10000
     },
     "inputWidgets": {},
     "nuid": "68c1d5cb-0869-41a7-b654-2ebaaad24c60",
     "showTitle": false,
     "tableResultSettingsMap": {},
     "title": ""
    }
   },
   "outputs": [
    {
     "output_type": "stream",
     "name": "stdout",
     "output_type": "stream",
     "text": [
      "+------+-------------------+---------+\n|UserID|       LastActivity|AutoRenew|\n+------+-------------------+---------+\n|  U001|2024-04-10 16:00:00|     true|\n+------+-------------------+---------+\n\n"
     ]
    }
   ],
   "source": [
    "# AutoRenew is true but no events in 30 days\n",
    "spark.sql(\"\"\"\n",
    "          SELECT DISTINCT(u.UserID), u.LastActivity, s.AutoRenew FROM \n",
    "          (SELECT UserID, MAX(EventTime) AS LastActivity FROM user_Activity\n",
    "           GROUP BY UserID) u\n",
    "          INNER JOIN \n",
    "          (SELECT UserID, AutoRenew FROM subscription) s\n",
    "          ON s.UserID = u.UserID\n",
    "          WHERE ABS(DATE_DIFF(CURRENT_DATE(), u.LastActivity)) > 30 AND s.AutoRenew = true\n",
    "          \"\"\").show()"
   ]
  },
  {
   "cell_type": "markdown",
   "metadata": {
    "application/vnd.databricks.v1+cell": {
     "cellMetadata": {},
     "inputWidgets": {},
     "nuid": "5b2ae73f-e35d-4798-9d22-89f8e2de8519",
     "showTitle": false,
     "tableResultSettingsMap": {},
     "title": ""
    }
   },
   "source": [
    "#**Delta Lake + Merge simulation**"
   ]
  },
  {
   "cell_type": "code",
   "execution_count": 0,
   "metadata": {
    "application/vnd.databricks.v1+cell": {
     "cellMetadata": {
      "byteLimit": 2048000,
      "rowLimit": 10000
     },
     "inputWidgets": {},
     "nuid": "8e2cf1c6-22f3-4904-bd4c-174bb536c5cb",
     "showTitle": false,
     "tableResultSettingsMap": {},
     "title": ""
    }
   },
   "outputs": [
    {
     "output_type": "stream",
     "name": "stdout",
     "output_type": "stream",
     "text": [
      "+--------------+------+--------+----------+----------+--------+--------+---------+\n|SubscriptionID|UserID|PlanType| StartDate|   EndDate|PriceUSD|IsActive|AutoRenew|\n+--------------+------+--------+----------+----------+--------+--------+---------+\n|        SUB003|  U003|     Pro|2024-03-10|2024-06-10|    95.0|   false|    false|\n+--------------+------+--------+----------+----------+--------+--------+---------+\n\n"
     ]
    }
   ],
   "source": [
    "# Imagine a billing fix needs to be applied:\n",
    "# For all Pro plans in March, increase price by $5 retroactively.\n",
    "addedCost = dfSub.filter((F.col(\"PlanType\") == \"Pro\") & (F.month(F.col(\"StartDate\")) == 3)).withColumn(\"PriceUSD\", F.col(\"PriceUSD\") + 5)\n",
    "addedCost.show()"
   ]
  },
  {
   "cell_type": "code",
   "execution_count": 0,
   "metadata": {
    "application/vnd.databricks.v1+cell": {
     "cellMetadata": {
      "byteLimit": 2048000,
      "rowLimit": 10000
     },
     "inputWidgets": {},
     "nuid": "621eb45e-cfd0-4bd4-919d-29536ea152c9",
     "showTitle": false,
     "tableResultSettingsMap": {},
     "title": ""
    }
   },
   "outputs": [],
   "source": [
    "# Use MERGE INTO on Delta table to apply the change.\n",
    "subDelta.alias(\"target\").merge(\n",
    "    addedCost.alias(\"updates\"),\n",
    "    \"target.SubscriptionID = updates.SubscriptionID\"\n",
    ").whenMatchedUpdate(\n",
    "    set={\"PriceUSD\": \"updates.PriceUSD\"}\n",
    ").execute()\n"
   ]
  },
  {
   "cell_type": "markdown",
   "metadata": {
    "application/vnd.databricks.v1+cell": {
     "cellMetadata": {},
     "inputWidgets": {},
     "nuid": "bb2172aa-fb49-4dcf-9bea-10d9d044412a",
     "showTitle": false,
     "tableResultSettingsMap": {},
     "title": ""
    }
   },
   "source": [
    "#**Time Travel Debugging**"
   ]
  },
  {
   "cell_type": "code",
   "execution_count": 0,
   "metadata": {
    "application/vnd.databricks.v1+cell": {
     "cellMetadata": {
      "byteLimit": 2048000,
      "rowLimit": 10000
     },
     "inputWidgets": {},
     "nuid": "600f085f-d942-48a5-a32d-36f7c0931cc3",
     "showTitle": false,
     "tableResultSettingsMap": {},
     "title": ""
    }
   },
   "outputs": [
    {
     "output_type": "stream",
     "name": "stdout",
     "output_type": "stream",
     "text": [
      "+-------+-------------------+----------------+--------------------+--------------------+--------------------+----+------------------+--------------------+-----------+-----------------+-------------+--------------------+------------+--------------------+\n|version|          timestamp|          userId|            userName|           operation| operationParameters| job|          notebook|           clusterId|readVersion|   isolationLevel|isBlindAppend|    operationMetrics|userMetadata|          engineInfo|\n+-------+-------------------+----------------+--------------------+--------------------+--------------------+----+------------------+--------------------+-----------+-----------------+-------------+--------------------+------------+--------------------+\n|      6|2025-06-16 10:55:47|2089312130523823|azuser3563_mml.lo...|               MERGE|{predicate -> [\"(...|NULL|{2557978635507281}|0611-042249-grg1r6w4|          5|WriteSerializable|        false|{numTargetRowsCop...|        NULL|Databricks-Runtim...|\n|      5|2025-06-16 10:51:01|2089312130523823|azuser3563_mml.lo...|               MERGE|{predicate -> [\"(...|NULL|{2557978635507281}|0611-042249-grg1r6w4|          4|WriteSerializable|        false|{numTargetRowsCop...|        NULL|Databricks-Runtim...|\n|      4|2025-06-16 10:50:11|2089312130523823|azuser3563_mml.lo...|CREATE OR REPLACE...|{partitionBy -> [...|NULL|{2557978635507281}|0611-042249-grg1r6w4|          3|WriteSerializable|        false|{numFiles -> 1, n...|        NULL|Databricks-Runtim...|\n|      3|2025-06-16 10:49:55|2089312130523823|azuser3563_mml.lo...|CREATE OR REPLACE...|{partitionBy -> [...|NULL|{2557978635507281}|0611-042249-grg1r6w4|          2|WriteSerializable|        false|{numFiles -> 1, n...|        NULL|Databricks-Runtim...|\n|      2|2025-06-16 10:49:37|2089312130523823|azuser3563_mml.lo...|CREATE OR REPLACE...|{partitionBy -> [...|NULL|{2557978635507281}|0611-042249-grg1r6w4|          1|WriteSerializable|        false|{numFiles -> 1, n...|        NULL|Databricks-Runtim...|\n|      1|2025-06-16 10:49:29|2089312130523823|azuser3563_mml.lo...|CREATE OR REPLACE...|{partitionBy -> [...|NULL|{2557978635507281}|0611-042249-grg1r6w4|          0|WriteSerializable|        false|{numFiles -> 1, n...|        NULL|Databricks-Runtim...|\n|      0|2025-06-16 10:49:08|2089312130523823|azuser3563_mml.lo...|CREATE OR REPLACE...|{partitionBy -> [...|NULL|{2557978635507281}|0611-042249-grg1r6w4|       NULL|WriteSerializable|        false|{numFiles -> 1, n...|        NULL|Databricks-Runtim...|\n+-------+-------------------+----------------+--------------------+--------------------+--------------------+----+------------------+--------------------+-----------+-----------------+-------------+--------------------+------------+--------------------+\n\n"
     ]
    }
   ],
   "source": [
    "# Show describe history of the table before and after the billing fix.\n",
    "subDelta.history().show()"
   ]
  },
  {
   "cell_type": "code",
   "execution_count": 0,
   "metadata": {
    "application/vnd.databricks.v1+cell": {
     "cellMetadata": {
      "byteLimit": 2048000,
      "rowLimit": 10000
     },
     "inputWidgets": {},
     "nuid": "5646c254-cbda-435e-8b22-f14e2da94080",
     "showTitle": false,
     "tableResultSettingsMap": {},
     "title": ""
    }
   },
   "outputs": [
    {
     "output_type": "stream",
     "name": "stdout",
     "output_type": "stream",
     "text": [
      "+-------+-------------------+----------------+--------------------+--------------------+--------------------+----+------------------+--------------------+-----------+-----------------+-------------+--------------------+------------+--------------------+\n|version|          timestamp|          userId|            userName|           operation| operationParameters| job|          notebook|           clusterId|readVersion|   isolationLevel|isBlindAppend|    operationMetrics|userMetadata|          engineInfo|\n+-------+-------------------+----------------+--------------------+--------------------+--------------------+----+------------------+--------------------+-----------+-----------------+-------------+--------------------+------------+--------------------+\n|      1|2025-06-16 10:49:29|2089312130523823|azuser3563_mml.lo...|CREATE OR REPLACE...|{partitionBy -> [...|NULL|{2557978635507281}|0611-042249-grg1r6w4|          0|WriteSerializable|        false|{numFiles -> 1, n...|        NULL|Databricks-Runtim...|\n+-------+-------------------+----------------+--------------------+--------------------+--------------------+----+------------------+--------------------+-----------+-----------------+-------------+--------------------+------------+--------------------+\n\n"
     ]
    }
   ],
   "source": [
    "# Query using VERSION AS OF to prove the issue existed.\n",
    "subDelta.history().filter(F.col(\"version\") == 1).show()"
   ]
  },
  {
   "cell_type": "code",
   "execution_count": 0,
   "metadata": {
    "application/vnd.databricks.v1+cell": {
     "cellMetadata": {
      "byteLimit": 2048000,
      "rowLimit": 10000
     },
     "inputWidgets": {},
     "nuid": "c5666180-f185-46a1-8511-699a30db85d5",
     "showTitle": false,
     "tableResultSettingsMap": {},
     "title": ""
    }
   },
   "outputs": [
    {
     "output_type": "stream",
     "name": "stdout",
     "output_type": "stream",
     "text": [
      "+--------------+------+--------+---------+-------+--------+--------+---------+---------+----------+\n|SubscriptionID|UserID|PlanType|StartDate|EndDate|PriceUSD|IsActive|AutoRenew|prev_plan|prev2_plan|\n+--------------+------+--------+---------+-------+--------+--------+---------+---------+----------+\n+--------------+------+--------+---------+-------+--------+--------+---------+---------+----------+\n\n"
     ]
    }
   ],
   "source": [
    "# Identify users who upgraded:\n",
    "# From Basic → Pro → Premium\n",
    "lagf = W.partitionBy(\"UserID\").orderBy(\"StartDate\")\n",
    "\n",
    "df_lagged = dfSub.withColumn(\"prev_plan\", F.lag(\"PlanType\", 1).over(lagf)) \\\n",
    "                 .withColumn(\"prev2_plan\", F.lag(\"PlanType\", 2).over(lagf))\n",
    "\n",
    "df_upgrades = df_lagged.filter(\n",
    "    (F.col(\"PlanType\") == \"Premium\") &\n",
    "    (F.col(\"prev_plan\") == \"Pro\") &\n",
    "    (F.col(\"prev2_plan\") == \"Basic\")\n",
    ")\n",
    "\n",
    "df_upgrades.show()"
   ]
  },
  {
   "cell_type": "markdown",
   "metadata": {
    "application/vnd.databricks.v1+cell": {
     "cellMetadata": {},
     "inputWidgets": {},
     "nuid": "cd530fc6-777d-4d49-901a-d9e5b8533759",
     "showTitle": false,
     "tableResultSettingsMap": {},
     "title": ""
    }
   },
   "source": [
    "#**Power Users Detection**"
   ]
  },
  {
   "cell_type": "code",
   "execution_count": 0,
   "metadata": {
    "application/vnd.databricks.v1+cell": {
     "cellMetadata": {
      "byteLimit": 2048000,
      "rowLimit": 10000
     },
     "inputWidgets": {},
     "nuid": "dfe13c7b-4a67-4f9c-9ef3-74dbd27c3282",
     "showTitle": false,
     "tableResultSettingsMap": {},
     "title": ""
    }
   },
   "outputs": [
    {
     "output_type": "stream",
     "name": "stdout",
     "output_type": "stream",
     "text": [
      "+------+--------+-----+\n|UserID|Features|Login|\n+------+--------+-----+\n+------+--------+-----+\n\n"
     ]
    }
   ],
   "source": [
    "# Define a power user as:\n",
    "# Used ≥ 2 features\n",
    "# Logged in ≥ 3 times\n",
    "feature = dfUser.groupBy(\"UserID\").agg(\n",
    "    F.countDistinct(\"FeatureUsed\").alias(\"Features\")\n",
    ")\n",
    "\n",
    "login = dfUser.filter(dfUser.EventType == \"login\").groupBy(\"UserID\").agg(\n",
    "    F.count(\"*\").alias(\"Login\")\n",
    ")\n",
    "\n",
    "powerUsers = feature.join(login, on=\"UserID\", how=\"inner\") \\\n",
    "    .filter((F.col(\"Features\") >= 2) & (F.col(\"Login\") >= 3)) \\\n",
    "\n",
    "powerUsers.show()"
   ]
  },
  {
   "cell_type": "code",
   "execution_count": 0,
   "metadata": {
    "application/vnd.databricks.v1+cell": {
     "cellMetadata": {
      "byteLimit": 2048000,
      "rowLimit": 10000
     },
     "inputWidgets": {},
     "nuid": "c5ea2e77-427e-45a1-9ed3-f4cefecd7f9d",
     "showTitle": false,
     "tableResultSettingsMap": {},
     "title": ""
    }
   },
   "outputs": [],
   "source": [
    "# Create a separate Delta table power_users\n",
    "powerUsers.write.format(\"delta\").mode(\"overwrite\").saveAsTable(\"power_users\")"
   ]
  },
  {
   "cell_type": "markdown",
   "metadata": {
    "application/vnd.databricks.v1+cell": {
     "cellMetadata": {},
     "inputWidgets": {},
     "nuid": "d19ca042-f645-429f-a769-b7d0f445b176",
     "showTitle": false,
     "tableResultSettingsMap": {},
     "title": ""
    }
   },
   "source": [
    "#**Session Replay View**"
   ]
  },
  {
   "cell_type": "code",
   "execution_count": 0,
   "metadata": {
    "application/vnd.databricks.v1+cell": {
     "cellMetadata": {
      "byteLimit": 2048000,
      "rowLimit": 10000
     },
     "inputWidgets": {},
     "nuid": "21669929-5e2b-4b0e-a50e-30dc3a8655ff",
     "showTitle": false,
     "tableResultSettingsMap": {},
     "title": ""
    }
   },
   "outputs": [
    {
     "output_type": "stream",
     "name": "stdout",
     "output_type": "stream",
     "text": [
      "+------+-------------------+---------+-----------+---------+-------------------+----------------------+\n|UserID|          EventTime|EventType|FeatureUsed|NextEvent|           NextTime|SessionDurationMinutes|\n+------+-------------------+---------+-----------+---------+-------------------+----------------------+\n|  U001|2024-04-07 10:22:00|    login|  Dashboard|   logout|2024-04-10 16:00:00|                4658.0|\n+------+-------------------+---------+-----------+---------+-------------------+----------------------+\n\n"
     ]
    }
   ],
   "source": [
    "# Show how long each user spent between login and logout events.\n",
    "tracer = W.partitionBy(\"UserID\").orderBy(\"EventTime\")\n",
    "dfUser = dfUser.withColumn(\"NextEvent\", F.lead(\"EventType\").over(tracer)) \\\n",
    "    .withColumn(\"NextTime\", F.lead(\"EventTime\").over(tracer))\n",
    "\n",
    "inOut = dfUser.filter((F.col(\"EventType\") == \"login\") & (F.col(\"NextEvent\") == \"logout\"))\n",
    "inOut = inOut.withColumn(\n",
    "    \"SessionDurationMinutes\",\n",
    "    (F.unix_timestamp(\"NextTime\") - F.unix_timestamp(\"EventTime\")) / 60\n",
    ")\n",
    "inOut.show()"
   ]
  },
  {
   "cell_type": "code",
   "execution_count": 0,
   "metadata": {
    "application/vnd.databricks.v1+cell": {
     "cellMetadata": {},
     "inputWidgets": {},
     "nuid": "0a69650a-3ffd-41a8-b88c-857de5fd81f3",
     "showTitle": false,
     "tableResultSettingsMap": {},
     "title": ""
    }
   },
   "outputs": [],
   "source": [
    "session_df = dfUser.filter((F.col(\"EventType\") == \"login\") & (F.col(\"NextEvent\") == \"logout\"))"
   ]
  }
 ],
 "metadata": {
  "application/vnd.databricks.v1+notebook": {
   "computePreferences": null,
   "dashboards": [],
   "environmentMetadata": {
    "base_environment": "",
    "environment_version": "2"
   },
   "inputWidgetPreferences": null,
   "language": "python",
   "notebookMetadata": {
    "pythonIndentUnit": 4
   },
   "notebookName": "Assignment-1",
   "widgets": {}
  },
  "language_info": {
   "name": "python"
  }
 },
 "nbformat": 4,
 "nbformat_minor": 0
}