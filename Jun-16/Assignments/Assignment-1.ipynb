{
 "cells": [
  {
   "cell_type": "code",
   "execution_count": 0,
   "metadata": {
    "application/vnd.databricks.v1+cell": {
     "cellMetadata": {
      "byteLimit": 2048000,
      "rowLimit": 10000
     },
     "inputWidgets": {},
     "nuid": "bfd64339-ad92-4726-9079-f378f0d1a24e",
     "showTitle": false,
     "tableResultSettingsMap": {},
     "title": ""
    }
   },
   "outputs": [],
   "source": [
    "from pyspark.sql import SparkSession\n",
    "import pyspark.sql.functions as F\n",
    "from pyspark.sql.window import Window as W\n",
    "from pyspark.sql.types import *"
   ]
  },
  {
   "cell_type": "markdown",
   "metadata": {
    "application/vnd.databricks.v1+cell": {
     "cellMetadata": {},
     "inputWidgets": {},
     "nuid": "5837dc70-9638-4ac1-b43d-abc15adb246e",
     "showTitle": false,
     "tableResultSettingsMap": {},
     "title": ""
    }
   },
   "source": [
    "#**Data Loading**"
   ]
  },
  {
   "cell_type": "code",
   "execution_count": 0,
   "metadata": {
    "application/vnd.databricks.v1+cell": {
     "cellMetadata": {
      "byteLimit": 2048000,
      "rowLimit": 10000
     },
     "inputWidgets": {},
     "nuid": "7b691a3b-f68b-4c1b-82d6-a5c32e79c154",
     "showTitle": false,
     "tableResultSettingsMap": {},
     "title": ""
    }
   },
   "outputs": [],
   "source": [
    "# 1. Load the data with schema inference enabled.\n",
    "df = spark.read.csv(r\"file:/Workspace/Shared/jun-16/course_enrollments.csv\", header=True, inferSchema=True)"
   ]
  },
  {
   "cell_type": "code",
   "execution_count": 0,
   "metadata": {
    "application/vnd.databricks.v1+cell": {
     "cellMetadata": {
      "byteLimit": 2048000,
      "rowLimit": 10000
     },
     "inputWidgets": {},
     "nuid": "97f4cb56-1017-4ab1-a5b9-6eddca303c67",
     "showTitle": false,
     "tableResultSettingsMap": {},
     "title": ""
    }
   },
   "outputs": [],
   "source": [
    "# 2. Manually define schema and compare both approaches.\n",
    "schema = StructType([\n",
    "    StructField(\"EnrollmentID\", StringType(), nullable=False),\n",
    "    StructField(\"StudentName\", StringType(), True),\n",
    "    StructField(\"CourseName\", StringType(), True),\n",
    "    StructField(\"Category\", StringType(), True),\n",
    "    StructField(\"EnrollDate\", DateType(), True),\n",
    "    StructField(\"ProgressPercent\", FloatType(), True),\n",
    "    StructField(\"Rating\", FloatType(), True),\n",
    "    StructField(\"Status\", StringType(), True),\n",
    "])\n",
    "\n",
    "dfManual = spark.read.csv(r\"file:/Workspace/Shared/jun-16/course_enrollments.csv\", header=True, schema=schema)"
   ]
  },
  {
   "cell_type": "code",
   "execution_count": 0,
   "metadata": {
    "application/vnd.databricks.v1+cell": {
     "cellMetadata": {
      "byteLimit": 2048000,
      "rowLimit": 10000
     },
     "inputWidgets": {},
     "nuid": "42a22b3c-b791-49bf-a9d9-f6b0ef6cf9ab",
     "showTitle": false,
     "tableResultSettingsMap": {},
     "title": ""
    }
   },
   "outputs": [
    {
     "output_type": "stream",
     "name": "stdout",
     "output_type": "stream",
     "text": [
      "root\n |-- EnrollmentID: string (nullable = true)\n |-- StudentName: string (nullable = true)\n |-- CourseName: string (nullable = true)\n |-- Category: string (nullable = true)\n |-- EnrollDate: date (nullable = true)\n |-- ProgressPercent: integer (nullable = true)\n |-- Rating: double (nullable = true)\n |-- Status: string (nullable = true)\n\nroot\n |-- EnrollmentID: string (nullable = true)\n |-- StudentName: string (nullable = true)\n |-- CourseName: string (nullable = true)\n |-- Category: string (nullable = true)\n |-- EnrollDate: date (nullable = true)\n |-- ProgressPercent: float (nullable = true)\n |-- Rating: float (nullable = true)\n |-- Status: string (nullable = true)\n\n"
     ]
    }
   ],
   "source": [
    "df.printSchema()\n",
    "\n",
    "dfManual.printSchema()"
   ]
  },
  {
   "cell_type": "markdown",
   "metadata": {
    "application/vnd.databricks.v1+cell": {
     "cellMetadata": {},
     "inputWidgets": {},
     "nuid": "e2af36da-679b-40b2-b764-4ad777d7ee7c",
     "showTitle": false,
     "tableResultSettingsMap": {},
     "title": ""
    }
   },
   "source": [
    "#**Filtering and Transformation**"
   ]
  },
  {
   "cell_type": "code",
   "execution_count": 0,
   "metadata": {
    "application/vnd.databricks.v1+cell": {
     "cellMetadata": {
      "byteLimit": 2048000,
      "rowLimit": 10000
     },
     "inputWidgets": {},
     "nuid": "f5ae25d5-81a5-4f5f-9ab9-478f3fdbd861",
     "showTitle": false,
     "tableResultSettingsMap": {},
     "title": ""
    }
   },
   "outputs": [
    {
     "output_type": "stream",
     "name": "stdout",
     "output_type": "stream",
     "text": [
      "+------------+-----------+-------------------+-----------+----------+---------------+------+--------+\n|EnrollmentID|StudentName|         CourseName|   Category|EnrollDate|ProgressPercent|Rating|  Status|\n+------------+-----------+-------------------+-----------+----------+---------------+------+--------+\n|      ENR003|     Aakash|Power BI Essentials|  Analytics|2024-05-13|             30|   3.8|  Active|\n|      ENR004|       Neha|        Java Basics|Programming|2024-05-15|              0|  NULL|Inactive|\n+------------+-----------+-------------------+-----------+----------+---------------+------+--------+\n\n"
     ]
    }
   ],
   "source": [
    "# 3. Filter records where ProgressPercent < 50 .\n",
    "df.filter(df.ProgressPercent < 50).show()"
   ]
  },
  {
   "cell_type": "code",
   "execution_count": 0,
   "metadata": {
    "application/vnd.databricks.v1+cell": {
     "cellMetadata": {
      "byteLimit": 2048000,
      "rowLimit": 10000
     },
     "inputWidgets": {},
     "nuid": "0e7390aa-ef26-4c48-803c-f0a8ce68ffea",
     "showTitle": false,
     "tableResultSettingsMap": {},
     "title": ""
    }
   },
   "outputs": [
    {
     "output_type": "stream",
     "name": "stdout",
     "output_type": "stream",
     "text": [
      "+------------+-----------+--------------------+-----------+----------+---------------+-----------------+---------+--------+\n|EnrollmentID|StudentName|          CourseName|   Category|EnrollDate|ProgressPercent|           Rating|   Status|IsActive|\n+------------+-----------+--------------------+-----------+----------+---------------+-----------------+---------+--------+\n|      ENR001|     Aditya|Python for Beginners|Programming|2024-05-10|             80|              4.5|   Active|       1|\n|      ENR002|     Simran|Data Analysis wit...|  Analytics|2024-05-12|            100|              4.7|Completed|       0|\n|      ENR003|     Aakash| Power BI Essentials|  Analytics|2024-05-13|             30|              3.8|   Active|       1|\n|      ENR004|       Neha|         Java Basics|Programming|2024-05-15|              0|4.359999999999999| Inactive|       0|\n|      ENR005|       Zara|Machine Learning 101|         AI|2024-05-17|             60|              4.2|   Active|       1|\n|      ENR006|    Ibrahim|Python for Beginners|Programming|2024-05-18|             90|              4.6|Completed|       0|\n+------------+-----------+--------------------+-----------+----------+---------------+-----------------+---------+--------+\n\n"
     ]
    }
   ],
   "source": [
    "# 4. Replace null ratings with average rating.\n",
    "avgRating = df.select((F.mean(\"Rating\"))).collect()[0][0]\n",
    "df = df.fillna(avgRating, subset=[\"Rating\"])\n",
    "df.show()"
   ]
  },
  {
   "cell_type": "code",
   "execution_count": 0,
   "metadata": {
    "application/vnd.databricks.v1+cell": {
     "cellMetadata": {
      "byteLimit": 2048000,
      "rowLimit": 10000
     },
     "inputWidgets": {},
     "nuid": "23982f72-4d14-4ccc-8bd6-5c4cbc69f326",
     "showTitle": false,
     "tableResultSettingsMap": {},
     "title": ""
    }
   },
   "outputs": [
    {
     "output_type": "stream",
     "name": "stdout",
     "output_type": "stream",
     "text": [
      "+------------+-----------+--------------------+-----------+----------+---------------+-----------------+---------+--------+\n|EnrollmentID|StudentName|          CourseName|   Category|EnrollDate|ProgressPercent|           Rating|   Status|IsActive|\n+------------+-----------+--------------------+-----------+----------+---------------+-----------------+---------+--------+\n|      ENR001|     Aditya|Python for Beginners|Programming|2024-05-10|             80|              4.5|   Active|       1|\n|      ENR002|     Simran|Data Analysis wit...|  Analytics|2024-05-12|            100|              4.7|Completed|       0|\n|      ENR003|     Aakash| Power BI Essentials|  Analytics|2024-05-13|             30|              3.8|   Active|       1|\n|      ENR004|       Neha|         Java Basics|Programming|2024-05-15|              0|4.359999999999999| Inactive|       0|\n|      ENR005|       Zara|Machine Learning 101|         AI|2024-05-17|             60|              4.2|   Active|       1|\n|      ENR006|    Ibrahim|Python for Beginners|Programming|2024-05-18|             90|              4.6|Completed|       0|\n+------------+-----------+--------------------+-----------+----------+---------------+-----------------+---------+--------+\n\n"
     ]
    }
   ],
   "source": [
    "# 5. Add column IsActive → 1 if Status is Active, else 0.\n",
    "df = df.withColumn(\"IsActive\", F.when(F.col(\"Status\") == \"Active\", 1).otherwise(0))\n",
    "df.show()"
   ]
  },
  {
   "cell_type": "markdown",
   "metadata": {
    "application/vnd.databricks.v1+cell": {
     "cellMetadata": {},
     "inputWidgets": {},
     "nuid": "083e08f2-f6be-4792-85b0-38ff0c3bb32e",
     "showTitle": false,
     "tableResultSettingsMap": {},
     "title": ""
    }
   },
   "source": [
    "#**Aggregation & Metrics**"
   ]
  },
  {
   "cell_type": "code",
   "execution_count": 0,
   "metadata": {
    "application/vnd.databricks.v1+cell": {
     "cellMetadata": {
      "byteLimit": 2048000,
      "rowLimit": 10000
     },
     "inputWidgets": {},
     "nuid": "d3adb366-5b6e-41d3-be4a-acb93f601fb2",
     "showTitle": false,
     "tableResultSettingsMap": {},
     "title": ""
    }
   },
   "outputs": [
    {
     "output_type": "stream",
     "name": "stdout",
     "output_type": "stream",
     "text": [
      "+------------------------+---------------+\n|CourseName              |AverageProgress|\n+------------------------+---------------+\n|Data Analysis with Excel|100.0          |\n|Java Basics             |0.0            |\n|Machine Learning 101    |60.0           |\n|Python for Beginners    |85.0           |\n|Power BI Essentials     |30.0           |\n+------------------------+---------------+\n\n"
     ]
    }
   ],
   "source": [
    "# 6. Find average progress by course.\n",
    "df.groupBy(\"CourseName\").agg(\n",
    "  F.round(F.mean(\"ProgressPercent\")).alias(\"AverageProgress\")\n",
    ").show(truncate=False)"
   ]
  },
  {
   "cell_type": "code",
   "execution_count": 0,
   "metadata": {
    "application/vnd.databricks.v1+cell": {
     "cellMetadata": {
      "byteLimit": 2048000,
      "rowLimit": 10000
     },
     "inputWidgets": {},
     "nuid": "a40a8f16-c161-4c61-9854-5a5c793540d6",
     "showTitle": false,
     "tableResultSettingsMap": {},
     "title": ""
    }
   },
   "outputs": [
    {
     "output_type": "stream",
     "name": "stdout",
     "output_type": "stream",
     "text": [
      "+-----------+------------+\n|   Category|StudentCount|\n+-----------+------------+\n|Programming|           3|\n|         AI|           1|\n|  Analytics|           2|\n+-----------+------------+\n\n"
     ]
    }
   ],
   "source": [
    "# 7. Get count of students in each course category.\n",
    "df.groupBy(\"Category\").agg(\n",
    "    F.count(\"EnrollmentID\").alias(\"StudentCount\")\n",
    ").show()"
   ]
  },
  {
   "cell_type": "code",
   "execution_count": 0,
   "metadata": {
    "application/vnd.databricks.v1+cell": {
     "cellMetadata": {
      "byteLimit": 2048000,
      "rowLimit": 10000
     },
     "inputWidgets": {},
     "nuid": "03a84933-70a9-44e4-a5cd-bb5a3931e972",
     "showTitle": false,
     "tableResultSettingsMap": {},
     "title": ""
    }
   },
   "outputs": [
    {
     "output_type": "stream",
     "name": "stdout",
     "output_type": "stream",
     "text": [
      "+--------------------+------------+\n|          CourseName|StudentCount|\n+--------------------+------------+\n|Python for Beginners|           2|\n+--------------------+------------+\nonly showing top 1 row\n"
     ]
    }
   ],
   "source": [
    "# 8. Identify the most enrolled course.\n",
    "df.groupBy(\"CourseName\").agg(\n",
    "    F.count(\"EnrollmentID\").alias(\"StudentCount\")\n",
    ").sort(\"StudentCount\", ascending=False).show(1)"
   ]
  },
  {
   "cell_type": "markdown",
   "metadata": {
    "application/vnd.databricks.v1+cell": {
     "cellMetadata": {},
     "inputWidgets": {},
     "nuid": "5e610fd9-088c-412b-b21e-cfc2132a7b53",
     "showTitle": false,
     "tableResultSettingsMap": {},
     "title": ""
    }
   },
   "source": [
    "#**Joins**"
   ]
  },
  {
   "cell_type": "code",
   "execution_count": 0,
   "metadata": {
    "application/vnd.databricks.v1+cell": {
     "cellMetadata": {
      "byteLimit": 2048000,
      "rowLimit": 10000
     },
     "inputWidgets": {},
     "nuid": "14eabe01-dbc7-4d7e-a5db-82395a128367",
     "showTitle": false,
     "tableResultSettingsMap": {},
     "title": ""
    }
   },
   "outputs": [],
   "source": [
    "# 9. Create second CSV: course_details.csv\n",
    "dfCourse = spark.read.csv(r\"file:/Workspace/Users/azuser3563_mml.local@techademy.com/course_details.csv\", header=True, inferSchema=True)"
   ]
  },
  {
   "cell_type": "code",
   "execution_count": 0,
   "metadata": {
    "application/vnd.databricks.v1+cell": {
     "cellMetadata": {
      "byteLimit": 2048000,
      "rowLimit": 10000
     },
     "inputWidgets": {},
     "nuid": "c0d20d6c-7cf8-41e0-a319-0eb3190a84d9",
     "showTitle": false,
     "tableResultSettingsMap": {},
     "title": ""
    }
   },
   "outputs": [
    {
     "output_type": "stream",
     "name": "stdout",
     "output_type": "stream",
     "text": [
      "+--------------------+------------+-----------+-----------+----------+---------------+-----------------+---------+--------+-------------+----------+\n|          CourseName|EnrollmentID|StudentName|   Category|EnrollDate|ProgressPercent|           Rating|   Status|IsActive|DurationWeeks|Instructor|\n+--------------------+------------+-----------+-----------+----------+---------------+-----------------+---------+--------+-------------+----------+\n|Python for Beginners|      ENR001|     Aditya|Programming|2024-05-10|             80|              4.5|   Active|       1|            4|    Rakesh|\n|Data Analysis wit...|      ENR002|     Simran|  Analytics|2024-05-12|            100|              4.7|Completed|       0|            3|    Anjali|\n| Power BI Essentials|      ENR003|     Aakash|  Analytics|2024-05-13|             30|              3.8|   Active|       1|            5|     Rekha|\n|         Java Basics|      ENR004|       Neha|Programming|2024-05-15|              0|4.359999999999999| Inactive|       0|            6|     Manoj|\n|Machine Learning 101|      ENR005|       Zara|         AI|2024-05-17|             60|              4.2|   Active|       1|            8|     Samir|\n|Python for Beginners|      ENR006|    Ibrahim|Programming|2024-05-18|             90|              4.6|Completed|       0|            4|    Rakesh|\n+--------------------+------------+-----------+-----------+----------+---------------+-----------------+---------+--------+-------------+----------+\n\n"
     ]
    }
   ],
   "source": [
    "# 10. Join course_enrollments with course_details to include duration and instructor.\n",
    "dfJoined = df.join(dfCourse, on=\"CourseName\", how=\"inner\")\n",
    "dfJoined.show()"
   ]
  },
  {
   "cell_type": "markdown",
   "metadata": {
    "application/vnd.databricks.v1+cell": {
     "cellMetadata": {},
     "inputWidgets": {},
     "nuid": "8e48e440-515b-42ad-a63d-ec06e0ef6c35",
     "showTitle": false,
     "tableResultSettingsMap": {},
     "title": ""
    }
   },
   "source": [
    "#**Window Functions**"
   ]
  },
  {
   "cell_type": "code",
   "execution_count": 0,
   "metadata": {
    "application/vnd.databricks.v1+cell": {
     "cellMetadata": {
      "byteLimit": 2048000,
      "rowLimit": 10000
     },
     "inputWidgets": {},
     "nuid": "69c6ec26-ad94-4a20-a90c-15b3adbd2558",
     "showTitle": false,
     "tableResultSettingsMap": {},
     "title": ""
    }
   },
   "outputs": [
    {
     "output_type": "stream",
     "name": "stdout",
     "output_type": "stream",
     "text": [
      "+------------+-----------+--------------------+-----------+----------+---------------+-----------------+---------+--------+----+\n|EnrollmentID|StudentName|          CourseName|   Category|EnrollDate|ProgressPercent|           Rating|   Status|IsActive|Rank|\n+------------+-----------+--------------------+-----------+----------+---------------+-----------------+---------+--------+----+\n|      ENR002|     Simran|Data Analysis wit...|  Analytics|2024-05-12|            100|              4.7|Completed|       0|   1|\n|      ENR004|       Neha|         Java Basics|Programming|2024-05-15|              0|4.359999999999999| Inactive|       0|   1|\n|      ENR005|       Zara|Machine Learning 101|         AI|2024-05-17|             60|              4.2|   Active|       1|   1|\n|      ENR003|     Aakash| Power BI Essentials|  Analytics|2024-05-13|             30|              3.8|   Active|       1|   1|\n|      ENR006|    Ibrahim|Python for Beginners|Programming|2024-05-18|             90|              4.6|Completed|       0|   1|\n|      ENR001|     Aditya|Python for Beginners|Programming|2024-05-10|             80|              4.5|   Active|       1|   2|\n+------------+-----------+--------------------+-----------+----------+---------------+-----------------+---------+--------+----+\n\n"
     ]
    }
   ],
   "source": [
    "# 11. Rank students in each course based on ProgressPercent .\n",
    "rankWindow = W.partitionBy(\"CourseName\").orderBy(F.desc(\"ProgressPercent\"))\n",
    "df.withColumn(\"Rank\", F.rank().over(rankWindow)).show()"
   ]
  },
  {
   "cell_type": "code",
   "execution_count": 0,
   "metadata": {
    "application/vnd.databricks.v1+cell": {
     "cellMetadata": {
      "byteLimit": 2048000,
      "rowLimit": 10000
     },
     "inputWidgets": {},
     "nuid": "2875db9c-86c6-42a3-b016-599653b28c77",
     "showTitle": false,
     "tableResultSettingsMap": {},
     "title": ""
    }
   },
   "outputs": [
    {
     "output_type": "stream",
     "name": "stdout",
     "output_type": "stream",
     "text": [
      "+------------+-----------+--------------------+-----------+----------+---------------+-----------------+---------+--------+----------+----------+\n|EnrollmentID|StudentName|          CourseName|   Category|EnrollDate|ProgressPercent|           Rating|   Status|IsActive|      Lead|       Lag|\n+------------+-----------+--------------------+-----------+----------+---------------+-----------------+---------+--------+----------+----------+\n|      ENR005|       Zara|Machine Learning 101|         AI|2024-05-17|             60|              4.2|   Active|       1|      NULL|      NULL|\n|      ENR002|     Simran|Data Analysis wit...|  Analytics|2024-05-12|            100|              4.7|Completed|       0|2024-05-13|      NULL|\n|      ENR003|     Aakash| Power BI Essentials|  Analytics|2024-05-13|             30|              3.8|   Active|       1|      NULL|2024-05-12|\n|      ENR001|     Aditya|Python for Beginners|Programming|2024-05-10|             80|              4.5|   Active|       1|2024-05-15|      NULL|\n|      ENR004|       Neha|         Java Basics|Programming|2024-05-15|              0|4.359999999999999| Inactive|       0|2024-05-18|2024-05-10|\n|      ENR006|    Ibrahim|Python for Beginners|Programming|2024-05-18|             90|              4.6|Completed|       0|      NULL|2024-05-15|\n+------------+-----------+--------------------+-----------+----------+---------------+-----------------+---------+--------+----------+----------+\n\n"
     ]
    }
   ],
   "source": [
    "# 12. Get lead and lag of EnrollDate by Category.\n",
    "leadLagWindow = W.partitionBy(\"Category\").orderBy(\"EnrollDate\")\n",
    "\n",
    "df.withColumn(\"Lead\", F.lead(\"EnrollDate\").over(leadLagWindow)) \\\n",
    "  .withColumn(\"Lag\", F.lag(\"EnrollDate\").over(leadLagWindow)) \\\n",
    "  .show()"
   ]
  },
  {
   "cell_type": "markdown",
   "metadata": {
    "application/vnd.databricks.v1+cell": {
     "cellMetadata": {},
     "inputWidgets": {},
     "nuid": "322ca993-4ea0-4540-ad48-4a31e402546c",
     "showTitle": false,
     "tableResultSettingsMap": {},
     "title": ""
    }
   },
   "source": [
    "#**Pivoting and Formatting**"
   ]
  },
  {
   "cell_type": "code",
   "execution_count": 0,
   "metadata": {
    "application/vnd.databricks.v1+cell": {
     "cellMetadata": {
      "byteLimit": 2048000,
      "rowLimit": 10000
     },
     "inputWidgets": {},
     "nuid": "865dd986-cdc6-41b8-897b-4660394425e9",
     "showTitle": false,
     "tableResultSettingsMap": {},
     "title": ""
    }
   },
   "outputs": [
    {
     "output_type": "stream",
     "name": "stdout",
     "output_type": "stream",
     "text": [
      "+-----------+------+---------+--------+\n|   Category|Active|Completed|Inactive|\n+-----------+------+---------+--------+\n|Programming|     1|        1|       1|\n|         AI|     1|        0|       0|\n|  Analytics|     1|        1|       0|\n+-----------+------+---------+--------+\n\n"
     ]
    }
   ],
   "source": [
    "# 13. Pivot data to show total enrollments by Category and Status.\n",
    "df.groupBy(\"Category\").pivot(\"Status\").count().fillna(0).show()"
   ]
  },
  {
   "cell_type": "code",
   "execution_count": 0,
   "metadata": {
    "application/vnd.databricks.v1+cell": {
     "cellMetadata": {
      "byteLimit": 2048000,
      "rowLimit": 10000
     },
     "inputWidgets": {},
     "nuid": "fbd18fd1-1327-4db5-a4b8-9e5b766177e6",
     "showTitle": false,
     "tableResultSettingsMap": {},
     "title": ""
    }
   },
   "outputs": [
    {
     "output_type": "stream",
     "name": "stdout",
     "output_type": "stream",
     "text": [
      "+------------+-----------+--------------------+-----------+----------+---------------+-----------------+---------+--------+----+-----+\n|EnrollmentID|StudentName|          CourseName|   Category|EnrollDate|ProgressPercent|           Rating|   Status|IsActive|Year|Month|\n+------------+-----------+--------------------+-----------+----------+---------------+-----------------+---------+--------+----+-----+\n|      ENR001|     Aditya|Python for Beginners|Programming|2024-05-10|             80|              4.5|   Active|       1|2024|    5|\n|      ENR002|     Simran|Data Analysis wit...|  Analytics|2024-05-12|            100|              4.7|Completed|       0|2024|    5|\n|      ENR003|     Aakash| Power BI Essentials|  Analytics|2024-05-13|             30|              3.8|   Active|       1|2024|    5|\n|      ENR004|       Neha|         Java Basics|Programming|2024-05-15|              0|4.359999999999999| Inactive|       0|2024|    5|\n|      ENR005|       Zara|Machine Learning 101|         AI|2024-05-17|             60|              4.2|   Active|       1|2024|    5|\n|      ENR006|    Ibrahim|Python for Beginners|Programming|2024-05-18|             90|              4.6|Completed|       0|2024|    5|\n+------------+-----------+--------------------+-----------+----------+---------------+-----------------+---------+--------+----+-----+\n\n"
     ]
    }
   ],
   "source": [
    "# 14. Extract year and month from EnrollDate .\n",
    "df.withColumn(\"Year\", F.year(df.EnrollDate)) \\\n",
    "    .withColumn(\"Month\", F.month(df.EnrollDate)) \\\n",
    "    .show()"
   ]
  },
  {
   "cell_type": "markdown",
   "metadata": {
    "application/vnd.databricks.v1+cell": {
     "cellMetadata": {},
     "inputWidgets": {},
     "nuid": "2d6c4a7a-0ef2-4e75-a029-2657d80062ac",
     "showTitle": false,
     "tableResultSettingsMap": {},
     "title": ""
    }
   },
   "source": [
    "#**Cleaning and Deduplication**"
   ]
  },
  {
   "cell_type": "code",
   "execution_count": 0,
   "metadata": {
    "application/vnd.databricks.v1+cell": {
     "cellMetadata": {
      "byteLimit": 2048000,
      "rowLimit": 10000
     },
     "inputWidgets": {},
     "nuid": "3ad76a64-2631-484f-92b3-f075c656f6b3",
     "showTitle": false,
     "tableResultSettingsMap": {},
     "title": ""
    }
   },
   "outputs": [
    {
     "output_type": "stream",
     "name": "stdout",
     "output_type": "stream",
     "text": [
      "+--------------------+------------+-----------+-----------+----------+---------------+-----------------+---------+--------+-------------+----------+\n|          CourseName|EnrollmentID|StudentName|   Category|EnrollDate|ProgressPercent|           Rating|   Status|IsActive|DurationWeeks|Instructor|\n+--------------------+------------+-----------+-----------+----------+---------------+-----------------+---------+--------+-------------+----------+\n|Python for Beginners|      ENR001|     Aditya|Programming|2024-05-10|             80|              4.5|   Active|       1|            4|    Rakesh|\n|Data Analysis wit...|      ENR002|     Simran|  Analytics|2024-05-12|            100|              4.7|Completed|       0|            3|    Anjali|\n| Power BI Essentials|      ENR003|     Aakash|  Analytics|2024-05-13|             30|              3.8|   Active|       1|            5|     Rekha|\n|         Java Basics|      ENR004|       Neha|Programming|2024-05-15|              0|4.359999999999999| Inactive|       0|            6|     Manoj|\n|Machine Learning 101|      ENR005|       Zara|         AI|2024-05-17|             60|              4.2|   Active|       1|            8|     Samir|\n|Python for Beginners|      ENR006|    Ibrahim|Programming|2024-05-18|             90|              4.6|Completed|       0|            4|    Rakesh|\n+--------------------+------------+-----------+-----------+----------+---------------+-----------------+---------+--------+-------------+----------+\n\n"
     ]
    }
   ],
   "source": [
    "# 15. Drop rows where Status is null or empty.\n",
    "dfCleaned = dfJoined.dropna(subset=[\"Status\"])\n",
    "dfCleaned.show()"
   ]
  },
  {
   "cell_type": "code",
   "execution_count": 0,
   "metadata": {
    "application/vnd.databricks.v1+cell": {
     "cellMetadata": {
      "byteLimit": 2048000,
      "rowLimit": 10000
     },
     "inputWidgets": {},
     "nuid": "9a6adccf-6aa4-4a57-885c-289b47e4459e",
     "showTitle": false,
     "tableResultSettingsMap": {},
     "title": ""
    }
   },
   "outputs": [
    {
     "output_type": "stream",
     "name": "stdout",
     "output_type": "stream",
     "text": [
      "+------------+-----------+--------------------+-----------+----------+---------------+-----------------+---------+--------+\n|EnrollmentID|StudentName|          CourseName|   Category|EnrollDate|ProgressPercent|           Rating|   Status|IsActive|\n+------------+-----------+--------------------+-----------+----------+---------------+-----------------+---------+--------+\n|      ENR004|       Neha|         Java Basics|Programming|2024-05-15|              0|4.359999999999999| Inactive|       0|\n|      ENR005|       Zara|Machine Learning 101|         AI|2024-05-17|             60|              4.2|   Active|       1|\n|      ENR002|     Simran|Data Analysis wit...|  Analytics|2024-05-12|            100|              4.7|Completed|       0|\n|      ENR003|     Aakash| Power BI Essentials|  Analytics|2024-05-13|             30|              3.8|   Active|       1|\n|      ENR006|    Ibrahim|Python for Beginners|Programming|2024-05-18|             90|              4.6|Completed|       0|\n|      ENR001|     Aditya|Python for Beginners|Programming|2024-05-10|             80|              4.5|   Active|       1|\n+------------+-----------+--------------------+-----------+----------+---------------+-----------------+---------+--------+\n\n"
     ]
    }
   ],
   "source": [
    "# 16. Remove duplicate enrollments using dropDuplicates() .\n",
    "dfCleaned = df.dropDuplicates(subset=[\"EnrollmentID\"])\n",
    "dfCleaned.show()"
   ]
  },
  {
   "cell_type": "markdown",
   "metadata": {
    "application/vnd.databricks.v1+cell": {
     "cellMetadata": {},
     "inputWidgets": {},
     "nuid": "8d302df3-91b6-44de-8fe5-2f0addc52cd6",
     "showTitle": false,
     "tableResultSettingsMap": {},
     "title": ""
    }
   },
   "source": [
    "#**Export**"
   ]
  },
  {
   "cell_type": "code",
   "execution_count": 0,
   "metadata": {
    "application/vnd.databricks.v1+cell": {
     "cellMetadata": {
      "byteLimit": 2048000,
      "rowLimit": 10000
     },
     "inputWidgets": {},
     "nuid": "807ed9fd-8449-4655-b1eb-c44918ae0290",
     "showTitle": false,
     "tableResultSettingsMap": {},
     "title": ""
    }
   },
   "outputs": [],
   "source": [
    "# 17. Write the final cleaned DataFrame to:\n",
    "dfCleaned.write.mode(\"overwrite\").csv(\"file:/Workspace/Shared/jun-16/dfCleanedCSV\")\n",
    "dfCleaned.write.mode(\"overwrite\").json(\"file:/Workspace/Shared/jun-16/dfCleanedJSON\")\n",
    "dfCleanedpd = dfCleaned.toPandas()\n",
    "dfCleanedpd.to_parquet(\"file:/Workspace/Shared/jun-16/dfCleanedPARQUET.parquet\", compression=\"snappy\")"
   ]
  },
  {
   "cell_type": "code",
   "execution_count": 0,
   "metadata": {
    "application/vnd.databricks.v1+cell": {
     "cellMetadata": {},
     "inputWidgets": {},
     "nuid": "f076dcbc-df23-472e-9a51-5a1e5a8fbfd5",
     "showTitle": false,
     "tableResultSettingsMap": {},
     "title": ""
    }
   },
   "outputs": [],
   "source": []
  }
 ],
 "metadata": {
  "application/vnd.databricks.v1+notebook": {
   "computePreferences": null,
   "dashboards": [],
   "environmentMetadata": {
    "base_environment": "",
    "environment_version": "2"
   },
   "inputWidgetPreferences": null,
   "language": "python",
   "notebookMetadata": {
    "pythonIndentUnit": 4
   },
   "notebookName": "Assignment-1",
   "widgets": {}
  },
  "language_info": {
   "name": "python"
  }
 },
 "nbformat": 4,
 "nbformat_minor": 0
}