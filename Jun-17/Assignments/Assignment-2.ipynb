{
 "cells": [
  {
   "cell_type": "markdown",
   "metadata": {
    "application/vnd.databricks.v1+cell": {
     "cellMetadata": {},
     "inputWidgets": {},
     "nuid": "64dd0c2d-1b30-4ede-a045-2f2681285cae",
     "showTitle": false,
     "tableResultSettingsMap": {},
     "title": ""
    }
   },
   "source": [
    "#**Assignment-2**"
   ]
  },
  {
   "cell_type": "code",
   "execution_count": 0,
   "metadata": {
    "application/vnd.databricks.v1+cell": {
     "cellMetadata": {
      "byteLimit": 2048000,
      "rowLimit": 10000
     },
     "inputWidgets": {},
     "nuid": "6dae7e24-31f9-49ed-a5a9-ef2c154ca16d",
     "showTitle": false,
     "tableResultSettingsMap": {},
     "title": ""
    }
   },
   "outputs": [],
   "source": [
    "from pyspark.sql import SparkSession\n",
    "import pyspark.sql.functions as F\n",
    "from pyspark.sql import Window as W\n",
    "from pyspark.sql.types import *"
   ]
  },
  {
   "cell_type": "code",
   "execution_count": 0,
   "metadata": {
    "application/vnd.databricks.v1+cell": {
     "cellMetadata": {
      "byteLimit": 2048000,
      "rowLimit": 10000
     },
     "inputWidgets": {},
     "nuid": "64595ea0-b0bd-4e8a-a9c7-4bc5d21bec11",
     "showTitle": false,
     "tableResultSettingsMap": {},
     "title": ""
    }
   },
   "outputs": [],
   "source": [
    "spark = SparkSession.builder.appName(\"dbshell-01\").getOrCreate()"
   ]
  },
  {
   "cell_type": "markdown",
   "metadata": {
    "application/vnd.databricks.v1+cell": {
     "cellMetadata": {},
     "inputWidgets": {},
     "nuid": "8ce08d5d-2ba7-412e-a781-5471c905293a",
     "showTitle": false,
     "tableResultSettingsMap": {},
     "title": ""
    }
   },
   "source": [
    "# **Basics**"
   ]
  },
  {
   "cell_type": "code",
   "execution_count": 0,
   "metadata": {
    "application/vnd.databricks.v1+cell": {
     "cellMetadata": {
      "byteLimit": 2048000,
      "rowLimit": 10000
     },
     "inputWidgets": {},
     "nuid": "b6ce20f4-8b02-484c-be1f-6229aa5311a5",
     "showTitle": false,
     "tableResultSettingsMap": {},
     "title": ""
    }
   },
   "outputs": [
    {
     "output_type": "stream",
     "name": "stdout",
     "output_type": "stream",
     "text": [
      "root\n |-- TransactionID: string (nullable = true)\n |-- Customer: string (nullable = true)\n |-- City: string (nullable = true)\n |-- Product: string (nullable = true)\n |-- Category: string (nullable = true)\n |-- Quantity: integer (nullable = true)\n |-- UnitPrice: integer (nullable = true)\n |-- TotalPrice: integer (nullable = true)\n |-- TransactionData: date (nullable = true)\n\n"
     ]
    }
   ],
   "source": [
    "# 1. Load retail_data.csv into a PySpark DataFrame and display schema.\n",
    "dfRet = spark.read.csv(\"/FileStore/tables/retail_data.csv\", header=True, inferSchema=True)\n",
    "dfRet.printSchema()"
   ]
  },
  {
   "cell_type": "code",
   "execution_count": 0,
   "metadata": {
    "application/vnd.databricks.v1+cell": {
     "cellMetadata": {
      "byteLimit": 2048000,
      "rowLimit": 10000
     },
     "inputWidgets": {},
     "nuid": "b2ea9264-fcb2-441d-ac63-394d00a34a83",
     "showTitle": false,
     "tableResultSettingsMap": {},
     "title": ""
    }
   },
   "outputs": [
    {
     "output_type": "stream",
     "name": "stdout",
     "output_type": "stream",
     "text": [
      "root\n |-- TransactionID: string (nullable = true)\n |-- Customer: string (nullable = true)\n |-- City: string (nullable = true)\n |-- Product: string (nullable = true)\n |-- Category: string (nullable = true)\n |-- Quantity: integer (nullable = true)\n |-- UnitPrice: integer (nullable = true)\n |-- TotalPrice: integer (nullable = true)\n |-- TransactionData: date (nullable = true)\n\n"
     ]
    }
   ],
   "source": [
    "# 2. Infer schema as False — then manually cast columns.\n",
    "schema = StructType(\n",
    "    [\n",
    "        StructField(\"TransactionID\", StringType()),\n",
    "        StructField(\"Customer\", StringType()),\n",
    "        StructField(\"City\", StringType()),\n",
    "        StructField(\"Product\", StringType()),\n",
    "        StructField(\"Category\", StringType()),\n",
    "        StructField(\"Quantity\", IntegerType()),\n",
    "        StructField(\"UnitPrice\", IntegerType()),\n",
    "        StructField(\"TotalPrice\", IntegerType()),\n",
    "        StructField(\"TransactionData\", DateType())\n",
    "    ]\n",
    "    )\n",
    "dfschema = spark.read.csv(\"/FileStore/tables/retail_data.csv\", header=True, schema=schema)\n",
    "dfschema.printSchema()"
   ]
  },
  {
   "cell_type": "markdown",
   "metadata": {
    "application/vnd.databricks.v1+cell": {
     "cellMetadata": {},
     "inputWidgets": {},
     "nuid": "6c8ab78d-2ea9-4132-92c8-74049d2100d9",
     "showTitle": false,
     "tableResultSettingsMap": {},
     "title": ""
    }
   },
   "source": [
    "# **Data Exploration & Filtering**"
   ]
  },
  {
   "cell_type": "code",
   "execution_count": 0,
   "metadata": {
    "application/vnd.databricks.v1+cell": {
     "cellMetadata": {
      "byteLimit": 2048000,
      "rowLimit": 10000
     },
     "inputWidgets": {},
     "nuid": "da7aec3b-2af2-4742-994b-fa1882a2adc9",
     "showTitle": false,
     "tableResultSettingsMap": {},
     "title": ""
    }
   },
   "outputs": [
    {
     "output_type": "stream",
     "name": "stdout",
     "output_type": "stream",
     "text": [
      "+-------------+--------+---------+-------+-----------+--------+---------+----------+---------------+\n|TransactionID|Customer|     City|Product|   Category|Quantity|UnitPrice|TotalPrice|TransactionData|\n+-------------+--------+---------+-------+-----------+--------+---------+----------+---------------+\n|        T1001|     Ali|   Mumbai| Laptop|Electronics|       1|    70000|     70000|     2024-01-15|\n|        T1002|    Neha|Bangalore| Tablet|Electronics|       2|    30000|     60000|     2024-01-20|\n|        T1005|   Karan|   Mumbai|  Phone|Electronics|       1|    50000|     50000|     2024-02-15|\n+-------------+--------+---------+-------+-----------+--------+---------+----------+---------------+\n\n"
     ]
    }
   ],
   "source": [
    "# 3. Filter transactions where TotalPrice > 40000 .\n",
    "dfRet.filter(dfRet.TotalPrice > 40_000).show()"
   ]
  },
  {
   "cell_type": "code",
   "execution_count": 0,
   "metadata": {
    "application/vnd.databricks.v1+cell": {
     "cellMetadata": {
      "byteLimit": 2048000,
      "rowLimit": 10000
     },
     "inputWidgets": {},
     "nuid": "0a7e3b9a-8564-4edf-ad99-9951c9ee6cea",
     "showTitle": false,
     "tableResultSettingsMap": {},
     "title": ""
    }
   },
   "outputs": [
    {
     "output_type": "stream",
     "name": "stdout",
     "output_type": "stream",
     "text": [
      "+---------+\n|     City|\n+---------+\n|Bangalore|\n|   Mumbai|\n|    Delhi|\n|Hyderabad|\n+---------+\n\n"
     ]
    }
   ],
   "source": [
    "# 4. Get unique cities from the dataset.\n",
    "dfRet.select(\"City\").distinct().show()"
   ]
  },
  {
   "cell_type": "code",
   "execution_count": 0,
   "metadata": {
    "application/vnd.databricks.v1+cell": {
     "cellMetadata": {
      "byteLimit": 2048000,
      "rowLimit": 10000
     },
     "inputWidgets": {},
     "nuid": "76fdd379-225c-4709-98c8-642d74bc2772",
     "showTitle": false,
     "tableResultSettingsMap": {},
     "title": ""
    }
   },
   "outputs": [
    {
     "output_type": "stream",
     "name": "stdout",
     "output_type": "stream",
     "text": [
      "+-------------+--------+-----+-------+-----------+--------+---------+----------+---------------+\n|TransactionID|Customer| City|Product|   Category|Quantity|UnitPrice|TotalPrice|TransactionData|\n+-------------+--------+-----+-------+-----------+--------+---------+----------+---------------+\n|        T1004|    Zoya|Delhi|  Chair|  Furniture|       4|     5000|     20000|     2024-02-12|\n|        T1006|   Farah|Delhi|  Mouse|Electronics|       3|     1000|      3000|     2024-02-18|\n+-------------+--------+-----+-------+-----------+--------+---------+----------+---------------+\n\n+-------------+--------+-----+-------+-----------+--------+---------+----------+---------------+\n|TransactionID|Customer| City|Product|   Category|Quantity|UnitPrice|TotalPrice|TransactionData|\n+-------------+--------+-----+-------+-----------+--------+---------+----------+---------------+\n|        T1004|    Zoya|Delhi|  Chair|  Furniture|       4|     5000|     20000|     2024-02-12|\n|        T1006|   Farah|Delhi|  Mouse|Electronics|       3|     1000|      3000|     2024-02-18|\n+-------------+--------+-----+-------+-----------+--------+---------+----------+---------------+\n\n"
     ]
    }
   ],
   "source": [
    "# 5. Find all transactions from \"Delhi\" using .filter() and .where() .\n",
    "dfRet.filter(dfRet.City == \"Delhi\").show()\n",
    "dfRet.where(dfRet.City == \"Delhi\").show()\n"
   ]
  },
  {
   "cell_type": "markdown",
   "metadata": {
    "application/vnd.databricks.v1+cell": {
     "cellMetadata": {},
     "inputWidgets": {},
     "nuid": "29028660-23cb-48bf-947e-5aafa8e2583b",
     "showTitle": false,
     "tableResultSettingsMap": {},
     "title": ""
    }
   },
   "source": [
    "# **Data Manipulation**"
   ]
  },
  {
   "cell_type": "code",
   "execution_count": 0,
   "metadata": {
    "application/vnd.databricks.v1+cell": {
     "cellMetadata": {
      "byteLimit": 2048000,
      "rowLimit": 10000
     },
     "inputWidgets": {},
     "nuid": "5d84464b-c540-41f2-bb9d-8e5acb264f52",
     "showTitle": false,
     "tableResultSettingsMap": {},
     "title": ""
    }
   },
   "outputs": [
    {
     "output_type": "stream",
     "name": "stdout",
     "output_type": "stream",
     "text": [
      "+-------------+--------+---------+-------+-----------+--------+---------+----------+---------------+---------------+\n|TransactionID|Customer|     City|Product|   Category|Quantity|UnitPrice|TotalPrice|TransactionData|DiscountedPrice|\n+-------------+--------+---------+-------+-----------+--------+---------+----------+---------------+---------------+\n|        T1001|     Ali|   Mumbai| Laptop|Electronics|       1|    70000|     70000|     2024-01-15|        63000.0|\n|        T1002|    Neha|Bangalore| Tablet|Electronics|       2|    30000|     60000|     2024-01-20|        54000.0|\n|        T1003|    Ravi|Hyderabad|   Desk|  Furniture|       1|    15000|     15000|     2024-02-10|        13500.0|\n|        T1004|    Zoya|    Delhi|  Chair|  Furniture|       4|     5000|     20000|     2024-02-12|        18000.0|\n|        T1005|   Karan|   Mumbai|  Phone|Electronics|       1|    50000|     50000|     2024-02-15|        45000.0|\n|        T1006|   Farah|    Delhi|  Mouse|Electronics|       3|     1000|      3000|     2024-02-18|         2700.0|\n+-------------+--------+---------+-------+-----------+--------+---------+----------+---------------+---------------+\n\n"
     ]
    }
   ],
   "source": [
    "# 6. Add a column DiscountedPrice = TotalPrice - 10%.\n",
    "dfRet.withColumn(\"DiscountedPrice\", dfRet.TotalPrice - (dfRet.TotalPrice * 0.10)).show()"
   ]
  },
  {
   "cell_type": "code",
   "execution_count": 0,
   "metadata": {
    "application/vnd.databricks.v1+cell": {
     "cellMetadata": {
      "byteLimit": 2048000,
      "rowLimit": 10000
     },
     "inputWidgets": {},
     "nuid": "6b0c477a-b01e-42ab-af07-21ef996c61d7",
     "showTitle": false,
     "tableResultSettingsMap": {},
     "title": ""
    }
   },
   "outputs": [
    {
     "output_type": "stream",
     "name": "stdout",
     "output_type": "stream",
     "text": [
      "+-------------+--------+---------+-------+-----------+--------+---------+----------+----------+\n|TransactionID|Customer|     City|Product|   Category|Quantity|UnitPrice|TotalPrice|   TxnDate|\n+-------------+--------+---------+-------+-----------+--------+---------+----------+----------+\n|        T1001|     Ali|   Mumbai| Laptop|Electronics|       1|    70000|     70000|2024-01-15|\n|        T1002|    Neha|Bangalore| Tablet|Electronics|       2|    30000|     60000|2024-01-20|\n|        T1003|    Ravi|Hyderabad|   Desk|  Furniture|       1|    15000|     15000|2024-02-10|\n|        T1004|    Zoya|    Delhi|  Chair|  Furniture|       4|     5000|     20000|2024-02-12|\n|        T1005|   Karan|   Mumbai|  Phone|Electronics|       1|    50000|     50000|2024-02-15|\n|        T1006|   Farah|    Delhi|  Mouse|Electronics|       3|     1000|      3000|2024-02-18|\n+-------------+--------+---------+-------+-----------+--------+---------+----------+----------+\n\n"
     ]
    }
   ],
   "source": [
    "# 7. Rename TransactionDate to TxnDate .\n",
    "dfRet = dfRet.withColumnRenamed(\"TransactionData\", \"TxnDate\")\n",
    "dfRet.show()"
   ]
  },
  {
   "cell_type": "code",
   "execution_count": 0,
   "metadata": {
    "application/vnd.databricks.v1+cell": {
     "cellMetadata": {
      "byteLimit": 2048000,
      "rowLimit": 10000
     },
     "inputWidgets": {},
     "nuid": "13c36f96-7f28-4ad6-97aa-6615cb16bbcc",
     "showTitle": false,
     "tableResultSettingsMap": {},
     "title": ""
    }
   },
   "outputs": [
    {
     "output_type": "stream",
     "name": "stdout",
     "output_type": "stream",
     "text": [
      "+-------------+--------+---------+-------+-----------+--------+----------+----------+\n|TransactionID|Customer|     City|Product|   Category|Quantity|TotalPrice|   TxnDate|\n+-------------+--------+---------+-------+-----------+--------+----------+----------+\n|        T1001|     Ali|   Mumbai| Laptop|Electronics|       1|     70000|2024-01-15|\n|        T1002|    Neha|Bangalore| Tablet|Electronics|       2|     60000|2024-01-20|\n|        T1003|    Ravi|Hyderabad|   Desk|  Furniture|       1|     15000|2024-02-10|\n|        T1004|    Zoya|    Delhi|  Chair|  Furniture|       4|     20000|2024-02-12|\n|        T1005|   Karan|   Mumbai|  Phone|Electronics|       1|     50000|2024-02-15|\n|        T1006|   Farah|    Delhi|  Mouse|Electronics|       3|      3000|2024-02-18|\n+-------------+--------+---------+-------+-----------+--------+----------+----------+\n\n"
     ]
    }
   ],
   "source": [
    "# 8. Drop the column UnitPrice .\n",
    "dfRet.drop(\"UnitPrice\").show()"
   ]
  },
  {
   "cell_type": "markdown",
   "metadata": {
    "application/vnd.databricks.v1+cell": {
     "cellMetadata": {},
     "inputWidgets": {},
     "nuid": "d75db735-5306-4ce5-b0b2-4619fab3c503",
     "showTitle": false,
     "tableResultSettingsMap": {},
     "title": ""
    }
   },
   "source": [
    "# **Aggregations**"
   ]
  },
  {
   "cell_type": "code",
   "execution_count": 0,
   "metadata": {
    "application/vnd.databricks.v1+cell": {
     "cellMetadata": {
      "byteLimit": 2048000,
      "rowLimit": 10000
     },
     "inputWidgets": {},
     "nuid": "2c94d0e6-8405-4f38-841b-a3adee04892b",
     "showTitle": false,
     "tableResultSettingsMap": {},
     "title": ""
    }
   },
   "outputs": [
    {
     "output_type": "stream",
     "name": "stdout",
     "output_type": "stream",
     "text": [
      "+---------+----------+\n|     City|TotalSales|\n+---------+----------+\n|Bangalore|     60000|\n|   Mumbai|    120000|\n|    Delhi|     23000|\n|Hyderabad|     15000|\n+---------+----------+\n\n"
     ]
    }
   ],
   "source": [
    "# 9. Get total sales by city.\n",
    "dfRet.groupBy(\"City\").agg(\n",
    "    F.sum(\"TotalPrice\").alias(\"TotalSales\")\n",
    ").show()"
   ]
  },
  {
   "cell_type": "code",
   "execution_count": 0,
   "metadata": {
    "application/vnd.databricks.v1+cell": {
     "cellMetadata": {
      "byteLimit": 2048000,
      "rowLimit": 10000
     },
     "inputWidgets": {},
     "nuid": "acf15a04-96cd-4b42-934a-2ef0a2f314fa",
     "showTitle": false,
     "tableResultSettingsMap": {},
     "title": ""
    }
   },
   "outputs": [
    {
     "output_type": "stream",
     "name": "stdout",
     "output_type": "stream",
     "text": [
      "+-----------+----------------+\n|   Category|AverageUnitPrice|\n+-----------+----------------+\n|Electronics|         37750.0|\n|  Furniture|         10000.0|\n+-----------+----------------+\n\n"
     ]
    }
   ],
   "source": [
    "# 10. Get average unit price by category.\n",
    "dfRet.groupBy(\"Category\").agg(\n",
    "    F.round(F.mean(\"UnitPrice\"), 2).alias(\"AverageUnitPrice\")\n",
    ").show()"
   ]
  },
  {
   "cell_type": "code",
   "execution_count": 0,
   "metadata": {
    "application/vnd.databricks.v1+cell": {
     "cellMetadata": {
      "byteLimit": 2048000,
      "rowLimit": 10000
     },
     "inputWidgets": {},
     "nuid": "27d3b702-b48b-4514-8953-c75baa375d44",
     "showTitle": false,
     "tableResultSettingsMap": {},
     "title": ""
    },
    "jupyter": {
     "outputs_hidden": true
    }
   },
   "outputs": [
    {
     "output_type": "stream",
     "name": "stdout",
     "output_type": "stream",
     "text": [
      "+----------+----------------+\n|   TxnDate|TransactionCount|\n+----------+----------------+\n|2024-02-15|               1|\n|2024-02-10|               1|\n|2024-02-12|               1|\n|2024-01-15|               1|\n|2024-02-18|               1|\n|2024-01-20|               1|\n+----------+----------------+\n\n"
     ]
    }
   ],
   "source": [
    "# 11. Count of transactions grouped by PaymentMode.\n",
    "dfRet.groupBy(\"PaymentMode\").agg(\n",
    "    F.count(\"*\").alias(\"TransactionCount\")\n",
    ").show()"
   ]
  },
  {
   "cell_type": "markdown",
   "metadata": {
    "application/vnd.databricks.v1+cell": {
     "cellMetadata": {},
     "inputWidgets": {},
     "nuid": "552f5dc4-1915-45d2-b208-34a406bf8093",
     "showTitle": false,
     "tableResultSettingsMap": {},
     "title": ""
    }
   },
   "source": [
    "# **Window Functions**"
   ]
  },
  {
   "cell_type": "code",
   "execution_count": 0,
   "metadata": {
    "application/vnd.databricks.v1+cell": {
     "cellMetadata": {
      "byteLimit": 2048000,
      "rowLimit": 10000
     },
     "inputWidgets": {},
     "nuid": "fc277a57-23ee-4278-b6f6-f661f1025ef6",
     "showTitle": false,
     "tableResultSettingsMap": {},
     "title": ""
    }
   },
   "outputs": [
    {
     "output_type": "stream",
     "name": "stdout",
     "output_type": "stream",
     "text": [
      "+-------------+--------+---------+-------+-----------+--------+---------+----------+----------+----+\n|TransactionID|Customer|     City|Product|   Category|Quantity|UnitPrice|TotalPrice|   TxnDate|Rank|\n+-------------+--------+---------+-------+-----------+--------+---------+----------+----------+----+\n|        T1002|    Neha|Bangalore| Tablet|Electronics|       2|    30000|     60000|2024-01-20|   1|\n|        T1004|    Zoya|    Delhi|  Chair|  Furniture|       4|     5000|     20000|2024-02-12|   1|\n|        T1006|   Farah|    Delhi|  Mouse|Electronics|       3|     1000|      3000|2024-02-18|   2|\n|        T1003|    Ravi|Hyderabad|   Desk|  Furniture|       1|    15000|     15000|2024-02-10|   1|\n|        T1001|     Ali|   Mumbai| Laptop|Electronics|       1|    70000|     70000|2024-01-15|   1|\n|        T1005|   Karan|   Mumbai|  Phone|Electronics|       1|    50000|     50000|2024-02-15|   2|\n+-------------+--------+---------+-------+-----------+--------+---------+----------+----------+----+\n\n"
     ]
    }
   ],
   "source": [
    "# 12. Use a window partitioned by City to rank transactions by TotalPrice .\n",
    "win = W.partitionBy(\"City\").orderBy(F.desc(\"TotalPrice\"))\n",
    "dfRet.withColumn(\"Rank\", F.rank().over(win)).show()"
   ]
  },
  {
   "cell_type": "code",
   "execution_count": 0,
   "metadata": {
    "application/vnd.databricks.v1+cell": {
     "cellMetadata": {
      "byteLimit": 2048000,
      "rowLimit": 10000
     },
     "inputWidgets": {},
     "nuid": "ae243a0e-e80e-4a85-8681-9ca8f95235d5",
     "showTitle": false,
     "tableResultSettingsMap": {},
     "title": ""
    }
   },
   "outputs": [
    {
     "output_type": "stream",
     "name": "stdout",
     "output_type": "stream",
     "text": [
      "+-------------+--------+---------+-------+-----------+--------+---------+----------+----------+-------------------+\n|TransactionID|Customer|     City|Product|   Category|Quantity|UnitPrice|TotalPrice|   TxnDate|PreviousTransaction|\n+-------------+--------+---------+-------+-----------+--------+---------+----------+----------+-------------------+\n|        T1002|    Neha|Bangalore| Tablet|Electronics|       2|    30000|     60000|2024-01-20|                  0|\n|        T1006|   Farah|    Delhi|  Mouse|Electronics|       3|     1000|      3000|2024-02-18|                  0|\n|        T1004|    Zoya|    Delhi|  Chair|  Furniture|       4|     5000|     20000|2024-02-12|               3000|\n|        T1003|    Ravi|Hyderabad|   Desk|  Furniture|       1|    15000|     15000|2024-02-10|                  0|\n|        T1005|   Karan|   Mumbai|  Phone|Electronics|       1|    50000|     50000|2024-02-15|                  0|\n|        T1001|     Ali|   Mumbai| Laptop|Electronics|       1|    70000|     70000|2024-01-15|              50000|\n+-------------+--------+---------+-------+-----------+--------+---------+----------+----------+-------------------+\n\n"
     ]
    }
   ],
   "source": [
    "# 13. Use lag function to get previous transaction amount per city.\n",
    "win2 = W.partitionBy(\"City\").orderBy(\"TotalPrice\")\n",
    "\n",
    "dfRet.withColumn(\"PreviousTransaction\", F.lag(\"TotalPrice\", 1, 0).over(win2)).show()"
   ]
  },
  {
   "cell_type": "markdown",
   "metadata": {
    "application/vnd.databricks.v1+cell": {
     "cellMetadata": {},
     "inputWidgets": {},
     "nuid": "ef050311-dd59-41bb-ad5c-a4f34254d7fd",
     "showTitle": false,
     "tableResultSettingsMap": {},
     "title": ""
    }
   },
   "source": [
    "# **Joins**"
   ]
  },
  {
   "cell_type": "code",
   "execution_count": 0,
   "metadata": {
    "application/vnd.databricks.v1+cell": {
     "cellMetadata": {
      "byteLimit": 2048000,
      "rowLimit": 10000
     },
     "inputWidgets": {},
     "nuid": "81793b15-a892-433d-843f-a653e6396d06",
     "showTitle": false,
     "tableResultSettingsMap": {},
     "title": ""
    }
   },
   "outputs": [
    {
     "output_type": "stream",
     "name": "stdout",
     "output_type": "stream",
     "text": [
      "+---------+------+\n|     City|Region|\n+---------+------+\n|   Mumbai|  West|\n|    Delhi| North|\n| Banglore| South|\n|Hyderabad| South|\n+---------+------+\n\n"
     ]
    }
   ],
   "source": [
    "# 14. Create a second DataFrame city_region :\n",
    "data = [(\"Mumbai\", \"West\"), (\"Delhi\", \"North\"), (\"Banglore\", \"South\"), (\"Hyderabad\", \"South\")]\n",
    "columns = [\"City\", \"Region\"]\n",
    "city_region = spark.createDataFrame(data, columns)\n",
    "city_region.show()"
   ]
  },
  {
   "cell_type": "code",
   "execution_count": 0,
   "metadata": {
    "application/vnd.databricks.v1+cell": {
     "cellMetadata": {
      "byteLimit": 2048000,
      "rowLimit": 10000
     },
     "inputWidgets": {},
     "nuid": "eb579cee-0153-4172-b157-430af157aedc",
     "showTitle": false,
     "tableResultSettingsMap": {},
     "title": ""
    }
   },
   "outputs": [
    {
     "output_type": "stream",
     "name": "stdout",
     "output_type": "stream",
     "text": [
      "+------+----------+\n|Region|TotalSales|\n+------+----------+\n|  West|    120000|\n| North|     23000|\n| South|     15000|\n+------+----------+\n\n"
     ]
    }
   ],
   "source": [
    "# 15. Join with main DataFrame and group total sales by Region.\n",
    "dfJoined = dfRet.join(city_region, on=\"City\", how=\"inner\")\n",
    "dfJoined.groupBy(\"Region\").agg(\n",
    "    F.sum(\"TotalPrice\").alias(\"TotalSales\")\n",
    ").show()"
   ]
  },
  {
   "cell_type": "markdown",
   "metadata": {
    "application/vnd.databricks.v1+cell": {
     "cellMetadata": {},
     "inputWidgets": {},
     "nuid": "aac2a676-401e-4414-a8f9-4b860e7b2914",
     "showTitle": false,
     "tableResultSettingsMap": {},
     "title": ""
    }
   },
   "source": [
    "# **Nulls and Data Cleaning**"
   ]
  },
  {
   "cell_type": "code",
   "execution_count": 0,
   "metadata": {
    "application/vnd.databricks.v1+cell": {
     "cellMetadata": {
      "byteLimit": 2048000,
      "rowLimit": 10000
     },
     "inputWidgets": {},
     "nuid": "2b8c6f42-a59f-411d-90a2-dea3d0a19704",
     "showTitle": false,
     "tableResultSettingsMap": {},
     "title": ""
    }
   },
   "outputs": [
    {
     "output_type": "stream",
     "name": "stdout",
     "output_type": "stream",
     "text": [
      "+-------------+--------+---------+-------+---------------+--------+---------+----------+----------+\n|TransactionID|Customer|     City|Product|       Category|Quantity|UnitPrice|TotalPrice|   TxnDate|\n+-------------+--------+---------+-------+---------------+--------+---------+----------+----------+\n|        T1001|     Ali|   Mumbai| Laptop|    Electronics|       1|    70000|     70000|2024-01-15|\n|        T1002|    Neha|Bangalore| Tablet|    Electronics|       2|    30000|     60000|2024-01-20|\n|        T1003|    Ravi|Hyderabad|   Desk|UnknownCategory|       1|    15000|     15000|2024-02-10|\n|        T1004|    Zoya|    Delhi|  Chair|UnknownCategory|       4|     5000|     20000|2024-02-12|\n|        T1005|   Karan|   Mumbai|  Phone|    Electronics|       1|    50000|     50000|2024-02-15|\n|        T1006|   Farah|    Delhi|  Mouse|    Electronics|       3|     1000|      3000|2024-02-18|\n+-------------+--------+---------+-------+---------------+--------+---------+----------+----------+\n\n"
     ]
    }
   ],
   "source": [
    "# 16. Introduce some nulls and replace them with default values.\n",
    "dfNulls = dfRet.withColumn(\"Category\", F.when(F.col(\"Category\") == \"Furniture\", None).otherwise(F.col(\"Category\")))\n",
    "\n",
    "dfNulls.fillna(\"UnknownCategory\", subset=\"Category\").show()"
   ]
  },
  {
   "cell_type": "code",
   "execution_count": 0,
   "metadata": {
    "application/vnd.databricks.v1+cell": {
     "cellMetadata": {},
     "inputWidgets": {},
     "nuid": "546029ec-45cf-4491-b434-c825299c2070",
     "showTitle": false,
     "tableResultSettingsMap": {},
     "title": ""
    }
   },
   "outputs": [],
   "source": [
    "# 17. Drop rows where Quantity is null.\n",
    "dfNulls.dropna(subset=\"Quantity\")"
   ]
  },
  {
   "cell_type": "code",
   "execution_count": 0,
   "metadata": {
    "application/vnd.databricks.v1+cell": {
     "cellMetadata": {},
     "inputWidgets": {},
     "nuid": "e4283759-978a-4092-b704-e8313517f39b",
     "showTitle": false,
     "tableResultSettingsMap": {},
     "title": ""
    }
   },
   "outputs": [],
   "source": [
    "# 18. Fill null PaymentMode with \"Unknown\".\n",
    "dfNulls.fillna(\"UnKnown\", subset=\"PaymentMode\")"
   ]
  },
  {
   "cell_type": "markdown",
   "metadata": {
    "application/vnd.databricks.v1+cell": {
     "cellMetadata": {},
     "inputWidgets": {},
     "nuid": "62c453d4-4aef-4d8e-8e65-4a6b82a7540b",
     "showTitle": false,
     "tableResultSettingsMap": {},
     "title": ""
    }
   },
   "source": [
    "# **Custom Functions**"
   ]
  },
  {
   "cell_type": "code",
   "execution_count": 0,
   "metadata": {
    "application/vnd.databricks.v1+cell": {
     "cellMetadata": {
      "byteLimit": 2048000,
      "rowLimit": 10000
     },
     "inputWidgets": {},
     "nuid": "8511b3ba-5777-4172-8d61-4b49d7ee9492",
     "showTitle": false,
     "tableResultSettingsMap": {},
     "title": ""
    }
   },
   "outputs": [
    {
     "output_type": "stream",
     "name": "stdout",
     "output_type": "stream",
     "text": [
      "+-------------+--------+---------+-------+-----------+--------+---------+----------+----------+------+\n|TransactionID|Customer|     City|Product|   Category|Quantity|UnitPrice|TotalPrice|   TxnDate| Label|\n+-------------+--------+---------+-------+-----------+--------+---------+----------+----------+------+\n|        T1001|     Ali|   Mumbai| Laptop|Electronics|       1|    70000|     70000|2024-01-15|  High|\n|        T1002|    Neha|Bangalore| Tablet|Electronics|       2|    30000|     60000|2024-01-20|  High|\n|        T1003|    Ravi|Hyderabad|   Desk|  Furniture|       1|    15000|     15000|2024-02-10|   Low|\n|        T1004|    Zoya|    Delhi|  Chair|  Furniture|       4|     5000|     20000|2024-02-12|   Low|\n|        T1005|   Karan|   Mumbai|  Phone|Electronics|       1|    50000|     50000|2024-02-15|Medium|\n|        T1006|   Farah|    Delhi|  Mouse|Electronics|       3|     1000|      3000|2024-02-18|   Low|\n+-------------+--------+---------+-------+-----------+--------+---------+----------+----------+------+\n\n"
     ]
    }
   ],
   "source": [
    "# 19. Write a UDF to label orders:\n",
    "def labelOrder(amount):\n",
    "    if amount> 50_000:\n",
    "        return \"High\"\n",
    "    if amount >= 30_000:\n",
    "        return \"Medium\"\n",
    "    return \"Low\"\n",
    "\n",
    "labeler = F.udf(labelOrder, StringType())\n",
    "dfRet.withColumn(\"Label\", labeler(dfRet.TotalPrice)).show()"
   ]
  },
  {
   "cell_type": "markdown",
   "metadata": {
    "application/vnd.databricks.v1+cell": {
     "cellMetadata": {},
     "inputWidgets": {},
     "nuid": "1cc53f9c-a4c5-4d29-bf5d-5a84c40c6f92",
     "showTitle": false,
     "tableResultSettingsMap": {},
     "title": ""
    }
   },
   "source": [
    "# **Date & Time**"
   ]
  },
  {
   "cell_type": "code",
   "execution_count": 0,
   "metadata": {
    "application/vnd.databricks.v1+cell": {
     "cellMetadata": {
      "byteLimit": 2048000,
      "rowLimit": 10000
     },
     "inputWidgets": {},
     "nuid": "543b600f-57d3-4085-bcab-766a840917ba",
     "showTitle": false,
     "tableResultSettingsMap": {},
     "title": ""
    }
   },
   "outputs": [
    {
     "output_type": "stream",
     "name": "stdout",
     "output_type": "stream",
     "text": [
      "+----------+----+-----+---+\n|   TxnDate|Year|Month|Day|\n+----------+----+-----+---+\n|2024-01-15|2024|    1| 15|\n|2024-01-20|2024|    1| 20|\n|2024-02-10|2024|    2| 10|\n|2024-02-12|2024|    2| 12|\n|2024-02-15|2024|    2| 15|\n|2024-02-18|2024|    2| 18|\n+----------+----+-----+---+\n\n"
     ]
    }
   ],
   "source": [
    "# 20. Extract year, month, and day from TxnDate .\n",
    "dfRet.select(\"TxnDate\") \\\n",
    "  .withColumn(\"Year\", F.year(F.col(\"TxnDate\"))) \\\n",
    "  .withColumn(\"Month\", F.month(F.col(\"TxnDate\"))) \\\n",
    "  .withColumn(\"Day\", F.dayofmonth(F.col(\"TxnDate\"))) \\\n",
    "  .show()"
   ]
  },
  {
   "cell_type": "code",
   "execution_count": 0,
   "metadata": {
    "application/vnd.databricks.v1+cell": {
     "cellMetadata": {
      "byteLimit": 2048000,
      "rowLimit": 10000
     },
     "inputWidgets": {},
     "nuid": "fe92eda1-333a-4d7e-a4ba-bb44faa43212",
     "showTitle": false,
     "tableResultSettingsMap": {},
     "title": ""
    }
   },
   "outputs": [
    {
     "output_type": "stream",
     "name": "stdout",
     "output_type": "stream",
     "text": [
      "+-------------+--------+---------+-------+-----------+--------+---------+----------+----------+\n|TransactionID|Customer|     City|Product|   Category|Quantity|UnitPrice|TotalPrice|   TxnDate|\n+-------------+--------+---------+-------+-----------+--------+---------+----------+----------+\n|        T1003|    Ravi|Hyderabad|   Desk|  Furniture|       1|    15000|     15000|2024-02-10|\n|        T1004|    Zoya|    Delhi|  Chair|  Furniture|       4|     5000|     20000|2024-02-12|\n|        T1005|   Karan|   Mumbai|  Phone|Electronics|       1|    50000|     50000|2024-02-15|\n|        T1006|   Farah|    Delhi|  Mouse|Electronics|       3|     1000|      3000|2024-02-18|\n+-------------+--------+---------+-------+-----------+--------+---------+----------+----------+\n\n"
     ]
    }
   ],
   "source": [
    "# 21. Filter transactions that happened in February.\n",
    "dfRet.filter(F.month(F.col(\"TxnDate\")) == 2).show()"
   ]
  },
  {
   "cell_type": "markdown",
   "metadata": {
    "application/vnd.databricks.v1+cell": {
     "cellMetadata": {},
     "inputWidgets": {},
     "nuid": "082a2f23-85e2-4b46-889f-0b81bfe8b74d",
     "showTitle": false,
     "tableResultSettingsMap": {},
     "title": ""
    }
   },
   "source": [
    "# **Union & Duplicate Handling**"
   ]
  },
  {
   "cell_type": "code",
   "execution_count": 0,
   "metadata": {
    "application/vnd.databricks.v1+cell": {
     "cellMetadata": {
      "byteLimit": 2048000,
      "rowLimit": 10000
     },
     "inputWidgets": {},
     "nuid": "2c406e69-214d-4297-87c6-66d992469bd4",
     "showTitle": false,
     "tableResultSettingsMap": {},
     "title": ""
    }
   },
   "outputs": [
    {
     "output_type": "stream",
     "name": "stdout",
     "output_type": "stream",
     "text": [
      "+-------------+--------+---------+-------+-----------+--------+---------+----------+----------+\n|TransactionID|Customer|     City|Product|   Category|Quantity|UnitPrice|TotalPrice|   TxnDate|\n+-------------+--------+---------+-------+-----------+--------+---------+----------+----------+\n|        T1001|     Ali|   Mumbai| Laptop|Electronics|       1|    70000|     70000|2024-01-15|\n|        T1003|    Ravi|Hyderabad|   Desk|  Furniture|       1|    15000|     15000|2024-02-10|\n|        T1002|    Neha|Bangalore| Tablet|Electronics|       2|    30000|     60000|2024-01-20|\n|        T1006|   Farah|    Delhi|  Mouse|Electronics|       3|     1000|      3000|2024-02-18|\n|        T1004|    Zoya|    Delhi|  Chair|  Furniture|       4|     5000|     20000|2024-02-12|\n|        T1005|   Karan|   Mumbai|  Phone|Electronics|       1|    50000|     50000|2024-02-15|\n+-------------+--------+---------+-------+-----------+--------+---------+----------+----------+\n\n"
     ]
    }
   ],
   "source": [
    "# 22. Duplicate the DataFrame using union() and remove duplicates.\n",
    "dfNew = dfRet.union(dfRet)\n",
    "dfNew = dfNew.dropDuplicates()\n",
    "dfNew.show()"
   ]
  },
  {
   "cell_type": "code",
   "execution_count": 0,
   "metadata": {
    "application/vnd.databricks.v1+cell": {
     "cellMetadata": {},
     "inputWidgets": {},
     "nuid": "b51f60cf-0f01-47c4-bf9b-375764977025",
     "showTitle": false,
     "tableResultSettingsMap": {},
     "title": ""
    }
   },
   "outputs": [],
   "source": []
  }
 ],
 "metadata": {
  "application/vnd.databricks.v1+notebook": {
   "computePreferences": null,
   "dashboards": [],
   "environmentMetadata": null,
   "inputWidgetPreferences": null,
   "language": "python",
   "notebookMetadata": {
    "pythonIndentUnit": 4
   },
   "notebookName": "Assignment-1",
   "widgets": {}
  }
 },
 "nbformat": 4,
 "nbformat_minor": 0
}