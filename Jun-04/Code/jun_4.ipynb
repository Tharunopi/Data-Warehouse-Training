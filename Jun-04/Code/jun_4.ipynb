{
  "nbformat": 4,
  "nbformat_minor": 0,
  "metadata": {
    "colab": {
      "provenance": []
    },
    "kernelspec": {
      "name": "python3",
      "display_name": "Python 3"
    },
    "language_info": {
      "name": "python"
    }
  },
  "cells": [
    {
      "cell_type": "code",
      "execution_count": 5,
      "metadata": {
        "id": "NfY9Euvs8mI0"
      },
      "outputs": [],
      "source": [
        "from pyspark.sql import SparkSession, Row\n",
        "from pyspark.sql import functions as F\n",
        "import pandas as pd\n",
        "from io import StringIO\n",
        "from pyspark.sql.types import StringType"
      ]
    },
    {
      "cell_type": "code",
      "source": [
        "spark = SparkSession.builder.appName(\"deo\").getOrCreate()"
      ],
      "metadata": {
        "id": "c1L5DsDg9BSB"
      },
      "execution_count": 2,
      "outputs": []
    },
    {
      "cell_type": "code",
      "source": [
        "spark"
      ],
      "metadata": {
        "colab": {
          "base_uri": "https://localhost:8080/",
          "height": 219
        },
        "id": "HYfdzNtL9Hli",
        "outputId": "68f51179-6677-4500-a3b9-16e5c510cacc"
      },
      "execution_count": 3,
      "outputs": [
        {
          "output_type": "execute_result",
          "data": {
            "text/plain": [
              "<pyspark.sql.session.SparkSession at 0x7bdf59b12a90>"
            ],
            "text/html": [
              "\n",
              "            <div>\n",
              "                <p><b>SparkSession - in-memory</b></p>\n",
              "                \n",
              "        <div>\n",
              "            <p><b>SparkContext</b></p>\n",
              "\n",
              "            <p><a href=\"http://fde96d829b82:4040\">Spark UI</a></p>\n",
              "\n",
              "            <dl>\n",
              "              <dt>Version</dt>\n",
              "                <dd><code>v3.5.1</code></dd>\n",
              "              <dt>Master</dt>\n",
              "                <dd><code>local[*]</code></dd>\n",
              "              <dt>AppName</dt>\n",
              "                <dd><code>deo</code></dd>\n",
              "            </dl>\n",
              "        </div>\n",
              "        \n",
              "            </div>\n",
              "        "
            ]
          },
          "metadata": {},
          "execution_count": 3
        }
      ]
    },
    {
      "cell_type": "code",
      "source": [
        "csv_data = StringIO(\"\"\"\n",
        "OrderID,CustomerName,ProductCategory,Amount,OrderDate,DeliveryStatus,Discount,City,PaymentMode,CustomerSince\n",
        "1001,Ali,Electronics,60000,2023-01-12,Delivered,0.10,Hyderabad,Credit Card,2020-05-01\n",
        "1002,Neha,Fashion,2500,2023-02-20,Pending,0.05,Mumbai,UPI,2019-07-12\n",
        "1003,Ravi,Books,1200,2023-03-15,Cancelled,0.00,Delhi,Cash,2021-01-20\n",
        "1004,Sneha,Toys,1800,2023-01-25,Delivered,0.15,Bangalore,Wallet,2018-11-05\n",
        "1005,Amit,Groceries,3500,2023-02-02,Returned,0.05,Chennai,Credit Card,2020-02-28\n",
        "\"\"\")\n",
        "csv_data = pd.read_csv(csv_data)\n",
        "df = spark.createDataFrame(csv_data)\n",
        "df.printSchema()\n",
        "df.show()"
      ],
      "metadata": {
        "colab": {
          "base_uri": "https://localhost:8080/"
        },
        "id": "eultmX2rFDkv",
        "outputId": "48efad85-a488-4f63-97b2-f96e6c68f69b"
      },
      "execution_count": 7,
      "outputs": [
        {
          "output_type": "stream",
          "name": "stdout",
          "text": [
            "root\n",
            " |-- OrderID: long (nullable = true)\n",
            " |-- CustomerName: string (nullable = true)\n",
            " |-- ProductCategory: string (nullable = true)\n",
            " |-- Amount: long (nullable = true)\n",
            " |-- OrderDate: string (nullable = true)\n",
            " |-- DeliveryStatus: string (nullable = true)\n",
            " |-- Discount: double (nullable = true)\n",
            " |-- City: string (nullable = true)\n",
            " |-- PaymentMode: string (nullable = true)\n",
            " |-- CustomerSince: string (nullable = true)\n",
            "\n",
            "+-------+------------+---------------+------+----------+--------------+--------+---------+-----------+-------------+\n",
            "|OrderID|CustomerName|ProductCategory|Amount| OrderDate|DeliveryStatus|Discount|     City|PaymentMode|CustomerSince|\n",
            "+-------+------------+---------------+------+----------+--------------+--------+---------+-----------+-------------+\n",
            "|   1001|         Ali|    Electronics| 60000|2023-01-12|     Delivered|     0.1|Hyderabad|Credit Card|   2020-05-01|\n",
            "|   1002|        Neha|        Fashion|  2500|2023-02-20|       Pending|    0.05|   Mumbai|        UPI|   2019-07-12|\n",
            "|   1003|        Ravi|          Books|  1200|2023-03-15|     Cancelled|     0.0|    Delhi|       Cash|   2021-01-20|\n",
            "|   1004|       Sneha|           Toys|  1800|2023-01-25|     Delivered|    0.15|Bangalore|     Wallet|   2018-11-05|\n",
            "|   1005|        Amit|      Groceries|  3500|2023-02-02|      Returned|    0.05|  Chennai|Credit Card|   2020-02-28|\n",
            "+-------+------------+---------------+------+----------+--------------+--------+---------+-----------+-------------+\n",
            "\n"
          ]
        }
      ]
    },
    {
      "cell_type": "code",
      "source": [
        "df.write.mode(\"overwrite\").parquet(\"orders.csv\")"
      ],
      "metadata": {
        "id": "ejnNhO1g9Lbk"
      },
      "execution_count": 8,
      "outputs": []
    },
    {
      "cell_type": "code",
      "source": [
        "df_parquet = spark.read.parquet(\"/content/orders.csv\")\n",
        "df_parquet.show()"
      ],
      "metadata": {
        "colab": {
          "base_uri": "https://localhost:8080/"
        },
        "id": "XM7aRKTaKf7P",
        "outputId": "620e5878-95ad-4222-b4fd-2e4c6aa27121"
      },
      "execution_count": 9,
      "outputs": [
        {
          "output_type": "stream",
          "name": "stdout",
          "text": [
            "+-------+------------+---------------+------+----------+--------------+--------+---------+-----------+-------------+\n",
            "|OrderID|CustomerName|ProductCategory|Amount| OrderDate|DeliveryStatus|Discount|     City|PaymentMode|CustomerSince|\n",
            "+-------+------------+---------------+------+----------+--------------+--------+---------+-----------+-------------+\n",
            "|   1003|        Ravi|          Books|  1200|2023-03-15|     Cancelled|     0.0|    Delhi|       Cash|   2021-01-20|\n",
            "|   1004|       Sneha|           Toys|  1800|2023-01-25|     Delivered|    0.15|Bangalore|     Wallet|   2018-11-05|\n",
            "|   1005|        Amit|      Groceries|  3500|2023-02-02|      Returned|    0.05|  Chennai|Credit Card|   2020-02-28|\n",
            "|   1001|         Ali|    Electronics| 60000|2023-01-12|     Delivered|     0.1|Hyderabad|Credit Card|   2020-05-01|\n",
            "|   1002|        Neha|        Fashion|  2500|2023-02-20|       Pending|    0.05|   Mumbai|        UPI|   2019-07-12|\n",
            "+-------+------------+---------------+------+----------+--------------+--------+---------+-----------+-------------+\n",
            "\n"
          ]
        }
      ]
    },
    {
      "cell_type": "code",
      "source": [
        "complex_json = '''\n",
        "[\n",
        "  {\n",
        "    \"orderId\": 101,\n",
        "    \"customer\": {\"name\": \"Ali\", \"city\": \"Hyderabad\"},\n",
        "    \"items\": [{\"product\": \"Laptop\", \"price\": 60000}, {\"product\": \"Mouse\", \"price\": 800}]\n",
        "  },\n",
        "  {\n",
        "    \"orderId\": 102,\n",
        "    \"customer\": {\"name\": \"Neha\", \"city\": \"Mumbai\"},\n",
        "    \"items\": [{\"product\": \"Chair\", \"price\": 2000}]\n",
        "  }\n",
        "]\n",
        "'''\n",
        "\n",
        "with open(\"complex.json\", \"w\") as f:\n",
        "  f.write(complex_json)\n",
        ""
      ],
      "metadata": {
        "id": "JgLugl3uK0IE"
      },
      "execution_count": 17,
      "outputs": []
    },
    {
      "cell_type": "code",
      "source": [
        "df_complex = spark.read.option(\"multiline\", \"true\").json(\"/content/complex.json\")"
      ],
      "metadata": {
        "id": "H9VqnvmnQxA_"
      },
      "execution_count": 20,
      "outputs": []
    },
    {
      "cell_type": "code",
      "source": [
        "df_complex.write.mode(\"overwrite\").parquet(\"complex_json\")"
      ],
      "metadata": {
        "id": "L7OcFoLQRBGl"
      },
      "execution_count": 21,
      "outputs": []
    },
    {
      "cell_type": "code",
      "source": [
        "df = spark.read.parquet(r\"/content/complex_json\")\n",
        "df.printSchema()\n",
        "df.show()"
      ],
      "metadata": {
        "colab": {
          "base_uri": "https://localhost:8080/"
        },
        "id": "g9TAMgiHRQzJ",
        "outputId": "8ec68e98-71d9-4ac8-bb5d-902bed2a2a61"
      },
      "execution_count": 22,
      "outputs": [
        {
          "output_type": "stream",
          "name": "stdout",
          "text": [
            "root\n",
            " |-- customer: struct (nullable = true)\n",
            " |    |-- city: string (nullable = true)\n",
            " |    |-- name: string (nullable = true)\n",
            " |-- items: array (nullable = true)\n",
            " |    |-- element: struct (containsNull = true)\n",
            " |    |    |-- price: long (nullable = true)\n",
            " |    |    |-- product: string (nullable = true)\n",
            " |-- orderId: long (nullable = true)\n",
            "\n",
            "+----------------+--------------------+-------+\n",
            "|        customer|               items|orderId|\n",
            "+----------------+--------------------+-------+\n",
            "|{Hyderabad, Ali}|[{60000, Laptop},...|    101|\n",
            "|  {Mumbai, Neha}|     [{2000, Chair}]|    102|\n",
            "+----------------+--------------------+-------+\n",
            "\n"
          ]
        }
      ]
    },
    {
      "cell_type": "code",
      "source": [
        "spark.sql(\"CREATE DATABASE IF NOT EXISTS sales_db\")\n",
        "spark.sql(\"USE sales_db\")"
      ],
      "metadata": {
        "colab": {
          "base_uri": "https://localhost:8080/"
        },
        "id": "AuTeb5thSZRr",
        "outputId": "542a4fc9-0af7-4134-ffc1-085bf6bd9b3a"
      },
      "execution_count": 23,
      "outputs": [
        {
          "output_type": "execute_result",
          "data": {
            "text/plain": [
              "DataFrame[]"
            ]
          },
          "metadata": {},
          "execution_count": 23
        }
      ]
    },
    {
      "cell_type": "code",
      "source": [
        "spark.sql(\"\"\"\n",
        "  CREATE TABLE IF NOT EXISTS orders(\n",
        "    OrderID INT,\n",
        "    CustomerName STRING,\n",
        "    ProductCategory STRING,\n",
        "    Amount DOUBLE\n",
        "  ) USING PARQUET\n",
        "\"\"\")"
      ],
      "metadata": {
        "colab": {
          "base_uri": "https://localhost:8080/"
        },
        "id": "aAI0X9QzWRqZ",
        "outputId": "e741f69b-8718-4be8-dc28-dd2e77ebc7d8"
      },
      "execution_count": 25,
      "outputs": [
        {
          "output_type": "execute_result",
          "data": {
            "text/plain": [
              "DataFrame[]"
            ]
          },
          "metadata": {},
          "execution_count": 25
        }
      ]
    },
    {
      "cell_type": "code",
      "source": [
        "spark.sql(\"\"\"\n",
        "  INSERT INTO orders\n",
        "  VALUES\n",
        "    (101, 'AlI', 'Electronics', 60000),\n",
        "    (102, 'Neha', 'Fashion', 2500)\n",
        "\"\"\")"
      ],
      "metadata": {
        "colab": {
          "base_uri": "https://localhost:8080/"
        },
        "id": "Z2sQEP8qWoko",
        "outputId": "5c7c433a-4d0e-442c-a36a-eca8f5714906"
      },
      "execution_count": 26,
      "outputs": [
        {
          "output_type": "execute_result",
          "data": {
            "text/plain": [
              "DataFrame[]"
            ]
          },
          "metadata": {},
          "execution_count": 26
        }
      ]
    },
    {
      "cell_type": "code",
      "source": [
        "spark.sql(\"SELECT * FROM orders\").show()"
      ],
      "metadata": {
        "colab": {
          "base_uri": "https://localhost:8080/"
        },
        "id": "nev3U7Y-XEZM",
        "outputId": "f9d41847-b86e-4c57-98f2-ac44b29f1d19"
      },
      "execution_count": 28,
      "outputs": [
        {
          "output_type": "stream",
          "name": "stdout",
          "text": [
            "+-------+------------+---------------+-------+\n",
            "|OrderID|CustomerName|ProductCategory| Amount|\n",
            "+-------+------------+---------------+-------+\n",
            "|    101|         AlI|    Electronics|60000.0|\n",
            "|    102|        Neha|        Fashion| 2500.0|\n",
            "+-------+------------+---------------+-------+\n",
            "\n"
          ]
        }
      ]
    },
    {
      "cell_type": "code",
      "source": [],
      "metadata": {
        "id": "APIhJ6YeXJGS"
      },
      "execution_count": null,
      "outputs": []
    }
  ]
}