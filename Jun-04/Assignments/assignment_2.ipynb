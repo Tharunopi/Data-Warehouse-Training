{
  "nbformat": 4,
  "nbformat_minor": 0,
  "metadata": {
    "colab": {
      "provenance": []
    },
    "kernelspec": {
      "name": "python3",
      "display_name": "Python 3"
    },
    "language_info": {
      "name": "python"
    }
  },
  "cells": [
    {
      "cell_type": "code",
      "execution_count": 4,
      "metadata": {
        "id": "NfY9Euvs8mI0"
      },
      "outputs": [],
      "source": [
        "from pyspark.sql import SparkSession\n",
        "from pyspark.sql import functions as F"
      ]
    },
    {
      "cell_type": "code",
      "source": [
        "spark = SparkSession.builder.appName(\"deo\").enableHiveSupport().getOrCreate()"
      ],
      "metadata": {
        "id": "c1L5DsDg9BSB"
      },
      "execution_count": 6,
      "outputs": []
    },
    {
      "cell_type": "code",
      "source": [
        "spark"
      ],
      "metadata": {
        "colab": {
          "base_uri": "https://localhost:8080/",
          "height": 219
        },
        "id": "HYfdzNtL9Hli",
        "outputId": "883fe660-1dfa-4b7c-e23a-d2b0b020affa"
      },
      "execution_count": 7,
      "outputs": [
        {
          "output_type": "execute_result",
          "data": {
            "text/plain": [
              "<pyspark.sql.session.SparkSession at 0x7b30ed93ce10>"
            ],
            "text/html": [
              "\n",
              "            <div>\n",
              "                <p><b>SparkSession - in-memory</b></p>\n",
              "                \n",
              "        <div>\n",
              "            <p><b>SparkContext</b></p>\n",
              "\n",
              "            <p><a href=\"http://1063ed564ad7:4040\">Spark UI</a></p>\n",
              "\n",
              "            <dl>\n",
              "              <dt>Version</dt>\n",
              "                <dd><code>v3.5.1</code></dd>\n",
              "              <dt>Master</dt>\n",
              "                <dd><code>local[*]</code></dd>\n",
              "              <dt>AppName</dt>\n",
              "                <dd><code>deo</code></dd>\n",
              "            </dl>\n",
              "        </div>\n",
              "        \n",
              "            </div>\n",
              "        "
            ]
          },
          "metadata": {},
          "execution_count": 7
        }
      ]
    },
    {
      "cell_type": "markdown",
      "source": [
        "# **Data Preparation**"
      ],
      "metadata": {
        "id": "X6ZRpaZFH771"
      }
    },
    {
      "cell_type": "code",
      "source": [
        "customers_data = [\n",
        "(101, 'Ali', 'ali@gmail.com', 'Mumbai', '2022-05-10'),\n",
        "(102, 'Neha', 'neha@yahoo.com', 'Delhi', '2023-01-15'),\n",
        "(103, 'Ravi', 'ravi@hotmail.com', 'Bangalore', '2021-11-01'),\n",
        "(104, 'Sneha', 'sneha@outlook.com', 'Hyderabad', '2020-07-22'),\n",
        "(105, 'Amit', 'amit@gmail.com', 'Chennai', '2023-03-10'),\n",
        "]\n",
        "\n",
        "orders_data = [\n",
        "(1, 101, 'Laptop', 'Electronics', 2, 50000.0, '2024-01-10'),\n",
        "(2, 101, 'Mouse', 'Electronics', 1, 1200.0, '2024-01-15'),\n",
        "(3, 102, 'Tablet', 'Electronics', 1, 20000.0, '2024-02-01'),\n",
        "(4, 103, 'Bookshelf', 'Furniture', 1, 3500.0, '2024-02-10'),\n",
        "(5, 104, 'Mixer', 'Appliances', 1, 5000.0, '2024-02-15'),\n",
        "(6, 105, 'Notebook', 'Stationery', 5, 500.0, '2024-03-01'),\n",
        "(7, 102, 'Phone', 'Electronics', 1, 30000.0, '2024-03-02'),\n",
        "]\n",
        "\n",
        "customers_df = spark.createDataFrame(customers_data, [\"CustomerID\", \"Name\", \"Email\",\n",
        "\"City\", \"SignupDate\"])\n",
        "orders_df = spark.createDataFrame(orders_data, [\"OrderID\", \"CustomerID\", \"Product\",\n",
        "\"Category\", \"Quantity\", \"Price\", \"OrderDate\"])\n",
        "\n",
        "spark.sql(\"CREATE DATABASE IF NOT EXISTS sales\")\n",
        "\n",
        "customers_df.write.mode(\"overwrite\").saveAsTable(\"sales.customers\")\n",
        "orders_df.write.mode(\"overwrite\").saveAsTable(\"sales.orders\")"
      ],
      "metadata": {
        "id": "n5_e5hvyHqgb"
      },
      "execution_count": 64,
      "outputs": []
    },
    {
      "cell_type": "markdown",
      "source": [
        "# **PySpark DataFrame Tasks**"
      ],
      "metadata": {
        "id": "2wxYWdHkIciQ"
      }
    },
    {
      "cell_type": "code",
      "source": [
        "# 1. Add a column TotalAmount = Price * Quantity to the orders_df .\n",
        "orders_df = orders_df.withColumn(\"TotalAmount\", orders_df.Price * orders_df.Quantity)\n",
        "orders_df.show()"
      ],
      "metadata": {
        "colab": {
          "base_uri": "https://localhost:8080/"
        },
        "id": "2nDYIXAcIhqr",
        "outputId": "a3371d10-e268-4380-dcbb-57e1ec81a49f"
      },
      "execution_count": 65,
      "outputs": [
        {
          "output_type": "stream",
          "name": "stdout",
          "text": [
            "+-------+----------+---------+-----------+--------+-------+----------+-----------+\n",
            "|OrderID|CustomerID|  Product|   Category|Quantity|  Price| OrderDate|TotalAmount|\n",
            "+-------+----------+---------+-----------+--------+-------+----------+-----------+\n",
            "|      1|       101|   Laptop|Electronics|       2|50000.0|2024-01-10|   100000.0|\n",
            "|      2|       101|    Mouse|Electronics|       1| 1200.0|2024-01-15|     1200.0|\n",
            "|      3|       102|   Tablet|Electronics|       1|20000.0|2024-02-01|    20000.0|\n",
            "|      4|       103|Bookshelf|  Furniture|       1| 3500.0|2024-02-10|     3500.0|\n",
            "|      5|       104|    Mixer| Appliances|       1| 5000.0|2024-02-15|     5000.0|\n",
            "|      6|       105| Notebook| Stationery|       5|  500.0|2024-03-01|     2500.0|\n",
            "|      7|       102|    Phone|Electronics|       1|30000.0|2024-03-02|    30000.0|\n",
            "+-------+----------+---------+-----------+--------+-------+----------+-----------+\n",
            "\n"
          ]
        }
      ]
    },
    {
      "cell_type": "code",
      "source": [
        "# 2. Filter all orders with TotalAmount > 10000 .\n",
        "orders_df.filter(orders_df.TotalAmount > 10000).show()"
      ],
      "metadata": {
        "colab": {
          "base_uri": "https://localhost:8080/"
        },
        "id": "ezQW92BUI1sM",
        "outputId": "a1fc58c3-e063-4c3a-9093-e3edb035c1fc"
      },
      "execution_count": 66,
      "outputs": [
        {
          "output_type": "stream",
          "name": "stdout",
          "text": [
            "+-------+----------+-------+-----------+--------+-------+----------+-----------+\n",
            "|OrderID|CustomerID|Product|   Category|Quantity|  Price| OrderDate|TotalAmount|\n",
            "+-------+----------+-------+-----------+--------+-------+----------+-----------+\n",
            "|      1|       101| Laptop|Electronics|       2|50000.0|2024-01-10|   100000.0|\n",
            "|      3|       102| Tablet|Electronics|       1|20000.0|2024-02-01|    20000.0|\n",
            "|      7|       102|  Phone|Electronics|       1|30000.0|2024-03-02|    30000.0|\n",
            "+-------+----------+-------+-----------+--------+-------+----------+-----------+\n",
            "\n"
          ]
        }
      ]
    },
    {
      "cell_type": "code",
      "source": [
        "# 3. Standardize the City field in customers_df (e.g., lowercase).\n",
        "customers_df = customers_df.withColumn(\"City\", F.lower(customers_df.City))\n",
        "customers_df.show()"
      ],
      "metadata": {
        "colab": {
          "base_uri": "https://localhost:8080/"
        },
        "id": "ToxSIEiqJG3R",
        "outputId": "3012b36c-e7eb-43bd-c776-6c8b12aa4f38"
      },
      "execution_count": 67,
      "outputs": [
        {
          "output_type": "stream",
          "name": "stdout",
          "text": [
            "+----------+-----+-----------------+---------+----------+\n",
            "|CustomerID| Name|            Email|     City|SignupDate|\n",
            "+----------+-----+-----------------+---------+----------+\n",
            "|       101|  Ali|    ali@gmail.com|   mumbai|2022-05-10|\n",
            "|       102| Neha|   neha@yahoo.com|    delhi|2023-01-15|\n",
            "|       103| Ravi| ravi@hotmail.com|bangalore|2021-11-01|\n",
            "|       104|Sneha|sneha@outlook.com|hyderabad|2020-07-22|\n",
            "|       105| Amit|   amit@gmail.com|  chennai|2023-03-10|\n",
            "+----------+-----+-----------------+---------+----------+\n",
            "\n"
          ]
        }
      ]
    },
    {
      "cell_type": "code",
      "source": [
        "# 4. Extract year from OrderDate and add a new column OrderYear .\n",
        "orders_df = orders_df.withColumn(\"OrderYear\", F.year(orders_df.OrderDate))\n",
        "orders_df.show()"
      ],
      "metadata": {
        "colab": {
          "base_uri": "https://localhost:8080/"
        },
        "id": "lBGuJ_RHJNg7",
        "outputId": "75971d24-17d9-4cca-ca94-965e89c8256d"
      },
      "execution_count": 68,
      "outputs": [
        {
          "output_type": "stream",
          "name": "stdout",
          "text": [
            "+-------+----------+---------+-----------+--------+-------+----------+-----------+---------+\n",
            "|OrderID|CustomerID|  Product|   Category|Quantity|  Price| OrderDate|TotalAmount|OrderYear|\n",
            "+-------+----------+---------+-----------+--------+-------+----------+-----------+---------+\n",
            "|      1|       101|   Laptop|Electronics|       2|50000.0|2024-01-10|   100000.0|     2024|\n",
            "|      2|       101|    Mouse|Electronics|       1| 1200.0|2024-01-15|     1200.0|     2024|\n",
            "|      3|       102|   Tablet|Electronics|       1|20000.0|2024-02-01|    20000.0|     2024|\n",
            "|      4|       103|Bookshelf|  Furniture|       1| 3500.0|2024-02-10|     3500.0|     2024|\n",
            "|      5|       104|    Mixer| Appliances|       1| 5000.0|2024-02-15|     5000.0|     2024|\n",
            "|      6|       105| Notebook| Stationery|       5|  500.0|2024-03-01|     2500.0|     2024|\n",
            "|      7|       102|    Phone|Electronics|       1|30000.0|2024-03-02|    30000.0|     2024|\n",
            "+-------+----------+---------+-----------+--------+-------+----------+-----------+---------+\n",
            "\n"
          ]
        }
      ]
    },
    {
      "cell_type": "code",
      "source": [
        "# 5. Fill null values in any column of your choice with defaults.\n",
        "orders_df.fillna(-1).show()\n",
        "customers_df.fillna(-1).show()"
      ],
      "metadata": {
        "colab": {
          "base_uri": "https://localhost:8080/"
        },
        "id": "f8tG6lIbLA5D",
        "outputId": "287d251c-20ff-4abc-c3e3-2015cc265316"
      },
      "execution_count": 69,
      "outputs": [
        {
          "output_type": "stream",
          "name": "stdout",
          "text": [
            "+-------+----------+---------+-----------+--------+-------+----------+-----------+---------+\n",
            "|OrderID|CustomerID|  Product|   Category|Quantity|  Price| OrderDate|TotalAmount|OrderYear|\n",
            "+-------+----------+---------+-----------+--------+-------+----------+-----------+---------+\n",
            "|      1|       101|   Laptop|Electronics|       2|50000.0|2024-01-10|   100000.0|     2024|\n",
            "|      2|       101|    Mouse|Electronics|       1| 1200.0|2024-01-15|     1200.0|     2024|\n",
            "|      3|       102|   Tablet|Electronics|       1|20000.0|2024-02-01|    20000.0|     2024|\n",
            "|      4|       103|Bookshelf|  Furniture|       1| 3500.0|2024-02-10|     3500.0|     2024|\n",
            "|      5|       104|    Mixer| Appliances|       1| 5000.0|2024-02-15|     5000.0|     2024|\n",
            "|      6|       105| Notebook| Stationery|       5|  500.0|2024-03-01|     2500.0|     2024|\n",
            "|      7|       102|    Phone|Electronics|       1|30000.0|2024-03-02|    30000.0|     2024|\n",
            "+-------+----------+---------+-----------+--------+-------+----------+-----------+---------+\n",
            "\n",
            "+----------+-----+-----------------+---------+----------+\n",
            "|CustomerID| Name|            Email|     City|SignupDate|\n",
            "+----------+-----+-----------------+---------+----------+\n",
            "|       101|  Ali|    ali@gmail.com|   mumbai|2022-05-10|\n",
            "|       102| Neha|   neha@yahoo.com|    delhi|2023-01-15|\n",
            "|       103| Ravi| ravi@hotmail.com|bangalore|2021-11-01|\n",
            "|       104|Sneha|sneha@outlook.com|hyderabad|2020-07-22|\n",
            "|       105| Amit|   amit@gmail.com|  chennai|2023-03-10|\n",
            "+----------+-----+-----------------+---------+----------+\n",
            "\n"
          ]
        }
      ]
    },
    {
      "cell_type": "code",
      "source": [
        "# 6. Use when/otherwise to categorize\n",
        "orders_df = orders_df.withColumn(\"Cateogry\", F.when(orders_df.TotalAmount < 5000, \"Low\").when((orders_df.TotalAmount > 5000) &  (orders_df.TotalAmount <= 20000), \"Medium\").otherwise(\"High\"))\n",
        "orders_df.show()"
      ],
      "metadata": {
        "colab": {
          "base_uri": "https://localhost:8080/"
        },
        "id": "HMlVN7s3LbRO",
        "outputId": "87bcbe23-5344-456a-b943-5cbe4808021a"
      },
      "execution_count": 70,
      "outputs": [
        {
          "output_type": "stream",
          "name": "stdout",
          "text": [
            "+-------+----------+---------+-----------+--------+-------+----------+-----------+---------+--------+\n",
            "|OrderID|CustomerID|  Product|   Category|Quantity|  Price| OrderDate|TotalAmount|OrderYear|Cateogry|\n",
            "+-------+----------+---------+-----------+--------+-------+----------+-----------+---------+--------+\n",
            "|      1|       101|   Laptop|Electronics|       2|50000.0|2024-01-10|   100000.0|     2024|    High|\n",
            "|      2|       101|    Mouse|Electronics|       1| 1200.0|2024-01-15|     1200.0|     2024|     Low|\n",
            "|      3|       102|   Tablet|Electronics|       1|20000.0|2024-02-01|    20000.0|     2024|  Medium|\n",
            "|      4|       103|Bookshelf|  Furniture|       1| 3500.0|2024-02-10|     3500.0|     2024|     Low|\n",
            "|      5|       104|    Mixer| Appliances|       1| 5000.0|2024-02-15|     5000.0|     2024|    High|\n",
            "|      6|       105| Notebook| Stationery|       5|  500.0|2024-03-01|     2500.0|     2024|     Low|\n",
            "|      7|       102|    Phone|Electronics|       1|30000.0|2024-03-02|    30000.0|     2024|    High|\n",
            "+-------+----------+---------+-----------+--------+-------+----------+-----------+---------+--------+\n",
            "\n"
          ]
        }
      ]
    },
    {
      "cell_type": "markdown",
      "source": [
        "# **Spark SQL Tasks**"
      ],
      "metadata": {
        "id": "6dNZvjJNMug6"
      }
    },
    {
      "cell_type": "code",
      "source": [
        "# 7. Run a SQL query to list all orders made by “Ali”.\n",
        "spark.sql(\"USE sales \")\n",
        "spark.sql(\"\"\"\n",
        "  SELECT * FROM orders\n",
        "  WHERE CustomerID = (SELECT CustomerID FROM customers\n",
        "  WHERE Name = 'Ali')\n",
        "\"\"\").show()"
      ],
      "metadata": {
        "colab": {
          "base_uri": "https://localhost:8080/"
        },
        "id": "05w-GNAALmlm",
        "outputId": "d0ce8cfc-ea03-435f-dee1-6bbfc02568dd"
      },
      "execution_count": 33,
      "outputs": [
        {
          "output_type": "stream",
          "name": "stdout",
          "text": [
            "+-------+----------+-------+-----------+--------+-------+----------+\n",
            "|OrderID|CustomerID|Product|   Category|Quantity|  Price| OrderDate|\n",
            "+-------+----------+-------+-----------+--------+-------+----------+\n",
            "|      1|       101| Laptop|Electronics|       2|50000.0|2024-01-10|\n",
            "|      2|       101|  Mouse|Electronics|       1| 1200.0|2024-01-15|\n",
            "+-------+----------+-------+-----------+--------+-------+----------+\n",
            "\n"
          ]
        }
      ]
    },
    {
      "cell_type": "code",
      "source": [
        "# 8. Get total spending by each customer using SQL.\n",
        "spark.sql(\"\"\"\n",
        "  SELECT c.Name, SUM(o.Quantity * o.Price) AS Spending FROM customers c\n",
        "  INNER JOIN orders o\n",
        "  ON c.CustomerID = o.CustomerID\n",
        "  GROUP BY c.Name\n",
        "\"\"\").show()"
      ],
      "metadata": {
        "colab": {
          "base_uri": "https://localhost:8080/"
        },
        "id": "iCOTQtGXM9g8",
        "outputId": "a0c173ff-f65f-4cfc-ff63-8fbbab9a0761"
      },
      "execution_count": 35,
      "outputs": [
        {
          "output_type": "stream",
          "name": "stdout",
          "text": [
            "+-----+--------+\n",
            "| Name|Spending|\n",
            "+-----+--------+\n",
            "| Neha| 50000.0|\n",
            "|  Ali|101200.0|\n",
            "| Ravi|  3500.0|\n",
            "|Sneha|  5000.0|\n",
            "| Amit|  2500.0|\n",
            "+-----+--------+\n",
            "\n"
          ]
        }
      ]
    },
    {
      "cell_type": "code",
      "source": [
        "# 9. Find out which category made the highest total revenue.\n",
        "spark.sql(\"\"\"\n",
        "  SELECT Product, SUM(Price * Quantity) AS Revenue FROM orders\n",
        "  GROUP BY Product\n",
        "  ORDER BY SUM(Price * Quantity) DESC\n",
        "  LIMIT 1\n",
        "\"\"\").show()"
      ],
      "metadata": {
        "colab": {
          "base_uri": "https://localhost:8080/"
        },
        "id": "B7gCRuGmN1Yw",
        "outputId": "8a9b3e3d-cf68-425f-a1b3-639be181947e"
      },
      "execution_count": 38,
      "outputs": [
        {
          "output_type": "stream",
          "name": "stdout",
          "text": [
            "+-------+--------+\n",
            "|Product| Revenue|\n",
            "+-------+--------+\n",
            "| Laptop|100000.0|\n",
            "+-------+--------+\n",
            "\n"
          ]
        }
      ]
    },
    {
      "cell_type": "code",
      "source": [
        "# 10. Create a view customer_orders showing CustomerName, Product, TotalAmount .\n",
        "df = spark.sql(\"\"\"\n",
        "  SELECT o.OrderID, c.Name, o.Product, (o.Quantity * o.Price) AS `Total Amount` FROM orders o\n",
        "  INNER JOIN customers c\n",
        "  ON c.CustomerID = o.CustomerID\n",
        "\"\"\")\n",
        "\n",
        "df.createOrReplaceTempView(\"customer_orders\")\n",
        "\n",
        "spark.sql(\"SELECT * FROM customer_orders\").show()"
      ],
      "metadata": {
        "colab": {
          "base_uri": "https://localhost:8080/"
        },
        "id": "66UAC4KmOn8D",
        "outputId": "c4a7c359-a6fc-4884-e262-fa7fc7355f30"
      },
      "execution_count": 47,
      "outputs": [
        {
          "output_type": "stream",
          "name": "stdout",
          "text": [
            "+-------+-----+---------+------------+\n",
            "|OrderID| Name|  Product|Total Amount|\n",
            "+-------+-----+---------+------------+\n",
            "|      1|  Ali|   Laptop|    100000.0|\n",
            "|      2|  Ali|    Mouse|      1200.0|\n",
            "|      3| Neha|   Tablet|     20000.0|\n",
            "|      4| Ravi|Bookshelf|      3500.0|\n",
            "|      5|Sneha|    Mixer|      5000.0|\n",
            "|      6| Amit| Notebook|      2500.0|\n",
            "|      7| Neha|    Phone|     30000.0|\n",
            "+-------+-----+---------+------------+\n",
            "\n"
          ]
        }
      ]
    },
    {
      "cell_type": "code",
      "source": [
        "# 11. Query the view for products ordered after Feb 2024.\n",
        "spark.sql(\"\"\"\n",
        "  SELECT * FROM customer_orders\n",
        "  WHERE OrderID IN (SELECT OrderID FROM orders\n",
        "  WHERE OrderDate > DATE('2024-02-28'))\n",
        "\"\"\").show()"
      ],
      "metadata": {
        "colab": {
          "base_uri": "https://localhost:8080/"
        },
        "id": "vg6wD07CPieh",
        "outputId": "b032133f-f19f-4399-8242-3e2a5ab95200"
      },
      "execution_count": 49,
      "outputs": [
        {
          "output_type": "stream",
          "name": "stdout",
          "text": [
            "+-------+----+--------+------------+\n",
            "|OrderID|Name| Product|Total Amount|\n",
            "+-------+----+--------+------------+\n",
            "|      6|Amit|Notebook|      2500.0|\n",
            "|      7|Neha|   Phone|     30000.0|\n",
            "+-------+----+--------+------------+\n",
            "\n"
          ]
        }
      ]
    },
    {
      "cell_type": "markdown",
      "source": [
        "# **Advanced Practice**"
      ],
      "metadata": {
        "id": "6xvZUsY5RO8O"
      }
    },
    {
      "cell_type": "code",
      "source": [
        "# 12. Create a Global Temp View from customers_df , then query it using:\n",
        "customers_df.createOrReplaceGlobalTempView(\"customer_global\")\n",
        "\n",
        "spark.sql(\"\"\"\n",
        "  SELECT * FROM global_temp.customer_global\n",
        "  WHERE City = 'mumbai'\n",
        "\"\"\").show()"
      ],
      "metadata": {
        "colab": {
          "base_uri": "https://localhost:8080/"
        },
        "id": "qpCtEHFeQftH",
        "outputId": "cac121e3-5537-483c-d71c-2bd9abd21aa1"
      },
      "execution_count": 51,
      "outputs": [
        {
          "output_type": "stream",
          "name": "stdout",
          "text": [
            "+----------+----+-------------+------+----------+\n",
            "|CustomerID|Name|        Email|  City|SignupDate|\n",
            "+----------+----+-------------+------+----------+\n",
            "|       101| Ali|ali@gmail.com|mumbai|2022-05-10|\n",
            "+----------+----+-------------+------+----------+\n",
            "\n"
          ]
        }
      ]
    },
    {
      "cell_type": "code",
      "source": [
        "# 13. Save the transformed orders_df (with TotalAmount) to a Parquet file.\n",
        "orders_df.write.mode(\"overwrite\").parquet(\"orders_parquet\")"
      ],
      "metadata": {
        "id": "O-vAVxO2R2v9"
      },
      "execution_count": 71,
      "outputs": []
    },
    {
      "cell_type": "code",
      "source": [
        "# 14. Read back the Parquet file and count how many orders are in it.\n",
        "orders_parquet = spark.read.parquet(\"/content/orders_parquet\")\n",
        "print(f\"Orders -> {orders_parquet.count()}\")"
      ],
      "metadata": {
        "colab": {
          "base_uri": "https://localhost:8080/"
        },
        "id": "Vsc2ALNSSjc4",
        "outputId": "bfa94d04-fdc9-4e51-d87c-d52b736a9519"
      },
      "execution_count": 75,
      "outputs": [
        {
          "output_type": "stream",
          "name": "stdout",
          "text": [
            "Orders -> 7\n"
          ]
        }
      ]
    },
    {
      "cell_type": "markdown",
      "source": [
        "# **UDF + Build-in Function Tasks**"
      ],
      "metadata": {
        "id": "2O8F2YUCTNBK"
      }
    },
    {
      "cell_type": "code",
      "source": [
        "# 15. Write a UDF that masks emails like: ali@gmail.com → a***@gmail.com .\n",
        "def email_masker(email):\n",
        "  emailLen = len(email)\n",
        "  astricks = emailLen - 11\n",
        "  return email[0] + (\"*\" * astricks) + \"@gmail.com\"\n",
        "\n",
        "spark.udf.register(\"email_masker\", email_masker)\n",
        "\n",
        "spark.sql(\"SELECT Name, email_masker(Email) AS `EMail`, City, SignupDate FROM customers\").show()"
      ],
      "metadata": {
        "colab": {
          "base_uri": "https://localhost:8080/"
        },
        "id": "po42aQlTS8T2",
        "outputId": "e943f605-f915-4892-fce9-84c9533bba1f"
      },
      "execution_count": 84,
      "outputs": [
        {
          "output_type": "stream",
          "name": "stdout",
          "text": [
            "+-----+-----------------+---------+----------+\n",
            "| Name|            EMail|     City|SignupDate|\n",
            "+-----+-----------------+---------+----------+\n",
            "| Ravi| r*****@gmail.com|Bangalore|2021-11-01|\n",
            "|Sneha|s******@gmail.com|Hyderabad|2020-07-22|\n",
            "| Amit|   a***@gmail.com|  Chennai|2023-03-10|\n",
            "|  Ali|    a**@gmail.com|   Mumbai|2022-05-10|\n",
            "| Neha|   n***@gmail.com|    Delhi|2023-01-15|\n",
            "+-----+-----------------+---------+----------+\n",
            "\n"
          ]
        }
      ]
    },
    {
      "cell_type": "code",
      "source": [
        "# 16. Use concat_ws() to create a full label like: 'Ali from Mumbai' .\n",
        "spark.sql(\"SELECT CONCAT_WS(' ', Name, 'from', City) AS `CustomerInfo` FROM customers\").show()"
      ],
      "metadata": {
        "colab": {
          "base_uri": "https://localhost:8080/"
        },
        "id": "dcsrlHAqVZ44",
        "outputId": "4f9c0c6a-401d-4c6d-f73f-e182c29fb7d9"
      },
      "execution_count": 88,
      "outputs": [
        {
          "output_type": "stream",
          "name": "stdout",
          "text": [
            "+--------------------+\n",
            "|        CustomerInfo|\n",
            "+--------------------+\n",
            "| Ravi from Bangalore|\n",
            "|Sneha from Hyderabad|\n",
            "|   Amit from Chennai|\n",
            "|     Ali from Mumbai|\n",
            "|     Neha from Delhi|\n",
            "+--------------------+\n",
            "\n"
          ]
        }
      ]
    },
    {
      "cell_type": "code",
      "source": [
        "# 17. Use regexp_replace() to remove special characters from product names.\n",
        "spark.sql(\"SELECT REGEXP_REPLACE(Product, '[^a-zA-Z0-9 ]', '') AS `Product` FROM orders\").show()"
      ],
      "metadata": {
        "colab": {
          "base_uri": "https://localhost:8080/"
        },
        "id": "ksjFB4ksW9dW",
        "outputId": "8c5b58bb-dbb7-41d3-ab26-c204c208ea3f"
      },
      "execution_count": 91,
      "outputs": [
        {
          "output_type": "stream",
          "name": "stdout",
          "text": [
            "+---------+\n",
            "|  Product|\n",
            "+---------+\n",
            "|   Laptop|\n",
            "|    Mouse|\n",
            "|   Tablet|\n",
            "|Bookshelf|\n",
            "|    Mixer|\n",
            "| Notebook|\n",
            "|    Phone|\n",
            "+---------+\n",
            "\n"
          ]
        }
      ]
    },
    {
      "cell_type": "code",
      "source": [
        "# 18. Use to_date() and datediff() to calculate customer age in days (from SignupDate to today).\n",
        "spark.sql(\"\"\"\n",
        "  SELECT Name, Email, City, SignupDate, INT((DATEDIFF(CURRENT_DATE, TO_DATE(SignupDate, 'yyyy-MM-dd'))) / 365) AS CustomerAge FROM customers\n",
        "\"\"\").show()"
      ],
      "metadata": {
        "colab": {
          "base_uri": "https://localhost:8080/"
        },
        "id": "mYGheK9VXrds",
        "outputId": "f160efeb-8606-49cb-a005-47d174f51c10"
      },
      "execution_count": 97,
      "outputs": [
        {
          "output_type": "stream",
          "name": "stdout",
          "text": [
            "+-----+-----------------+---------+----------+-----------+\n",
            "| Name|            Email|     City|SignupDate|CustomerAge|\n",
            "+-----+-----------------+---------+----------+-----------+\n",
            "| Ravi| ravi@hotmail.com|Bangalore|2021-11-01|          3|\n",
            "|Sneha|sneha@outlook.com|Hyderabad|2020-07-22|          4|\n",
            "| Amit|   amit@gmail.com|  Chennai|2023-03-10|          2|\n",
            "|  Ali|    ali@gmail.com|   Mumbai|2022-05-10|          3|\n",
            "| Neha|   neha@yahoo.com|    Delhi|2023-01-15|          2|\n",
            "+-----+-----------------+---------+----------+-----------+\n",
            "\n"
          ]
        }
      ]
    },
    {
      "cell_type": "code",
      "source": [],
      "metadata": {
        "id": "rpJFj-R_Y5sB"
      },
      "execution_count": null,
      "outputs": []
    }
  ]
}