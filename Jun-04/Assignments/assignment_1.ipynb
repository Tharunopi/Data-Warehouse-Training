{
  "nbformat": 4,
  "nbformat_minor": 0,
  "metadata": {
    "colab": {
      "provenance": []
    },
    "kernelspec": {
      "name": "python3",
      "display_name": "Python 3"
    },
    "language_info": {
      "name": "python"
    }
  },
  "cells": [
    {
      "cell_type": "code",
      "execution_count": 1,
      "metadata": {
        "id": "NfY9Euvs8mI0"
      },
      "outputs": [],
      "source": [
        "from pyspark.sql import SparkSession, Row\n",
        "from pyspark.sql import functions as F\n",
        "import pandas as pd\n",
        "from io import StringIO\n",
        "from pyspark.sql.types import StringType"
      ]
    },
    {
      "cell_type": "code",
      "source": [
        "spark = SparkSession.builder.appName(\"deo\").getOrCreate()"
      ],
      "metadata": {
        "id": "c1L5DsDg9BSB"
      },
      "execution_count": 2,
      "outputs": []
    },
    {
      "cell_type": "code",
      "source": [
        "spark"
      ],
      "metadata": {
        "colab": {
          "base_uri": "https://localhost:8080/",
          "height": 219
        },
        "id": "HYfdzNtL9Hli",
        "outputId": "dd59f70e-3b1b-442b-c372-f737f9c8bdf9"
      },
      "execution_count": 3,
      "outputs": [
        {
          "output_type": "execute_result",
          "data": {
            "text/plain": [
              "<pyspark.sql.session.SparkSession at 0x7b50a3bea950>"
            ],
            "text/html": [
              "\n",
              "            <div>\n",
              "                <p><b>SparkSession - in-memory</b></p>\n",
              "                \n",
              "        <div>\n",
              "            <p><b>SparkContext</b></p>\n",
              "\n",
              "            <p><a href=\"http://2d5b504e2d35:4040\">Spark UI</a></p>\n",
              "\n",
              "            <dl>\n",
              "              <dt>Version</dt>\n",
              "                <dd><code>v3.5.1</code></dd>\n",
              "              <dt>Master</dt>\n",
              "                <dd><code>local[*]</code></dd>\n",
              "              <dt>AppName</dt>\n",
              "                <dd><code>deo</code></dd>\n",
              "            </dl>\n",
              "        </div>\n",
              "        \n",
              "            </div>\n",
              "        "
            ]
          },
          "metadata": {},
          "execution_count": 3
        }
      ]
    },
    {
      "cell_type": "markdown",
      "source": [
        "# **Database and Table Tasks**"
      ],
      "metadata": {
        "id": "G1d8sjd4eySC"
      }
    },
    {
      "cell_type": "code",
      "source": [
        "# 1. Create a new database named sales_db .\n",
        "spark.sql(\"CREATE DATABASE IF NOT EXISTS sales_db\")"
      ],
      "metadata": {
        "colab": {
          "base_uri": "https://localhost:8080/"
        },
        "id": "APIhJ6YeXJGS",
        "outputId": "3228fb18-c6c0-4635-e22a-d6488bd586fe"
      },
      "execution_count": 4,
      "outputs": [
        {
          "output_type": "execute_result",
          "data": {
            "text/plain": [
              "DataFrame[]"
            ]
          },
          "metadata": {},
          "execution_count": 4
        }
      ]
    },
    {
      "cell_type": "code",
      "source": [
        "# 2. Set the current database to sales_db .\n",
        "spark.sql(\"USE sales_db\")"
      ],
      "metadata": {
        "colab": {
          "base_uri": "https://localhost:8080/"
        },
        "id": "m6jqsxjmfDX8",
        "outputId": "b2d1535a-5cb5-4638-c296-2f7615b25d12"
      },
      "execution_count": 5,
      "outputs": [
        {
          "output_type": "execute_result",
          "data": {
            "text/plain": [
              "DataFrame[]"
            ]
          },
          "metadata": {},
          "execution_count": 5
        }
      ]
    },
    {
      "cell_type": "code",
      "source": [
        "# 3. Create a table product_sales\n",
        "spark.sql(\"\"\"\n",
        "  CREATE TABLE IF NOT EXISTS product_sales(\n",
        "    ProductID INT,\n",
        "    ProductName VARCHAR(50),\n",
        "    Category VARCHAR(50),\n",
        "    Price DOUBLE,\n",
        "    Quantity INT,\n",
        "    SaleDate DATE\n",
        "  )\n",
        "  USING PARQUET\n",
        "\"\"\")"
      ],
      "metadata": {
        "colab": {
          "base_uri": "https://localhost:8080/"
        },
        "id": "hoJxUtp-fIUN",
        "outputId": "e9de146e-8ad6-4830-828e-e86d18bbbc71"
      },
      "execution_count": 7,
      "outputs": [
        {
          "output_type": "execute_result",
          "data": {
            "text/plain": [
              "DataFrame[]"
            ]
          },
          "metadata": {},
          "execution_count": 7
        }
      ]
    },
    {
      "cell_type": "code",
      "source": [
        "# 4. Insert at least 5 rows into product_sales .\n",
        "spark.sql(\"\"\"\n",
        "  INSERT INTO product_sales(ProductID, ProductName, Category, Price, Quantity, SaleDate)\n",
        "  VALUES\n",
        "    (1, 'Macbook Air', 'Electronics', 100000, 1, DATE('2025-06-01')),\n",
        "    (2, 'Bleach Manga', 'Books', 850, 2, DATE('2025-06-02')),\n",
        "    (3, 'Oversized Tees', 'Cloting', 600, 4,  DATE('2025-06-3')),\n",
        "    (4, 'Samsung Tab s10 Ultra', 'Electronics', 120000, 1, DATE('2025-06-04')),\n",
        "    (5, 'Nothing Ear buds', 'Electronics', 14000, 1, DATE('2025-06-05'))\n",
        "\"\"\")"
      ],
      "metadata": {
        "colab": {
          "base_uri": "https://localhost:8080/"
        },
        "id": "iJxXpixefvv_",
        "outputId": "b512c0a9-1d1e-4e85-d0a1-0c9617b3be0d"
      },
      "execution_count": 21,
      "outputs": [
        {
          "output_type": "execute_result",
          "data": {
            "text/plain": [
              "DataFrame[]"
            ]
          },
          "metadata": {},
          "execution_count": 21
        }
      ]
    },
    {
      "cell_type": "markdown",
      "source": [
        "# **Query Tasks**"
      ],
      "metadata": {
        "id": "OTON7R_Hhotz"
      }
    },
    {
      "cell_type": "code",
      "source": [
        "# 5. Select all records from product_sales .\n",
        "spark.sql(\"SELECT * FROM product_sales\").show()"
      ],
      "metadata": {
        "colab": {
          "base_uri": "https://localhost:8080/"
        },
        "id": "mhlMcqgCg4Xm",
        "outputId": "d6539cdb-4bef-439d-959e-ec5f68356459"
      },
      "execution_count": 22,
      "outputs": [
        {
          "output_type": "stream",
          "name": "stdout",
          "text": [
            "+---------+--------------------+-----------+--------+--------+----------+\n",
            "|ProductID|         ProductName|   Category|   Price|Quantity|  SaleDate|\n",
            "+---------+--------------------+-----------+--------+--------+----------+\n",
            "|        3|      Oversized Tees|    Cloting|   600.0|       4|2025-06-03|\n",
            "|        4|Samsung Tab s10 U...|Electronics|120000.0|       1|2025-06-04|\n",
            "|        5|    Nothing Ear buds|Electronics| 14000.0|       1|2025-06-05|\n",
            "|        1|         Macbook Air|Electronics|100000.0|       1|2025-06-01|\n",
            "|        2|        Bleach Manga|      Books|   850.0|       2|2025-06-02|\n",
            "+---------+--------------------+-----------+--------+--------+----------+\n",
            "\n"
          ]
        }
      ]
    },
    {
      "cell_type": "code",
      "source": [
        "# 6. Retrieve products where price is above 500.\n",
        "spark.sql(\"\"\"\n",
        "  SELECT * FROM product_sales\n",
        "  WHERE Price >= 500\n",
        "\"\"\").show()"
      ],
      "metadata": {
        "colab": {
          "base_uri": "https://localhost:8080/"
        },
        "id": "-VYts54KhyB7",
        "outputId": "7c57253c-0728-4b9d-ba20-f15ceef3476f"
      },
      "execution_count": 23,
      "outputs": [
        {
          "output_type": "stream",
          "name": "stdout",
          "text": [
            "+---------+--------------------+-----------+--------+--------+----------+\n",
            "|ProductID|         ProductName|   Category|   Price|Quantity|  SaleDate|\n",
            "+---------+--------------------+-----------+--------+--------+----------+\n",
            "|        3|      Oversized Tees|    Cloting|   600.0|       4|2025-06-03|\n",
            "|        4|Samsung Tab s10 U...|Electronics|120000.0|       1|2025-06-04|\n",
            "|        5|    Nothing Ear buds|Electronics| 14000.0|       1|2025-06-05|\n",
            "|        1|         Macbook Air|Electronics|100000.0|       1|2025-06-01|\n",
            "|        2|        Bleach Manga|      Books|   850.0|       2|2025-06-02|\n",
            "+---------+--------------------+-----------+--------+--------+----------+\n",
            "\n"
          ]
        }
      ]
    },
    {
      "cell_type": "code",
      "source": [
        "# 7. Calculate total sale amount ( Price * Quantity ) for each product.\n",
        "\n",
        "spark.sql(\"\"\"\n",
        "  SELECT *, (Price * Quantity) AS TotalSaleAmt FROM product_sales\n",
        "\"\"\").show()"
      ],
      "metadata": {
        "colab": {
          "base_uri": "https://localhost:8080/"
        },
        "id": "fersZWVzjE-x",
        "outputId": "7092a615-188c-42e7-a36c-d0b5d4a0c3ef"
      },
      "execution_count": 25,
      "outputs": [
        {
          "output_type": "stream",
          "name": "stdout",
          "text": [
            "+---------+--------------------+-----------+--------+--------+----------+------------+\n",
            "|ProductID|         ProductName|   Category|   Price|Quantity|  SaleDate|TotalSaleAmt|\n",
            "+---------+--------------------+-----------+--------+--------+----------+------------+\n",
            "|        3|      Oversized Tees|    Cloting|   600.0|       4|2025-06-03|      2400.0|\n",
            "|        4|Samsung Tab s10 U...|Electronics|120000.0|       1|2025-06-04|    120000.0|\n",
            "|        5|    Nothing Ear buds|Electronics| 14000.0|       1|2025-06-05|     14000.0|\n",
            "|        1|         Macbook Air|Electronics|100000.0|       1|2025-06-01|    100000.0|\n",
            "|        2|        Bleach Manga|      Books|   850.0|       2|2025-06-02|      1700.0|\n",
            "+---------+--------------------+-----------+--------+--------+----------+------------+\n",
            "\n"
          ]
        }
      ]
    },
    {
      "cell_type": "code",
      "source": [
        "# 8. Find the number of products sold in each Category .\n",
        "spark.sql(\"\"\"\n",
        "  SELECT Category, SUM(Quantity) FROM product_sales\n",
        "  GROUP BY Category\n",
        "\"\"\").show()"
      ],
      "metadata": {
        "colab": {
          "base_uri": "https://localhost:8080/"
        },
        "id": "wkmpnpotjs_K",
        "outputId": "7f5aa855-a0dd-4976-bd2b-7543e19ae5e2"
      },
      "execution_count": 26,
      "outputs": [
        {
          "output_type": "stream",
          "name": "stdout",
          "text": [
            "+-----------+-------------+\n",
            "|   Category|sum(Quantity)|\n",
            "+-----------+-------------+\n",
            "|    Cloting|            4|\n",
            "|Electronics|            3|\n",
            "|      Books|            2|\n",
            "+-----------+-------------+\n",
            "\n"
          ]
        }
      ]
    },
    {
      "cell_type": "code",
      "source": [
        "# 9. Sort products by total sales in descending order.\n",
        "spark.sql(\"\"\"\n",
        "  SELECT *, (Price * Quantity) AS TotalSaleAmt FROM product_sales\n",
        "  ORDER BY TotalSaleAmt DESC\n",
        "\"\"\").show()"
      ],
      "metadata": {
        "colab": {
          "base_uri": "https://localhost:8080/"
        },
        "id": "ITkV9mTdj-Ug",
        "outputId": "649c1d7f-db11-46f3-eb6d-9d277d766e42"
      },
      "execution_count": 27,
      "outputs": [
        {
          "output_type": "stream",
          "name": "stdout",
          "text": [
            "+---------+--------------------+-----------+--------+--------+----------+------------+\n",
            "|ProductID|         ProductName|   Category|   Price|Quantity|  SaleDate|TotalSaleAmt|\n",
            "+---------+--------------------+-----------+--------+--------+----------+------------+\n",
            "|        4|Samsung Tab s10 U...|Electronics|120000.0|       1|2025-06-04|    120000.0|\n",
            "|        1|         Macbook Air|Electronics|100000.0|       1|2025-06-01|    100000.0|\n",
            "|        5|    Nothing Ear buds|Electronics| 14000.0|       1|2025-06-05|     14000.0|\n",
            "|        3|      Oversized Tees|    Cloting|   600.0|       4|2025-06-03|      2400.0|\n",
            "|        2|        Bleach Manga|      Books|   850.0|       2|2025-06-02|      1700.0|\n",
            "+---------+--------------------+-----------+--------+--------+----------+------------+\n",
            "\n"
          ]
        }
      ]
    },
    {
      "cell_type": "markdown",
      "source": [
        "# **Temporary View Tasks**"
      ],
      "metadata": {
        "id": "ZMlVzBLEkN1P"
      }
    },
    {
      "cell_type": "code",
      "source": [
        "# 10. Create a PySpark DataFrame with dummy product data.\n",
        "df = spark.table(\"product_sales\")\n",
        "df.show()"
      ],
      "metadata": {
        "colab": {
          "base_uri": "https://localhost:8080/"
        },
        "id": "6YhioVEQkKBa",
        "outputId": "7ac31c85-726c-4dd9-e313-b7eaedddd11f"
      },
      "execution_count": 30,
      "outputs": [
        {
          "output_type": "stream",
          "name": "stdout",
          "text": [
            "+---------+--------------------+-----------+--------+--------+----------+\n",
            "|ProductID|         ProductName|   Category|   Price|Quantity|  SaleDate|\n",
            "+---------+--------------------+-----------+--------+--------+----------+\n",
            "|        3|      Oversized Tees|    Cloting|   600.0|       4|2025-06-03|\n",
            "|        4|Samsung Tab s10 U...|Electronics|120000.0|       1|2025-06-04|\n",
            "|        5|    Nothing Ear buds|Electronics| 14000.0|       1|2025-06-05|\n",
            "|        1|         Macbook Air|Electronics|100000.0|       1|2025-06-01|\n",
            "|        2|        Bleach Manga|      Books|   850.0|       2|2025-06-02|\n",
            "+---------+--------------------+-----------+--------+--------+----------+\n",
            "\n"
          ]
        }
      ]
    },
    {
      "cell_type": "code",
      "source": [
        "# 11. Register it as a temporary view called temp_orders .\n",
        "df.createOrReplaceTempView(\"temp_orders\")\n",
        "\n",
        "spark.sql(\"SELECT * FROM temp_orders\").show()"
      ],
      "metadata": {
        "colab": {
          "base_uri": "https://localhost:8080/"
        },
        "id": "JBAd8YccmGY0",
        "outputId": "972ac23d-3716-4b1b-dfaf-d5c6649f3f8e"
      },
      "execution_count": 31,
      "outputs": [
        {
          "output_type": "stream",
          "name": "stdout",
          "text": [
            "+---------+--------------------+-----------+--------+--------+----------+\n",
            "|ProductID|         ProductName|   Category|   Price|Quantity|  SaleDate|\n",
            "+---------+--------------------+-----------+--------+--------+----------+\n",
            "|        3|      Oversized Tees|    Cloting|   600.0|       4|2025-06-03|\n",
            "|        4|Samsung Tab s10 U...|Electronics|120000.0|       1|2025-06-04|\n",
            "|        5|    Nothing Ear buds|Electronics| 14000.0|       1|2025-06-05|\n",
            "|        1|         Macbook Air|Electronics|100000.0|       1|2025-06-01|\n",
            "|        2|        Bleach Manga|      Books|   850.0|       2|2025-06-02|\n",
            "+---------+--------------------+-----------+--------+--------+----------+\n",
            "\n"
          ]
        }
      ]
    },
    {
      "cell_type": "code",
      "source": [
        "# 12. Run a SQL query to filter temp_orders where quantity > 1.\n",
        "spark.sql(\"\"\"\n",
        "  SELECT * FROM temp_orders\n",
        "  WHERE Quantity > 1\n",
        "\"\"\").show()"
      ],
      "metadata": {
        "colab": {
          "base_uri": "https://localhost:8080/"
        },
        "id": "pJBxP-RGmVvH",
        "outputId": "adfc7dea-a601-4efd-a299-27e4866a9ba2"
      },
      "execution_count": 33,
      "outputs": [
        {
          "output_type": "stream",
          "name": "stdout",
          "text": [
            "+---------+--------------+--------+-----+--------+----------+\n",
            "|ProductID|   ProductName|Category|Price|Quantity|  SaleDate|\n",
            "+---------+--------------+--------+-----+--------+----------+\n",
            "|        3|Oversized Tees| Cloting|600.0|       4|2025-06-03|\n",
            "|        2|  Bleach Manga|   Books|850.0|       2|2025-06-02|\n",
            "+---------+--------------+--------+-----+--------+----------+\n",
            "\n"
          ]
        }
      ]
    },
    {
      "cell_type": "markdown",
      "source": [
        "# **Global View Tasks**"
      ],
      "metadata": {
        "id": "AuXLv8dGmqQO"
      }
    },
    {
      "cell_type": "code",
      "source": [
        "# 13. Create a global temp view from a PySpark DataFrame named global_orders .\n",
        "df_2 = spark.table(\"product_sales\")\n",
        "df_2.createOrReplaceGlobalTempView(\"global_orders\")\n",
        "\n",
        "spark.sql(\"SELECT * FROM global_temp.global_orders\").show()"
      ],
      "metadata": {
        "colab": {
          "base_uri": "https://localhost:8080/"
        },
        "id": "6SiIuFE4mmvh",
        "outputId": "4a640b32-da4e-40ff-a6b6-51590c3199ed"
      },
      "execution_count": 35,
      "outputs": [
        {
          "output_type": "stream",
          "name": "stdout",
          "text": [
            "+---------+--------------------+-----------+--------+--------+----------+\n",
            "|ProductID|         ProductName|   Category|   Price|Quantity|  SaleDate|\n",
            "+---------+--------------------+-----------+--------+--------+----------+\n",
            "|        3|      Oversized Tees|    Cloting|   600.0|       4|2025-06-03|\n",
            "|        4|Samsung Tab s10 U...|Electronics|120000.0|       1|2025-06-04|\n",
            "|        5|    Nothing Ear buds|Electronics| 14000.0|       1|2025-06-05|\n",
            "|        1|         Macbook Air|Electronics|100000.0|       1|2025-06-01|\n",
            "|        2|        Bleach Manga|      Books|   850.0|       2|2025-06-02|\n",
            "+---------+--------------------+-----------+--------+--------+----------+\n",
            "\n"
          ]
        }
      ]
    },
    {
      "cell_type": "code",
      "source": [
        "# 14. Run a SQL query on the global view from another notebook cell/session.\n",
        "spark_2 = SparkSession.builder.appName(\"session-2\").getOrCreate()\n",
        "spark_2.sql(\"SELECT * FROM global_temp.global_orders\").show()"
      ],
      "metadata": {
        "colab": {
          "base_uri": "https://localhost:8080/"
        },
        "id": "nqibPJ5lnPWL",
        "outputId": "5c79d66a-1191-4ff8-845d-d7d815506466"
      },
      "execution_count": 38,
      "outputs": [
        {
          "output_type": "stream",
          "name": "stdout",
          "text": [
            "+---------+--------------------+-----------+--------+--------+----------+\n",
            "|ProductID|         ProductName|   Category|   Price|Quantity|  SaleDate|\n",
            "+---------+--------------------+-----------+--------+--------+----------+\n",
            "|        3|      Oversized Tees|    Cloting|   600.0|       4|2025-06-03|\n",
            "|        4|Samsung Tab s10 U...|Electronics|120000.0|       1|2025-06-04|\n",
            "|        5|    Nothing Ear buds|Electronics| 14000.0|       1|2025-06-05|\n",
            "|        1|         Macbook Air|Electronics|100000.0|       1|2025-06-01|\n",
            "|        2|        Bleach Manga|      Books|   850.0|       2|2025-06-02|\n",
            "+---------+--------------------+-----------+--------+--------+----------+\n",
            "\n"
          ]
        }
      ]
    },
    {
      "cell_type": "markdown",
      "source": [
        "# **Join Tasks**"
      ],
      "metadata": {
        "id": "1s6qRmLgnses"
      }
    },
    {
      "cell_type": "code",
      "source": [
        "# 15. Create a second table customer_details with: CustomerID , Name , Gender , City , SignupDate\n",
        "spark.sql(\"\"\"\n",
        "  CREATE TABLE IF NOT EXISTS customer_details(\n",
        "    CustomerID INT,\n",
        "    Name VARCHAR(50),\n",
        "    Gender VARCHAR(20),\n",
        "    City VARCHAR(40),\n",
        "    SignupDate DATE\n",
        "  )\n",
        "  USING PARQUET\n",
        "\"\"\")"
      ],
      "metadata": {
        "colab": {
          "base_uri": "https://localhost:8080/"
        },
        "id": "Ag-NqGafngR0",
        "outputId": "2b2041a8-27d3-4d8f-a965-307bb5d622a7"
      },
      "execution_count": 41,
      "outputs": [
        {
          "output_type": "execute_result",
          "data": {
            "text/plain": [
              "DataFrame[]"
            ]
          },
          "metadata": {},
          "execution_count": 41
        }
      ]
    },
    {
      "cell_type": "code",
      "source": [
        "# 16. Insert at least 3 records into customer_details .\n",
        "spark.sql(\"\"\"\n",
        "  INSERT INTO customer_details (CustomerID, Name, Gender, City, SignupDate)\n",
        "  VALUES\n",
        "    (1, 'Tharun', 'Male', 'Chennai', DATE('2025-05-01')),\n",
        "    (2, 'Eren', 'Male', 'Tokoyo', DATE('2025-05-03')),\n",
        "    (3, 'Walter White', 'Male', 'Texas', DATE('2025-05-05'))\n",
        "\"\"\")\n"
      ],
      "metadata": {
        "colab": {
          "base_uri": "https://localhost:8080/"
        },
        "id": "RnyWTWtTops4",
        "outputId": "87c3fa32-a013-4d22-a9c6-bcf623512447"
      },
      "execution_count": 42,
      "outputs": [
        {
          "output_type": "execute_result",
          "data": {
            "text/plain": [
              "DataFrame[]"
            ]
          },
          "metadata": {},
          "execution_count": 42
        }
      ]
    },
    {
      "cell_type": "code",
      "source": [
        "# 17. Write a SQL join between product_sales and customer_details based on ProductID = CustomerID (simulate a match).\n",
        "spark.sql(\"\"\"\n",
        "  SELECT * FROM product_sales p\n",
        "  INNER JOIN customer_details c\n",
        "  ON p.ProductID = c.CustomerID\n",
        "\"\"\").show()"
      ],
      "metadata": {
        "colab": {
          "base_uri": "https://localhost:8080/"
        },
        "id": "bDmnvMO2pLF-",
        "outputId": "83a77f7a-38e7-4f6b-bdcb-f871e5f0a63f"
      },
      "execution_count": 43,
      "outputs": [
        {
          "output_type": "stream",
          "name": "stdout",
          "text": [
            "+---------+--------------+-----------+--------+--------+----------+----------+------------+------+-------+----------+\n",
            "|ProductID|   ProductName|   Category|   Price|Quantity|  SaleDate|CustomerID|        Name|Gender|   City|SignupDate|\n",
            "+---------+--------------+-----------+--------+--------+----------+----------+------------+------+-------+----------+\n",
            "|        3|Oversized Tees|    Cloting|   600.0|       4|2025-06-03|         3|Walter White|  Male|  Texas|2025-05-05|\n",
            "|        1|   Macbook Air|Electronics|100000.0|       1|2025-06-01|         1|      Tharun|  Male|Chennai|2025-05-01|\n",
            "|        2|  Bleach Manga|      Books|   850.0|       2|2025-06-02|         2|        Eren|  Male| Tokoyo|2025-05-03|\n",
            "+---------+--------------+-----------+--------+--------+----------+----------+------------+------+-------+----------+\n",
            "\n"
          ]
        }
      ]
    },
    {
      "cell_type": "code",
      "source": [
        "# 18. List customers who bought more than 2 products.\n",
        "spark.sql(\"\"\"\n",
        "  SELECT c.Name FROM product_sales p\n",
        "  INNER JOIN customer_details c\n",
        "  ON p.ProductID = c.CustomerID\n",
        "  WHERE p.Quantity > 2\n",
        "\"\"\").show()"
      ],
      "metadata": {
        "colab": {
          "base_uri": "https://localhost:8080/"
        },
        "id": "JI5MUmO0pkxx",
        "outputId": "f1edbe4f-8ca1-49bc-8a0c-65ef8b367cfb"
      },
      "execution_count": 44,
      "outputs": [
        {
          "output_type": "stream",
          "name": "stdout",
          "text": [
            "+------------+\n",
            "|        Name|\n",
            "+------------+\n",
            "|Walter White|\n",
            "+------------+\n",
            "\n"
          ]
        }
      ]
    },
    {
      "cell_type": "markdown",
      "source": [
        "# **View and Summary Tasks**"
      ],
      "metadata": {
        "id": "LFAtK5nRp6VD"
      }
    },
    {
      "cell_type": "code",
      "source": [
        "# 19. Create a SQL view sales_summary that includes: ProductName , Price , Quantity , Total = Price * Quantity\n",
        "df_3 = spark.sql(\"\"\"\n",
        "  SELECT ProductName, Price, Quantity, (Price * Quantity) AS Total FROM product_sales\n",
        "\"\"\")\n",
        "df_3.createTempView(\"sales_summary\")\n",
        "\n",
        "spark.sql(\"SELECT * FROM sales_summary\").show()"
      ],
      "metadata": {
        "colab": {
          "base_uri": "https://localhost:8080/"
        },
        "id": "YqDbRwNFp90X",
        "outputId": "afddbba9-4f7c-4994-8722-d22704e26ebe"
      },
      "execution_count": 47,
      "outputs": [
        {
          "output_type": "stream",
          "name": "stdout",
          "text": [
            "+--------------------+--------+--------+--------+\n",
            "|         ProductName|   Price|Quantity|   Total|\n",
            "+--------------------+--------+--------+--------+\n",
            "|      Oversized Tees|   600.0|       4|  2400.0|\n",
            "|Samsung Tab s10 U...|120000.0|       1|120000.0|\n",
            "|    Nothing Ear buds| 14000.0|       1| 14000.0|\n",
            "|         Macbook Air|100000.0|       1|100000.0|\n",
            "|        Bleach Manga|   850.0|       2|  1700.0|\n",
            "+--------------------+--------+--------+--------+\n",
            "\n"
          ]
        }
      ]
    },
    {
      "cell_type": "code",
      "source": [
        "# 20. Query the view for records with Total > 1000 .\n",
        "spark.sql(\"\"\"\n",
        "  SELECT * FROM sales_summary\n",
        "  WHERE Total > 1000\n",
        "  \"\"\").show()"
      ],
      "metadata": {
        "colab": {
          "base_uri": "https://localhost:8080/"
        },
        "id": "yjbubjbOqgeO",
        "outputId": "8755b7d3-4147-47ba-e39f-2c3177592331"
      },
      "execution_count": 48,
      "outputs": [
        {
          "output_type": "stream",
          "name": "stdout",
          "text": [
            "+--------------------+--------+--------+--------+\n",
            "|         ProductName|   Price|Quantity|   Total|\n",
            "+--------------------+--------+--------+--------+\n",
            "|      Oversized Tees|   600.0|       4|  2400.0|\n",
            "|Samsung Tab s10 U...|120000.0|       1|120000.0|\n",
            "|    Nothing Ear buds| 14000.0|       1| 14000.0|\n",
            "|         Macbook Air|100000.0|       1|100000.0|\n",
            "|        Bleach Manga|   850.0|       2|  1700.0|\n",
            "+--------------------+--------+--------+--------+\n",
            "\n"
          ]
        }
      ]
    },
    {
      "cell_type": "markdown",
      "source": [
        "# **Cleanup Tasks**"
      ],
      "metadata": {
        "id": "fY4phDH0rAw8"
      }
    },
    {
      "cell_type": "code",
      "source": [
        "# 21. Drop the view sales_summary .\n",
        "spark.catalog.dropTempView(\"sales_summary\")"
      ],
      "metadata": {
        "colab": {
          "base_uri": "https://localhost:8080/"
        },
        "id": "jEQ0VSc5q_p9",
        "outputId": "a474dd94-f311-40d0-c0d6-a073a2592920"
      },
      "execution_count": 52,
      "outputs": [
        {
          "output_type": "execute_result",
          "data": {
            "text/plain": [
              "True"
            ]
          },
          "metadata": {},
          "execution_count": 52
        }
      ]
    },
    {
      "cell_type": "code",
      "source": [
        "# 22. Drop the tables product_sales and customer_details .\n",
        "spark.sql(\"DROP TABLE IF EXISTS product_sales\")\n",
        "spark.sql(\"DROP TABLE IF EXISTS customer_details\")"
      ],
      "metadata": {
        "colab": {
          "base_uri": "https://localhost:8080/"
        },
        "id": "yWupSg9srVR7",
        "outputId": "2fbf3616-4eb6-4724-e238-e176f905b68f"
      },
      "execution_count": 54,
      "outputs": [
        {
          "output_type": "execute_result",
          "data": {
            "text/plain": [
              "DataFrame[]"
            ]
          },
          "metadata": {},
          "execution_count": 54
        }
      ]
    },
    {
      "cell_type": "code",
      "source": [
        "# 23. Drop the database sales_db .\n",
        "spark.sql(\"DROP DATABASE IF EXISTS sales_db\")"
      ],
      "metadata": {
        "colab": {
          "base_uri": "https://localhost:8080/"
        },
        "id": "ONVvns8HrtjJ",
        "outputId": "fedc706f-7b8d-4094-ffec-8a3a7908c584"
      },
      "execution_count": 55,
      "outputs": [
        {
          "output_type": "execute_result",
          "data": {
            "text/plain": [
              "DataFrame[]"
            ]
          },
          "metadata": {},
          "execution_count": 55
        }
      ]
    },
    {
      "cell_type": "code",
      "source": [],
      "metadata": {
        "id": "wCumvSPSr_Yd"
      },
      "execution_count": null,
      "outputs": []
    }
  ]
}