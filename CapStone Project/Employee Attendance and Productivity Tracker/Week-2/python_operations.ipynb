{
 "cells": [
  {
   "cell_type": "code",
   "execution_count": 1,
   "id": "e258e1ae",
   "metadata": {},
   "outputs": [],
   "source": [
    "import pandas as pd\n",
    "import numpy as np"
   ]
  },
  {
   "cell_type": "code",
   "execution_count": 2,
   "id": "8b42ad70",
   "metadata": {},
   "outputs": [],
   "source": [
    "dfAttendance = pd.read_csv(r\"C:\\Stack overflow\\Data-Warehouse-Training\\CapStone Project\\Employee Attendance and Productivity Tracker\\Week-2\\attendance.csv\")\n",
    "dfTasks = pd.read_csv(r\"C:\\Stack overflow\\Data-Warehouse-Training\\CapStone Project\\Employee Attendance and Productivity Tracker\\Week-2\\tasks.csv\")\n",
    "dfEmpl = pd.read_csv(r\"C:\\Stack overflow\\Data-Warehouse-Training\\CapStone Project\\Employee Attendance and Productivity Tracker\\Week-2\\employees.csv\")\n"
   ]
  },
  {
   "cell_type": "code",
   "execution_count": 14,
   "id": "7935f548",
   "metadata": {},
   "outputs": [],
   "source": [
    "dfTasks = dfTasks.dropna()\n",
    "dfAttendance = dfAttendance.dropna()"
   ]
  },
  {
   "cell_type": "code",
   "execution_count": 10,
   "id": "6f877ae2",
   "metadata": {},
   "outputs": [],
   "source": [
    "df = dfAttendance.merge(dfTasks, how=\"inner\", on=\"employeeID\").merge(dfEmpl, how=\"inner\", on=\"employeeID\")\n"
   ]
  },
  {
   "cell_type": "code",
   "execution_count": 11,
   "id": "ec468683",
   "metadata": {},
   "outputs": [],
   "source": [
    "df = df.dropna()"
   ]
  },
  {
   "cell_type": "code",
   "execution_count": 12,
   "id": "c819a356",
   "metadata": {},
   "outputs": [],
   "source": [
    "df[\"workingHours\"] = round(abs((pd.to_datetime(df[\"clockIN\"]) - pd.to_datetime(df[\"clockOUT\"])).dt.total_seconds() / 3600), 2)\n",
    "df[\"productivityScore\"] = round(df[\"tasksCompeleted\"] / df[\"hoursSpent\"], 2)"
   ]
  },
  {
   "cell_type": "markdown",
   "id": "fb75a25c",
   "metadata": {},
   "source": [
    "Deliverables:-\n",
    "            cleaned attendance and task dataset\n",
    "            report of top and bottom performer"
   ]
  },
  {
   "cell_type": "code",
   "execution_count": 15,
   "id": "a1507ba2",
   "metadata": {},
   "outputs": [],
   "source": [
    "# 1. cleaned dataset\n",
    "dfAttendance.to_csv(\"cleaned_attendance.csv\")\n",
    "dfTasks.to_csv(\"cleaned_tasks.csv\")"
   ]
  },
  {
   "cell_type": "code",
   "execution_count": 17,
   "id": "f27a3628",
   "metadata": {},
   "outputs": [
    {
     "name": "stdout",
     "output_type": "stream",
     "text": [
      "Top performer: workingHours         7.97\n",
      "productivityScore    0.83\n",
      "Name: John Doe, dtype: float64\n",
      "\n",
      "Bottom performer: workingHours         8.25\n",
      "productivityScore    0.67\n",
      "Name: Jane Smith, dtype: float64\n"
     ]
    }
   ],
   "source": [
    "# 2. report of top and bottom performer\n",
    "summary = df.groupby(\"name\").agg({\"workingHours\": \"mean\", \"productivityScore\": \"mean\"}).sort_values(\"productivityScore\", ascending=False)\n",
    "print(f\"Top performer: {summary.iloc[0, :]}\\n\\nBottom performer: {summary.iloc[-1,:]}\")"
   ]
  },
  {
   "cell_type": "code",
   "execution_count": null,
   "id": "3fa6a300",
   "metadata": {},
   "outputs": [],
   "source": []
  }
 ],
 "metadata": {
  "kernelspec": {
   "display_name": "Python 3",
   "language": "python",
   "name": "python3"
  },
  "language_info": {
   "codemirror_mode": {
    "name": "ipython",
    "version": 3
   },
   "file_extension": ".py",
   "mimetype": "text/x-python",
   "name": "python",
   "nbconvert_exporter": "python",
   "pygments_lexer": "ipython3",
   "version": "3.11.4"
  }
 },
 "nbformat": 4,
 "nbformat_minor": 5
}
