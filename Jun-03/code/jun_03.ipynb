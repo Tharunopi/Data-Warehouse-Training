{
  "nbformat": 4,
  "nbformat_minor": 0,
  "metadata": {
    "colab": {
      "provenance": []
    },
    "kernelspec": {
      "name": "python3",
      "display_name": "Python 3"
    },
    "language_info": {
      "name": "python"
    }
  },
  "cells": [
    {
      "cell_type": "code",
      "execution_count": 2,
      "metadata": {
        "id": "NfY9Euvs8mI0"
      },
      "outputs": [],
      "source": [
        "from pyspark.sql import SparkSession"
      ]
    },
    {
      "cell_type": "code",
      "source": [
        "spark = SparkSession.builder.appName(\"deo\").getOrCreate()"
      ],
      "metadata": {
        "id": "c1L5DsDg9BSB"
      },
      "execution_count": 4,
      "outputs": []
    },
    {
      "cell_type": "code",
      "source": [
        "spark"
      ],
      "metadata": {
        "colab": {
          "base_uri": "https://localhost:8080/",
          "height": 219
        },
        "id": "HYfdzNtL9Hli",
        "outputId": "4e2c83fe-74e8-49b2-f120-eb4f6fee4176"
      },
      "execution_count": 5,
      "outputs": [
        {
          "output_type": "execute_result",
          "data": {
            "text/plain": [
              "<pyspark.sql.session.SparkSession at 0x7d7033adc390>"
            ],
            "text/html": [
              "\n",
              "            <div>\n",
              "                <p><b>SparkSession - in-memory</b></p>\n",
              "                \n",
              "        <div>\n",
              "            <p><b>SparkContext</b></p>\n",
              "\n",
              "            <p><a href=\"http://861ec2d60bf5:4040\">Spark UI</a></p>\n",
              "\n",
              "            <dl>\n",
              "              <dt>Version</dt>\n",
              "                <dd><code>v3.5.1</code></dd>\n",
              "              <dt>Master</dt>\n",
              "                <dd><code>local[*]</code></dd>\n",
              "              <dt>AppName</dt>\n",
              "                <dd><code>deo</code></dd>\n",
              "            </dl>\n",
              "        </div>\n",
              "        \n",
              "            </div>\n",
              "        "
            ]
          },
          "metadata": {},
          "execution_count": 5
        }
      ]
    },
    {
      "cell_type": "code",
      "source": [
        "df = spark.read.csv(\"/content/drive/MyDrive/Datasets/sales.csv\", inferSchema=True, header=True)"
      ],
      "metadata": {
        "id": "ejnNhO1g9Lbk"
      },
      "execution_count": 8,
      "outputs": []
    },
    {
      "cell_type": "code",
      "source": [
        "df.show()"
      ],
      "metadata": {
        "colab": {
          "base_uri": "https://localhost:8080/"
        },
        "id": "I2rI0uqk9RXj",
        "outputId": "b2c4cc6f-667e-4de3-f0ab-c82cb8f1b3ad"
      },
      "execution_count": 9,
      "outputs": [
        {
          "output_type": "stream",
          "name": "stdout",
          "text": [
            "+-------+--------+------+---------+----------+\n",
            "|OrderID|Customer|Amount|   Status| OrderDate|\n",
            "+-------+--------+------+---------+----------+\n",
            "|    101|    Amit|   200|Delivered|2023-01-15|\n",
            "|    102|    Neha|   450|  Pending|2023-01-20|\n",
            "|    103|    Ravi|   300|Delivered|2023-01-25|\n",
            "|    104|     Ali|   700|Cancelled|2023-01-30|\n",
            "|    105|    Sara|   250|Delivered|2023-02-10|\n",
            "+-------+--------+------+---------+----------+\n",
            "\n"
          ]
        }
      ]
    },
    {
      "cell_type": "code",
      "source": [
        "df.filter(df.Status == \"Delivered\").show()"
      ],
      "metadata": {
        "colab": {
          "base_uri": "https://localhost:8080/"
        },
        "id": "Ux4hgqs59THx",
        "outputId": "bf9c7841-a47e-4dcb-e067-b39176d4a5a6"
      },
      "execution_count": 10,
      "outputs": [
        {
          "output_type": "stream",
          "name": "stdout",
          "text": [
            "+-------+--------+------+---------+----------+\n",
            "|OrderID|Customer|Amount|   Status| OrderDate|\n",
            "+-------+--------+------+---------+----------+\n",
            "|    101|    Amit|   200|Delivered|2023-01-15|\n",
            "|    103|    Ravi|   300|Delivered|2023-01-25|\n",
            "|    105|    Sara|   250|Delivered|2023-02-10|\n",
            "+-------+--------+------+---------+----------+\n",
            "\n"
          ]
        }
      ]
    },
    {
      "cell_type": "code",
      "source": [
        "df.groupby(\"Customer\").agg({\"Amount\": \"sum\"}).show()"
      ],
      "metadata": {
        "colab": {
          "base_uri": "https://localhost:8080/"
        },
        "id": "vLXSyb_I9k0X",
        "outputId": "81439c2f-702e-486a-ebeb-cc8594129dc7"
      },
      "execution_count": 11,
      "outputs": [
        {
          "output_type": "stream",
          "name": "stdout",
          "text": [
            "+--------+-----------+\n",
            "|Customer|sum(Amount)|\n",
            "+--------+-----------+\n",
            "|    Ravi|        300|\n",
            "|    Amit|        200|\n",
            "|    Neha|        450|\n",
            "|    Sara|        250|\n",
            "|     Ali|        700|\n",
            "+--------+-----------+\n",
            "\n"
          ]
        }
      ]
    },
    {
      "cell_type": "code",
      "source": [
        "df.groupby(\"Status\").agg({\"Status\": \"count\"}).show()"
      ],
      "metadata": {
        "colab": {
          "base_uri": "https://localhost:8080/"
        },
        "id": "Dd9xjed69wRa",
        "outputId": "a0277299-3b8b-4312-a7bc-09dbbcc2f43f"
      },
      "execution_count": 17,
      "outputs": [
        {
          "output_type": "stream",
          "name": "stdout",
          "text": [
            "+---------+-------------+\n",
            "|   Status|count(Status)|\n",
            "+---------+-------------+\n",
            "|Cancelled|            1|\n",
            "|Delivered|            3|\n",
            "|  Pending|            1|\n",
            "+---------+-------------+\n",
            "\n"
          ]
        }
      ]
    },
    {
      "cell_type": "code",
      "source": [],
      "metadata": {
        "id": "wKgC0wcv-DH-"
      },
      "execution_count": 12,
      "outputs": []
    }
  ]
}