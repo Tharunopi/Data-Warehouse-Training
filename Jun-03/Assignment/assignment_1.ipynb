{
  "nbformat": 4,
  "nbformat_minor": 0,
  "metadata": {
    "colab": {
      "provenance": []
    },
    "kernelspec": {
      "name": "python3",
      "display_name": "Python 3"
    },
    "language_info": {
      "name": "python"
    }
  },
  "cells": [
    {
      "cell_type": "code",
      "execution_count": 69,
      "metadata": {
        "id": "NfY9Euvs8mI0"
      },
      "outputs": [],
      "source": [
        "from pyspark.sql import SparkSession\n",
        "import numpy as np\n",
        "from pyspark.sql import functions as F"
      ]
    },
    {
      "cell_type": "code",
      "source": [
        "spark = SparkSession.builder.appName(\"deo\").getOrCreate()"
      ],
      "metadata": {
        "id": "c1L5DsDg9BSB"
      },
      "execution_count": 4,
      "outputs": []
    },
    {
      "cell_type": "code",
      "source": [
        "spark"
      ],
      "metadata": {
        "colab": {
          "base_uri": "https://localhost:8080/",
          "height": 219
        },
        "id": "HYfdzNtL9Hli",
        "outputId": "4e2c83fe-74e8-49b2-f120-eb4f6fee4176"
      },
      "execution_count": 5,
      "outputs": [
        {
          "output_type": "execute_result",
          "data": {
            "text/plain": [
              "<pyspark.sql.session.SparkSession at 0x7d7033adc390>"
            ],
            "text/html": [
              "\n",
              "            <div>\n",
              "                <p><b>SparkSession - in-memory</b></p>\n",
              "                \n",
              "        <div>\n",
              "            <p><b>SparkContext</b></p>\n",
              "\n",
              "            <p><a href=\"http://861ec2d60bf5:4040\">Spark UI</a></p>\n",
              "\n",
              "            <dl>\n",
              "              <dt>Version</dt>\n",
              "                <dd><code>v3.5.1</code></dd>\n",
              "              <dt>Master</dt>\n",
              "                <dd><code>local[*]</code></dd>\n",
              "              <dt>AppName</dt>\n",
              "                <dd><code>deo</code></dd>\n",
              "            </dl>\n",
              "        </div>\n",
              "        \n",
              "            </div>\n",
              "        "
            ]
          },
          "metadata": {},
          "execution_count": 5
        }
      ]
    },
    {
      "cell_type": "code",
      "source": [
        "df = spark.read.csv(\"/content/drive/MyDrive/Datasets/Copy of Copy of large_employee_dataset.csv\", inferSchema=True, header=True)"
      ],
      "metadata": {
        "id": "ejnNhO1g9Lbk"
      },
      "execution_count": 18,
      "outputs": []
    },
    {
      "cell_type": "code",
      "source": [
        "df.show()"
      ],
      "metadata": {
        "colab": {
          "base_uri": "https://localhost:8080/"
        },
        "id": "I2rI0uqk9RXj",
        "outputId": "21a14aa9-6aca-4e77-897e-5512ce75bd5f"
      },
      "execution_count": 19,
      "outputs": [
        {
          "output_type": "stream",
          "name": "stdout",
          "text": [
            "+----------+--------------------+---+----------+------+-----------+--------+-------------------+\n",
            "|EmployeeID|                Name|Age|Department|Salary|JoiningDate|  Status|               City|\n",
            "+----------+--------------------+---+----------+------+-----------+--------+-------------------+\n",
            "|      4128|     Charles Johnson| 52|        HR| 64039| 2018-07-07|Resigned|          Allentown|\n",
            "|      6094|       Dylan Camacho| 57| Marketing| 34686| 2015-08-25|  Active|        Anthonyfort|\n",
            "|      5883| Mr. Ryan Bowman Jr.| 29|   Finance| 64541| 2025-03-11|On Leave|          Gilesstad|\n",
            "|      9146|          Brian Ball| 24|     Sales| 87831| 2015-10-01|Resigned|       Jenniferfurt|\n",
            "|      1918|       Angela Hooper| 26|   Finance|108773| 2019-08-14|On Leave|       Lake Amystad|\n",
            "|      4600|Alexander Johnson...| 45|     Sales| 75671| 2016-04-21|On Leave|         Russohaven|\n",
            "|      6253|         Steven Lane| 47|   Finance| 64982| 2021-07-25|  Active|        East Robert|\n",
            "|      8278|       Riley Johnson| 49|        HR| 43449| 2015-08-03|Resigned|         New Thomas|\n",
            "|      8520|    Emily Washington| 43|   Finance| 33851| 2021-11-30|Resigned|        West Ashley|\n",
            "|      1298|     Valerie Fleming| 42| Marketing| 70137| 2019-12-08|Resigned|        Caseborough|\n",
            "|      5157|     Tracy Hughes MD| 28|   Finance| 34381| 2020-06-01|  Active|       West Phillip|\n",
            "|      7403|    Johnathan Harmon| 50|        HR| 97666| 2021-03-09|On Leave|           Jillport|\n",
            "|      3326|       Michael Brown| 28|        HR| 85122| 2023-10-21|Resigned|          Port Mark|\n",
            "|      8989|       Scott Burnett| 48|     Sales| 93690| 2016-04-25|Resigned|     North Brittany|\n",
            "|      4676|  Christopher Fuller| 30|        HR| 63042| 2021-04-30|Resigned|   South Donnaville|\n",
            "|      6598|         Mary Henson| 58|        IT| 63951| 2021-08-25|  Active|        Port Tricia|\n",
            "|      4136|       Jerome Torres| 30|   Finance| 68213| 2024-11-30|  Active|North Justinborough|\n",
            "|      6640|     Isaiah Martinez| 51| Marketing| 72596| 2021-07-26|On Leave|       Mcgeechester|\n",
            "|      6406|       Patrick Chung| 27|        HR|116423| 2024-07-05|  Active|         Tonyamouth|\n",
            "|      1515|        Micheal Wade| 26|        HR| 41771| 2024-03-29|  Active|     Jimenezborough|\n",
            "+----------+--------------------+---+----------+------+-----------+--------+-------------------+\n",
            "only showing top 20 rows\n",
            "\n"
          ]
        }
      ]
    },
    {
      "cell_type": "markdown",
      "source": [
        "# **Basic Exploration**"
      ],
      "metadata": {
        "id": "rhV6pFA4H1-z"
      }
    },
    {
      "cell_type": "code",
      "source": [
        "#1. Show the top 10 rows of the dataset.\n",
        "df.show(10)"
      ],
      "metadata": {
        "colab": {
          "base_uri": "https://localhost:8080/"
        },
        "id": "wKgC0wcv-DH-",
        "outputId": "f146e936-1ce8-451a-a9de-7bd4416acf71"
      },
      "execution_count": 20,
      "outputs": [
        {
          "output_type": "stream",
          "name": "stdout",
          "text": [
            "+----------+--------------------+---+----------+------+-----------+--------+------------+\n",
            "|EmployeeID|                Name|Age|Department|Salary|JoiningDate|  Status|        City|\n",
            "+----------+--------------------+---+----------+------+-----------+--------+------------+\n",
            "|      4128|     Charles Johnson| 52|        HR| 64039| 2018-07-07|Resigned|   Allentown|\n",
            "|      6094|       Dylan Camacho| 57| Marketing| 34686| 2015-08-25|  Active| Anthonyfort|\n",
            "|      5883| Mr. Ryan Bowman Jr.| 29|   Finance| 64541| 2025-03-11|On Leave|   Gilesstad|\n",
            "|      9146|          Brian Ball| 24|     Sales| 87831| 2015-10-01|Resigned|Jenniferfurt|\n",
            "|      1918|       Angela Hooper| 26|   Finance|108773| 2019-08-14|On Leave|Lake Amystad|\n",
            "|      4600|Alexander Johnson...| 45|     Sales| 75671| 2016-04-21|On Leave|  Russohaven|\n",
            "|      6253|         Steven Lane| 47|   Finance| 64982| 2021-07-25|  Active| East Robert|\n",
            "|      8278|       Riley Johnson| 49|        HR| 43449| 2015-08-03|Resigned|  New Thomas|\n",
            "|      8520|    Emily Washington| 43|   Finance| 33851| 2021-11-30|Resigned| West Ashley|\n",
            "|      1298|     Valerie Fleming| 42| Marketing| 70137| 2019-12-08|Resigned| Caseborough|\n",
            "+----------+--------------------+---+----------+------+-----------+--------+------------+\n",
            "only showing top 10 rows\n",
            "\n"
          ]
        }
      ]
    },
    {
      "cell_type": "code",
      "source": [
        "#2. Count the total number of employees.\n",
        "df.select(\"EmployeeID\").distinct().count()"
      ],
      "metadata": {
        "colab": {
          "base_uri": "https://localhost:8080/"
        },
        "id": "eknxqBiuICt7",
        "outputId": "6694f3ac-5000-4b1c-963a-7b5d68d5e54e"
      },
      "execution_count": 34,
      "outputs": [
        {
          "output_type": "execute_result",
          "data": {
            "text/plain": [
              "500"
            ]
          },
          "metadata": {},
          "execution_count": 34
        }
      ]
    },
    {
      "cell_type": "code",
      "source": [
        "#3. Display unique departments.\n",
        "df.select(\"Department\").distinct().show()"
      ],
      "metadata": {
        "colab": {
          "base_uri": "https://localhost:8080/"
        },
        "id": "8wIiAOC9IWny",
        "outputId": "63f1d22f-2de9-44ad-f7fd-94b0c9ca6ba3"
      },
      "execution_count": 35,
      "outputs": [
        {
          "output_type": "stream",
          "name": "stdout",
          "text": [
            "+----------+\n",
            "|Department|\n",
            "+----------+\n",
            "|     Sales|\n",
            "|        HR|\n",
            "|   Finance|\n",
            "| Marketing|\n",
            "|        IT|\n",
            "+----------+\n",
            "\n"
          ]
        }
      ]
    },
    {
      "cell_type": "markdown",
      "source": [
        "# **Filtering and Sorting**"
      ],
      "metadata": {
        "id": "voqfuL6qJ-Nk"
      }
    },
    {
      "cell_type": "code",
      "source": [
        "# 4. Filter all employees in the \"IT\" department.\n",
        "\n",
        "df.filter(df.Department == \"IT\").select([\"Name\", \"Department\"]).show()"
      ],
      "metadata": {
        "colab": {
          "base_uri": "https://localhost:8080/"
        },
        "id": "3vpp6uLfJkYf",
        "outputId": "4a2ac52c-7336-41bf-f66e-e5b47a984127"
      },
      "execution_count": 36,
      "outputs": [
        {
          "output_type": "stream",
          "name": "stdout",
          "text": [
            "+-------------------+----------+\n",
            "|               Name|Department|\n",
            "+-------------------+----------+\n",
            "|        Mary Henson|        IT|\n",
            "|   Elizabeth Abbott|        IT|\n",
            "|        Thomas Dunn|        IT|\n",
            "|        Glenn Mason|        IT|\n",
            "|     Richard Bailey|        IT|\n",
            "|      Jacob Jackson|        IT|\n",
            "|     Nicole Gilmore|        IT|\n",
            "|         David Wang|        IT|\n",
            "|       Joseph Clark|        IT|\n",
            "|      Debra Swanson|        IT|\n",
            "|      Jeffrey Frank|        IT|\n",
            "|Christopher Jimenez|        IT|\n",
            "|     Kevin Harrison|        IT|\n",
            "|    Andrew Harrison|        IT|\n",
            "|        Melissa Lee|        IT|\n",
            "|         Paige Hall|        IT|\n",
            "|        Casey Olson|        IT|\n",
            "|      Tony Mcdonald|        IT|\n",
            "|     Jackie Herring|        IT|\n",
            "|       Shelly James|        IT|\n",
            "+-------------------+----------+\n",
            "only showing top 20 rows\n",
            "\n"
          ]
        }
      ]
    },
    {
      "cell_type": "code",
      "source": [
        "#5. Show employees aged between 30 and 40.\n",
        "df.filter((df.Age >= 30) & (df.Age <= 40)).show()"
      ],
      "metadata": {
        "colab": {
          "base_uri": "https://localhost:8080/"
        },
        "id": "B4ISvpOXKPJO",
        "outputId": "5f7e2a8c-01a6-4d6f-d4b1-b84d28453dfc"
      },
      "execution_count": 42,
      "outputs": [
        {
          "output_type": "stream",
          "name": "stdout",
          "text": [
            "+----------+------------------+---+----------+------+-----------+--------+-------------------+\n",
            "|EmployeeID|              Name|Age|Department|Salary|JoiningDate|  Status|               City|\n",
            "+----------+------------------+---+----------+------+-----------+--------+-------------------+\n",
            "|      4676|Christopher Fuller| 30|        HR| 63042| 2021-04-30|Resigned|   South Donnaville|\n",
            "|      4136|     Jerome Torres| 30|   Finance| 68213| 2024-11-30|  Active|North Justinborough|\n",
            "|      1588|       Edwin Burns| 34|     Sales|108208| 2015-09-14|Resigned|        South David|\n",
            "|      8074|       Fred Brewer| 30|        HR|100736| 2021-06-06|On Leave|    Port Wendyville|\n",
            "|      3841|       April Allen| 36|        HR| 98845| 2020-05-20|  Active|      Rachelchester|\n",
            "|      8212|     Jacob Jackson| 35|        IT| 54812| 2020-09-18|On Leave| South Veronicastad|\n",
            "|      3325|       Brian Huynh| 40|   Finance| 59924| 2017-01-02|On Leave|           Johnside|\n",
            "|      6180|     Robert Cortez| 35| Marketing| 76109| 2023-12-31|Resigned|    Port Katiemouth|\n",
            "|      6354|    Nicole Gilmore| 35|        IT|104202| 2018-05-04|  Active|        East Joseph|\n",
            "|      6364|       James Hogan| 33|        HR| 79932| 2023-12-05|  Active|     Rodriguezshire|\n",
            "|      6913|   Dustin Williams| 34|   Finance| 91947| 2023-10-16|On Leave|      North Stephen|\n",
            "|      3115|   Benjamin Turner| 38|        HR| 99949| 2018-03-20|Resigned|     West Hollybury|\n",
            "|      7527|      Bobby Henson| 34|   Finance| 47038| 2022-11-24|On Leave|           Dianaton|\n",
            "|      5620|  Christina Reeves| 34|   Finance| 37858| 2024-01-16|On Leave|        Hannahhaven|\n",
            "|      9939|      Karen Hansen| 37|        HR|112082| 2021-07-30|Resigned|           New Tara|\n",
            "|      6509|     Joann Frazier| 38|   Finance| 87736| 2024-01-11|Resigned|  South Sabrinaview|\n",
            "|      6340|     Kenneth Smith| 38|     Sales|115731| 2018-12-29|Resigned|        Lake Sheila|\n",
            "|      1181|      Joseph Clark| 33|        IT|117142| 2016-05-31|On Leave|         Carlosfurt|\n",
            "|      7098|     Hayley Reeves| 38|        HR|115326| 2022-03-26|  Active|          Whiteview|\n",
            "|      9542|     Jeffrey Frank| 34|        IT| 57182| 2024-01-28|On Leave|           Paulside|\n",
            "+----------+------------------+---+----------+------+-----------+--------+-------------------+\n",
            "only showing top 20 rows\n",
            "\n"
          ]
        }
      ]
    },
    {
      "cell_type": "code",
      "source": [
        "# 6. Sort employees by Salary in descending order.\n",
        "df.sort(df.Salary.desc()).show()"
      ],
      "metadata": {
        "colab": {
          "base_uri": "https://localhost:8080/"
        },
        "id": "dZ-RktdLLVTw",
        "outputId": "2ff722fc-22a4-4d44-c486-1948ec2f4200"
      },
      "execution_count": 44,
      "outputs": [
        {
          "output_type": "stream",
          "name": "stdout",
          "text": [
            "+----------+--------------------+---+----------+------+-----------+--------+-------------------+\n",
            "|EmployeeID|                Name|Age|Department|Salary|JoiningDate|  Status|               City|\n",
            "+----------+--------------------+---+----------+------+-----------+--------+-------------------+\n",
            "|      8860|       Cody Williams| 30|        IT|119978| 2019-03-16|Resigned|         Susanville|\n",
            "|      4585|      Sandra Webster| 30|        HR|119940| 2022-10-21|On Leave|       Thompsonport|\n",
            "|      4667|         Ronald Hunt| 58|     Sales|119677| 2019-08-29|Resigned|    Griffithchester|\n",
            "|      1602|    Deborah Williams| 25|        HR|119397| 2023-09-26|On Leave|    Port Terrimouth|\n",
            "|      3374|        Amanda Green| 41|        HR|119316| 2021-04-08|Resigned|    West Shelleyton|\n",
            "|      6329|       Heidi Shaffer| 36|        HR|119165| 2020-01-14|Resigned|          New Alexa|\n",
            "|      2428|        Mary Stevens| 55|     Sales|119137| 2022-03-06|On Leave|         Travisport|\n",
            "|      1545|Brittany Christensen| 57|   Finance|119038| 2020-10-25|Resigned|        Matthewside|\n",
            "|      2581|    Alexandria Jones| 34|        IT|119009| 2017-01-22|On Leave|           Toniside|\n",
            "|      5572|     Andrew Harrison| 42|        IT|118992| 2021-12-08|  Active|       West Matthew|\n",
            "|      7459|    Abigail Robinson| 23|     Sales|118959| 2021-09-23|  Active|        Leslieville|\n",
            "|      7431|    Richard Mccarthy| 41|        IT|118682| 2025-02-12|On Leave|          Welchview|\n",
            "|      5998|       Bruce Serrano| 36|        HR|118641| 2019-02-02|  Active|    South Elizabeth|\n",
            "|      9714|          Kevin Reid| 37| Marketing|118584| 2015-10-03|  Active|     New Howardfort|\n",
            "|      1143|     Stacey Schwartz| 55|   Finance|118504| 2022-01-24|  Active|Lake Michaelchester|\n",
            "|      3580|         Jamie Baker| 34| Marketing|118225| 2017-07-20|  Active|        Michaelstad|\n",
            "|      9485|        Dennis Rivas| 43| Marketing|118187| 2019-05-26|On Leave|         South Mark|\n",
            "|      1943|          Roy Willis| 41|        HR|118172| 2016-03-05|  Active|     East Daisystad|\n",
            "|      5755|        Erika Ortega| 42|        IT|117517| 2023-04-16|On Leave|          Kellyfort|\n",
            "|      7350|         Jenna Patel| 50| Marketing|117237| 2016-04-11|On Leave|         Port Brian|\n",
            "+----------+--------------------+---+----------+------+-----------+--------+-------------------+\n",
            "only showing top 20 rows\n",
            "\n"
          ]
        }
      ]
    },
    {
      "cell_type": "markdown",
      "source": [
        "# **Aggregation Tasks**"
      ],
      "metadata": {
        "id": "dlWGt_MWLPjn"
      }
    },
    {
      "cell_type": "code",
      "source": [
        "# 7. Get the average salary by department.\n",
        "df.groupBy(\"Department\").agg(F.avg(df.Salary).alias(\"Average Salary\")).show()"
      ],
      "metadata": {
        "colab": {
          "base_uri": "https://localhost:8080/"
        },
        "id": "HBvRKzK7Kp3j",
        "outputId": "72d11240-d842-41bd-8a29-67aafdc4587b"
      },
      "execution_count": 46,
      "outputs": [
        {
          "output_type": "stream",
          "name": "stdout",
          "text": [
            "+----------+-----------------+\n",
            "|Department|   Average Salary|\n",
            "+----------+-----------------+\n",
            "|     Sales|77488.54545454546|\n",
            "|        HR|76091.27450980392|\n",
            "|   Finance|72834.75630252101|\n",
            "| Marketing| 71958.1888888889|\n",
            "|        IT|73116.25555555556|\n",
            "+----------+-----------------+\n",
            "\n"
          ]
        }
      ]
    },
    {
      "cell_type": "code",
      "source": [
        "# 8. Count of employees by Status.\n",
        "df.groupBy(\"Status\").agg(F.count(df.EmployeeID).alias(\"Emp Count\")).show()"
      ],
      "metadata": {
        "colab": {
          "base_uri": "https://localhost:8080/"
        },
        "id": "-CEOSudqMR_B",
        "outputId": "0470acc6-12e5-4440-c986-f12887a32f4f"
      },
      "execution_count": 47,
      "outputs": [
        {
          "output_type": "stream",
          "name": "stdout",
          "text": [
            "+--------+---------+\n",
            "|  Status|Emp Count|\n",
            "+--------+---------+\n",
            "|Resigned|      159|\n",
            "|  Active|      172|\n",
            "|On Leave|      169|\n",
            "+--------+---------+\n",
            "\n"
          ]
        }
      ]
    },
    {
      "cell_type": "code",
      "source": [
        "# 9. Highest salary in each city.\n",
        "df.groupBy(\"City\").agg(F.max(df.Salary).alias(\"Highest Salary\")).sort(\"Highest Salary\", ascending=False).show()"
      ],
      "metadata": {
        "colab": {
          "base_uri": "https://localhost:8080/"
        },
        "id": "RFZJ78JLMom4",
        "outputId": "c72b60f8-4b62-4adb-df15-cf9dce7e4bc6"
      },
      "execution_count": 50,
      "outputs": [
        {
          "output_type": "stream",
          "name": "stdout",
          "text": [
            "+-------------------+--------------+\n",
            "|               City|Highest Salary|\n",
            "+-------------------+--------------+\n",
            "|         Susanville|        119978|\n",
            "|       Thompsonport|        119940|\n",
            "|    Griffithchester|        119677|\n",
            "|    Port Terrimouth|        119397|\n",
            "|    West Shelleyton|        119316|\n",
            "|          New Alexa|        119165|\n",
            "|         Travisport|        119137|\n",
            "|        Matthewside|        119038|\n",
            "|           Toniside|        119009|\n",
            "|       West Matthew|        118992|\n",
            "|        Leslieville|        118959|\n",
            "|          Welchview|        118682|\n",
            "|    South Elizabeth|        118641|\n",
            "|     New Howardfort|        118584|\n",
            "|Lake Michaelchester|        118504|\n",
            "|        Michaelstad|        118225|\n",
            "|         South Mark|        118187|\n",
            "|     East Daisystad|        118172|\n",
            "|          Kellyfort|        117517|\n",
            "|         Port Brian|        117237|\n",
            "+-------------------+--------------+\n",
            "only showing top 20 rows\n",
            "\n"
          ]
        }
      ]
    },
    {
      "cell_type": "markdown",
      "source": [
        "# **GroupBy and Analysis**"
      ],
      "metadata": {
        "id": "Bggfl9rMNOQl"
      }
    },
    {
      "cell_type": "code",
      "source": [
        "# 10. Total number of employees who joined each year.\n",
        "df.withColumn(\"year\", F.year(df.JoiningDate)).groupby(\"year\").agg(F.count(\"year\").alias(\"Per Year\")).show()"
      ],
      "metadata": {
        "colab": {
          "base_uri": "https://localhost:8080/"
        },
        "id": "-eWQjU1tM5wr",
        "outputId": "8937212c-4e2c-449c-f861-e755842cc0ef"
      },
      "execution_count": 52,
      "outputs": [
        {
          "output_type": "stream",
          "name": "stdout",
          "text": [
            "+----+--------+\n",
            "|year|Per Year|\n",
            "+----+--------+\n",
            "|2025|      27|\n",
            "|2018|      52|\n",
            "|2015|      37|\n",
            "|2023|      47|\n",
            "|2022|      49|\n",
            "|2019|      52|\n",
            "|2020|      56|\n",
            "|2016|      49|\n",
            "|2024|      38|\n",
            "|2017|      44|\n",
            "|2021|      49|\n",
            "+----+--------+\n",
            "\n"
          ]
        }
      ]
    },
    {
      "cell_type": "code",
      "source": [
        "# 11. Department-wise count of employees who are currently \"Active\".\n",
        "df.filter(df.Status == \"Active\").groupBy(\"Department\").agg(F.count(\"EmployeeID\").alias(\"Active Employees\")).show()"
      ],
      "metadata": {
        "colab": {
          "base_uri": "https://localhost:8080/"
        },
        "id": "gunqXoYzOVmn",
        "outputId": "1e26d182-4577-433f-f837-89d0063ce040"
      },
      "execution_count": 53,
      "outputs": [
        {
          "output_type": "stream",
          "name": "stdout",
          "text": [
            "+----------+----------------+\n",
            "|Department|Active Employees|\n",
            "+----------+----------------+\n",
            "|     Sales|              32|\n",
            "|        HR|              37|\n",
            "|   Finance|              45|\n",
            "| Marketing|              32|\n",
            "|        IT|              26|\n",
            "+----------+----------------+\n",
            "\n"
          ]
        }
      ]
    },
    {
      "cell_type": "code",
      "source": [
        "# 12. Average age of employees per department.\n",
        "df.groupby(\"Department\").agg(F.avg(\"Age\").alias(\"Average Age\")).show()"
      ],
      "metadata": {
        "colab": {
          "base_uri": "https://localhost:8080/"
        },
        "id": "NUCTh12fPF0g",
        "outputId": "c3333487-5d47-4ea4-d7c0-b44d64bb7920"
      },
      "execution_count": 56,
      "outputs": [
        {
          "output_type": "stream",
          "name": "stdout",
          "text": [
            "+----------+------------------+\n",
            "|Department|       Average Age|\n",
            "+----------+------------------+\n",
            "|     Sales|40.535353535353536|\n",
            "|        HR| 41.46078431372549|\n",
            "|   Finance| 39.21008403361345|\n",
            "| Marketing| 41.82222222222222|\n",
            "|        IT| 38.68888888888889|\n",
            "+----------+------------------+\n",
            "\n"
          ]
        }
      ]
    },
    {
      "cell_type": "markdown",
      "source": [
        "# **Joining**"
      ],
      "metadata": {
        "id": "ZRQbov2VPjA7"
      }
    },
    {
      "cell_type": "code",
      "source": [
        "# 13. Create another dataset with City and Region , and join it.\n",
        "regions = [\n",
        "    {\"City\": \"Allentown\", \"Region\": \"East\"},\n",
        "    {\"City\": \"Anthonyfort\", \"Region\": \"South\"},\n",
        "    {\"City\": \"Gilesstad\", \"Region\": \"North\"},\n",
        "    {\"City\": \"Jenniferfurt\", \"Region\": \"West\"},\n",
        "    {\"City\": \"Lake Amystad\", \"Region\": \"East\"}\n",
        "]\n",
        "regions_df = spark.createDataFrame(regions)\n",
        "\n",
        "joined_df = df.join(regions_df, on=\"City\", how=\"left\")\n",
        "joined_df.show()\n"
      ],
      "metadata": {
        "colab": {
          "base_uri": "https://localhost:8080/"
        },
        "id": "R6dLviwHPWXi",
        "outputId": "6789602d-fa27-46c7-c8cc-91ccd5596446"
      },
      "execution_count": 64,
      "outputs": [
        {
          "output_type": "stream",
          "name": "stdout",
          "text": [
            "+-------------------+----------+--------------------+---+----------+------+-----------+--------+------+\n",
            "|               City|EmployeeID|                Name|Age|Department|Salary|JoiningDate|  Status|Region|\n",
            "+-------------------+----------+--------------------+---+----------+------+-----------+--------+------+\n",
            "|        East Robert|      6253|         Steven Lane| 47|   Finance| 64982| 2021-07-25|  Active|  NULL|\n",
            "|          Allentown|      4128|     Charles Johnson| 52|        HR| 64039| 2018-07-07|Resigned|  East|\n",
            "|         Tonyamouth|      6406|       Patrick Chung| 27|        HR|116423| 2024-07-05|  Active|  NULL|\n",
            "|       Jenniferfurt|      9146|          Brian Ball| 24|     Sales| 87831| 2015-10-01|Resigned|  West|\n",
            "|     North Brittany|      8989|       Scott Burnett| 48|     Sales| 93690| 2016-04-25|Resigned|  NULL|\n",
            "|          Gilesstad|      5883| Mr. Ryan Bowman Jr.| 29|   Finance| 64541| 2025-03-11|On Leave| North|\n",
            "|          Port Mark|      3326|       Michael Brown| 28|        HR| 85122| 2023-10-21|Resigned|  NULL|\n",
            "|        West Ashley|      8520|    Emily Washington| 43|   Finance| 33851| 2021-11-30|Resigned|  NULL|\n",
            "|   South Donnaville|      4676|  Christopher Fuller| 30|        HR| 63042| 2021-04-30|Resigned|  NULL|\n",
            "|           Jillport|      7403|    Johnathan Harmon| 50|        HR| 97666| 2021-03-09|On Leave|  NULL|\n",
            "|     Jimenezborough|      1515|        Micheal Wade| 26|        HR| 41771| 2024-03-29|  Active|  NULL|\n",
            "|       Lake Amystad|      1918|       Angela Hooper| 26|   Finance|108773| 2019-08-14|On Leave|  East|\n",
            "|        Anthonyfort|      6094|       Dylan Camacho| 57| Marketing| 34686| 2015-08-25|  Active| South|\n",
            "|        Bennettstad|      2758|       Brittany Kerr| 58|     Sales| 71105| 2019-03-24|  Active|  NULL|\n",
            "|       Mcgeechester|      6640|     Isaiah Martinez| 51| Marketing| 72596| 2021-07-26|On Leave|  NULL|\n",
            "|        Caseborough|      1298|     Valerie Fleming| 42| Marketing| 70137| 2019-12-08|Resigned|  NULL|\n",
            "|North Justinborough|      4136|       Jerome Torres| 30|   Finance| 68213| 2024-11-30|  Active|  NULL|\n",
            "|         Russohaven|      4600|Alexander Johnson...| 45|     Sales| 75671| 2016-04-21|On Leave|  NULL|\n",
            "|         New Thomas|      8278|       Riley Johnson| 49|        HR| 43449| 2015-08-03|Resigned|  NULL|\n",
            "|       West Phillip|      5157|     Tracy Hughes MD| 28|   Finance| 34381| 2020-06-01|  Active|  NULL|\n",
            "+-------------------+----------+--------------------+---+----------+------+-----------+--------+------+\n",
            "only showing top 20 rows\n",
            "\n"
          ]
        }
      ]
    },
    {
      "cell_type": "code",
      "source": [
        "# 14. Group salaries by Region after the join.\n",
        "joined_df.groupBy(\"Region\").agg(F.sum(\"Salary\").alias(\"Total Salary\")).show()"
      ],
      "metadata": {
        "colab": {
          "base_uri": "https://localhost:8080/"
        },
        "id": "PJYOVO9nSrvJ",
        "outputId": "14779adf-2adf-4e5c-9715-2692796abe3f"
      },
      "execution_count": 65,
      "outputs": [
        {
          "output_type": "stream",
          "name": "stdout",
          "text": [
            "+------+------------+\n",
            "|Region|Total Salary|\n",
            "+------+------------+\n",
            "|  NULL|    36796842|\n",
            "| South|       34686|\n",
            "|  East|      172812|\n",
            "|  West|       87831|\n",
            "| North|       64541|\n",
            "+------+------------+\n",
            "\n"
          ]
        }
      ]
    },
    {
      "cell_type": "markdown",
      "source": [
        "# **Date Operations**"
      ],
      "metadata": {
        "id": "WBUbqmz5TKxE"
      }
    },
    {
      "cell_type": "code",
      "source": [
        "# 15. Calculate years of experience for each employee (current date - JoiningDate).\n",
        "\n",
        "new_df = df.withColumn(\"Experience\", (F.datediff(F.current_date(), df.JoiningDate)/ 365))\n",
        "new_df.show()"
      ],
      "metadata": {
        "colab": {
          "base_uri": "https://localhost:8080/"
        },
        "id": "HbNrsbZHS8gE",
        "outputId": "189a0216-b3e8-4b05-e109-2f4ce2626c2d"
      },
      "execution_count": 76,
      "outputs": [
        {
          "output_type": "stream",
          "name": "stdout",
          "text": [
            "+----------+--------------------+---+----------+------+-----------+--------+-------------------+-------------------+\n",
            "|EmployeeID|                Name|Age|Department|Salary|JoiningDate|  Status|               City|         Experience|\n",
            "+----------+--------------------+---+----------+------+-----------+--------+-------------------+-------------------+\n",
            "|      4128|     Charles Johnson| 52|        HR| 64039| 2018-07-07|Resigned|          Allentown|  6.912328767123288|\n",
            "|      6094|       Dylan Camacho| 57| Marketing| 34686| 2015-08-25|  Active|        Anthonyfort|  9.780821917808218|\n",
            "|      5883| Mr. Ryan Bowman Jr.| 29|   Finance| 64541| 2025-03-11|On Leave|          Gilesstad|0.23013698630136986|\n",
            "|      9146|          Brian Ball| 24|     Sales| 87831| 2015-10-01|Resigned|       Jenniferfurt|   9.67945205479452|\n",
            "|      1918|       Angela Hooper| 26|   Finance|108773| 2019-08-14|On Leave|       Lake Amystad|  5.808219178082192|\n",
            "|      4600|Alexander Johnson...| 45|     Sales| 75671| 2016-04-21|On Leave|         Russohaven|  9.123287671232877|\n",
            "|      6253|         Steven Lane| 47|   Finance| 64982| 2021-07-25|  Active|        East Robert| 3.8602739726027395|\n",
            "|      8278|       Riley Johnson| 49|        HR| 43449| 2015-08-03|Resigned|         New Thomas|  9.841095890410958|\n",
            "|      8520|    Emily Washington| 43|   Finance| 33851| 2021-11-30|Resigned|        West Ashley| 3.5095890410958903|\n",
            "|      1298|     Valerie Fleming| 42| Marketing| 70137| 2019-12-08|Resigned|        Caseborough|   5.49041095890411|\n",
            "|      5157|     Tracy Hughes MD| 28|   Finance| 34381| 2020-06-01|  Active|       West Phillip|  5.008219178082192|\n",
            "|      7403|    Johnathan Harmon| 50|        HR| 97666| 2021-03-09|On Leave|           Jillport|  4.238356164383561|\n",
            "|      3326|       Michael Brown| 28|        HR| 85122| 2023-10-21|Resigned|          Port Mark| 1.6191780821917807|\n",
            "|      8989|       Scott Burnett| 48|     Sales| 93690| 2016-04-25|Resigned|     North Brittany|  9.112328767123287|\n",
            "|      4676|  Christopher Fuller| 30|        HR| 63042| 2021-04-30|Resigned|   South Donnaville|  4.095890410958904|\n",
            "|      6598|         Mary Henson| 58|        IT| 63951| 2021-08-25|  Active|        Port Tricia| 3.7753424657534245|\n",
            "|      4136|       Jerome Torres| 30|   Finance| 68213| 2024-11-30|  Active|North Justinborough| 0.5068493150684932|\n",
            "|      6640|     Isaiah Martinez| 51| Marketing| 72596| 2021-07-26|On Leave|       Mcgeechester| 3.8575342465753426|\n",
            "|      6406|       Patrick Chung| 27|        HR|116423| 2024-07-05|  Active|         Tonyamouth| 0.9123287671232877|\n",
            "|      1515|        Micheal Wade| 26|        HR| 41771| 2024-03-29|  Active|     Jimenezborough|  1.180821917808219|\n",
            "+----------+--------------------+---+----------+------+-----------+--------+-------------------+-------------------+\n",
            "only showing top 20 rows\n",
            "\n"
          ]
        }
      ]
    },
    {
      "cell_type": "code",
      "source": [
        "# 16. List all employees with more than 5 years of experience.\n",
        "new_df.filter(new_df.Experience >= 5).show()"
      ],
      "metadata": {
        "colab": {
          "base_uri": "https://localhost:8080/"
        },
        "id": "9_PAcOunTRzf",
        "outputId": "52f52519-0814-4491-98c8-9ed27ccce19c"
      },
      "execution_count": 77,
      "outputs": [
        {
          "output_type": "stream",
          "name": "stdout",
          "text": [
            "+----------+--------------------+---+----------+------+-----------+--------+-----------------+------------------+\n",
            "|EmployeeID|                Name|Age|Department|Salary|JoiningDate|  Status|             City|        Experience|\n",
            "+----------+--------------------+---+----------+------+-----------+--------+-----------------+------------------+\n",
            "|      4128|     Charles Johnson| 52|        HR| 64039| 2018-07-07|Resigned|        Allentown| 6.912328767123288|\n",
            "|      6094|       Dylan Camacho| 57| Marketing| 34686| 2015-08-25|  Active|      Anthonyfort| 9.780821917808218|\n",
            "|      9146|          Brian Ball| 24|     Sales| 87831| 2015-10-01|Resigned|     Jenniferfurt|  9.67945205479452|\n",
            "|      1918|       Angela Hooper| 26|   Finance|108773| 2019-08-14|On Leave|     Lake Amystad| 5.808219178082192|\n",
            "|      4600|Alexander Johnson...| 45|     Sales| 75671| 2016-04-21|On Leave|       Russohaven| 9.123287671232877|\n",
            "|      8278|       Riley Johnson| 49|        HR| 43449| 2015-08-03|Resigned|       New Thomas| 9.841095890410958|\n",
            "|      1298|     Valerie Fleming| 42| Marketing| 70137| 2019-12-08|Resigned|      Caseborough|  5.49041095890411|\n",
            "|      5157|     Tracy Hughes MD| 28|   Finance| 34381| 2020-06-01|  Active|     West Phillip| 5.008219178082192|\n",
            "|      8989|       Scott Burnett| 48|     Sales| 93690| 2016-04-25|Resigned|   North Brittany| 9.112328767123287|\n",
            "|      2758|       Brittany Kerr| 58|     Sales| 71105| 2019-03-24|  Active|      Bennettstad|               6.2|\n",
            "|      1588|         Edwin Burns| 34|     Sales|108208| 2015-09-14|Resigned|      South David| 9.726027397260275|\n",
            "|      8729|       Mary Reynolds| 25|     Sales|112515| 2018-07-02|Resigned|    Lake Sethfort| 6.926027397260274|\n",
            "|      2039|           Erin Berg| 42| Marketing| 71886| 2018-04-27|On Leave|   Port Elizabeth|7.1068493150684935|\n",
            "|      8923|         Jason Hines| 59|   Finance| 38955| 2015-11-30|  Active|       Lindaville| 9.515068493150684|\n",
            "|      8423|Christopher Mcdaniel| 59|        HR|116819| 2015-06-03|  Active|     South Joshua|10.008219178082191|\n",
            "|      3841|         April Allen| 36|        HR| 98845| 2020-05-20|  Active|    Rachelchester| 5.041095890410959|\n",
            "|      9663|         Glenn Mason| 43|        IT|109189| 2020-03-27|On Leave|     Katelynburgh| 5.189041095890411|\n",
            "|      6257|      Victoria Kelly| 57|   Finance| 65204| 2017-10-01|  Active|South Amandamouth| 7.676712328767123|\n",
            "|      6706|     Michael Trevino| 24| Marketing| 63953| 2020-05-13|Resigned|        Lisaburgh|  5.06027397260274|\n",
            "|      6580|      Heather Nelson| 48|     Sales| 91699| 2015-06-03|Resigned|      Ronaldville|10.008219178082191|\n",
            "+----------+--------------------+---+----------+------+-----------+--------+-----------------+------------------+\n",
            "only showing top 20 rows\n",
            "\n"
          ]
        }
      ]
    },
    {
      "cell_type": "code",
      "source": [],
      "metadata": {
        "id": "ZFevJkPRUrL9"
      },
      "execution_count": null,
      "outputs": []
    }
  ]
}