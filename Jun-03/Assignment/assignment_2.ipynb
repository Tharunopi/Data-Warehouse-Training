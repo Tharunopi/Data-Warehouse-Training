{
  "nbformat": 4,
  "nbformat_minor": 0,
  "metadata": {
    "colab": {
      "provenance": []
    },
    "kernelspec": {
      "name": "python3",
      "display_name": "Python 3"
    },
    "language_info": {
      "name": "python"
    }
  },
  "cells": [
    {
      "cell_type": "code",
      "execution_count": 92,
      "metadata": {
        "id": "NfY9Euvs8mI0"
      },
      "outputs": [],
      "source": [
        "from pyspark.sql import SparkSession, Row\n",
        "from pyspark.sql import functions as F\n",
        "from pyspark.sql.types import StringType"
      ]
    },
    {
      "cell_type": "code",
      "source": [
        "spark = SparkSession.builder.appName(\"deo\").getOrCreate()"
      ],
      "metadata": {
        "id": "c1L5DsDg9BSB"
      },
      "execution_count": 2,
      "outputs": []
    },
    {
      "cell_type": "code",
      "source": [
        "spark"
      ],
      "metadata": {
        "colab": {
          "base_uri": "https://localhost:8080/",
          "height": 219
        },
        "id": "HYfdzNtL9Hli",
        "outputId": "c41d37b7-99fd-4442-f9ac-491d7c51518e"
      },
      "execution_count": 3,
      "outputs": [
        {
          "output_type": "execute_result",
          "data": {
            "text/plain": [
              "<pyspark.sql.session.SparkSession at 0x7b000c16b450>"
            ],
            "text/html": [
              "\n",
              "            <div>\n",
              "                <p><b>SparkSession - in-memory</b></p>\n",
              "                \n",
              "        <div>\n",
              "            <p><b>SparkContext</b></p>\n",
              "\n",
              "            <p><a href=\"http://b5946c6cf93d:4040\">Spark UI</a></p>\n",
              "\n",
              "            <dl>\n",
              "              <dt>Version</dt>\n",
              "                <dd><code>v3.5.1</code></dd>\n",
              "              <dt>Master</dt>\n",
              "                <dd><code>local[*]</code></dd>\n",
              "              <dt>AppName</dt>\n",
              "                <dd><code>deo</code></dd>\n",
              "            </dl>\n",
              "        </div>\n",
              "        \n",
              "            </div>\n",
              "        "
            ]
          },
          "metadata": {},
          "execution_count": 3
        }
      ]
    },
    {
      "cell_type": "markdown",
      "source": [
        "# **DataFrame Creation and Inspection**"
      ],
      "metadata": {
        "id": "fwmc_dVk_g0Y"
      }
    },
    {
      "cell_type": "code",
      "source": [
        "# 1.1 Load the CSV using Pandas, PySpark, and Dask.\n",
        "\n",
        "df = spark.read.csv(\"/content/drive/MyDrive/Datasets/Copy of Sales_Dataset__500_Records_.csv\", inferSchema=True, header=True)"
      ],
      "metadata": {
        "id": "ejnNhO1g9Lbk"
      },
      "execution_count": 28,
      "outputs": []
    },
    {
      "cell_type": "code",
      "source": [
        "# 1.2 Display the first 5 and last 5 records.\n",
        "df.show(5)\n",
        "spark.createDataFrame(df.tail(5)).show()"
      ],
      "metadata": {
        "colab": {
          "base_uri": "https://localhost:8080/"
        },
        "id": "3l63mBn7_kqa",
        "outputId": "7092c508-48b1-414a-8081-a01b40c85bee"
      },
      "execution_count": 29,
      "outputs": [
        {
          "output_type": "stream",
          "name": "stdout",
          "text": [
            "+-------+--------------+---------------+------+----------+--------------+--------+----------------+-----------+-------------+\n",
            "|OrderID|  CustomerName|ProductCategory|Amount| OrderDate|DeliveryStatus|Discount|            City|PaymentMode|CustomerSince|\n",
            "+-------+--------------+---------------+------+----------+--------------+--------+----------------+-----------+-------------+\n",
            "|   2824| Donald Walker|          Books|783.04|2024-12-26|      Returned|    0.15|    Lake Joyside|Credit Card|   2020-10-15|\n",
            "|   7912|  Brandon Hall|      Groceries| 905.0|2024-09-12|     Cancelled|    0.03|   New Jamesside|     Wallet|   2022-03-15|\n",
            "|   4611|  Donald Booth|        Fashion|657.96|2025-01-12|      Returned|    0.01|    Lake Roberto|     Wallet|   2021-08-07|\n",
            "|   3547|Phillip Garcia|        Fashion|606.89|2024-03-24|      Returned|    0.15|West Melanieview|     Wallet|   2020-08-08|\n",
            "|   8527|  Valerie Gray|           Toys| 77.87|2024-08-04|     Delivered|    0.17|       Mariastad|       Cash|   2022-11-15|\n",
            "+-------+--------------+---------------+------+----------+--------------+--------+----------------+-----------+-------------+\n",
            "only showing top 5 rows\n",
            "\n",
            "+-------+---------------+---------------+------+----------+--------------+--------+---------------+-----------+-------------+\n",
            "|OrderID|   CustomerName|ProductCategory|Amount| OrderDate|DeliveryStatus|Discount|           City|PaymentMode|CustomerSince|\n",
            "+-------+---------------+---------------+------+----------+--------------+--------+---------------+-----------+-------------+\n",
            "|   2930|   Jaime Harris|        Fashion| 680.0|2025-02-16|      Returned|     0.2|    Robertville|       Cash|   2021-01-28|\n",
            "|   7980|     Dawn Wyatt|        Fashion|285.32|2024-04-26|     Cancelled|    0.06|     Cherylfurt|        UPI|   2021-04-14|\n",
            "|   7770|  Kristin White|      Groceries|792.11|2024-08-10|      Returned|    0.07|       Kingport|        UPI|   2022-11-16|\n",
            "|   6641|Jennifer Taylor|           Toys|578.49|2025-04-03|     Delivered|     0.1|Lake Jerryburgh|       Cash|   2020-11-04|\n",
            "|   4513|    Rachel Owen|    Electronics|904.97|2024-09-21|     Delivered|    0.12|  East Paultown|       Cash|   2020-10-21|\n",
            "+-------+---------------+---------------+------+----------+--------------+--------+---------------+-----------+-------------+\n",
            "\n"
          ]
        }
      ]
    },
    {
      "cell_type": "code",
      "source": [
        "# 1.3 Print schema and check data types.\n",
        "df.printSchema()"
      ],
      "metadata": {
        "colab": {
          "base_uri": "https://localhost:8080/"
        },
        "id": "2jUuun3W_1mV",
        "outputId": "a666d326-7586-4839-bca8-60471b5223da"
      },
      "execution_count": 30,
      "outputs": [
        {
          "output_type": "stream",
          "name": "stdout",
          "text": [
            "root\n",
            " |-- OrderID: integer (nullable = true)\n",
            " |-- CustomerName: string (nullable = true)\n",
            " |-- ProductCategory: string (nullable = true)\n",
            " |-- Amount: double (nullable = true)\n",
            " |-- OrderDate: date (nullable = true)\n",
            " |-- DeliveryStatus: string (nullable = true)\n",
            " |-- Discount: double (nullable = true)\n",
            " |-- City: string (nullable = true)\n",
            " |-- PaymentMode: string (nullable = true)\n",
            " |-- CustomerSince: date (nullable = true)\n",
            "\n"
          ]
        }
      ]
    },
    {
      "cell_type": "markdown",
      "source": [
        "# **Selection, Renaming, and Filtering**"
      ],
      "metadata": {
        "id": "Il0-IUFIAtAx"
      }
    },
    {
      "cell_type": "code",
      "source": [
        "# 2.1 Select only OrderID , CustomerName , and Amount\n",
        "df.select([\"OrderID\", \"CustomerName\", \"Amount\"]).show()"
      ],
      "metadata": {
        "colab": {
          "base_uri": "https://localhost:8080/"
        },
        "id": "YfjAKIZpAqmx",
        "outputId": "45f596ea-fcf7-452c-b8f8-8e412cf3460f"
      },
      "execution_count": 31,
      "outputs": [
        {
          "output_type": "stream",
          "name": "stdout",
          "text": [
            "+-------+------------------+------+\n",
            "|OrderID|      CustomerName|Amount|\n",
            "+-------+------------------+------+\n",
            "|   2824|     Donald Walker|783.04|\n",
            "|   7912|      Brandon Hall| 905.0|\n",
            "|   4611|      Donald Booth|657.96|\n",
            "|   3547|    Phillip Garcia|606.89|\n",
            "|   8527|      Valerie Gray| 77.87|\n",
            "|   4150|       Amber Perez|352.37|\n",
            "|   5554|        Roy Martin|148.33|\n",
            "|   2169|    Carolyn Daniel| 14.09|\n",
            "|   6313|       Patty Perez| 79.83|\n",
            "|   6155|Jonathan Wilkerson|882.68|\n",
            "|   9830|       Kevin Hurst|870.55|\n",
            "|   9085| Anthony Rodriguez|921.73|\n",
            "|   2040|     Kyle Mcdonald|327.52|\n",
            "|   6573|    Jeffrey Chavez|676.02|\n",
            "|   2743|  Elizabeth Fowler| 47.06|\n",
            "|   9837|     Tammy Sellers| 46.15|\n",
            "|   6038|     David Bradley|348.51|\n",
            "|   3060|       John Pierce|362.09|\n",
            "|   4295|   Jennifer Powers|684.26|\n",
            "|   5061|    George Chapman|251.89|\n",
            "+-------+------------------+------+\n",
            "only showing top 20 rows\n",
            "\n"
          ]
        }
      ]
    },
    {
      "cell_type": "code",
      "source": [
        "# 2.2 Rename Amount to OrderAmount\n",
        "df = df.withColumnRenamed(\"Amount\", \"OrderAmount\")\n",
        "df.show()"
      ],
      "metadata": {
        "colab": {
          "base_uri": "https://localhost:8080/"
        },
        "id": "JxG9ly8FA8lH",
        "outputId": "01c0203e-248a-4c18-ce30-e446287280c2"
      },
      "execution_count": 32,
      "outputs": [
        {
          "output_type": "stream",
          "name": "stdout",
          "text": [
            "+-------+------------------+---------------+-----------+----------+--------------+--------+-----------------+-----------+-------------+\n",
            "|OrderID|      CustomerName|ProductCategory|OrderAmount| OrderDate|DeliveryStatus|Discount|             City|PaymentMode|CustomerSince|\n",
            "+-------+------------------+---------------+-----------+----------+--------------+--------+-----------------+-----------+-------------+\n",
            "|   2824|     Donald Walker|          Books|     783.04|2024-12-26|      Returned|    0.15|     Lake Joyside|Credit Card|   2020-10-15|\n",
            "|   7912|      Brandon Hall|      Groceries|      905.0|2024-09-12|     Cancelled|    0.03|    New Jamesside|     Wallet|   2022-03-15|\n",
            "|   4611|      Donald Booth|        Fashion|     657.96|2025-01-12|      Returned|    0.01|     Lake Roberto|     Wallet|   2021-08-07|\n",
            "|   3547|    Phillip Garcia|        Fashion|     606.89|2024-03-24|      Returned|    0.15| West Melanieview|     Wallet|   2020-08-08|\n",
            "|   8527|      Valerie Gray|           Toys|      77.87|2024-08-04|     Delivered|    0.17|        Mariastad|       Cash|   2022-11-15|\n",
            "|   4150|       Amber Perez|          Books|     352.37|2024-01-13|     Cancelled|    0.24|  Port Jesseville|       Cash|   2022-01-13|\n",
            "|   5554|        Roy Martin|           Toys|     148.33|2024-03-04|     Cancelled|    0.27|      Lake Joseph|       Cash|   2023-04-29|\n",
            "|   2169|    Carolyn Daniel|    Electronics|      14.09|2023-10-07|     Delivered|    0.25|         Grayside|Credit Card|   2021-05-09|\n",
            "|   6313|       Patty Perez|      Groceries|      79.83|2023-06-27|     Cancelled|    0.12|      Richardland|Credit Card|   2021-04-25|\n",
            "|   6155|Jonathan Wilkerson|        Fashion|     882.68|2024-10-14|     Cancelled|    0.27|       Thomasberg|       Cash|   2021-06-20|\n",
            "|   9830|       Kevin Hurst|          Books|     870.55|2024-04-08|     Delivered|    0.22|      Jeffreyberg|     Wallet|   2022-08-02|\n",
            "|   9085| Anthony Rodriguez|      Groceries|     921.73|2024-10-02|     Cancelled|    0.03|        Port Erin|        UPI|   2022-12-15|\n",
            "|   2040|     Kyle Mcdonald|           Toys|     327.52|2023-12-15|      Returned|    0.06|Lake Jenniferside|     Wallet|   2021-07-21|\n",
            "|   6573|    Jeffrey Chavez|          Books|     676.02|2024-12-14|     Cancelled|    0.19|      Teresaburgh|     Wallet|   2022-07-30|\n",
            "|   2743|  Elizabeth Fowler|    Electronics|      47.06|2024-09-18|     Delivered|    0.13|   East Nathaniel|       Cash|   2021-02-07|\n",
            "|   9837|     Tammy Sellers|          Books|      46.15|2024-09-10|     Cancelled|    0.05|       Tracyville|        UPI|   2021-12-17|\n",
            "|   6038|     David Bradley|        Fashion|     348.51|2023-08-03|      Returned|    0.23|    Lake Toddland|        UPI|   2022-09-07|\n",
            "|   3060|       John Pierce|           Toys|     362.09|2023-12-25|      Returned|    0.03|       Brandtside|       Cash|   2023-05-09|\n",
            "|   4295|   Jennifer Powers|    Electronics|     684.26|2024-03-19|     Cancelled|    0.21|         Lammouth|        UPI|   2020-12-06|\n",
            "|   5061|    George Chapman|    Electronics|     251.89|2023-11-28|       Pending|    0.27|       North Chad|       Cash|   2023-02-07|\n",
            "+-------+------------------+---------------+-----------+----------+--------------+--------+-----------------+-----------+-------------+\n",
            "only showing top 20 rows\n",
            "\n"
          ]
        }
      ]
    },
    {
      "cell_type": "code",
      "source": [
        "# 2.3 Filter orders where Amount > 500.\n",
        "df.filter(df.OrderAmount > 500).show()"
      ],
      "metadata": {
        "colab": {
          "base_uri": "https://localhost:8080/"
        },
        "id": "x15s150pBK3g",
        "outputId": "d882280b-14d8-43f4-a557-4ebe3d039fc8"
      },
      "execution_count": 33,
      "outputs": [
        {
          "output_type": "stream",
          "name": "stdout",
          "text": [
            "+-------+------------------+---------------+-----------+----------+--------------+--------+-----------------+-----------+-------------+\n",
            "|OrderID|      CustomerName|ProductCategory|OrderAmount| OrderDate|DeliveryStatus|Discount|             City|PaymentMode|CustomerSince|\n",
            "+-------+------------------+---------------+-----------+----------+--------------+--------+-----------------+-----------+-------------+\n",
            "|   2824|     Donald Walker|          Books|     783.04|2024-12-26|      Returned|    0.15|     Lake Joyside|Credit Card|   2020-10-15|\n",
            "|   7912|      Brandon Hall|      Groceries|      905.0|2024-09-12|     Cancelled|    0.03|    New Jamesside|     Wallet|   2022-03-15|\n",
            "|   4611|      Donald Booth|        Fashion|     657.96|2025-01-12|      Returned|    0.01|     Lake Roberto|     Wallet|   2021-08-07|\n",
            "|   3547|    Phillip Garcia|        Fashion|     606.89|2024-03-24|      Returned|    0.15| West Melanieview|     Wallet|   2020-08-08|\n",
            "|   6155|Jonathan Wilkerson|        Fashion|     882.68|2024-10-14|     Cancelled|    0.27|       Thomasberg|       Cash|   2021-06-20|\n",
            "|   9830|       Kevin Hurst|          Books|     870.55|2024-04-08|     Delivered|    0.22|      Jeffreyberg|     Wallet|   2022-08-02|\n",
            "|   9085| Anthony Rodriguez|      Groceries|     921.73|2024-10-02|     Cancelled|    0.03|        Port Erin|        UPI|   2022-12-15|\n",
            "|   6573|    Jeffrey Chavez|          Books|     676.02|2024-12-14|     Cancelled|    0.19|      Teresaburgh|     Wallet|   2022-07-30|\n",
            "|   4295|   Jennifer Powers|    Electronics|     684.26|2024-03-19|     Cancelled|    0.21|         Lammouth|        UPI|   2020-12-06|\n",
            "|   1964|      Taylor Heath|           Toys|      578.5|2023-07-28|     Cancelled|    0.01|   West Elizabeth|       Cash|   2021-04-30|\n",
            "|   9834|    Timothy Duncan|    Electronics|     944.55|2024-06-04|     Cancelled|    0.07|      Port Thomas|     Wallet|   2022-02-24|\n",
            "|   3296|     Donald Wright|        Fashion|     579.99|2025-05-20|     Cancelled|    0.25|South Lindseyside|     Wallet|   2020-11-01|\n",
            "|   4502|  Stephanie Martin|    Electronics|     656.32|2023-06-04|       Pending|     0.2|       Bakermouth|Credit Card|   2021-08-19|\n",
            "|   1931|      Angela Lopez|    Electronics|     686.21|2024-09-07|     Cancelled|    0.17|Lake Michellefurt|        UPI|   2020-12-05|\n",
            "|   5033|     Amanda Miller|           Toys|     552.76|2024-10-25|       Pending|    0.21|     Sarahborough|     Wallet|   2023-04-08|\n",
            "|   6147|      James Powers|           Toys|     561.91|2024-01-22|     Cancelled|    0.05|      Stewartland|Credit Card|   2020-06-16|\n",
            "|   2127|      Jaclyn Moore|      Groceries|     933.32|2025-03-11|      Returned|    0.01|      Cherylhaven|       Cash|   2020-06-14|\n",
            "|   5905|   Ashley Humphrey|          Books|     844.87|2023-12-25|       Pending|    0.28|  North Juliaberg|       Cash|   2021-07-30|\n",
            "|   2512|   Sandra Williams|           Toys|     630.21|2024-02-17|       Pending|    0.08|        Lake Tina|        UPI|   2021-02-08|\n",
            "|   8239|     Jessica Smith|          Books|     610.08|2023-07-31|     Delivered|    0.09|        New Barry|        UPI|   2021-12-27|\n",
            "+-------+------------------+---------------+-----------+----------+--------------+--------+-----------------+-----------+-------------+\n",
            "only showing top 20 rows\n",
            "\n"
          ]
        }
      ]
    },
    {
      "cell_type": "code",
      "source": [
        "# 2.4 Filter orders from a specific city using .query() or .filter().\n",
        "df.filter(df.City == 'Lammouth').show()"
      ],
      "metadata": {
        "colab": {
          "base_uri": "https://localhost:8080/"
        },
        "id": "4C2mCd4pCFG5",
        "outputId": "0eb4fadd-b244-4f3b-d353-56d2cfd12b7f"
      },
      "execution_count": 34,
      "outputs": [
        {
          "output_type": "stream",
          "name": "stdout",
          "text": [
            "+-------+---------------+---------------+-----------+----------+--------------+--------+--------+-----------+-------------+\n",
            "|OrderID|   CustomerName|ProductCategory|OrderAmount| OrderDate|DeliveryStatus|Discount|    City|PaymentMode|CustomerSince|\n",
            "+-------+---------------+---------------+-----------+----------+--------------+--------+--------+-----------+-------------+\n",
            "|   4295|Jennifer Powers|    Electronics|     684.26|2024-03-19|     Cancelled|    0.21|Lammouth|        UPI|   2020-12-06|\n",
            "+-------+---------------+---------------+-----------+----------+--------------+--------+--------+-----------+-------------+\n",
            "\n"
          ]
        }
      ]
    },
    {
      "cell_type": "markdown",
      "source": [
        "# **Data Manipulation**"
      ],
      "metadata": {
        "id": "EHYPw3OsC4M8"
      }
    },
    {
      "cell_type": "code",
      "source": [
        "# 3.1 Drop CustomerSince column.\n",
        "df.drop(\"CustomerSince\").show()"
      ],
      "metadata": {
        "colab": {
          "base_uri": "https://localhost:8080/"
        },
        "id": "vlvd3QfrCdNG",
        "outputId": "a15ace8b-5f43-4c93-a8c8-61fb9af503d2"
      },
      "execution_count": 35,
      "outputs": [
        {
          "output_type": "stream",
          "name": "stdout",
          "text": [
            "+-------+------------------+---------------+-----------+----------+--------------+--------+-----------------+-----------+\n",
            "|OrderID|      CustomerName|ProductCategory|OrderAmount| OrderDate|DeliveryStatus|Discount|             City|PaymentMode|\n",
            "+-------+------------------+---------------+-----------+----------+--------------+--------+-----------------+-----------+\n",
            "|   2824|     Donald Walker|          Books|     783.04|2024-12-26|      Returned|    0.15|     Lake Joyside|Credit Card|\n",
            "|   7912|      Brandon Hall|      Groceries|      905.0|2024-09-12|     Cancelled|    0.03|    New Jamesside|     Wallet|\n",
            "|   4611|      Donald Booth|        Fashion|     657.96|2025-01-12|      Returned|    0.01|     Lake Roberto|     Wallet|\n",
            "|   3547|    Phillip Garcia|        Fashion|     606.89|2024-03-24|      Returned|    0.15| West Melanieview|     Wallet|\n",
            "|   8527|      Valerie Gray|           Toys|      77.87|2024-08-04|     Delivered|    0.17|        Mariastad|       Cash|\n",
            "|   4150|       Amber Perez|          Books|     352.37|2024-01-13|     Cancelled|    0.24|  Port Jesseville|       Cash|\n",
            "|   5554|        Roy Martin|           Toys|     148.33|2024-03-04|     Cancelled|    0.27|      Lake Joseph|       Cash|\n",
            "|   2169|    Carolyn Daniel|    Electronics|      14.09|2023-10-07|     Delivered|    0.25|         Grayside|Credit Card|\n",
            "|   6313|       Patty Perez|      Groceries|      79.83|2023-06-27|     Cancelled|    0.12|      Richardland|Credit Card|\n",
            "|   6155|Jonathan Wilkerson|        Fashion|     882.68|2024-10-14|     Cancelled|    0.27|       Thomasberg|       Cash|\n",
            "|   9830|       Kevin Hurst|          Books|     870.55|2024-04-08|     Delivered|    0.22|      Jeffreyberg|     Wallet|\n",
            "|   9085| Anthony Rodriguez|      Groceries|     921.73|2024-10-02|     Cancelled|    0.03|        Port Erin|        UPI|\n",
            "|   2040|     Kyle Mcdonald|           Toys|     327.52|2023-12-15|      Returned|    0.06|Lake Jenniferside|     Wallet|\n",
            "|   6573|    Jeffrey Chavez|          Books|     676.02|2024-12-14|     Cancelled|    0.19|      Teresaburgh|     Wallet|\n",
            "|   2743|  Elizabeth Fowler|    Electronics|      47.06|2024-09-18|     Delivered|    0.13|   East Nathaniel|       Cash|\n",
            "|   9837|     Tammy Sellers|          Books|      46.15|2024-09-10|     Cancelled|    0.05|       Tracyville|        UPI|\n",
            "|   6038|     David Bradley|        Fashion|     348.51|2023-08-03|      Returned|    0.23|    Lake Toddland|        UPI|\n",
            "|   3060|       John Pierce|           Toys|     362.09|2023-12-25|      Returned|    0.03|       Brandtside|       Cash|\n",
            "|   4295|   Jennifer Powers|    Electronics|     684.26|2024-03-19|     Cancelled|    0.21|         Lammouth|        UPI|\n",
            "|   5061|    George Chapman|    Electronics|     251.89|2023-11-28|       Pending|    0.27|       North Chad|       Cash|\n",
            "+-------+------------------+---------------+-----------+----------+--------------+--------+-----------------+-----------+\n",
            "only showing top 20 rows\n",
            "\n"
          ]
        }
      ]
    },
    {
      "cell_type": "code",
      "source": [
        "# 3.2 Add a new column FinalAmount = Amount - (Amount * Discount)\n",
        "df = df.withColumn(\"FinalAmount\", F.round(df[\"OrderAmount\"] - (df[\"OrderAmount\"] * df[\"Discount\"]), 2))\n",
        "df.show()"
      ],
      "metadata": {
        "colab": {
          "base_uri": "https://localhost:8080/"
        },
        "id": "RIFhJVqEDVo1",
        "outputId": "6a9ccd53-808b-4166-ea61-7d3df3f68b5d"
      },
      "execution_count": 37,
      "outputs": [
        {
          "output_type": "stream",
          "name": "stdout",
          "text": [
            "+-------+------------------+---------------+-----------+----------+--------------+--------+-----------------+-----------+-------------+-----------+\n",
            "|OrderID|      CustomerName|ProductCategory|OrderAmount| OrderDate|DeliveryStatus|Discount|             City|PaymentMode|CustomerSince|FinalAmount|\n",
            "+-------+------------------+---------------+-----------+----------+--------------+--------+-----------------+-----------+-------------+-----------+\n",
            "|   2824|     Donald Walker|          Books|     783.04|2024-12-26|      Returned|    0.15|     Lake Joyside|Credit Card|   2020-10-15|     665.58|\n",
            "|   7912|      Brandon Hall|      Groceries|      905.0|2024-09-12|     Cancelled|    0.03|    New Jamesside|     Wallet|   2022-03-15|     877.85|\n",
            "|   4611|      Donald Booth|        Fashion|     657.96|2025-01-12|      Returned|    0.01|     Lake Roberto|     Wallet|   2021-08-07|     651.38|\n",
            "|   3547|    Phillip Garcia|        Fashion|     606.89|2024-03-24|      Returned|    0.15| West Melanieview|     Wallet|   2020-08-08|     515.86|\n",
            "|   8527|      Valerie Gray|           Toys|      77.87|2024-08-04|     Delivered|    0.17|        Mariastad|       Cash|   2022-11-15|      64.63|\n",
            "|   4150|       Amber Perez|          Books|     352.37|2024-01-13|     Cancelled|    0.24|  Port Jesseville|       Cash|   2022-01-13|      267.8|\n",
            "|   5554|        Roy Martin|           Toys|     148.33|2024-03-04|     Cancelled|    0.27|      Lake Joseph|       Cash|   2023-04-29|     108.28|\n",
            "|   2169|    Carolyn Daniel|    Electronics|      14.09|2023-10-07|     Delivered|    0.25|         Grayside|Credit Card|   2021-05-09|      10.57|\n",
            "|   6313|       Patty Perez|      Groceries|      79.83|2023-06-27|     Cancelled|    0.12|      Richardland|Credit Card|   2021-04-25|      70.25|\n",
            "|   6155|Jonathan Wilkerson|        Fashion|     882.68|2024-10-14|     Cancelled|    0.27|       Thomasberg|       Cash|   2021-06-20|     644.36|\n",
            "|   9830|       Kevin Hurst|          Books|     870.55|2024-04-08|     Delivered|    0.22|      Jeffreyberg|     Wallet|   2022-08-02|     679.03|\n",
            "|   9085| Anthony Rodriguez|      Groceries|     921.73|2024-10-02|     Cancelled|    0.03|        Port Erin|        UPI|   2022-12-15|     894.08|\n",
            "|   2040|     Kyle Mcdonald|           Toys|     327.52|2023-12-15|      Returned|    0.06|Lake Jenniferside|     Wallet|   2021-07-21|     307.87|\n",
            "|   6573|    Jeffrey Chavez|          Books|     676.02|2024-12-14|     Cancelled|    0.19|      Teresaburgh|     Wallet|   2022-07-30|     547.58|\n",
            "|   2743|  Elizabeth Fowler|    Electronics|      47.06|2024-09-18|     Delivered|    0.13|   East Nathaniel|       Cash|   2021-02-07|      40.94|\n",
            "|   9837|     Tammy Sellers|          Books|      46.15|2024-09-10|     Cancelled|    0.05|       Tracyville|        UPI|   2021-12-17|      43.84|\n",
            "|   6038|     David Bradley|        Fashion|     348.51|2023-08-03|      Returned|    0.23|    Lake Toddland|        UPI|   2022-09-07|     268.35|\n",
            "|   3060|       John Pierce|           Toys|     362.09|2023-12-25|      Returned|    0.03|       Brandtside|       Cash|   2023-05-09|     351.23|\n",
            "|   4295|   Jennifer Powers|    Electronics|     684.26|2024-03-19|     Cancelled|    0.21|         Lammouth|        UPI|   2020-12-06|     540.57|\n",
            "|   5061|    George Chapman|    Electronics|     251.89|2023-11-28|       Pending|    0.27|       North Chad|       Cash|   2023-02-07|     183.88|\n",
            "+-------+------------------+---------------+-----------+----------+--------------+--------+-----------------+-----------+-------------+-----------+\n",
            "only showing top 20 rows\n",
            "\n"
          ]
        }
      ]
    },
    {
      "cell_type": "code",
      "source": [
        "# 3.3 Sort by FinalAmount descending.\n",
        "df.sort(\"FinalAmount\", ascending=False).show()"
      ],
      "metadata": {
        "colab": {
          "base_uri": "https://localhost:8080/"
        },
        "id": "6FV8Tt4rDo-j",
        "outputId": "8ea735bb-9ab0-45e3-c560-1c71c77df232"
      },
      "execution_count": 39,
      "outputs": [
        {
          "output_type": "stream",
          "name": "stdout",
          "text": [
            "+-------+-----------------+---------------+-----------+----------+--------------+--------+-----------------+-----------+-------------+-----------+\n",
            "|OrderID|     CustomerName|ProductCategory|OrderAmount| OrderDate|DeliveryStatus|Discount|             City|PaymentMode|CustomerSince|FinalAmount|\n",
            "+-------+-----------------+---------------+-----------+----------+--------------+--------+-----------------+-----------+-------------+-----------+\n",
            "|   5573|   Jordan Frazier|          Books|     981.05|2025-03-19|     Cancelled|    0.02|      Sheilaville|       Cash|   2021-07-12|     961.43|\n",
            "|   8474|      Heidi Brown|    Electronics|     968.91|2023-11-23|     Cancelled|    0.02|       Riverafort|       Cash|   2023-03-19|     949.53|\n",
            "|   8889|      Karen Garza|          Books|      998.3|2024-10-17|     Cancelled|    0.06|       Johnsonton|Credit Card|   2020-12-17|      938.4|\n",
            "|   2127|     Jaclyn Moore|      Groceries|     933.32|2025-03-11|      Returned|    0.01|      Cherylhaven|       Cash|   2020-06-14|     923.99|\n",
            "|   9806|    Samantha Gill|      Groceries|     993.17|2024-11-12|     Cancelled|    0.07|     New Seanstad|     Wallet|   2020-10-01|     923.65|\n",
            "|   5593|   Kristy Johnson|        Fashion|     961.35|2025-05-24|      Returned|    0.05|    Alexisborough|       Cash|   2022-11-30|     913.28|\n",
            "|   2120| Alejandra Santos|    Electronics|     948.84|2024-05-09|      Returned|    0.04|     Jenniferberg|     Wallet|   2022-03-03|     910.89|\n",
            "|   5949|Dr. Michael Evans|           Toys|     918.14|2023-07-29|       Pending|    0.01|   East Scottfort|     Wallet|   2022-05-24|     908.96|\n",
            "|   1422|    Hunter Kramer|          Books|      973.2|2024-09-02|      Returned|    0.07|       Alfredview|       Cash|   2020-08-22|     905.08|\n",
            "|   2904|   Michelle Burns|        Fashion|     922.29|2025-05-01|      Returned|    0.02|      Stokesmouth|Credit Card|   2020-12-23|     903.84|\n",
            "|   7566|    Jesus Houston|        Fashion|     899.31|2024-11-19|     Delivered|     0.0|       Marshburgh|Credit Card|   2020-11-24|     899.31|\n",
            "|   7511|      Regina Diaz|           Toys|     932.21|2025-02-06|     Cancelled|    0.04|        Smithside|       Cash|   2020-12-10|     894.92|\n",
            "|   9085|Anthony Rodriguez|      Groceries|     921.73|2024-10-02|     Cancelled|    0.03|        Port Erin|        UPI|   2022-12-15|     894.08|\n",
            "|   1436|     James Brooks|      Groceries|     978.96|2024-03-28|     Cancelled|    0.09|West Jeffreymouth|Credit Card|   2020-11-02|     890.85|\n",
            "|   6008|  Brittany Knight|          Books|     903.71|2025-02-19|       Pending|    0.02|       Susanburgh|       Cash|   2020-06-09|     885.64|\n",
            "|   9834|   Timothy Duncan|    Electronics|     944.55|2024-06-04|     Cancelled|    0.07|      Port Thomas|     Wallet|   2022-02-24|     878.43|\n",
            "|   8253|  Kevin Patterson|          Books|     998.21|2024-08-17|     Cancelled|    0.12|   New Susanville|        UPI|   2021-04-20|     878.42|\n",
            "|   7912|     Brandon Hall|      Groceries|      905.0|2024-09-12|     Cancelled|    0.03|    New Jamesside|     Wallet|   2022-03-15|     877.85|\n",
            "|   1654|   Frank Williams|          Books|     903.78|2025-05-27|     Cancelled|    0.03|       Tracyshire|     Wallet|   2022-10-04|     876.67|\n",
            "|   9239|    Tracy Montoya|    Electronics|     897.41|2025-02-14|     Cancelled|    0.04|        Port John|     Wallet|   2023-02-23|     861.51|\n",
            "+-------+-----------------+---------------+-----------+----------+--------------+--------+-----------------+-----------+-------------+-----------+\n",
            "only showing top 20 rows\n",
            "\n"
          ]
        }
      ]
    },
    {
      "cell_type": "code",
      "source": [
        "# 3.4 Replace all “Cancelled” status with “Order Cancelled”.\n",
        "df.replace(\"Cancelled\", \"Order Cancelled\", subset=\"DeliveryStatus\").show()"
      ],
      "metadata": {
        "colab": {
          "base_uri": "https://localhost:8080/"
        },
        "id": "UNpNWXGIEQv0",
        "outputId": "288ed309-a843-4a67-b3fa-1c873051001c"
      },
      "execution_count": 42,
      "outputs": [
        {
          "output_type": "stream",
          "name": "stdout",
          "text": [
            "+-------+------------------+---------------+-----------+----------+---------------+--------+-----------------+-----------+-------------+-----------+\n",
            "|OrderID|      CustomerName|ProductCategory|OrderAmount| OrderDate| DeliveryStatus|Discount|             City|PaymentMode|CustomerSince|FinalAmount|\n",
            "+-------+------------------+---------------+-----------+----------+---------------+--------+-----------------+-----------+-------------+-----------+\n",
            "|   2824|     Donald Walker|          Books|     783.04|2024-12-26|       Returned|    0.15|     Lake Joyside|Credit Card|   2020-10-15|     665.58|\n",
            "|   7912|      Brandon Hall|      Groceries|      905.0|2024-09-12|Order Cancelled|    0.03|    New Jamesside|     Wallet|   2022-03-15|     877.85|\n",
            "|   4611|      Donald Booth|        Fashion|     657.96|2025-01-12|       Returned|    0.01|     Lake Roberto|     Wallet|   2021-08-07|     651.38|\n",
            "|   3547|    Phillip Garcia|        Fashion|     606.89|2024-03-24|       Returned|    0.15| West Melanieview|     Wallet|   2020-08-08|     515.86|\n",
            "|   8527|      Valerie Gray|           Toys|      77.87|2024-08-04|      Delivered|    0.17|        Mariastad|       Cash|   2022-11-15|      64.63|\n",
            "|   4150|       Amber Perez|          Books|     352.37|2024-01-13|Order Cancelled|    0.24|  Port Jesseville|       Cash|   2022-01-13|      267.8|\n",
            "|   5554|        Roy Martin|           Toys|     148.33|2024-03-04|Order Cancelled|    0.27|      Lake Joseph|       Cash|   2023-04-29|     108.28|\n",
            "|   2169|    Carolyn Daniel|    Electronics|      14.09|2023-10-07|      Delivered|    0.25|         Grayside|Credit Card|   2021-05-09|      10.57|\n",
            "|   6313|       Patty Perez|      Groceries|      79.83|2023-06-27|Order Cancelled|    0.12|      Richardland|Credit Card|   2021-04-25|      70.25|\n",
            "|   6155|Jonathan Wilkerson|        Fashion|     882.68|2024-10-14|Order Cancelled|    0.27|       Thomasberg|       Cash|   2021-06-20|     644.36|\n",
            "|   9830|       Kevin Hurst|          Books|     870.55|2024-04-08|      Delivered|    0.22|      Jeffreyberg|     Wallet|   2022-08-02|     679.03|\n",
            "|   9085| Anthony Rodriguez|      Groceries|     921.73|2024-10-02|Order Cancelled|    0.03|        Port Erin|        UPI|   2022-12-15|     894.08|\n",
            "|   2040|     Kyle Mcdonald|           Toys|     327.52|2023-12-15|       Returned|    0.06|Lake Jenniferside|     Wallet|   2021-07-21|     307.87|\n",
            "|   6573|    Jeffrey Chavez|          Books|     676.02|2024-12-14|Order Cancelled|    0.19|      Teresaburgh|     Wallet|   2022-07-30|     547.58|\n",
            "|   2743|  Elizabeth Fowler|    Electronics|      47.06|2024-09-18|      Delivered|    0.13|   East Nathaniel|       Cash|   2021-02-07|      40.94|\n",
            "|   9837|     Tammy Sellers|          Books|      46.15|2024-09-10|Order Cancelled|    0.05|       Tracyville|        UPI|   2021-12-17|      43.84|\n",
            "|   6038|     David Bradley|        Fashion|     348.51|2023-08-03|       Returned|    0.23|    Lake Toddland|        UPI|   2022-09-07|     268.35|\n",
            "|   3060|       John Pierce|           Toys|     362.09|2023-12-25|       Returned|    0.03|       Brandtside|       Cash|   2023-05-09|     351.23|\n",
            "|   4295|   Jennifer Powers|    Electronics|     684.26|2024-03-19|Order Cancelled|    0.21|         Lammouth|        UPI|   2020-12-06|     540.57|\n",
            "|   5061|    George Chapman|    Electronics|     251.89|2023-11-28|        Pending|    0.27|       North Chad|       Cash|   2023-02-07|     183.88|\n",
            "+-------+------------------+---------------+-----------+----------+---------------+--------+-----------------+-----------+-------------+-----------+\n",
            "only showing top 20 rows\n",
            "\n"
          ]
        }
      ]
    },
    {
      "cell_type": "markdown",
      "source": [
        "# **Aggregations and GroupBy**"
      ],
      "metadata": {
        "id": "yY18la0YFpEw"
      }
    },
    {
      "cell_type": "code",
      "source": [
        "# 4.1 Count of orders by DeliveryStatus.\n",
        "df.groupBy(\"DeliveryStatus\").agg(F.count(\"OrderID\").alias(\"OrderCounts\")).show()"
      ],
      "metadata": {
        "colab": {
          "base_uri": "https://localhost:8080/"
        },
        "id": "xvRJImOGFMpr",
        "outputId": "8ce234fa-fadf-4e2f-be5c-67fb92ae254d"
      },
      "execution_count": 43,
      "outputs": [
        {
          "output_type": "stream",
          "name": "stdout",
          "text": [
            "+--------------+-----------+\n",
            "|DeliveryStatus|OrderCounts|\n",
            "+--------------+-----------+\n",
            "|      Returned|        117|\n",
            "|     Cancelled|        149|\n",
            "|     Delivered|        119|\n",
            "|       Pending|        115|\n",
            "+--------------+-----------+\n",
            "\n"
          ]
        }
      ]
    },
    {
      "cell_type": "code",
      "source": [
        "# 4.2 Average Amount by ProductCategory.\n",
        "df.groupBy(\"ProductCategory\").agg(F.round(F.avg(\"OrderAmount\"), 2).alias(\"Avergage\")).show()"
      ],
      "metadata": {
        "colab": {
          "base_uri": "https://localhost:8080/"
        },
        "id": "z0NTELXgGDUQ",
        "outputId": "a89af1f7-7a63-404a-dd46-21bdba3f586a"
      },
      "execution_count": 46,
      "outputs": [
        {
          "output_type": "stream",
          "name": "stdout",
          "text": [
            "+---------------+--------+\n",
            "|ProductCategory|Avergage|\n",
            "+---------------+--------+\n",
            "|        Fashion|  500.63|\n",
            "|      Groceries|  459.52|\n",
            "|    Electronics|  551.75|\n",
            "|          Books|   568.6|\n",
            "|           Toys|  534.28|\n",
            "+---------------+--------+\n",
            "\n"
          ]
        }
      ]
    },
    {
      "cell_type": "code",
      "source": [
        "# 4.3 Group by City and show total sales.\n",
        "df.groupby(\"City\").agg(F.round(F.sum(\"OrderAmount\"), 2).alias(\"Total Sales\")).show()"
      ],
      "metadata": {
        "colab": {
          "base_uri": "https://localhost:8080/"
        },
        "id": "iC-hHVrfGWed",
        "outputId": "1f2b1eb4-8730-4fa5-c4d9-d1865013c9c4"
      },
      "execution_count": 47,
      "outputs": [
        {
          "output_type": "stream",
          "name": "stdout",
          "text": [
            "+----------------+-----------+\n",
            "|            City|Total Sales|\n",
            "+----------------+-----------+\n",
            "|     Ramseymouth|     761.06|\n",
            "|East Edwardshire|     291.26|\n",
            "|      Thomasberg|     882.68|\n",
            "|     Laurenville|     383.26|\n",
            "| South Colinstad|     786.27|\n",
            "|    Lake Douglas|     975.09|\n",
            "|   Williamsmouth|      10.78|\n",
            "|      Gordonport|     514.99|\n",
            "|  West Dawnmouth|       12.8|\n",
            "|        Seanbury|     814.39|\n",
            "|     Sheilaville|     981.05|\n",
            "|       Mollybury|     222.02|\n",
            "|       Lisaville|      45.69|\n",
            "| Lake Jerrymouth|     404.01|\n",
            "|       Perezfort|     917.55|\n",
            "|Port Nicoleshire|     133.78|\n",
            "|  South Samantha|     229.46|\n",
            "|     Port Willie|     788.13|\n",
            "|     Waltersfort|     552.81|\n",
            "|       Youngbury|     372.95|\n",
            "+----------------+-----------+\n",
            "only showing top 20 rows\n",
            "\n"
          ]
        }
      ]
    },
    {
      "cell_type": "markdown",
      "source": [
        "# **Null Handling and Update**"
      ],
      "metadata": {
        "id": "J7odEsRjHhX3"
      }
    },
    {
      "cell_type": "code",
      "source": [
        "# 5.1 Intentionally inject nulls in City column and handle them using fillna() , dropna()\n",
        "intentional_data = [\n",
        "    Row(OrderID=3001, CustomerName=\"Tharun\", ProductCategory=\"Electronics\", OrderAmount=999.99, OrderDate=\"2025-01-01\", DeliveryStatus=\"Delivered\", Discount=0.1, City=None, PaymentMode=\"UPI\", CustomerSince=\"2019-03-10\", FinalAmount=899.99),\n",
        "    Row(OrderID=3002, CustomerName=\"Atithya\", ProductCategory=\"Clothing\", OrderAmount=459.50, OrderDate=\"2025-01-02\", DeliveryStatus=\"Pending\", Discount=0.05, City=None, PaymentMode=\"Cash\", CustomerSince=\"2020-07-22\", FinalAmount=436.53),\n",
        "    Row(OrderID=3003, CustomerName=\"Lara Tyber\", ProductCategory=\"Books\", OrderAmount=120.00, OrderDate=\"2025-01-03\", DeliveryStatus=\"Delivered\", Discount=0.0, City=None, PaymentMode=\"Net Banking\", CustomerSince=\"2018-12-05\", FinalAmount=120.00),\n",
        "    Row(OrderID=3004, CustomerName=\"Eren\", ProductCategory=\"Toys\", OrderAmount=340.00, OrderDate=\"2025-01-04\", DeliveryStatus=\"Cancelled\", Discount=0.2, City=None, PaymentMode=\"Credit Card\", CustomerSince=\"2021-01-01\", FinalAmount=272.00),\n",
        "    Row(OrderID=3005, CustomerName=\"AK\", ProductCategory=\"Home\", OrderAmount=800.00, OrderDate=\"2025-01-05\", DeliveryStatus=\"Delivered\", Discount=0.1, City=None, PaymentMode=\"Debit Card\", CustomerSince=\"2022-06-18\", FinalAmount=720.00),\n",
        "]\n",
        "# intentional_df = spark.createDataFrame(intentional_data)\n",
        "\n",
        "# df = df.union(intentional_df)\n",
        "\n",
        "df.show(5)\n",
        "\n",
        "df.fillna(\"Chennai\").show(5)\n",
        "\n",
        "df.dropna().show(5)"
      ],
      "metadata": {
        "colab": {
          "base_uri": "https://localhost:8080/"
        },
        "id": "J4uR7zr9GwlT",
        "outputId": "b03757c0-5539-4840-e84e-ab15793dfbb8"
      },
      "execution_count": 56,
      "outputs": [
        {
          "output_type": "stream",
          "name": "stdout",
          "text": [
            "+-------+--------------+---------------+-----------+----------+--------------+--------+----------------+-----------+-------------+-----------+\n",
            "|OrderID|  CustomerName|ProductCategory|OrderAmount| OrderDate|DeliveryStatus|Discount|            City|PaymentMode|CustomerSince|FinalAmount|\n",
            "+-------+--------------+---------------+-----------+----------+--------------+--------+----------------+-----------+-------------+-----------+\n",
            "|   2824| Donald Walker|          Books|     783.04|2024-12-26|      Returned|    0.15|    Lake Joyside|Credit Card|   2020-10-15|     665.58|\n",
            "|   7912|  Brandon Hall|      Groceries|      905.0|2024-09-12|     Cancelled|    0.03|   New Jamesside|     Wallet|   2022-03-15|     877.85|\n",
            "|   4611|  Donald Booth|        Fashion|     657.96|2025-01-12|      Returned|    0.01|    Lake Roberto|     Wallet|   2021-08-07|     651.38|\n",
            "|   3547|Phillip Garcia|        Fashion|     606.89|2024-03-24|      Returned|    0.15|West Melanieview|     Wallet|   2020-08-08|     515.86|\n",
            "|   8527|  Valerie Gray|           Toys|      77.87|2024-08-04|     Delivered|    0.17|       Mariastad|       Cash|   2022-11-15|      64.63|\n",
            "+-------+--------------+---------------+-----------+----------+--------------+--------+----------------+-----------+-------------+-----------+\n",
            "only showing top 5 rows\n",
            "\n",
            "+-------+--------------+---------------+-----------+----------+--------------+--------+----------------+-----------+-------------+-----------+\n",
            "|OrderID|  CustomerName|ProductCategory|OrderAmount| OrderDate|DeliveryStatus|Discount|            City|PaymentMode|CustomerSince|FinalAmount|\n",
            "+-------+--------------+---------------+-----------+----------+--------------+--------+----------------+-----------+-------------+-----------+\n",
            "|   2824| Donald Walker|          Books|     783.04|2024-12-26|      Returned|    0.15|    Lake Joyside|Credit Card|   2020-10-15|     665.58|\n",
            "|   7912|  Brandon Hall|      Groceries|      905.0|2024-09-12|     Cancelled|    0.03|   New Jamesside|     Wallet|   2022-03-15|     877.85|\n",
            "|   4611|  Donald Booth|        Fashion|     657.96|2025-01-12|      Returned|    0.01|    Lake Roberto|     Wallet|   2021-08-07|     651.38|\n",
            "|   3547|Phillip Garcia|        Fashion|     606.89|2024-03-24|      Returned|    0.15|West Melanieview|     Wallet|   2020-08-08|     515.86|\n",
            "|   8527|  Valerie Gray|           Toys|      77.87|2024-08-04|     Delivered|    0.17|       Mariastad|       Cash|   2022-11-15|      64.63|\n",
            "+-------+--------------+---------------+-----------+----------+--------------+--------+----------------+-----------+-------------+-----------+\n",
            "only showing top 5 rows\n",
            "\n",
            "+-------+--------------+---------------+-----------+----------+--------------+--------+----------------+-----------+-------------+-----------+\n",
            "|OrderID|  CustomerName|ProductCategory|OrderAmount| OrderDate|DeliveryStatus|Discount|            City|PaymentMode|CustomerSince|FinalAmount|\n",
            "+-------+--------------+---------------+-----------+----------+--------------+--------+----------------+-----------+-------------+-----------+\n",
            "|   2824| Donald Walker|          Books|     783.04|2024-12-26|      Returned|    0.15|    Lake Joyside|Credit Card|   2020-10-15|     665.58|\n",
            "|   7912|  Brandon Hall|      Groceries|      905.0|2024-09-12|     Cancelled|    0.03|   New Jamesside|     Wallet|   2022-03-15|     877.85|\n",
            "|   4611|  Donald Booth|        Fashion|     657.96|2025-01-12|      Returned|    0.01|    Lake Roberto|     Wallet|   2021-08-07|     651.38|\n",
            "|   3547|Phillip Garcia|        Fashion|     606.89|2024-03-24|      Returned|    0.15|West Melanieview|     Wallet|   2020-08-08|     515.86|\n",
            "|   8527|  Valerie Gray|           Toys|      77.87|2024-08-04|     Delivered|    0.17|       Mariastad|       Cash|   2022-11-15|      64.63|\n",
            "+-------+--------------+---------------+-----------+----------+--------------+--------+----------------+-----------+-------------+-----------+\n",
            "only showing top 5 rows\n",
            "\n"
          ]
        }
      ]
    },
    {
      "cell_type": "code",
      "source": [
        "#5.2 Use .when().otherwise() in PySpark to tag high-value customers ( Amount > 800 ).\n",
        "df.withColumn(\"Label\", F.when(df.OrderAmount > 800, \"High-Value Customers\").otherwise(\"-1\")).show()"
      ],
      "metadata": {
        "colab": {
          "base_uri": "https://localhost:8080/"
        },
        "id": "ZwijYwHQIZE5",
        "outputId": "2de7d42f-b687-47ba-849c-a63a48725ec0"
      },
      "execution_count": 62,
      "outputs": [
        {
          "output_type": "stream",
          "name": "stdout",
          "text": [
            "+-------+------------------+---------------+-----------+----------+--------------+--------+-----------------+-----------+-------------+-----------+--------------------+\n",
            "|OrderID|      CustomerName|ProductCategory|OrderAmount| OrderDate|DeliveryStatus|Discount|             City|PaymentMode|CustomerSince|FinalAmount|               Label|\n",
            "+-------+------------------+---------------+-----------+----------+--------------+--------+-----------------+-----------+-------------+-----------+--------------------+\n",
            "|   2824|     Donald Walker|          Books|     783.04|2024-12-26|      Returned|    0.15|     Lake Joyside|Credit Card|   2020-10-15|     665.58|                  -1|\n",
            "|   7912|      Brandon Hall|      Groceries|      905.0|2024-09-12|     Cancelled|    0.03|    New Jamesside|     Wallet|   2022-03-15|     877.85|High-Value Customers|\n",
            "|   4611|      Donald Booth|        Fashion|     657.96|2025-01-12|      Returned|    0.01|     Lake Roberto|     Wallet|   2021-08-07|     651.38|                  -1|\n",
            "|   3547|    Phillip Garcia|        Fashion|     606.89|2024-03-24|      Returned|    0.15| West Melanieview|     Wallet|   2020-08-08|     515.86|                  -1|\n",
            "|   8527|      Valerie Gray|           Toys|      77.87|2024-08-04|     Delivered|    0.17|        Mariastad|       Cash|   2022-11-15|      64.63|                  -1|\n",
            "|   4150|       Amber Perez|          Books|     352.37|2024-01-13|     Cancelled|    0.24|  Port Jesseville|       Cash|   2022-01-13|      267.8|                  -1|\n",
            "|   5554|        Roy Martin|           Toys|     148.33|2024-03-04|     Cancelled|    0.27|      Lake Joseph|       Cash|   2023-04-29|     108.28|                  -1|\n",
            "|   2169|    Carolyn Daniel|    Electronics|      14.09|2023-10-07|     Delivered|    0.25|         Grayside|Credit Card|   2021-05-09|      10.57|                  -1|\n",
            "|   6313|       Patty Perez|      Groceries|      79.83|2023-06-27|     Cancelled|    0.12|      Richardland|Credit Card|   2021-04-25|      70.25|                  -1|\n",
            "|   6155|Jonathan Wilkerson|        Fashion|     882.68|2024-10-14|     Cancelled|    0.27|       Thomasberg|       Cash|   2021-06-20|     644.36|High-Value Customers|\n",
            "|   9830|       Kevin Hurst|          Books|     870.55|2024-04-08|     Delivered|    0.22|      Jeffreyberg|     Wallet|   2022-08-02|     679.03|High-Value Customers|\n",
            "|   9085| Anthony Rodriguez|      Groceries|     921.73|2024-10-02|     Cancelled|    0.03|        Port Erin|        UPI|   2022-12-15|     894.08|High-Value Customers|\n",
            "|   2040|     Kyle Mcdonald|           Toys|     327.52|2023-12-15|      Returned|    0.06|Lake Jenniferside|     Wallet|   2021-07-21|     307.87|                  -1|\n",
            "|   6573|    Jeffrey Chavez|          Books|     676.02|2024-12-14|     Cancelled|    0.19|      Teresaburgh|     Wallet|   2022-07-30|     547.58|                  -1|\n",
            "|   2743|  Elizabeth Fowler|    Electronics|      47.06|2024-09-18|     Delivered|    0.13|   East Nathaniel|       Cash|   2021-02-07|      40.94|                  -1|\n",
            "|   9837|     Tammy Sellers|          Books|      46.15|2024-09-10|     Cancelled|    0.05|       Tracyville|        UPI|   2021-12-17|      43.84|                  -1|\n",
            "|   6038|     David Bradley|        Fashion|     348.51|2023-08-03|      Returned|    0.23|    Lake Toddland|        UPI|   2022-09-07|     268.35|                  -1|\n",
            "|   3060|       John Pierce|           Toys|     362.09|2023-12-25|      Returned|    0.03|       Brandtside|       Cash|   2023-05-09|     351.23|                  -1|\n",
            "|   4295|   Jennifer Powers|    Electronics|     684.26|2024-03-19|     Cancelled|    0.21|         Lammouth|        UPI|   2020-12-06|     540.57|                  -1|\n",
            "|   5061|    George Chapman|    Electronics|     251.89|2023-11-28|       Pending|    0.27|       North Chad|       Cash|   2023-02-07|     183.88|                  -1|\n",
            "+-------+------------------+---------------+-----------+----------+--------------+--------+-----------------+-----------+-------------+-----------+--------------------+\n",
            "only showing top 20 rows\n",
            "\n"
          ]
        }
      ]
    },
    {
      "cell_type": "markdown",
      "source": [
        "# **Date & Time Functions**"
      ],
      "metadata": {
        "id": "XJScy9joKk2a"
      }
    },
    {
      "cell_type": "code",
      "source": [
        "# 6.1 Extract year and month from OrderDate .\n",
        "df.select(\"OrderDate\", F.year(\"OrderDate\").alias(\"Year\"), F.month(\"OrderDate\").alias(\"Month\")).show()"
      ],
      "metadata": {
        "colab": {
          "base_uri": "https://localhost:8080/"
        },
        "id": "Rv7zZD3CKFDh",
        "outputId": "348ffb6f-1f55-42c1-e22e-d43817d2c4a7"
      },
      "execution_count": 63,
      "outputs": [
        {
          "output_type": "stream",
          "name": "stdout",
          "text": [
            "+----------+----+-----+\n",
            "| OrderDate|Year|Month|\n",
            "+----------+----+-----+\n",
            "|2024-12-26|2024|   12|\n",
            "|2024-09-12|2024|    9|\n",
            "|2025-01-12|2025|    1|\n",
            "|2024-03-24|2024|    3|\n",
            "|2024-08-04|2024|    8|\n",
            "|2024-01-13|2024|    1|\n",
            "|2024-03-04|2024|    3|\n",
            "|2023-10-07|2023|   10|\n",
            "|2023-06-27|2023|    6|\n",
            "|2024-10-14|2024|   10|\n",
            "|2024-04-08|2024|    4|\n",
            "|2024-10-02|2024|   10|\n",
            "|2023-12-15|2023|   12|\n",
            "|2024-12-14|2024|   12|\n",
            "|2024-09-18|2024|    9|\n",
            "|2024-09-10|2024|    9|\n",
            "|2023-08-03|2023|    8|\n",
            "|2023-12-25|2023|   12|\n",
            "|2024-03-19|2024|    3|\n",
            "|2023-11-28|2023|   11|\n",
            "+----------+----+-----+\n",
            "only showing top 20 rows\n",
            "\n"
          ]
        }
      ]
    },
    {
      "cell_type": "code",
      "source": [
        "# 6.2 Calculate customer loyalty in years = today - CustomerSince .\n",
        "df.withColumn(\"Customer Loyalty\", F.round((F.date_diff(F.current_date(), df[\"CustomerSince\"])/365))).show()"
      ],
      "metadata": {
        "colab": {
          "base_uri": "https://localhost:8080/"
        },
        "id": "P6mX6CnxLL2H",
        "outputId": "b6b8b82b-b370-4e93-fd12-d42a92d0948b"
      },
      "execution_count": 66,
      "outputs": [
        {
          "output_type": "stream",
          "name": "stdout",
          "text": [
            "+-------+------------------+---------------+-----------+----------+--------------+--------+-----------------+-----------+-------------+-----------+----------------+\n",
            "|OrderID|      CustomerName|ProductCategory|OrderAmount| OrderDate|DeliveryStatus|Discount|             City|PaymentMode|CustomerSince|FinalAmount|Customer Loyalty|\n",
            "+-------+------------------+---------------+-----------+----------+--------------+--------+-----------------+-----------+-------------+-----------+----------------+\n",
            "|   2824|     Donald Walker|          Books|     783.04|2024-12-26|      Returned|    0.15|     Lake Joyside|Credit Card|   2020-10-15|     665.58|             5.0|\n",
            "|   7912|      Brandon Hall|      Groceries|      905.0|2024-09-12|     Cancelled|    0.03|    New Jamesside|     Wallet|   2022-03-15|     877.85|             3.0|\n",
            "|   4611|      Donald Booth|        Fashion|     657.96|2025-01-12|      Returned|    0.01|     Lake Roberto|     Wallet|   2021-08-07|     651.38|             4.0|\n",
            "|   3547|    Phillip Garcia|        Fashion|     606.89|2024-03-24|      Returned|    0.15| West Melanieview|     Wallet|   2020-08-08|     515.86|             5.0|\n",
            "|   8527|      Valerie Gray|           Toys|      77.87|2024-08-04|     Delivered|    0.17|        Mariastad|       Cash|   2022-11-15|      64.63|             3.0|\n",
            "|   4150|       Amber Perez|          Books|     352.37|2024-01-13|     Cancelled|    0.24|  Port Jesseville|       Cash|   2022-01-13|      267.8|             3.0|\n",
            "|   5554|        Roy Martin|           Toys|     148.33|2024-03-04|     Cancelled|    0.27|      Lake Joseph|       Cash|   2023-04-29|     108.28|             2.0|\n",
            "|   2169|    Carolyn Daniel|    Electronics|      14.09|2023-10-07|     Delivered|    0.25|         Grayside|Credit Card|   2021-05-09|      10.57|             4.0|\n",
            "|   6313|       Patty Perez|      Groceries|      79.83|2023-06-27|     Cancelled|    0.12|      Richardland|Credit Card|   2021-04-25|      70.25|             4.0|\n",
            "|   6155|Jonathan Wilkerson|        Fashion|     882.68|2024-10-14|     Cancelled|    0.27|       Thomasberg|       Cash|   2021-06-20|     644.36|             4.0|\n",
            "|   9830|       Kevin Hurst|          Books|     870.55|2024-04-08|     Delivered|    0.22|      Jeffreyberg|     Wallet|   2022-08-02|     679.03|             3.0|\n",
            "|   9085| Anthony Rodriguez|      Groceries|     921.73|2024-10-02|     Cancelled|    0.03|        Port Erin|        UPI|   2022-12-15|     894.08|             2.0|\n",
            "|   2040|     Kyle Mcdonald|           Toys|     327.52|2023-12-15|      Returned|    0.06|Lake Jenniferside|     Wallet|   2021-07-21|     307.87|             4.0|\n",
            "|   6573|    Jeffrey Chavez|          Books|     676.02|2024-12-14|     Cancelled|    0.19|      Teresaburgh|     Wallet|   2022-07-30|     547.58|             3.0|\n",
            "|   2743|  Elizabeth Fowler|    Electronics|      47.06|2024-09-18|     Delivered|    0.13|   East Nathaniel|       Cash|   2021-02-07|      40.94|             4.0|\n",
            "|   9837|     Tammy Sellers|          Books|      46.15|2024-09-10|     Cancelled|    0.05|       Tracyville|        UPI|   2021-12-17|      43.84|             3.0|\n",
            "|   6038|     David Bradley|        Fashion|     348.51|2023-08-03|      Returned|    0.23|    Lake Toddland|        UPI|   2022-09-07|     268.35|             3.0|\n",
            "|   3060|       John Pierce|           Toys|     362.09|2023-12-25|      Returned|    0.03|       Brandtside|       Cash|   2023-05-09|     351.23|             2.0|\n",
            "|   4295|   Jennifer Powers|    Electronics|     684.26|2024-03-19|     Cancelled|    0.21|         Lammouth|        UPI|   2020-12-06|     540.57|             4.0|\n",
            "|   5061|    George Chapman|    Electronics|     251.89|2023-11-28|       Pending|    0.27|       North Chad|       Cash|   2023-02-07|     183.88|             2.0|\n",
            "+-------+------------------+---------------+-----------+----------+--------------+--------+-----------------+-----------+-------------+-----------+----------------+\n",
            "only showing top 20 rows\n",
            "\n"
          ]
        }
      ]
    },
    {
      "cell_type": "markdown",
      "source": [
        "# **Joins and Unions**"
      ],
      "metadata": {
        "id": "lNJWuHAjMZol"
      }
    },
    {
      "cell_type": "code",
      "source": [
        "# 7.1 Create a second DataFrame with city-wise region mapping.\n",
        "data = [\n",
        "    Row(City=\"Lake Roberto\", Region=\"East\"),\n",
        "    Row(City=\"Port Jesseville\", Region=\"West\"),\n",
        "    Row(City=\"Grayside\", Region=\"South\"),\n",
        "    Row(City=\"Lake Joseph\", Region=\"North\"),\n",
        "    Row(City=\"Mariastad\", Region=\"West\")\n",
        "]\n",
        "\n",
        "second_df = spark.createDataFrame(data)\n",
        "second_df.show()"
      ],
      "metadata": {
        "colab": {
          "base_uri": "https://localhost:8080/"
        },
        "id": "2G1S0K4zMGg2",
        "outputId": "b80ff8cf-19c2-420d-b8e8-5984918ea6ba"
      },
      "execution_count": 68,
      "outputs": [
        {
          "output_type": "stream",
          "name": "stdout",
          "text": [
            "+---------------+------+\n",
            "|           City|Region|\n",
            "+---------------+------+\n",
            "|   Lake Roberto|  East|\n",
            "|Port Jesseville|  West|\n",
            "|       Grayside| South|\n",
            "|    Lake Joseph| North|\n",
            "|      Mariastad|  West|\n",
            "+---------------+------+\n",
            "\n"
          ]
        }
      ]
    },
    {
      "cell_type": "code",
      "source": [
        "# 7.2 Perform inner and left joins with the main dataset.\n",
        "df.join(second_df, how=\"inner\", on=\"City\").show()\n",
        "df.join(second_df, how=\"left\", on=\"city\").show()"
      ],
      "metadata": {
        "colab": {
          "base_uri": "https://localhost:8080/"
        },
        "id": "BCEcxKu2NAQK",
        "outputId": "b29be503-720e-41a4-cf6b-5d448db0a3f4"
      },
      "execution_count": 70,
      "outputs": [
        {
          "output_type": "stream",
          "name": "stdout",
          "text": [
            "+---------------+-------+--------------+---------------+-----------+----------+--------------+--------+-----------+-------------+-----------+------+\n",
            "|           City|OrderID|  CustomerName|ProductCategory|OrderAmount| OrderDate|DeliveryStatus|Discount|PaymentMode|CustomerSince|FinalAmount|Region|\n",
            "+---------------+-------+--------------+---------------+-----------+----------+--------------+--------+-----------+-------------+-----------+------+\n",
            "|Port Jesseville|   4150|   Amber Perez|          Books|     352.37|2024-01-13|     Cancelled|    0.24|       Cash|   2022-01-13|      267.8|  West|\n",
            "|   Lake Roberto|   4611|  Donald Booth|        Fashion|     657.96|2025-01-12|      Returned|    0.01|     Wallet|   2021-08-07|     651.38|  East|\n",
            "|    Lake Joseph|   5554|    Roy Martin|           Toys|     148.33|2024-03-04|     Cancelled|    0.27|       Cash|   2023-04-29|     108.28| North|\n",
            "|       Grayside|   2169|Carolyn Daniel|    Electronics|      14.09|2023-10-07|     Delivered|    0.25|Credit Card|   2021-05-09|      10.57| South|\n",
            "|      Mariastad|   8527|  Valerie Gray|           Toys|      77.87|2024-08-04|     Delivered|    0.17|       Cash|   2022-11-15|      64.63|  West|\n",
            "+---------------+-------+--------------+---------------+-----------+----------+--------------+--------+-----------+-------------+-----------+------+\n",
            "\n",
            "+-----------------+-------+------------------+---------------+-----------+----------+--------------+--------+-----------+-------------+-----------+------+\n",
            "|             City|OrderID|      CustomerName|ProductCategory|OrderAmount| OrderDate|DeliveryStatus|Discount|PaymentMode|CustomerSince|FinalAmount|Region|\n",
            "+-----------------+-------+------------------+---------------+-----------+----------+--------------+--------+-----------+-------------+-----------+------+\n",
            "|       Thomasberg|   6155|Jonathan Wilkerson|        Fashion|     882.68|2024-10-14|     Cancelled|    0.27|       Cash|   2021-06-20|     644.36|  NULL|\n",
            "|   East Nathaniel|   2743|  Elizabeth Fowler|    Electronics|      47.06|2024-09-18|     Delivered|    0.13|       Cash|   2021-02-07|      40.94|  NULL|\n",
            "|  Port Jesseville|   4150|       Amber Perez|          Books|     352.37|2024-01-13|     Cancelled|    0.24|       Cash|   2022-01-13|      267.8|  West|\n",
            "|       North Chad|   5061|    George Chapman|    Electronics|     251.89|2023-11-28|       Pending|    0.27|       Cash|   2023-02-07|     183.88|  NULL|\n",
            "|    Lake Toddland|   6038|     David Bradley|        Fashion|     348.51|2023-08-03|      Returned|    0.23|        UPI|   2022-09-07|     268.35|  NULL|\n",
            "|     Lake Joyside|   2824|     Donald Walker|          Books|     783.04|2024-12-26|      Returned|    0.15|Credit Card|   2020-10-15|     665.58|  NULL|\n",
            "|       Brandtside|   3060|       John Pierce|           Toys|     362.09|2023-12-25|      Returned|    0.03|       Cash|   2023-05-09|     351.23|  NULL|\n",
            "|   West Elizabeth|   1964|      Taylor Heath|           Toys|      578.5|2023-07-28|     Cancelled|    0.01|       Cash|   2021-04-30|     572.72|  NULL|\n",
            "|Lake Jenniferside|   2040|     Kyle Mcdonald|           Toys|     327.52|2023-12-15|      Returned|    0.06|     Wallet|   2021-07-21|     307.87|  NULL|\n",
            "|        Port Erin|   9085| Anthony Rodriguez|      Groceries|     921.73|2024-10-02|     Cancelled|    0.03|        UPI|   2022-12-15|     894.08|  NULL|\n",
            "|      Teresaburgh|   6573|    Jeffrey Chavez|          Books|     676.02|2024-12-14|     Cancelled|    0.19|     Wallet|   2022-07-30|     547.58|  NULL|\n",
            "|     Lake Roberto|   4611|      Donald Booth|        Fashion|     657.96|2025-01-12|      Returned|    0.01|     Wallet|   2021-08-07|     651.38|  East|\n",
            "|       Tracyville|   9837|     Tammy Sellers|          Books|      46.15|2024-09-10|     Cancelled|    0.05|        UPI|   2021-12-17|      43.84|  NULL|\n",
            "|      Jeffreyberg|   9830|       Kevin Hurst|          Books|     870.55|2024-04-08|     Delivered|    0.22|     Wallet|   2022-08-02|     679.03|  NULL|\n",
            "|      Lake Joseph|   5554|        Roy Martin|           Toys|     148.33|2024-03-04|     Cancelled|    0.27|       Cash|   2023-04-29|     108.28| North|\n",
            "| West Melanieview|   3547|    Phillip Garcia|        Fashion|     606.89|2024-03-24|      Returned|    0.15|     Wallet|   2020-08-08|     515.86|  NULL|\n",
            "|    New Jamesside|   7912|      Brandon Hall|      Groceries|      905.0|2024-09-12|     Cancelled|    0.03|     Wallet|   2022-03-15|     877.85|  NULL|\n",
            "|         Grayside|   2169|    Carolyn Daniel|    Electronics|      14.09|2023-10-07|     Delivered|    0.25|Credit Card|   2021-05-09|      10.57| South|\n",
            "|        Mariastad|   8527|      Valerie Gray|           Toys|      77.87|2024-08-04|     Delivered|    0.17|       Cash|   2022-11-15|      64.63|  West|\n",
            "|      Richardland|   6313|       Patty Perez|      Groceries|      79.83|2023-06-27|     Cancelled|    0.12|Credit Card|   2021-04-25|      70.25|  NULL|\n",
            "+-----------------+-------+------------------+---------------+-----------+----------+--------------+--------+-----------+-------------+-----------+------+\n",
            "only showing top 20 rows\n",
            "\n"
          ]
        }
      ]
    },
    {
      "cell_type": "code",
      "source": [
        "# 7.3 Union two datasets: e.g., orders from 2023 and 2024.\n",
        "df_2023 = df.filter(F.year(df.OrderDate) == 2023)\n",
        "df_2024 = df.filter(F.year(df.OrderDate) == 2024)\n",
        "\n",
        "df_2023.union(df_2024).show()"
      ],
      "metadata": {
        "colab": {
          "base_uri": "https://localhost:8080/"
        },
        "id": "IPKodzgsNSIt",
        "outputId": "df63dd0c-cfa6-44ac-b918-5dc8cbc86052"
      },
      "execution_count": 71,
      "outputs": [
        {
          "output_type": "stream",
          "name": "stdout",
          "text": [
            "+-------+----------------+---------------+-----------+----------+--------------+--------+-----------------+-----------+-------------+-----------+\n",
            "|OrderID|    CustomerName|ProductCategory|OrderAmount| OrderDate|DeliveryStatus|Discount|             City|PaymentMode|CustomerSince|FinalAmount|\n",
            "+-------+----------------+---------------+-----------+----------+--------------+--------+-----------------+-----------+-------------+-----------+\n",
            "|   2169|  Carolyn Daniel|    Electronics|      14.09|2023-10-07|     Delivered|    0.25|         Grayside|Credit Card|   2021-05-09|      10.57|\n",
            "|   6313|     Patty Perez|      Groceries|      79.83|2023-06-27|     Cancelled|    0.12|      Richardland|Credit Card|   2021-04-25|      70.25|\n",
            "|   2040|   Kyle Mcdonald|           Toys|     327.52|2023-12-15|      Returned|    0.06|Lake Jenniferside|     Wallet|   2021-07-21|     307.87|\n",
            "|   6038|   David Bradley|        Fashion|     348.51|2023-08-03|      Returned|    0.23|    Lake Toddland|        UPI|   2022-09-07|     268.35|\n",
            "|   3060|     John Pierce|           Toys|     362.09|2023-12-25|      Returned|    0.03|       Brandtside|       Cash|   2023-05-09|     351.23|\n",
            "|   5061|  George Chapman|    Electronics|     251.89|2023-11-28|       Pending|    0.27|       North Chad|       Cash|   2023-02-07|     183.88|\n",
            "|   1964|    Taylor Heath|           Toys|      578.5|2023-07-28|     Cancelled|    0.01|   West Elizabeth|       Cash|   2021-04-30|     572.72|\n",
            "|   2612|Nicholas Mcbride|        Fashion|     219.05|2023-08-26|     Delivered|    0.27|       East James|        UPI|   2022-04-29|     159.91|\n",
            "|   1828|  Kimberly Smith|           Toys|      89.01|2023-08-14|     Delivered|    0.04|     East Richard|Credit Card|   2022-06-19|      85.45|\n",
            "|   4502|Stephanie Martin|    Electronics|     656.32|2023-06-04|       Pending|     0.2|       Bakermouth|Credit Card|   2021-08-19|     525.06|\n",
            "|   1958| Kimberly Adkins|    Electronics|      98.66|2023-07-17|     Cancelled|    0.13|  New Thomashaven|     Wallet|   2021-02-01|      85.83|\n",
            "|   5905| Ashley Humphrey|          Books|     844.87|2023-12-25|       Pending|    0.28|  North Juliaberg|       Cash|   2021-07-30|     608.31|\n",
            "|   8239|   Jessica Smith|          Books|     610.08|2023-07-31|     Delivered|    0.09|        New Barry|        UPI|   2021-12-27|     555.17|\n",
            "|   9379|      Steven Lee|          Books|     181.97|2023-07-07|      Returned|    0.22|        Smithside|        UPI|   2023-05-04|     141.94|\n",
            "|   3851|Elizabeth Kelley|        Fashion|     517.15|2023-06-03|     Cancelled|    0.19|    Justinchester|Credit Card|   2022-11-19|     418.89|\n",
            "|   1757|   John Atkinson|          Books|     724.04|2023-07-29|      Returned|    0.06|       Perryshire|       Cash|   2021-03-31|      680.6|\n",
            "|   9486|   Justin Lowery|    Electronics|     554.55|2023-09-05|       Pending|    0.24|    Andersonmouth|     Wallet|   2023-04-05|     421.46|\n",
            "|   3607|     Karen Green|          Books|     621.24|2023-12-12|     Cancelled|    0.18|       Katiehaven|        UPI|   2022-06-24|     509.42|\n",
            "|   4919|  Billy Mitchell|    Electronics|     653.51|2023-12-31|     Delivered|    0.08|         Luisside|        UPI|   2020-10-05|     601.23|\n",
            "|   3267| James Hernandez|          Books|     593.98|2023-11-16|      Returned|     0.2|   South Rickside|     Wallet|   2022-05-26|     475.18|\n",
            "+-------+----------------+---------------+-----------+----------+--------------+--------+-----------------+-----------+-------------+-----------+\n",
            "only showing top 20 rows\n",
            "\n"
          ]
        }
      ]
    },
    {
      "cell_type": "markdown",
      "source": [
        "# **Complex JSON Simulation**"
      ],
      "metadata": {
        "id": "wAT22n89OB5z"
      }
    },
    {
      "cell_type": "code",
      "source": [
        "# 8.1 Convert each order to a JSON string and load it back into a DataFrame.\n",
        "jso = df.toJSON()\n",
        "jso.saveAsTextFile(\"jso.json\")\n",
        "dfJSON = spark.read.json(jso)\n",
        "dfJSON.show()"
      ],
      "metadata": {
        "colab": {
          "base_uri": "https://localhost:8080/"
        },
        "id": "jphDq8GlN9r0",
        "outputId": "565bd159-b3e4-4390-972d-475ca346b0dd"
      },
      "execution_count": 81,
      "outputs": [
        {
          "output_type": "stream",
          "name": "stdout",
          "text": [
            "+-----------------+------------------+-------------+--------------+--------+-----------+-----------+----------+-------+-----------+---------------+\n",
            "|             City|      CustomerName|CustomerSince|DeliveryStatus|Discount|FinalAmount|OrderAmount| OrderDate|OrderID|PaymentMode|ProductCategory|\n",
            "+-----------------+------------------+-------------+--------------+--------+-----------+-----------+----------+-------+-----------+---------------+\n",
            "|     Lake Joyside|     Donald Walker|   2020-10-15|      Returned|    0.15|     665.58|     783.04|2024-12-26|   2824|Credit Card|          Books|\n",
            "|    New Jamesside|      Brandon Hall|   2022-03-15|     Cancelled|    0.03|     877.85|      905.0|2024-09-12|   7912|     Wallet|      Groceries|\n",
            "|     Lake Roberto|      Donald Booth|   2021-08-07|      Returned|    0.01|     651.38|     657.96|2025-01-12|   4611|     Wallet|        Fashion|\n",
            "| West Melanieview|    Phillip Garcia|   2020-08-08|      Returned|    0.15|     515.86|     606.89|2024-03-24|   3547|     Wallet|        Fashion|\n",
            "|        Mariastad|      Valerie Gray|   2022-11-15|     Delivered|    0.17|      64.63|      77.87|2024-08-04|   8527|       Cash|           Toys|\n",
            "|  Port Jesseville|       Amber Perez|   2022-01-13|     Cancelled|    0.24|      267.8|     352.37|2024-01-13|   4150|       Cash|          Books|\n",
            "|      Lake Joseph|        Roy Martin|   2023-04-29|     Cancelled|    0.27|     108.28|     148.33|2024-03-04|   5554|       Cash|           Toys|\n",
            "|         Grayside|    Carolyn Daniel|   2021-05-09|     Delivered|    0.25|      10.57|      14.09|2023-10-07|   2169|Credit Card|    Electronics|\n",
            "|      Richardland|       Patty Perez|   2021-04-25|     Cancelled|    0.12|      70.25|      79.83|2023-06-27|   6313|Credit Card|      Groceries|\n",
            "|       Thomasberg|Jonathan Wilkerson|   2021-06-20|     Cancelled|    0.27|     644.36|     882.68|2024-10-14|   6155|       Cash|        Fashion|\n",
            "|      Jeffreyberg|       Kevin Hurst|   2022-08-02|     Delivered|    0.22|     679.03|     870.55|2024-04-08|   9830|     Wallet|          Books|\n",
            "|        Port Erin| Anthony Rodriguez|   2022-12-15|     Cancelled|    0.03|     894.08|     921.73|2024-10-02|   9085|        UPI|      Groceries|\n",
            "|Lake Jenniferside|     Kyle Mcdonald|   2021-07-21|      Returned|    0.06|     307.87|     327.52|2023-12-15|   2040|     Wallet|           Toys|\n",
            "|      Teresaburgh|    Jeffrey Chavez|   2022-07-30|     Cancelled|    0.19|     547.58|     676.02|2024-12-14|   6573|     Wallet|          Books|\n",
            "|   East Nathaniel|  Elizabeth Fowler|   2021-02-07|     Delivered|    0.13|      40.94|      47.06|2024-09-18|   2743|       Cash|    Electronics|\n",
            "|       Tracyville|     Tammy Sellers|   2021-12-17|     Cancelled|    0.05|      43.84|      46.15|2024-09-10|   9837|        UPI|          Books|\n",
            "|    Lake Toddland|     David Bradley|   2022-09-07|      Returned|    0.23|     268.35|     348.51|2023-08-03|   6038|        UPI|        Fashion|\n",
            "|       Brandtside|       John Pierce|   2023-05-09|      Returned|    0.03|     351.23|     362.09|2023-12-25|   3060|       Cash|           Toys|\n",
            "|         Lammouth|   Jennifer Powers|   2020-12-06|     Cancelled|    0.21|     540.57|     684.26|2024-03-19|   4295|        UPI|    Electronics|\n",
            "|       North Chad|    George Chapman|   2023-02-07|       Pending|    0.27|     183.88|     251.89|2023-11-28|   5061|       Cash|    Electronics|\n",
            "+-----------------+------------------+-------------+--------------+--------+-----------+-----------+----------+-------+-----------+---------------+\n",
            "only showing top 20 rows\n",
            "\n"
          ]
        }
      ]
    },
    {
      "cell_type": "code",
      "source": [
        "# 8.2 Access nested fields using explode() and get_json_object().\n",
        "print(F.get_json_object(\"/content/jso.json/part-00000\", \"$.CustomerName\"))\n",
        "print(F.explode(r\"/content/jso.json/part-00000\"))\n",
        "\n",
        "jf = spark.read.json(r\"/content/jso.json/part-00000\")\n",
        "jf.show()"
      ],
      "metadata": {
        "colab": {
          "base_uri": "https://localhost:8080/"
        },
        "id": "uqy22bEFOW-y",
        "outputId": "49b8fa47-700a-450e-924f-2b32c56fc751"
      },
      "execution_count": 85,
      "outputs": [
        {
          "output_type": "stream",
          "name": "stdout",
          "text": [
            "Column<'get_json_object(/content/jso.json/part-00000, $.CustomerName)'>\n",
            "Column<'explode(/content/jso.json/part-00000)'>\n",
            "+-----------------+------------------+-------------+--------------+--------+-----------+-----------+----------+-------+-----------+---------------+\n",
            "|             City|      CustomerName|CustomerSince|DeliveryStatus|Discount|FinalAmount|OrderAmount| OrderDate|OrderID|PaymentMode|ProductCategory|\n",
            "+-----------------+------------------+-------------+--------------+--------+-----------+-----------+----------+-------+-----------+---------------+\n",
            "|     Lake Joyside|     Donald Walker|   2020-10-15|      Returned|    0.15|     665.58|     783.04|2024-12-26|   2824|Credit Card|          Books|\n",
            "|    New Jamesside|      Brandon Hall|   2022-03-15|     Cancelled|    0.03|     877.85|      905.0|2024-09-12|   7912|     Wallet|      Groceries|\n",
            "|     Lake Roberto|      Donald Booth|   2021-08-07|      Returned|    0.01|     651.38|     657.96|2025-01-12|   4611|     Wallet|        Fashion|\n",
            "| West Melanieview|    Phillip Garcia|   2020-08-08|      Returned|    0.15|     515.86|     606.89|2024-03-24|   3547|     Wallet|        Fashion|\n",
            "|        Mariastad|      Valerie Gray|   2022-11-15|     Delivered|    0.17|      64.63|      77.87|2024-08-04|   8527|       Cash|           Toys|\n",
            "|  Port Jesseville|       Amber Perez|   2022-01-13|     Cancelled|    0.24|      267.8|     352.37|2024-01-13|   4150|       Cash|          Books|\n",
            "|      Lake Joseph|        Roy Martin|   2023-04-29|     Cancelled|    0.27|     108.28|     148.33|2024-03-04|   5554|       Cash|           Toys|\n",
            "|         Grayside|    Carolyn Daniel|   2021-05-09|     Delivered|    0.25|      10.57|      14.09|2023-10-07|   2169|Credit Card|    Electronics|\n",
            "|      Richardland|       Patty Perez|   2021-04-25|     Cancelled|    0.12|      70.25|      79.83|2023-06-27|   6313|Credit Card|      Groceries|\n",
            "|       Thomasberg|Jonathan Wilkerson|   2021-06-20|     Cancelled|    0.27|     644.36|     882.68|2024-10-14|   6155|       Cash|        Fashion|\n",
            "|      Jeffreyberg|       Kevin Hurst|   2022-08-02|     Delivered|    0.22|     679.03|     870.55|2024-04-08|   9830|     Wallet|          Books|\n",
            "|        Port Erin| Anthony Rodriguez|   2022-12-15|     Cancelled|    0.03|     894.08|     921.73|2024-10-02|   9085|        UPI|      Groceries|\n",
            "|Lake Jenniferside|     Kyle Mcdonald|   2021-07-21|      Returned|    0.06|     307.87|     327.52|2023-12-15|   2040|     Wallet|           Toys|\n",
            "|      Teresaburgh|    Jeffrey Chavez|   2022-07-30|     Cancelled|    0.19|     547.58|     676.02|2024-12-14|   6573|     Wallet|          Books|\n",
            "|   East Nathaniel|  Elizabeth Fowler|   2021-02-07|     Delivered|    0.13|      40.94|      47.06|2024-09-18|   2743|       Cash|    Electronics|\n",
            "|       Tracyville|     Tammy Sellers|   2021-12-17|     Cancelled|    0.05|      43.84|      46.15|2024-09-10|   9837|        UPI|          Books|\n",
            "|    Lake Toddland|     David Bradley|   2022-09-07|      Returned|    0.23|     268.35|     348.51|2023-08-03|   6038|        UPI|        Fashion|\n",
            "|       Brandtside|       John Pierce|   2023-05-09|      Returned|    0.03|     351.23|     362.09|2023-12-25|   3060|       Cash|           Toys|\n",
            "|         Lammouth|   Jennifer Powers|   2020-12-06|     Cancelled|    0.21|     540.57|     684.26|2024-03-19|   4295|        UPI|    Electronics|\n",
            "|       North Chad|    George Chapman|   2023-02-07|       Pending|    0.27|     183.88|     251.89|2023-11-28|   5061|       Cash|    Electronics|\n",
            "+-----------------+------------------+-------------+--------------+--------+-----------+-----------+----------+-------+-----------+---------------+\n",
            "only showing top 20 rows\n",
            "\n"
          ]
        }
      ]
    },
    {
      "cell_type": "markdown",
      "source": [
        "# **Applying Functions**"
      ],
      "metadata": {
        "id": "gpayJTfDRYCs"
      }
    },
    {
      "cell_type": "code",
      "source": [
        "# 9.1 Create a function to tag orders: “Big”, “Medium”, “Small” based on Amount.\n",
        "\n",
        "def tagger(amt, avg):\n",
        "    if amt == avg:\n",
        "        return \"Medium\"\n",
        "    elif amt > avg:\n",
        "        return \"Big\"\n",
        "    else:\n",
        "        return \"Small\""
      ],
      "metadata": {
        "id": "niFgAYHWPKpO"
      },
      "execution_count": 95,
      "outputs": []
    },
    {
      "cell_type": "code",
      "source": [
        "# 9.2 Apply it using .apply() in Pandas, and UDF in PySpark.\n",
        "func_1 = F.udf(tagger, StringType())\n",
        "\n",
        "df.withColumn(\"tags\", func_1(df['OrderAmount'], F.lit(300))).show()"
      ],
      "metadata": {
        "colab": {
          "base_uri": "https://localhost:8080/"
        },
        "id": "11oKYCHRPb6T",
        "outputId": "098608bc-54b2-4c0b-d5e3-164887f0be40"
      },
      "execution_count": 98,
      "outputs": [
        {
          "output_type": "stream",
          "name": "stdout",
          "text": [
            "+-------+------------------+---------------+-----------+----------+--------------+--------+-----------------+-----------+-------------+-----------+-----+\n",
            "|OrderID|      CustomerName|ProductCategory|OrderAmount| OrderDate|DeliveryStatus|Discount|             City|PaymentMode|CustomerSince|FinalAmount| tags|\n",
            "+-------+------------------+---------------+-----------+----------+--------------+--------+-----------------+-----------+-------------+-----------+-----+\n",
            "|   2824|     Donald Walker|          Books|     783.04|2024-12-26|      Returned|    0.15|     Lake Joyside|Credit Card|   2020-10-15|     665.58|  Big|\n",
            "|   7912|      Brandon Hall|      Groceries|      905.0|2024-09-12|     Cancelled|    0.03|    New Jamesside|     Wallet|   2022-03-15|     877.85|  Big|\n",
            "|   4611|      Donald Booth|        Fashion|     657.96|2025-01-12|      Returned|    0.01|     Lake Roberto|     Wallet|   2021-08-07|     651.38|  Big|\n",
            "|   3547|    Phillip Garcia|        Fashion|     606.89|2024-03-24|      Returned|    0.15| West Melanieview|     Wallet|   2020-08-08|     515.86|  Big|\n",
            "|   8527|      Valerie Gray|           Toys|      77.87|2024-08-04|     Delivered|    0.17|        Mariastad|       Cash|   2022-11-15|      64.63|Small|\n",
            "|   4150|       Amber Perez|          Books|     352.37|2024-01-13|     Cancelled|    0.24|  Port Jesseville|       Cash|   2022-01-13|      267.8|  Big|\n",
            "|   5554|        Roy Martin|           Toys|     148.33|2024-03-04|     Cancelled|    0.27|      Lake Joseph|       Cash|   2023-04-29|     108.28|Small|\n",
            "|   2169|    Carolyn Daniel|    Electronics|      14.09|2023-10-07|     Delivered|    0.25|         Grayside|Credit Card|   2021-05-09|      10.57|Small|\n",
            "|   6313|       Patty Perez|      Groceries|      79.83|2023-06-27|     Cancelled|    0.12|      Richardland|Credit Card|   2021-04-25|      70.25|Small|\n",
            "|   6155|Jonathan Wilkerson|        Fashion|     882.68|2024-10-14|     Cancelled|    0.27|       Thomasberg|       Cash|   2021-06-20|     644.36|  Big|\n",
            "|   9830|       Kevin Hurst|          Books|     870.55|2024-04-08|     Delivered|    0.22|      Jeffreyberg|     Wallet|   2022-08-02|     679.03|  Big|\n",
            "|   9085| Anthony Rodriguez|      Groceries|     921.73|2024-10-02|     Cancelled|    0.03|        Port Erin|        UPI|   2022-12-15|     894.08|  Big|\n",
            "|   2040|     Kyle Mcdonald|           Toys|     327.52|2023-12-15|      Returned|    0.06|Lake Jenniferside|     Wallet|   2021-07-21|     307.87|  Big|\n",
            "|   6573|    Jeffrey Chavez|          Books|     676.02|2024-12-14|     Cancelled|    0.19|      Teresaburgh|     Wallet|   2022-07-30|     547.58|  Big|\n",
            "|   2743|  Elizabeth Fowler|    Electronics|      47.06|2024-09-18|     Delivered|    0.13|   East Nathaniel|       Cash|   2021-02-07|      40.94|Small|\n",
            "|   9837|     Tammy Sellers|          Books|      46.15|2024-09-10|     Cancelled|    0.05|       Tracyville|        UPI|   2021-12-17|      43.84|Small|\n",
            "|   6038|     David Bradley|        Fashion|     348.51|2023-08-03|      Returned|    0.23|    Lake Toddland|        UPI|   2022-09-07|     268.35|  Big|\n",
            "|   3060|       John Pierce|           Toys|     362.09|2023-12-25|      Returned|    0.03|       Brandtside|       Cash|   2023-05-09|     351.23|  Big|\n",
            "|   4295|   Jennifer Powers|    Electronics|     684.26|2024-03-19|     Cancelled|    0.21|         Lammouth|        UPI|   2020-12-06|     540.57|  Big|\n",
            "|   5061|    George Chapman|    Electronics|     251.89|2023-11-28|       Pending|    0.27|       North Chad|       Cash|   2023-02-07|     183.88|Small|\n",
            "+-------+------------------+---------------+-----------+----------+--------------+--------+-----------------+-----------+-------------+-----------+-----+\n",
            "only showing top 20 rows\n",
            "\n"
          ]
        }
      ]
    },
    {
      "cell_type": "code",
      "source": [],
      "metadata": {
        "id": "wtoyyxvOTO1T"
      },
      "execution_count": null,
      "outputs": []
    }
  ]
}