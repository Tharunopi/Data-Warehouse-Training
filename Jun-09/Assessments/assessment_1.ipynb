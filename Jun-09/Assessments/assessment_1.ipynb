{
 "cells": [
  {
   "cell_type": "code",
   "execution_count": 1,
   "metadata": {
    "id": "NfY9Euvs8mI0"
   },
   "outputs": [],
   "source": [
    "from pyspark.sql import SparkSession\n",
    "from pyspark.sql import functions as F\n",
    "import time"
   ]
  },
  {
   "cell_type": "code",
   "execution_count": 2,
   "metadata": {
    "id": "c1L5DsDg9BSB"
   },
   "outputs": [],
   "source": [
    "spark = SparkSession.builder.appName(\"deo\").enableHiveSupport().getOrCreate()"
   ]
  },
  {
   "cell_type": "code",
   "execution_count": 3,
   "metadata": {
    "colab": {
     "base_uri": "https://localhost:8080/",
     "height": 219
    },
    "id": "HYfdzNtL9Hli",
    "outputId": "83f515e9-48a7-4adc-d16e-617223bdee22"
   },
   "outputs": [
    {
     "data": {
      "text/html": [
       "\n",
       "            <div>\n",
       "                <p><b>SparkSession - hive</b></p>\n",
       "                \n",
       "        <div>\n",
       "            <p><b>SparkContext</b></p>\n",
       "\n",
       "            <p><a href=\"http://7cbd6b9b9227:4040\">Spark UI</a></p>\n",
       "\n",
       "            <dl>\n",
       "              <dt>Version</dt>\n",
       "                <dd><code>v3.5.1</code></dd>\n",
       "              <dt>Master</dt>\n",
       "                <dd><code>local[*]</code></dd>\n",
       "              <dt>AppName</dt>\n",
       "                <dd><code>deo</code></dd>\n",
       "            </dl>\n",
       "        </div>\n",
       "        \n",
       "            </div>\n",
       "        "
      ],
      "text/plain": [
       "<pyspark.sql.session.SparkSession at 0x7a0b642e6350>"
      ]
     },
     "execution_count": 3,
     "metadata": {},
     "output_type": "execute_result"
    }
   ],
   "source": [
    "spark"
   ]
  },
  {
   "cell_type": "markdown",
   "metadata": {
    "id": "Dtp96j9t6sA6"
   },
   "source": [
    "# **Data Ingestion & Exploration**"
   ]
  },
  {
   "cell_type": "code",
   "execution_count": 4,
   "metadata": {
    "id": "uJl57T0b6ycV"
   },
   "outputs": [],
   "source": [
    "# 1.1 Load both CSV files with schema inference.\n",
    "df_customers = spark.read.csv(r\"/content/customers.csv\", header=True, inferSchema=True)\n",
    "df_orders = spark.read.csv(r\"/content/orders.csv\", header=True, inferSchema=True)"
   ]
  },
  {
   "cell_type": "code",
   "execution_count": 11,
   "metadata": {
    "colab": {
     "base_uri": "https://localhost:8080/"
    },
    "id": "ZxkU-dEU7Iv7",
    "outputId": "4cb21334-9195-470f-dc57-5a355332fa4c"
   },
   "outputs": [
    {
     "name": "stdout",
     "output_type": "stream",
     "text": [
      "+----------+---------+\n",
      "|   columns|datatypes|\n",
      "+----------+---------+\n",
      "|CustomerID|      int|\n",
      "|      Name|   string|\n",
      "|     Email|   string|\n",
      "|      City|   string|\n",
      "|SignupDate|     date|\n",
      "+----------+---------+\n",
      "\n",
      "+----------+---------+\n",
      "|   columns|datatypes|\n",
      "+----------+---------+\n",
      "|   OrderID|      int|\n",
      "|CustomerID|      int|\n",
      "|   Product|   string|\n",
      "|  Category|   string|\n",
      "|  Quantity|      int|\n",
      "|     Price|   double|\n",
      "| OrderDate|     date|\n",
      "+----------+---------+\n",
      "\n"
     ]
    }
   ],
   "source": [
    "# 1.2 List all columns and data types.\n",
    "spark.createDataFrame(df_customers.dtypes, [\"columns\", \"datatypes\"],).show()\n",
    "\n",
    "spark.createDataFrame(df_orders.dtypes, [\"columns\", \"datatypes\"],).show()"
   ]
  },
  {
   "cell_type": "code",
   "execution_count": 13,
   "metadata": {
    "colab": {
     "base_uri": "https://localhost:8080/"
    },
    "id": "MMXN-Ya57SSg",
    "outputId": "2bd261e3-e0a4-4a46-ae3e-9ff1b1897e9c"
   },
   "outputs": [
    {
     "name": "stdout",
     "output_type": "stream",
     "text": [
      "Total number of customer - 5\n",
      "Total number of orders - 7\n"
     ]
    }
   ],
   "source": [
    "# 1.3 Count the total number of customers and orders.\n",
    "print(f\"Total number of customer - {df_customers.count()}\")\n",
    "print(f\"Total number of orders - {df_orders.count()}\")"
   ]
  },
  {
   "cell_type": "code",
   "execution_count": 14,
   "metadata": {
    "colab": {
     "base_uri": "https://localhost:8080/"
    },
    "id": "wpln3Z308QbT",
    "outputId": "c6560bae-d3b3-43bd-ce38-d4f6bf0f6452"
   },
   "outputs": [
    {
     "name": "stdout",
     "output_type": "stream",
     "text": [
      "+---------+\n",
      "|     City|\n",
      "+---------+\n",
      "|Bangalore|\n",
      "|  Chennai|\n",
      "|   Mumbai|\n",
      "|    Delhi|\n",
      "|Hyderabad|\n",
      "+---------+\n",
      "\n"
     ]
    }
   ],
   "source": [
    "# 1.4 Show distinct cities.\n",
    "df_customers.select(\"City\").distinct().show()"
   ]
  },
  {
   "cell_type": "markdown",
   "metadata": {
    "id": "Xlosn7ys88I9"
   },
   "source": [
    "# **DataFrame Transformations**"
   ]
  },
  {
   "cell_type": "code",
   "execution_count": 17,
   "metadata": {
    "colab": {
     "base_uri": "https://localhost:8080/"
    },
    "id": "DSnMW_67803q",
    "outputId": "9d0b51ec-2ae9-484e-efd2-9de9e1798c84"
   },
   "outputs": [
    {
     "name": "stdout",
     "output_type": "stream",
     "text": [
      "+-------+----------+---------+-----------+--------+-------+----------+-----------+\n",
      "|OrderID|CustomerID|  Product|   Category|Quantity|  Price| OrderDate|TotalAmount|\n",
      "+-------+----------+---------+-----------+--------+-------+----------+-----------+\n",
      "|      1|       101|   Laptop|Electronics|       2|50000.0|2024-01-10|   100000.0|\n",
      "|      2|       101|    Mouse|Electronics|       1| 1200.0|2024-01-15|     1200.0|\n",
      "|      3|       102|   Tablet|Electronics|       1|20000.0|2024-02-01|    20000.0|\n",
      "|      4|       103|Bookshelf|  Furniture|       1| 3500.0|2024-02-10|     3500.0|\n",
      "|      5|       104|    Mixer| Appliances|       1| 5000.0|2024-02-15|     5000.0|\n",
      "|      6|       105| Notebook| Stationery|       5|  500.0|2024-03-01|     2500.0|\n",
      "|      7|       102|    Phone|Electronics|       1|30000.0|2024-03-02|    30000.0|\n",
      "+-------+----------+---------+-----------+--------+-------+----------+-----------+\n",
      "\n"
     ]
    }
   ],
   "source": [
    "# 2.1 Add a column TotalAmount = Price * Quantity .\n",
    "df_orders = df_orders.withColumn(\"TotalAmount\", df_orders.Price * df_orders.Quantity)\n",
    "df_orders.show()"
   ]
  },
  {
   "cell_type": "code",
   "execution_count": 16,
   "metadata": {
    "colab": {
     "base_uri": "https://localhost:8080/"
    },
    "id": "7p6120up9OYt",
    "outputId": "6d915a57-67d3-45c4-cc5b-7c1118454ce6"
   },
   "outputs": [
    {
     "name": "stdout",
     "output_type": "stream",
     "text": [
      "+-------+----------+---------+-----------+--------+-------+----------+---------+\n",
      "|OrderID|CustomerID|  Product|   Category|Quantity|  Price| OrderDate|OrderYear|\n",
      "+-------+----------+---------+-----------+--------+-------+----------+---------+\n",
      "|      1|       101|   Laptop|Electronics|       2|50000.0|2024-01-10|     2024|\n",
      "|      2|       101|    Mouse|Electronics|       1| 1200.0|2024-01-15|     2024|\n",
      "|      3|       102|   Tablet|Electronics|       1|20000.0|2024-02-01|     2024|\n",
      "|      4|       103|Bookshelf|  Furniture|       1| 3500.0|2024-02-10|     2024|\n",
      "|      5|       104|    Mixer| Appliances|       1| 5000.0|2024-02-15|     2024|\n",
      "|      6|       105| Notebook| Stationery|       5|  500.0|2024-03-01|     2024|\n",
      "|      7|       102|    Phone|Electronics|       1|30000.0|2024-03-02|     2024|\n",
      "+-------+----------+---------+-----------+--------+-------+----------+---------+\n",
      "\n"
     ]
    }
   ],
   "source": [
    "# 2.2 Create a new column OrderYear from OrderDate .\n",
    "df_orders.withColumn(\"OrderYear\", F.year(\"OrderDate\")).show()"
   ]
  },
  {
   "cell_type": "code",
   "execution_count": 18,
   "metadata": {
    "colab": {
     "base_uri": "https://localhost:8080/"
    },
    "id": "jxqrz0u19flD",
    "outputId": "be990f5e-6ad1-4d80-b46b-1ab0eeb00356"
   },
   "outputs": [
    {
     "name": "stdout",
     "output_type": "stream",
     "text": [
      "+-------+----------+-------+-----------+--------+-------+----------+-----------+\n",
      "|OrderID|CustomerID|Product|   Category|Quantity|  Price| OrderDate|TotalAmount|\n",
      "+-------+----------+-------+-----------+--------+-------+----------+-----------+\n",
      "|      1|       101| Laptop|Electronics|       2|50000.0|2024-01-10|   100000.0|\n",
      "|      3|       102| Tablet|Electronics|       1|20000.0|2024-02-01|    20000.0|\n",
      "|      7|       102|  Phone|Electronics|       1|30000.0|2024-03-02|    30000.0|\n",
      "+-------+----------+-------+-----------+--------+-------+----------+-----------+\n",
      "\n"
     ]
    }
   ],
   "source": [
    "# 2.3 Filter orders with TotalAmount > 10,000 .\n",
    "df_orders.filter(df_orders.TotalAmount > 10_000).show()"
   ]
  },
  {
   "cell_type": "code",
   "execution_count": 19,
   "metadata": {
    "colab": {
     "base_uri": "https://localhost:8080/"
    },
    "id": "XrcTy4s69zBu",
    "outputId": "257ad749-589b-4aaa-ff6a-a2926a267a5d"
   },
   "outputs": [
    {
     "name": "stdout",
     "output_type": "stream",
     "text": [
      "+----------+-----+---------+----------+\n",
      "|CustomerID| Name|     City|SignupDate|\n",
      "+----------+-----+---------+----------+\n",
      "|       101|  Ali|   Mumbai|2022-05-10|\n",
      "|       102| Neha|    Delhi|2023-01-15|\n",
      "|       103| Ravi|Bangalore|2021-11-01|\n",
      "|       104|Sneha|Hyderabad|2020-07-22|\n",
      "|       105| Amit|  Chennai|2023-03-10|\n",
      "+----------+-----+---------+----------+\n",
      "\n"
     ]
    }
   ],
   "source": [
    "# 2.4 Drop the Email column from customers .\n",
    "df_customers.drop(\"Email\").show()"
   ]
  },
  {
   "cell_type": "markdown",
   "metadata": {
    "id": "cyMEEBB0-DRH"
   },
   "source": [
    "# **Handling Nulls & Conditionals**"
   ]
  },
  {
   "cell_type": "code",
   "execution_count": 22,
   "metadata": {
    "colab": {
     "base_uri": "https://localhost:8080/"
    },
    "id": "wwov9LUS983G",
    "outputId": "13322302-d92f-405a-dbc1-28c4a057f9f6"
   },
   "outputs": [
    {
     "name": "stdout",
     "output_type": "stream",
     "text": [
      "+----------+-----+-----------------+---------+----------+\n",
      "|CustomerID| Name|            Email|     City|SignupDate|\n",
      "+----------+-----+-----------------+---------+----------+\n",
      "|       101|  Ali|    ali@gmail.com|  Unknown|2022-05-10|\n",
      "|       102| Neha|   neha@yahoo.com|    Delhi|2023-01-15|\n",
      "|       103| Ravi| ravi@hotmail.com|Bangalore|2021-11-01|\n",
      "|       104|Sneha|sneha@outlook.com|Hyderabad|2020-07-22|\n",
      "|       105| Amit|   amit@gmail.com|  Chennai|2023-03-10|\n",
      "+----------+-----+-----------------+---------+----------+\n",
      "\n"
     ]
    }
   ],
   "source": [
    "# 3.1 Simulate a null in City and fill it with “Unknown”.\n",
    "df_customers_null = df_customers.withColumn(\"City\", F.when(df_customers.City == \"Mumbai\", None).otherwise(df_customers.City))\n",
    "\n",
    "df_customers_null.fillna(\"Unknown\", subset=\"City\").show()\n"
   ]
  },
  {
   "cell_type": "code",
   "execution_count": 25,
   "metadata": {
    "colab": {
     "base_uri": "https://localhost:8080/"
    },
    "id": "raqiA8oG-ocf",
    "outputId": "fa47ff49-84a6-449a-adb5-c5012129be76"
   },
   "outputs": [
    {
     "name": "stdout",
     "output_type": "stream",
     "text": [
      "+----------+-----+-----------------+---------+----------+-------------+\n",
      "|CustomerID| Name|            Email|     City|SignupDate|CustomerLabel|\n",
      "+----------+-----+-----------------+---------+----------+-------------+\n",
      "|       101|  Ali|    ali@gmail.com|   Mumbai|2022-05-10|        Loyal|\n",
      "|       102| Neha|   neha@yahoo.com|    Delhi|2023-01-15|          New|\n",
      "|       103| Ravi| ravi@hotmail.com|Bangalore|2021-11-01|        Loyal|\n",
      "|       104|Sneha|sneha@outlook.com|Hyderabad|2020-07-22|        Loyal|\n",
      "|       105| Amit|   amit@gmail.com|  Chennai|2023-03-10|          New|\n",
      "+----------+-----+-----------------+---------+----------+-------------+\n",
      "\n"
     ]
    }
   ],
   "source": [
    "# 3.2 Label customers as “Loyal” if SignupDate is before 2022, else “New”.\n",
    "df_customers.withColumn(\n",
    "    \"CustomerLabel\", F.when((F.year(\"SignupDate\") <= 2022), \"Loyal\").otherwise(\"New\")\n",
    "    ).show()"
   ]
  },
  {
   "cell_type": "code",
   "execution_count": 26,
   "metadata": {
    "colab": {
     "base_uri": "https://localhost:8080/"
    },
    "id": "VkzKKG9NAQHl",
    "outputId": "c14aa332-0f53-4f17-9bd6-8acc67e02486"
   },
   "outputs": [
    {
     "name": "stdout",
     "output_type": "stream",
     "text": [
      "+-------+----------+---------+-----------+--------+-------+----------+-----------+---------+\n",
      "|OrderID|CustomerID|  Product|   Category|Quantity|  Price| OrderDate|TotalAmount|OrderType|\n",
      "+-------+----------+---------+-----------+--------+-------+----------+-----------+---------+\n",
      "|      1|       101|   Laptop|Electronics|       2|50000.0|2024-01-10|   100000.0|     High|\n",
      "|      2|       101|    Mouse|Electronics|       1| 1200.0|2024-01-15|     1200.0|      Low|\n",
      "|      3|       102|   Tablet|Electronics|       1|20000.0|2024-02-01|    20000.0|     High|\n",
      "|      4|       103|Bookshelf|  Furniture|       1| 3500.0|2024-02-10|     3500.0|      Low|\n",
      "|      5|       104|    Mixer| Appliances|       1| 5000.0|2024-02-15|     5000.0|     High|\n",
      "|      6|       105| Notebook| Stationery|       5|  500.0|2024-03-01|     2500.0|      Low|\n",
      "|      7|       102|    Phone|Electronics|       1|30000.0|2024-03-02|    30000.0|     High|\n",
      "+-------+----------+---------+-----------+--------+-------+----------+-----------+---------+\n",
      "\n"
     ]
    }
   ],
   "source": [
    "# 3.3 Create OrderType column: \"Low\" if < 5,000, \"High\" if ≥ 5,000.\n",
    "df_orders.withColumn(\n",
    "    \"OrderType\",\n",
    "    F.when(df_orders.TotalAmount < 5_000, \"Low\").otherwise(\"High\")\n",
    ").show()"
   ]
  },
  {
   "cell_type": "markdown",
   "metadata": {
    "id": "k-drjHRlA8y2"
   },
   "source": [
    "# **Joins & Aggregations**"
   ]
  },
  {
   "cell_type": "code",
   "execution_count": 29,
   "metadata": {
    "colab": {
     "base_uri": "https://localhost:8080/"
    },
    "id": "EL7onM8yAyvP",
    "outputId": "4cb0dc3a-fac5-4b8e-e88e-6a183538c2bc"
   },
   "outputs": [
    {
     "name": "stdout",
     "output_type": "stream",
     "text": [
      "+----------+-----+-----------------+---------+----------+-------+---------+-----------+--------+-------+----------+-----------+\n",
      "|CustomerID| Name|            Email|     City|SignupDate|OrderID|  Product|   Category|Quantity|  Price| OrderDate|TotalAmount|\n",
      "+----------+-----+-----------------+---------+----------+-------+---------+-----------+--------+-------+----------+-----------+\n",
      "|       101|  Ali|    ali@gmail.com|   Mumbai|2022-05-10|      1|   Laptop|Electronics|       2|50000.0|2024-01-10|   100000.0|\n",
      "|       101|  Ali|    ali@gmail.com|   Mumbai|2022-05-10|      2|    Mouse|Electronics|       1| 1200.0|2024-01-15|     1200.0|\n",
      "|       102| Neha|   neha@yahoo.com|    Delhi|2023-01-15|      3|   Tablet|Electronics|       1|20000.0|2024-02-01|    20000.0|\n",
      "|       103| Ravi| ravi@hotmail.com|Bangalore|2021-11-01|      4|Bookshelf|  Furniture|       1| 3500.0|2024-02-10|     3500.0|\n",
      "|       104|Sneha|sneha@outlook.com|Hyderabad|2020-07-22|      5|    Mixer| Appliances|       1| 5000.0|2024-02-15|     5000.0|\n",
      "|       105| Amit|   amit@gmail.com|  Chennai|2023-03-10|      6| Notebook| Stationery|       5|  500.0|2024-03-01|     2500.0|\n",
      "|       102| Neha|   neha@yahoo.com|    Delhi|2023-01-15|      7|    Phone|Electronics|       1|30000.0|2024-03-02|    30000.0|\n",
      "+----------+-----+-----------------+---------+----------+-------+---------+-----------+--------+-------+----------+-----------+\n",
      "\n"
     ]
    }
   ],
   "source": [
    "# 4.1 Join customers and orders on CustomerID .\n",
    "df_joined = df_customers.join(df_orders, on=\"CustomerID\", how=\"inner\")\n",
    "df_joined.show()"
   ]
  },
  {
   "cell_type": "code",
   "execution_count": 35,
   "metadata": {
    "colab": {
     "base_uri": "https://localhost:8080/"
    },
    "id": "4fHe4P8KBLQ4",
    "outputId": "11652b4e-8b69-44ec-f397-1c705348c7dd"
   },
   "outputs": [
    {
     "name": "stdout",
     "output_type": "stream",
     "text": [
      "+---------+-----------+--------------+\n",
      "|     City|TotalOrders|RevenuePerCity|\n",
      "+---------+-----------+--------------+\n",
      "|Bangalore|          1|        3500.0|\n",
      "|  Chennai|          1|        2500.0|\n",
      "|   Mumbai|          2|      101200.0|\n",
      "|    Delhi|          2|       50000.0|\n",
      "|Hyderabad|          1|        5000.0|\n",
      "+---------+-----------+--------------+\n",
      "\n"
     ]
    }
   ],
   "source": [
    "# 4.2 Get total orders and revenue per city.\n",
    "df_joined.groupBy(\"City\").agg(\n",
    "      F.count(\"OrderID\").alias(\"TotalOrders\"),\n",
    "      F.sum(\"TotalAmount\").alias(\"RevenuePerCity\")\n",
    ").show()"
   ]
  },
  {
   "cell_type": "code",
   "execution_count": 40,
   "metadata": {
    "colab": {
     "base_uri": "https://localhost:8080/"
    },
    "id": "8D9O0I21BzMY",
    "outputId": "e01e1755-f452-4e39-a468-6966dc5a926b"
   },
   "outputs": [
    {
     "name": "stdout",
     "output_type": "stream",
     "text": [
      "+----------+--------+\n",
      "|CustomerID|   Spend|\n",
      "+----------+--------+\n",
      "|       101|101200.0|\n",
      "|       102| 50000.0|\n",
      "|       104|  5000.0|\n",
      "+----------+--------+\n",
      "only showing top 3 rows\n",
      "\n"
     ]
    }
   ],
   "source": [
    "# 4.3 Show top 3 customers by total spend.\n",
    "df_spend = df_joined.groupBy(\"CustomerID\").agg(\n",
    "    F.sum(\"TotalAmount\").alias(\"Spend\")\n",
    ")\n",
    "df_spend.sort(df_spend.Spend.desc()).show(3)"
   ]
  },
  {
   "cell_type": "code",
   "execution_count": 42,
   "metadata": {
    "colab": {
     "base_uri": "https://localhost:8080/"
    },
    "id": "jQx15c6YC0O0",
    "outputId": "cedb2748-8d9f-44fb-eee6-330a65f4b7db"
   },
   "outputs": [
    {
     "name": "stdout",
     "output_type": "stream",
     "text": [
      "+-----------+------------+\n",
      "|   Category|ProductsSold|\n",
      "+-----------+------------+\n",
      "| Stationery|           5|\n",
      "|Electronics|           5|\n",
      "|  Furniture|           1|\n",
      "| Appliances|           1|\n",
      "+-----------+------------+\n",
      "\n"
     ]
    }
   ],
   "source": [
    "# 4.4 Count how many products each category has sold.\n",
    "df_joined.groupBy(\"Category\").agg(\n",
    "    F.sum(\"Quantity\").alias(\"ProductsSold\")\n",
    ").show()"
   ]
  },
  {
   "cell_type": "markdown",
   "metadata": {
    "id": "n2td1WOCDyU-"
   },
   "source": [
    "# **Spark SQL Tasks**"
   ]
  },
  {
   "cell_type": "code",
   "execution_count": 44,
   "metadata": {
    "colab": {
     "base_uri": "https://localhost:8080/"
    },
    "id": "ZSFkhr7SDpAH",
    "outputId": "3e004f15-fa45-4af3-9bf1-9ac26ce79cdf"
   },
   "outputs": [
    {
     "data": {
      "text/plain": [
       "DataFrame[]"
      ]
     },
     "execution_count": 44,
     "metadata": {},
     "output_type": "execute_result"
    }
   ],
   "source": [
    "# 5.1 Create database sales and switch to it.\n",
    "spark.sql(\"CREATE DATABASE IF NOT EXISTS sales\")\n",
    "spark.sql(\"USE sales\")"
   ]
  },
  {
   "cell_type": "code",
   "execution_count": 45,
   "metadata": {
    "id": "FnbiBQn7D8bG"
   },
   "outputs": [],
   "source": [
    "# 5.2 Save both datasets as tables in the sales database.\n",
    "df_customers.write.mode(\"overwrite\").saveAsTable(\"sales.customers\")\n",
    "df_orders.write.mode(\"overwrite\").saveAsTable(\"sales.orders\")"
   ]
  },
  {
   "cell_type": "code",
   "execution_count": 48,
   "metadata": {
    "colab": {
     "base_uri": "https://localhost:8080/"
    },
    "id": "qwTAae5FEwFo",
    "outputId": "5481b0d6-3261-4718-f7ae-5fa0d5503d98"
   },
   "outputs": [
    {
     "name": "stdout",
     "output_type": "stream",
     "text": [
      "+----------+----+--------------+-----+----------+\n",
      "|CustomerID|Name|         Email| City|SignupDate|\n",
      "+----------+----+--------------+-----+----------+\n",
      "|       102|Neha|neha@yahoo.com|Delhi|2023-01-15|\n",
      "+----------+----+--------------+-----+----------+\n",
      "\n"
     ]
    }
   ],
   "source": [
    "# 5.3.1 List all orders by customers from “Delhi”.\n",
    "spark.sql(\"\"\"\n",
    "  SELECT * FROM customers\n",
    "  WHERE City = 'Delhi'\"\"\").show()"
   ]
  },
  {
   "cell_type": "code",
   "execution_count": 50,
   "metadata": {
    "colab": {
     "base_uri": "https://localhost:8080/"
    },
    "id": "K-dOLwHuE8aG",
    "outputId": "a85b6c9d-307c-44c6-d6c3-487726bcb622"
   },
   "outputs": [
    {
     "name": "stdout",
     "output_type": "stream",
     "text": [
      "+-----------+-----------------+\n",
      "|   Category|AverageOrderValue|\n",
      "+-----------+-----------------+\n",
      "| Stationery|           2500.0|\n",
      "|Electronics|          37800.0|\n",
      "|  Furniture|           3500.0|\n",
      "| Appliances|           5000.0|\n",
      "+-----------+-----------------+\n",
      "\n"
     ]
    }
   ],
   "source": [
    "# 5.3.2 Find average order value in each category.\n",
    "spark.sql(\"\"\"\n",
    "  SELECT Category, AVG(TotalAmount) AS AverageOrderValue FROM orders\n",
    "  GROUP BY Category\n",
    "\"\"\").show()"
   ]
  },
  {
   "cell_type": "code",
   "execution_count": 57,
   "metadata": {
    "colab": {
     "base_uri": "https://localhost:8080/"
    },
    "id": "P2CP4fz0FcXK",
    "outputId": "233adf4c-0622-4ffd-a423-b333c4432566"
   },
   "outputs": [
    {
     "name": "stdout",
     "output_type": "stream",
     "text": [
      "+-----+--------------+\n",
      "|Month|MonthWiseTotal|\n",
      "+-----+--------------+\n",
      "|    1|      101200.0|\n",
      "|    3|       32500.0|\n",
      "|    2|       28500.0|\n",
      "+-----+--------------+\n",
      "\n"
     ]
    }
   ],
   "source": [
    "# 5.3.3 Create a view monthly_orders with month-wise total amount.\n",
    "spark.sql(\"\"\"\n",
    "  SELECT MONTH(OrderDate) AS Month, SUM(TotalAmount) AS MonthWiseTotal FROM orders\n",
    "  GROUP BY Month\n",
    "  \"\"\").createOrReplaceTempView(\"month_wise\")\n",
    "\n",
    "spark.sql(\"SELECT * FROM month_wise\").show()"
   ]
  },
  {
   "cell_type": "markdown",
   "metadata": {
    "id": "4zV8Iqa3G9la"
   },
   "source": [
    "# **String & Date Functions**"
   ]
  },
  {
   "cell_type": "code",
   "execution_count": 63,
   "metadata": {
    "colab": {
     "base_uri": "https://localhost:8080/"
    },
    "id": "QRnWkAKwF9dc",
    "outputId": "cc956d65-d165-4acd-d64a-5fd152facc40"
   },
   "outputs": [
    {
     "name": "stdout",
     "output_type": "stream",
     "text": [
      "+-----------------+-----------------+\n",
      "|            Email|           Masked|\n",
      "+-----------------+-----------------+\n",
      "|    ali@gmail.com|    a**@gmail.com|\n",
      "|   neha@yahoo.com|   n***@yahoo.com|\n",
      "| ravi@hotmail.com| r***@hotmail.com|\n",
      "|sneha@outlook.com|s****@outlook.com|\n",
      "|   amit@gmail.com|   a***@gmail.com|\n",
      "+-----------------+-----------------+\n",
      "\n"
     ]
    }
   ],
   "source": [
    "# 6.1 Mask emails using regex (e.g., a***@gmail.com ).\n",
    "spark.sql(\"\"\"\n",
    "  SELECT Email, CONCAT(\n",
    "    SUBSTR(Email, 1, 1),\n",
    "    REPEAT('*', LENGTH(SPLIT(Email, '@')[0])-1),\n",
    "    '@',\n",
    "    SPLIT(Email, '@')[1]\n",
    "    ) AS Masked FROM customers\n",
    "\n",
    "\"\"\").show()"
   ]
  },
  {
   "cell_type": "code",
   "execution_count": 65,
   "metadata": {
    "colab": {
     "base_uri": "https://localhost:8080/"
    },
    "id": "CaoRCKQqHZ_9",
    "outputId": "13fee6ea-b902-456a-f7ba-6184fc8bfa8f"
   },
   "outputs": [
    {
     "name": "stdout",
     "output_type": "stream",
     "text": [
      "+--------------------+\n",
      "|                 Bio|\n",
      "+--------------------+\n",
      "|     Ali from Mumbai|\n",
      "|     Neha from Delhi|\n",
      "| Ravi from Bangalore|\n",
      "|Sneha from Hyderabad|\n",
      "|   Amit from Chennai|\n",
      "+--------------------+\n",
      "\n"
     ]
    }
   ],
   "source": [
    "# 6.2 Concatenate Name and City as “Name from City”.\n",
    "spark.sql(\"\"\"\n",
    "  SELECT CONCAT(Name, ' from ', City) AS Bio FROM customers\n",
    "\"\"\").show()"
   ]
  },
  {
   "cell_type": "code",
   "execution_count": 69,
   "metadata": {
    "colab": {
     "base_uri": "https://localhost:8080/"
    },
    "id": "VcF4yEqTInG4",
    "outputId": "7cea3230-47ff-420e-ca94-0dfc331cb97f"
   },
   "outputs": [
    {
     "name": "stdout",
     "output_type": "stream",
     "text": [
      "+-----+-----------+\n",
      "| Name|CustomerAge|\n",
      "+-----+-----------+\n",
      "|  Ali|       1126|\n",
      "| Neha|        876|\n",
      "| Ravi|       1316|\n",
      "|Sneha|       1783|\n",
      "| Amit|        822|\n",
      "+-----+-----------+\n",
      "\n"
     ]
    }
   ],
   "source": [
    "# 6.3 Use datediff() to calculate customer age in days.\n",
    "spark.sql(\"\"\"\n",
    "  SELECT Name, DATEDIFF(CURRENT_DATE(), SignupDate) AS CustomerAge FROM customers\n",
    "\"\"\").show()"
   ]
  },
  {
   "cell_type": "code",
   "execution_count": 71,
   "metadata": {
    "colab": {
     "base_uri": "https://localhost:8080/"
    },
    "id": "xuXr8ZUDJV_3",
    "outputId": "a7edafc0-e45f-42f3-831e-9cec032a036d"
   },
   "outputs": [
    {
     "name": "stdout",
     "output_type": "stream",
     "text": [
      "+----------+----------+\n",
      "| OrderDate|OrderMonth|\n",
      "+----------+----------+\n",
      "|2024-01-10|         1|\n",
      "|2024-01-15|         1|\n",
      "|2024-02-01|         2|\n",
      "|2024-02-10|         2|\n",
      "|2024-02-15|         2|\n",
      "|2024-03-01|         3|\n",
      "|2024-03-02|         3|\n",
      "+----------+----------+\n",
      "\n"
     ]
    }
   ],
   "source": [
    "# 6.4 Extract month name from OrderDate .\n",
    "spark.sql(\"\"\"\n",
    "  SELECT OrderDate, MONTH(OrderDate) AS OrderMonth FROM orders\n",
    "\"\"\").show()"
   ]
  },
  {
   "cell_type": "markdown",
   "metadata": {
    "id": "nr5LDqT7J9CK"
   },
   "source": [
    "# **UDFs and Complex Logic**"
   ]
  },
  {
   "cell_type": "code",
   "execution_count": 76,
   "metadata": {
    "colab": {
     "base_uri": "https://localhost:8080/"
    },
    "id": "WsIkB_HOJxZn",
    "outputId": "19d294f2-93ac-4bb2-c494-89c4e5589745"
   },
   "outputs": [
    {
     "name": "stdout",
     "output_type": "stream",
     "text": [
      "+-----+------+\n",
      "| Name|   Tag|\n",
      "+-----+------+\n",
      "| Ravi|Bronze|\n",
      "|Sneha|Bronze|\n",
      "| Amit|Bronze|\n",
      "| Neha|Silver|\n",
      "|  Ali|  Gold|\n",
      "+-----+------+\n",
      "\n"
     ]
    }
   ],
   "source": [
    "# 7.1 Write a UDF to tag customers: “Gold” if spend > 50K, “Silver” if 10K–50K, “Bronze” if <10K.\n",
    "def priceTagger(spend):\n",
    "  if spend > 50_000:\n",
    "    return \"Gold\"\n",
    "  elif spend < 10_000:\n",
    "    return \"Bronze\"\n",
    "  else:\n",
    "    return \"Silver\"\n",
    "\n",
    "spark.udf.register(\"priceTagger\", priceTagger)\n",
    "\n",
    "spark.sql(\"\"\"\n",
    "   SELECT Name, priceTagger(Tag) AS Tag FROM\n",
    "          (SELECT c.Name, SUM(o.TotalAmount) AS Tag FROM customers c\n",
    "          INNER JOIN orders o\n",
    "          ON c.CustomerID = o.CustomerID\n",
    "          GROUP BY c.Name) e\n",
    "\"\"\").show()"
   ]
  },
  {
   "cell_type": "code",
   "execution_count": 82,
   "metadata": {
    "colab": {
     "base_uri": "https://localhost:8080/"
    },
    "id": "q2VnvASdLKkY",
    "outputId": "5664dcff-8cd5-492e-e4ff-03c18bc57e7e"
   },
   "outputs": [
    {
     "name": "stdout",
     "output_type": "stream",
     "text": [
      "+---------+---------+\n",
      "|  Product|Shortened|\n",
      "+---------+---------+\n",
      "|   Laptop|   Lap...|\n",
      "|    Mouse|    Mou..|\n",
      "|   Tablet|   Tab...|\n",
      "|Bookshelf|Boo......|\n",
      "|    Mixer|    Mix..|\n",
      "| Notebook| Not.....|\n",
      "|    Phone|    Pho..|\n",
      "+---------+---------+\n",
      "\n"
     ]
    }
   ],
   "source": [
    "# 7.2 Write a UDF to shorten product names (first 3 letters + ...).\n",
    "def shortner(name):\n",
    "  nameLen = len(name) - 3\n",
    "  return name[:3] + (\".\" * nameLen)\n",
    "\n",
    "spark.udf.register(\"shortner\", shortner)\n",
    "\n",
    "spark.sql(\"\"\"\n",
    "  SELECT Product, shortner(Product) AS Shortened FROM orders\n",
    "\"\"\").show()"
   ]
  },
  {
   "cell_type": "markdown",
   "metadata": {
    "id": "XttRAlSPNHWG"
   },
   "source": [
    "# **Parquet & Views**"
   ]
  },
  {
   "cell_type": "code",
   "execution_count": 83,
   "metadata": {
    "id": "JZ3_SKPvMYuc"
   },
   "outputs": [],
   "source": [
    "# 8.1 Save the joined result as a Parquet file.\n",
    "df_joined.write.mode(\"overwrite\").parquet(\"joined\")"
   ]
  },
  {
   "cell_type": "code",
   "execution_count": 84,
   "metadata": {
    "colab": {
     "base_uri": "https://localhost:8080/"
    },
    "id": "a10FH4PANfVL",
    "outputId": "0234e7bb-92c7-4eda-c010-79f1780360dd"
   },
   "outputs": [
    {
     "name": "stdout",
     "output_type": "stream",
     "text": [
      "root\n",
      " |-- CustomerID: integer (nullable = true)\n",
      " |-- Name: string (nullable = true)\n",
      " |-- Email: string (nullable = true)\n",
      " |-- City: string (nullable = true)\n",
      " |-- SignupDate: date (nullable = true)\n",
      " |-- OrderID: integer (nullable = true)\n",
      " |-- Product: string (nullable = true)\n",
      " |-- Category: string (nullable = true)\n",
      " |-- Quantity: integer (nullable = true)\n",
      " |-- Price: double (nullable = true)\n",
      " |-- OrderDate: date (nullable = true)\n",
      " |-- TotalAmount: double (nullable = true)\n",
      "\n"
     ]
    }
   ],
   "source": [
    "# 8.2 Read it back and verify schema.\n",
    "df_parquet = spark.read.parquet(\"/content/joined\")\n",
    "df_parquet.printSchema()"
   ]
  },
  {
   "cell_type": "code",
   "execution_count": 87,
   "metadata": {
    "colab": {
     "base_uri": "https://localhost:8080/"
    },
    "id": "mAwY9cS8NvZR",
    "outputId": "d6f73e83-0b4a-4ede-cd82-00d310cd2150"
   },
   "outputs": [
    {
     "name": "stdout",
     "output_type": "stream",
     "text": [
      "+----------+-----+-----------------+---------+----------+-------+---------+-----------+--------+-------+----------+-----------+\n",
      "|CustomerID| Name|            Email|     City|SignupDate|OrderID|  Product|   Category|Quantity|  Price| OrderDate|TotalAmount|\n",
      "+----------+-----+-----------------+---------+----------+-------+---------+-----------+--------+-------+----------+-----------+\n",
      "|       101|  Ali|    ali@gmail.com|   Mumbai|2022-05-10|      1|   Laptop|Electronics|       2|50000.0|2024-01-10|   100000.0|\n",
      "|       101|  Ali|    ali@gmail.com|   Mumbai|2022-05-10|      2|    Mouse|Electronics|       1| 1200.0|2024-01-15|     1200.0|\n",
      "|       102| Neha|   neha@yahoo.com|    Delhi|2023-01-15|      3|   Tablet|Electronics|       1|20000.0|2024-02-01|    20000.0|\n",
      "|       103| Ravi| ravi@hotmail.com|Bangalore|2021-11-01|      4|Bookshelf|  Furniture|       1| 3500.0|2024-02-10|     3500.0|\n",
      "|       104|Sneha|sneha@outlook.com|Hyderabad|2020-07-22|      5|    Mixer| Appliances|       1| 5000.0|2024-02-15|     5000.0|\n",
      "|       105| Amit|   amit@gmail.com|  Chennai|2023-03-10|      6| Notebook| Stationery|       5|  500.0|2024-03-01|     2500.0|\n",
      "|       102| Neha|   neha@yahoo.com|    Delhi|2023-01-15|      7|    Phone|Electronics|       1|30000.0|2024-03-02|    30000.0|\n",
      "+----------+-----+-----------------+---------+----------+-------+---------+-----------+--------+-------+----------+-----------+\n",
      "\n"
     ]
    }
   ],
   "source": [
    "# 8.3 Create and query a global temp view.\n",
    "df_parquet.createOrReplaceGlobalTempView(\"joined\")\n",
    "spark.sql(\"SELECT * FROM global_temp.joined\").show()"
   ]
  },
  {
   "cell_type": "code",
   "execution_count": 91,
   "metadata": {
    "id": "Tsgw7mA7Pyb0"
   },
   "outputs": [],
   "source": [
    "df_customers.write.mode(\"overwrite\").parquet(\"customers\")"
   ]
  },
  {
   "cell_type": "code",
   "execution_count": 97,
   "metadata": {
    "colab": {
     "base_uri": "https://localhost:8080/"
    },
    "id": "8yNQPqSNN8zJ",
    "outputId": "d423fce3-5d53-4fe5-b0d2-4aec95ea6a0b"
   },
   "outputs": [
    {
     "name": "stdout",
     "output_type": "stream",
     "text": [
      "root\n",
      " |-- CustomerID: integer (nullable = true)\n",
      " |-- Name: string (nullable = true)\n",
      " |-- Email: string (nullable = true)\n",
      " |-- City: string (nullable = true)\n",
      " |-- SignupDate: date (nullable = true)\n",
      "\n",
      "Csv read time taken: 0.4918828010559082\n",
      "root\n",
      " |-- CustomerID: integer (nullable = true)\n",
      " |-- Name: string (nullable = true)\n",
      " |-- Email: string (nullable = true)\n",
      " |-- City: string (nullable = true)\n",
      " |-- SignupDate: date (nullable = true)\n",
      "\n",
      "Parquet read time taken: 0.37914228439331055\n",
      "Parquet is 25.89 % faster than CSV\n"
     ]
    }
   ],
   "source": [
    "# 8.4 Compare performance between CSV read and Parquet read.\n",
    "csv_start = time.time()\n",
    "df_time = spark.read.csv(\"/content/customers.csv\", header=True, inferSchema=True)\n",
    "df_time.printSchema()\n",
    "csv_end = time.time()\n",
    "csvTime = csv_end - csv_start\n",
    "print(f\"Csv read time taken: {csvTime}\")\n",
    "\n",
    "parquet_start = time.time()\n",
    "df_parquet_time = spark.read.option(\"header\", \"true\").parquet(r\"/content/customers\")\n",
    "df_parquet_time.printSchema()\n",
    "parquet_end = time.time()\n",
    "parquetTime = parquet_end - parquet_start\n",
    "print(f\"Parquet read time taken: {parquetTime}\")\n",
    "\n",
    "percentageDiff = (abs(csvTime - parquetTime) / ((csvTime + parquetTime) / 2)) * 100\n",
    "print(f\"Parquet is {percentageDiff:.2f} % faster than CSV\")"
   ]
  },
  {
   "cell_type": "code",
   "execution_count": null,
   "metadata": {
    "id": "tTV-4spYPBjf"
   },
   "outputs": [],
   "source": []
  }
 ],
 "metadata": {
  "colab": {
   "provenance": []
  },
  "kernelspec": {
   "display_name": "Python 3",
   "name": "python3"
  },
  "language_info": {
   "codemirror_mode": {
    "name": "ipython",
    "version": 3
   },
   "file_extension": ".py",
   "mimetype": "text/x-python",
   "name": "python",
   "nbconvert_exporter": "python",
   "pygments_lexer": "ipython3",
   "version": "3.11.4"
  }
 },
 "nbformat": 4,
 "nbformat_minor": 0
}
