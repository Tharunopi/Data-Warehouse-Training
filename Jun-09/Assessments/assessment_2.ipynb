{
  "nbformat": 4,
  "nbformat_minor": 0,
  "metadata": {
    "colab": {
      "provenance": []
    },
    "kernelspec": {
      "name": "python3",
      "display_name": "Python 3"
    },
    "language_info": {
      "name": "python"
    }
  },
  "cells": [
    {
      "cell_type": "code",
      "execution_count": 1,
      "metadata": {
        "id": "hzvdc1eYSYUU"
      },
      "outputs": [],
      "source": [
        "from pyspark.sql import SparkSession\n",
        "import pyspark.sql.functions as F"
      ]
    },
    {
      "cell_type": "code",
      "source": [
        "spark = SparkSession.builder.appName(\"deo\").enableHiveSupport().getOrCreate()"
      ],
      "metadata": {
        "id": "BhYhv48xSjQ-"
      },
      "execution_count": 2,
      "outputs": []
    },
    {
      "cell_type": "code",
      "source": [
        "spark"
      ],
      "metadata": {
        "colab": {
          "base_uri": "https://localhost:8080/",
          "height": 219
        },
        "id": "dtiVqxHmS5EE",
        "outputId": "07e7fd47-141c-427d-9931-b6824fb517c4"
      },
      "execution_count": 3,
      "outputs": [
        {
          "output_type": "execute_result",
          "data": {
            "text/plain": [
              "<pyspark.sql.session.SparkSession at 0x7b14747f0450>"
            ],
            "text/html": [
              "\n",
              "            <div>\n",
              "                <p><b>SparkSession - hive</b></p>\n",
              "                \n",
              "        <div>\n",
              "            <p><b>SparkContext</b></p>\n",
              "\n",
              "            <p><a href=\"http://5202ca7494e0:4040\">Spark UI</a></p>\n",
              "\n",
              "            <dl>\n",
              "              <dt>Version</dt>\n",
              "                <dd><code>v3.5.1</code></dd>\n",
              "              <dt>Master</dt>\n",
              "                <dd><code>local[*]</code></dd>\n",
              "              <dt>AppName</dt>\n",
              "                <dd><code>deo</code></dd>\n",
              "            </dl>\n",
              "        </div>\n",
              "        \n",
              "            </div>\n",
              "        "
            ]
          },
          "metadata": {},
          "execution_count": 3
        }
      ]
    },
    {
      "cell_type": "markdown",
      "source": [
        "# **Ingestion & Exploration**"
      ],
      "metadata": {
        "id": "EOhTX_HdTcQ8"
      }
    },
    {
      "cell_type": "code",
      "source": [
        "# 1.1 Read all 3 files (CSV + JSON) using PySpark.\n",
        "df_employees = spark.read.csv(r\"/content/employees.csv\", header=True, inferSchema=True)\n",
        "df_attendence = spark.read.csv(r\"/content/attendence.csv\", header=True, inferSchema=True)\n",
        "df_bonous = spark.read.option(\"multiline\", \"true\").json(r\"/content/bounuses.json\")"
      ],
      "metadata": {
        "id": "hHAIh1b-S5-5"
      },
      "execution_count": 4,
      "outputs": []
    },
    {
      "cell_type": "code",
      "source": [
        "# 1.2 Show schemas and sample records.\n",
        "df_attendence.show()\n",
        "df_attendence.printSchema()\n",
        "print(\"--------------------------------------------------------------------\")\n",
        "df_employees.show()\n",
        "df_employees.printSchema()\n",
        "print(\"--------------------------------------------------------------------\")\n",
        "df_bonous.show()\n",
        "df_bonous.printSchema()\n",
        "print(\"--------------------------------------------------------------------\")"
      ],
      "metadata": {
        "id": "w8S9cZqWTnXl",
        "colab": {
          "base_uri": "https://localhost:8080/"
        },
        "outputId": "aeca9ebf-04df-480e-f25d-d03e8477eaa0"
      },
      "execution_count": 5,
      "outputs": [
        {
          "output_type": "stream",
          "name": "stdout",
          "text": [
            "+-----+----------+-------+\n",
            "|EmpID|      Date| Status|\n",
            "+-----+----------+-------+\n",
            "|    1|2024-04-01|Present|\n",
            "|    1|2024-04-02|Present|\n",
            "|    2|2024-04-01| Absent|\n",
            "|    2|2024-04-02|Present|\n",
            "|    3|2024-04-01|Present|\n",
            "|    3|2024-04-02|Present|\n",
            "|    4|2024-04-01| Absent|\n",
            "|    4|2024-04-02| Absent|\n",
            "|    5|2024-04-01|Present|\n",
            "|    5|2024-04-02|Present|\n",
            "+-----+----------+-------+\n",
            "\n",
            "root\n",
            " |-- EmpID: integer (nullable = true)\n",
            " |-- Date: date (nullable = true)\n",
            " |-- Status: string (nullable = true)\n",
            "\n",
            "--------------------------------------------------------------------\n",
            "+-----+------+-----------+----------+------+---------+\n",
            "|EmpID|  Name| Department|  JoinDate|Salary|ManagerID|\n",
            "+-----+------+-----------+----------+------+---------+\n",
            "|    1| Anita|         HR|2021-05-01| 55000|     NULL|\n",
            "|    2|   Raj|Engineering|2020-03-15| 80000|        1|\n",
            "|    3|Simran|Engineering|2022-07-10| 75000|        1|\n",
            "|    4| Aamir|  Marketing|2019-11-20| 60000|        1|\n",
            "|    5| Nisha|         HR|2023-01-05| 50000|        1|\n",
            "+-----+------+-----------+----------+------+---------+\n",
            "\n",
            "root\n",
            " |-- EmpID: integer (nullable = true)\n",
            " |-- Name: string (nullable = true)\n",
            " |-- Department: string (nullable = true)\n",
            " |-- JoinDate: date (nullable = true)\n",
            " |-- Salary: integer (nullable = true)\n",
            " |-- ManagerID: integer (nullable = true)\n",
            "\n",
            "--------------------------------------------------------------------\n",
            "+-----+-----+----+\n",
            "|Bonus|EmpID|Year|\n",
            "+-----+-----+----+\n",
            "| 5000|    1|2023|\n",
            "| 7000|    2|2023|\n",
            "| 6500|    3|2023|\n",
            "| 6000|    4|2023|\n",
            "| 4000|    5|2023|\n",
            "+-----+-----+----+\n",
            "\n",
            "root\n",
            " |-- Bonus: long (nullable = true)\n",
            " |-- EmpID: long (nullable = true)\n",
            " |-- Year: long (nullable = true)\n",
            "\n",
            "--------------------------------------------------------------------\n"
          ]
        }
      ]
    },
    {
      "cell_type": "code",
      "source": [
        "# 1.3 Count distinct departments.\n",
        "deptCount = df_employees.select(\"Department\").distinct().count()\n",
        "print(f\"Distinct department count: {deptCount}\")"
      ],
      "metadata": {
        "id": "UFCohk5nUvDZ",
        "colab": {
          "base_uri": "https://localhost:8080/"
        },
        "outputId": "f181e60b-89fe-4259-b92b-acdd47c8e865"
      },
      "execution_count": 6,
      "outputs": [
        {
          "output_type": "stream",
          "name": "stdout",
          "text": [
            "Distinct department count: 3\n"
          ]
        }
      ]
    },
    {
      "cell_type": "markdown",
      "source": [
        "# **DataFrame Operations**"
      ],
      "metadata": {
        "id": "ZVWBA2S5Vh_I"
      }
    },
    {
      "cell_type": "code",
      "source": [
        "# 2.1 Add a column TenureYears using datediff() and round() .\n",
        "df_employees = df_employees.withColumn(\"TenureYears\", F.abs(F.round((F.date_diff(\"JoinDate\", F.current_date()) / 365), 2)))\n",
        "df_employees.show()"
      ],
      "metadata": {
        "id": "_UtzsajyVQcp",
        "colab": {
          "base_uri": "https://localhost:8080/"
        },
        "outputId": "9330bb7a-4f71-4008-ba6f-1b379b0039e0"
      },
      "execution_count": 7,
      "outputs": [
        {
          "output_type": "stream",
          "name": "stdout",
          "text": [
            "+-----+------+-----------+----------+------+---------+-----------+\n",
            "|EmpID|  Name| Department|  JoinDate|Salary|ManagerID|TenureYears|\n",
            "+-----+------+-----------+----------+------+---------+-----------+\n",
            "|    1| Anita|         HR|2021-05-01| 55000|     NULL|       4.11|\n",
            "|    2|   Raj|Engineering|2020-03-15| 80000|        1|       5.24|\n",
            "|    3|Simran|Engineering|2022-07-10| 75000|        1|       2.92|\n",
            "|    4| Aamir|  Marketing|2019-11-20| 60000|        1|       5.56|\n",
            "|    5| Nisha|         HR|2023-01-05| 50000|        1|       2.43|\n",
            "+-----+------+-----------+----------+------+---------+-----------+\n",
            "\n"
          ]
        }
      ]
    },
    {
      "cell_type": "code",
      "source": [
        "# 2.2 Calculate TotalCompensation = Salary + Bonus\n",
        "df_emp_bon = df_employees.join(df_bonous, on=\"EmpID\", how=\"inner\")\n",
        "df_emp_bon.withColumn(\"TotalCompensation\", df_emp_bon.Salary + df_emp_bon.Bonus).show()"
      ],
      "metadata": {
        "id": "mT3gXbROXIOL",
        "colab": {
          "base_uri": "https://localhost:8080/"
        },
        "outputId": "7e8eee1d-e811-4cbe-b992-5422dbe12213"
      },
      "execution_count": 8,
      "outputs": [
        {
          "output_type": "stream",
          "name": "stdout",
          "text": [
            "+-----+------+-----------+----------+------+---------+-----------+-----+----+-----------------+\n",
            "|EmpID|  Name| Department|  JoinDate|Salary|ManagerID|TenureYears|Bonus|Year|TotalCompensation|\n",
            "+-----+------+-----------+----------+------+---------+-----------+-----+----+-----------------+\n",
            "|    1| Anita|         HR|2021-05-01| 55000|     NULL|       4.11| 5000|2023|            60000|\n",
            "|    2|   Raj|Engineering|2020-03-15| 80000|        1|       5.24| 7000|2023|            87000|\n",
            "|    3|Simran|Engineering|2022-07-10| 75000|        1|       2.92| 6500|2023|            81500|\n",
            "|    4| Aamir|  Marketing|2019-11-20| 60000|        1|       5.56| 6000|2023|            66000|\n",
            "|    5| Nisha|         HR|2023-01-05| 50000|        1|       2.43| 4000|2023|            54000|\n",
            "+-----+------+-----------+----------+------+---------+-----------+-----+----+-----------------+\n",
            "\n"
          ]
        }
      ]
    },
    {
      "cell_type": "code",
      "source": [
        "# 2.3 Filter employees with more than 2 years in the company.\n",
        "df_employees.filter(df_employees.TenureYears > 2).show()"
      ],
      "metadata": {
        "id": "CpM_ldFBXnc-",
        "colab": {
          "base_uri": "https://localhost:8080/"
        },
        "outputId": "118c2014-e162-47af-c369-65f1aa7bd361"
      },
      "execution_count": 9,
      "outputs": [
        {
          "output_type": "stream",
          "name": "stdout",
          "text": [
            "+-----+------+-----------+----------+------+---------+-----------+\n",
            "|EmpID|  Name| Department|  JoinDate|Salary|ManagerID|TenureYears|\n",
            "+-----+------+-----------+----------+------+---------+-----------+\n",
            "|    1| Anita|         HR|2021-05-01| 55000|     NULL|       4.11|\n",
            "|    2|   Raj|Engineering|2020-03-15| 80000|        1|       5.24|\n",
            "|    3|Simran|Engineering|2022-07-10| 75000|        1|       2.92|\n",
            "|    4| Aamir|  Marketing|2019-11-20| 60000|        1|       5.56|\n",
            "|    5| Nisha|         HR|2023-01-05| 50000|        1|       2.43|\n",
            "+-----+------+-----------+----------+------+---------+-----------+\n",
            "\n"
          ]
        }
      ]
    },
    {
      "cell_type": "code",
      "source": [
        "# 2.4 Show employees who report to a manager ( ManagerID is not null ).\n",
        "df_employees.filter(df_employees.ManagerID.isNotNull()).show()"
      ],
      "metadata": {
        "id": "E0QNaDw4Yihx",
        "colab": {
          "base_uri": "https://localhost:8080/"
        },
        "outputId": "13021007-fc76-43fd-ff5b-f18c315944bc"
      },
      "execution_count": 10,
      "outputs": [
        {
          "output_type": "stream",
          "name": "stdout",
          "text": [
            "+-----+------+-----------+----------+------+---------+-----------+\n",
            "|EmpID|  Name| Department|  JoinDate|Salary|ManagerID|TenureYears|\n",
            "+-----+------+-----------+----------+------+---------+-----------+\n",
            "|    2|   Raj|Engineering|2020-03-15| 80000|        1|       5.24|\n",
            "|    3|Simran|Engineering|2022-07-10| 75000|        1|       2.92|\n",
            "|    4| Aamir|  Marketing|2019-11-20| 60000|        1|       5.56|\n",
            "|    5| Nisha|         HR|2023-01-05| 50000|        1|       2.43|\n",
            "+-----+------+-----------+----------+------+---------+-----------+\n",
            "\n"
          ]
        }
      ]
    },
    {
      "cell_type": "markdown",
      "source": [
        "# **Aggregation**"
      ],
      "metadata": {
        "id": "jHzmTpH9ZSKC"
      }
    },
    {
      "cell_type": "code",
      "source": [
        "# 3.1 Average salary per department.\n",
        "df_employees.groupBy(\"Department\").agg(\n",
        "    F.mean(df_employees.Salary).alias(\"AverageSalary\")\n",
        ").show()"
      ],
      "metadata": {
        "id": "i_YlZh8NYvxk",
        "colab": {
          "base_uri": "https://localhost:8080/"
        },
        "outputId": "31d8681a-cbd3-498b-8656-65b2c6a7048a"
      },
      "execution_count": 11,
      "outputs": [
        {
          "output_type": "stream",
          "name": "stdout",
          "text": [
            "+-----------+-------------+\n",
            "| Department|AverageSalary|\n",
            "+-----------+-------------+\n",
            "|Engineering|      77500.0|\n",
            "|         HR|      52500.0|\n",
            "|  Marketing|      60000.0|\n",
            "+-----------+-------------+\n",
            "\n"
          ]
        }
      ]
    },
    {
      "cell_type": "code",
      "source": [
        "# 3.2 Number of employees under each manager.\n",
        "df_employees.filter(df_employees.ManagerID.isNotNull()).groupBy(\"ManagerID\").agg(\n",
        "    F.count(\"EmpID\").alias(\"CountEmployee\")\n",
        ").show()"
      ],
      "metadata": {
        "id": "NtnuqoR_ZcuC",
        "colab": {
          "base_uri": "https://localhost:8080/"
        },
        "outputId": "b7733062-63fd-44a6-a900-654f95f6861d"
      },
      "execution_count": 12,
      "outputs": [
        {
          "output_type": "stream",
          "name": "stdout",
          "text": [
            "+---------+-------------+\n",
            "|ManagerID|CountEmployee|\n",
            "+---------+-------------+\n",
            "|        1|            4|\n",
            "+---------+-------------+\n",
            "\n"
          ]
        }
      ]
    },
    {
      "cell_type": "code",
      "source": [
        "# 3.3 Count of absences per employee.\n",
        "df_attendence.filter(df_attendence.Status == \"Absent\").groupBy(\"EmpID\").agg(\n",
        "    F.count(\"Status\").alias(\"AbscentCount\")\n",
        ").show()"
      ],
      "metadata": {
        "id": "7hsMCDivZ5iD",
        "colab": {
          "base_uri": "https://localhost:8080/"
        },
        "outputId": "5925f001-2aa0-4638-a31b-061fdfbf5496"
      },
      "execution_count": 13,
      "outputs": [
        {
          "output_type": "stream",
          "name": "stdout",
          "text": [
            "+-----+------------+\n",
            "|EmpID|AbscentCount|\n",
            "+-----+------------+\n",
            "|    4|           2|\n",
            "|    2|           1|\n",
            "+-----+------------+\n",
            "\n"
          ]
        }
      ]
    },
    {
      "cell_type": "markdown",
      "source": [
        "# **Joins**"
      ],
      "metadata": {
        "id": "ehuKZSX_cKhq"
      }
    },
    {
      "cell_type": "code",
      "source": [
        "# 4.1 Join employees and attendance → Get attendance % (Present days / Total days).\n",
        "emp_att = df_employees.join(df_attendence, on=\"EmpID\", how=\"inner\")\n",
        "att = emp_att.groupBy(\"EmpID\").agg(\n",
        "    F.count(\"*\").alias(\"TotalDays\"),\n",
        "    F.sum(F.when(F.col(\"Status\") == \"Present\", 1).otherwise(0)).alias(\"PresentDays\")\n",
        ")\n",
        "att_summary = att.withColumn(\"Attendance%\", (att.PresentDays / att.TotalDays) * 100).join(df_employees.select(\"EmpID\", \"Department\"), on=\"EmpID\", how=\"inner\")\n",
        "att_summary.show()"
      ],
      "metadata": {
        "id": "142BIbZ4btbc",
        "colab": {
          "base_uri": "https://localhost:8080/"
        },
        "outputId": "c07b102b-3138-41c6-d189-510ee586e0a5"
      },
      "execution_count": 14,
      "outputs": [
        {
          "output_type": "stream",
          "name": "stdout",
          "text": [
            "+-----+---------+-----------+-----------+-----------+\n",
            "|EmpID|TotalDays|PresentDays|Attendance%| Department|\n",
            "+-----+---------+-----------+-----------+-----------+\n",
            "|    1|        2|          2|      100.0|         HR|\n",
            "|    3|        2|          2|      100.0|Engineering|\n",
            "|    5|        2|          2|      100.0|         HR|\n",
            "|    4|        2|          0|        0.0|  Marketing|\n",
            "|    2|        2|          1|       50.0|Engineering|\n",
            "+-----+---------+-----------+-----------+-----------+\n",
            "\n"
          ]
        }
      ]
    },
    {
      "cell_type": "code",
      "source": [
        "# 4.2 Join employees and bonuses → Show top 3 employees by TotalCompensation.\n",
        "emp_bon = df_employees.join(df_bonous, on=\"EmpID\", how=\"inner\")\n",
        "emp_bon = emp_bon.withColumn(\"TotalCompensation\", emp_bon.Salary + emp_bon.Bonus)\n",
        "emp_bon.select([\"Name\", \"TotalCompensation\"]).sort(\"TotalCompensation\", ascending=False).show(3)"
      ],
      "metadata": {
        "id": "j_ia4UYscPS-",
        "colab": {
          "base_uri": "https://localhost:8080/"
        },
        "outputId": "7aa41bdf-a275-4523-8a8d-d1b66d24bc72"
      },
      "execution_count": 15,
      "outputs": [
        {
          "output_type": "stream",
          "name": "stdout",
          "text": [
            "+------+-----------------+\n",
            "|  Name|TotalCompensation|\n",
            "+------+-----------------+\n",
            "|   Raj|            87000|\n",
            "|Simran|            81500|\n",
            "| Aamir|            66000|\n",
            "+------+-----------------+\n",
            "only showing top 3 rows\n",
            "\n"
          ]
        }
      ]
    },
    {
      "cell_type": "code",
      "source": [
        "# 4.3 Multi-level join: employees + bonuses + attendance .\n",
        "emp_bon_att = emp_bon.join(df_attendence, on=\"EmpID\", how=\"inner\")\n",
        "emp_bon_att.show()"
      ],
      "metadata": {
        "id": "ncKl-h9Bfhyz",
        "colab": {
          "base_uri": "https://localhost:8080/"
        },
        "outputId": "572228f0-0ecd-4aa1-a011-08d56f7ce0fa"
      },
      "execution_count": 16,
      "outputs": [
        {
          "output_type": "stream",
          "name": "stdout",
          "text": [
            "+-----+------+-----------+----------+------+---------+-----------+-----+----+-----------------+----------+-------+\n",
            "|EmpID|  Name| Department|  JoinDate|Salary|ManagerID|TenureYears|Bonus|Year|TotalCompensation|      Date| Status|\n",
            "+-----+------+-----------+----------+------+---------+-----------+-----+----+-----------------+----------+-------+\n",
            "|    1| Anita|         HR|2021-05-01| 55000|     NULL|       4.11| 5000|2023|            60000|2024-04-02|Present|\n",
            "|    1| Anita|         HR|2021-05-01| 55000|     NULL|       4.11| 5000|2023|            60000|2024-04-01|Present|\n",
            "|    2|   Raj|Engineering|2020-03-15| 80000|        1|       5.24| 7000|2023|            87000|2024-04-02|Present|\n",
            "|    2|   Raj|Engineering|2020-03-15| 80000|        1|       5.24| 7000|2023|            87000|2024-04-01| Absent|\n",
            "|    3|Simran|Engineering|2022-07-10| 75000|        1|       2.92| 6500|2023|            81500|2024-04-02|Present|\n",
            "|    3|Simran|Engineering|2022-07-10| 75000|        1|       2.92| 6500|2023|            81500|2024-04-01|Present|\n",
            "|    4| Aamir|  Marketing|2019-11-20| 60000|        1|       5.56| 6000|2023|            66000|2024-04-02| Absent|\n",
            "|    4| Aamir|  Marketing|2019-11-20| 60000|        1|       5.56| 6000|2023|            66000|2024-04-01| Absent|\n",
            "|    5| Nisha|         HR|2023-01-05| 50000|        1|       2.43| 4000|2023|            54000|2024-04-02|Present|\n",
            "|    5| Nisha|         HR|2023-01-05| 50000|        1|       2.43| 4000|2023|            54000|2024-04-01|Present|\n",
            "+-----+------+-----------+----------+------+---------+-----------+-----+----+-----------------+----------+-------+\n",
            "\n"
          ]
        }
      ]
    },
    {
      "cell_type": "markdown",
      "source": [
        "# **String & Date Functions**"
      ],
      "metadata": {
        "id": "k9wv8697hdyx"
      }
    },
    {
      "cell_type": "code",
      "source": [
        "# 5.1 Extract year and month from JoinDate .\n",
        "df_employees.withColumns(\n",
        "    {\n",
        "        \"year\": F.year(df_employees.JoinDate) ,\n",
        "        \"month\": F.month(df_employees.JoinDate)\n",
        "    }\n",
        "    ).select([\"Name\", \"year\", \"month\"]).show()"
      ],
      "metadata": {
        "id": "yIy_jXmrgcvM",
        "colab": {
          "base_uri": "https://localhost:8080/"
        },
        "outputId": "5fa0af66-3e5f-4f1d-b43d-b4238bcc1ca2"
      },
      "execution_count": 17,
      "outputs": [
        {
          "output_type": "stream",
          "name": "stdout",
          "text": [
            "+------+----+-----+\n",
            "|  Name|year|month|\n",
            "+------+----+-----+\n",
            "| Anita|2021|    5|\n",
            "|   Raj|2020|    3|\n",
            "|Simran|2022|    7|\n",
            "| Aamir|2019|   11|\n",
            "| Nisha|2023|    1|\n",
            "+------+----+-----+\n",
            "\n"
          ]
        }
      ]
    },
    {
      "cell_type": "code",
      "source": [
        "# 5.2 Mask employee names using regex.\n",
        "df_employees.select(\"Name\").withColumn(\"NameMask\",\n",
        "    F.concat(\n",
        "        F.substring(\"Name\", 1, 1),\n",
        "        F.regexp_replace(F.substring(\"Name\", 2, 50), \".\", \"*\")\n",
        "    )\n",
        ").show()"
      ],
      "metadata": {
        "id": "FDhuAUu8h8kY",
        "colab": {
          "base_uri": "https://localhost:8080/"
        },
        "outputId": "d0c11467-7087-4e4f-9d05-47c23574c155"
      },
      "execution_count": 18,
      "outputs": [
        {
          "output_type": "stream",
          "name": "stdout",
          "text": [
            "+------+--------+\n",
            "|  Name|NameMask|\n",
            "+------+--------+\n",
            "| Anita|   A****|\n",
            "|   Raj|     R**|\n",
            "|Simran|  S*****|\n",
            "| Aamir|   A****|\n",
            "| Nisha|   N****|\n",
            "+------+--------+\n",
            "\n"
          ]
        }
      ]
    },
    {
      "cell_type": "code",
      "source": [
        "# 5.3 Use substring() to create EmpCode like \"EMP001\".\n",
        "df_employees.withColumn(\n",
        "    \"EmpCode\",\n",
        "    F.concat(\n",
        "        F.lit(\"Emp\"),\n",
        "        F.format_string(\"%03d\", F.col(\"EmpID\"))\n",
        "    )\n",
        ").show()"
      ],
      "metadata": {
        "id": "DhzCUC-tiuwV",
        "colab": {
          "base_uri": "https://localhost:8080/"
        },
        "outputId": "6f28af31-eac3-4777-b6dd-faa91c2c13d0"
      },
      "execution_count": 19,
      "outputs": [
        {
          "output_type": "stream",
          "name": "stdout",
          "text": [
            "+-----+------+-----------+----------+------+---------+-----------+-------+\n",
            "|EmpID|  Name| Department|  JoinDate|Salary|ManagerID|TenureYears|EmpCode|\n",
            "+-----+------+-----------+----------+------+---------+-----------+-------+\n",
            "|    1| Anita|         HR|2021-05-01| 55000|     NULL|       4.11| Emp001|\n",
            "|    2|   Raj|Engineering|2020-03-15| 80000|        1|       5.24| Emp002|\n",
            "|    3|Simran|Engineering|2022-07-10| 75000|        1|       2.92| Emp003|\n",
            "|    4| Aamir|  Marketing|2019-11-20| 60000|        1|       5.56| Emp004|\n",
            "|    5| Nisha|         HR|2023-01-05| 50000|        1|       2.43| Emp005|\n",
            "+-----+------+-----------+----------+------+---------+-----------+-------+\n",
            "\n"
          ]
        }
      ]
    },
    {
      "cell_type": "markdown",
      "source": [
        "# **Conditional & Null Handling**"
      ],
      "metadata": {
        "id": "CDl6pj0Ske2Z"
      }
    },
    {
      "cell_type": "code",
      "source": [
        "# 6.1 Use when/otherwise to label performance\n",
        "df_bonous.withColumn(\"PerformanceLabel\", F.when(df_bonous.Bonus > 6000, \"High\").when((df_bonous.Bonus >= 4000) & (df_bonous.Bonus <= 6000), \"Medium\").otherwise(\"Low\")).show()"
      ],
      "metadata": {
        "id": "ywrtOCYljWv6",
        "colab": {
          "base_uri": "https://localhost:8080/"
        },
        "outputId": "cf0e0789-320f-4e2d-9b53-e7aa9979193b"
      },
      "execution_count": 20,
      "outputs": [
        {
          "output_type": "stream",
          "name": "stdout",
          "text": [
            "+-----+-----+----+----------------+\n",
            "|Bonus|EmpID|Year|PerformanceLabel|\n",
            "+-----+-----+----+----------------+\n",
            "| 5000|    1|2023|          Medium|\n",
            "| 7000|    2|2023|            High|\n",
            "| 6500|    3|2023|            High|\n",
            "| 6000|    4|2023|          Medium|\n",
            "| 4000|    5|2023|          Medium|\n",
            "+-----+-----+----+----------------+\n",
            "\n"
          ]
        }
      ]
    },
    {
      "cell_type": "code",
      "source": [
        "# 6.2 Handle missing ManagerID using fillna(\"No Manager\")\n",
        "df_employees = df_employees.withColumn(\"ManagerID\", F.col(\"ManagerID\").cast(\"string\"))\n",
        "df_employees.fillna(\"No Manager\", subset=[\"ManagerID\"]).show()"
      ],
      "metadata": {
        "id": "9vWVt1qwlH8c",
        "colab": {
          "base_uri": "https://localhost:8080/"
        },
        "outputId": "185537f3-4ec6-46df-deb6-49e45ddb2cd1"
      },
      "execution_count": 21,
      "outputs": [
        {
          "output_type": "stream",
          "name": "stdout",
          "text": [
            "+-----+------+-----------+----------+------+----------+-----------+\n",
            "|EmpID|  Name| Department|  JoinDate|Salary| ManagerID|TenureYears|\n",
            "+-----+------+-----------+----------+------+----------+-----------+\n",
            "|    1| Anita|         HR|2021-05-01| 55000|No Manager|       4.11|\n",
            "|    2|   Raj|Engineering|2020-03-15| 80000|         1|       5.24|\n",
            "|    3|Simran|Engineering|2022-07-10| 75000|         1|       2.92|\n",
            "|    4| Aamir|  Marketing|2019-11-20| 60000|         1|       5.56|\n",
            "|    5| Nisha|         HR|2023-01-05| 50000|         1|       2.43|\n",
            "+-----+------+-----------+----------+------+----------+-----------+\n",
            "\n"
          ]
        }
      ]
    },
    {
      "cell_type": "markdown",
      "source": [
        "# **Spark SQL**"
      ],
      "metadata": {
        "id": "uglUPMwMmVGn"
      }
    },
    {
      "cell_type": "code",
      "source": [
        "# 7.1 Create and use database hr .\n",
        "spark.sql(\"CREATE DATABASE IF NOT EXISTS hr\")\n",
        "spark.sql(\"USE hr\")"
      ],
      "metadata": {
        "id": "3PQsJebGmHvD",
        "colab": {
          "base_uri": "https://localhost:8080/"
        },
        "outputId": "3cff46be-46e7-412d-823c-2d48425e4cd0"
      },
      "execution_count": 22,
      "outputs": [
        {
          "output_type": "execute_result",
          "data": {
            "text/plain": [
              "DataFrame[]"
            ]
          },
          "metadata": {},
          "execution_count": 22
        }
      ]
    },
    {
      "cell_type": "code",
      "source": [
        "# 7.2 Save all DataFrames as tables: employees , attendance , bonuses .\n",
        "df_employees.write.saveAsTable(\"hr.employees\")\n",
        "df_attendence.write.saveAsTable(\"hr.attendance\")\n",
        "df_bonous.write.saveAsTable(\"hr.bonous\")"
      ],
      "metadata": {
        "id": "6kh94DQEwYCS"
      },
      "execution_count": 23,
      "outputs": []
    },
    {
      "cell_type": "code",
      "source": [
        "# 7.3.1 Top paid employee in each department.\n",
        "spark.sql(\"\"\"\n",
        "  SELECT e.Department, e.Name, e.Salary\n",
        "  FROM employees e\n",
        "  JOIN (\n",
        "      SELECT Department, MAX(Salary) AS MaxSal\n",
        "      FROM employees\n",
        "      GROUP BY Department\n",
        "  ) m ON e.Department = m.Department AND e.Salary = m.MaxSal\n",
        "\"\"\").show()"
      ],
      "metadata": {
        "id": "vdHvFhNiwxVD",
        "colab": {
          "base_uri": "https://localhost:8080/"
        },
        "outputId": "79d051b6-121d-47bb-8fcb-1b7ef8779f9e"
      },
      "execution_count": 24,
      "outputs": [
        {
          "output_type": "stream",
          "name": "stdout",
          "text": [
            "+-----------+-----+------+\n",
            "| Department| Name|Salary|\n",
            "+-----------+-----+------+\n",
            "|         HR|Anita| 55000|\n",
            "|Engineering|  Raj| 80000|\n",
            "|  Marketing|Aamir| 60000|\n",
            "+-----------+-----+------+\n",
            "\n"
          ]
        }
      ]
    },
    {
      "cell_type": "code",
      "source": [
        "# 7.3.2 Attendance rate by department.\n",
        "att_dept = spark.sql(\"\"\"\n",
        "  SELECT e.Department, (SUM(CASE WHEN a.Status = 'Present' THEN 1 ELSE 0 END) / COUNT(*)) * 100 AS AttendanceRate FROM employees e\n",
        "  INNER JOIN attendance a\n",
        "  ON a.EmpID = e.EmpID\n",
        "  GROUP BY Department\n",
        "\"\"\")\n",
        "att_dept.show()"
      ],
      "metadata": {
        "colab": {
          "base_uri": "https://localhost:8080/"
        },
        "id": "X6Qv5rl8w3HU",
        "outputId": "6145d288-6afb-4b29-dcc7-18892bea71d6"
      },
      "execution_count": 25,
      "outputs": [
        {
          "output_type": "stream",
          "name": "stdout",
          "text": [
            "+-----------+--------------+\n",
            "| Department|AttendanceRate|\n",
            "+-----------+--------------+\n",
            "|Engineering|          75.0|\n",
            "|         HR|         100.0|\n",
            "|  Marketing|           0.0|\n",
            "+-----------+--------------+\n",
            "\n"
          ]
        }
      ]
    },
    {
      "cell_type": "code",
      "source": [
        "# 7.3.3 Employees joined after 2021 with salary > 70,000.\n",
        "spark.sql(\"\"\"\n",
        "  SELECT * FROM employees\n",
        "  WHERE YEAR(JoinDate) > 2021 AND Salary > 70000\n",
        "\"\"\").show()"
      ],
      "metadata": {
        "id": "RqXvcZ5dxrFq",
        "colab": {
          "base_uri": "https://localhost:8080/"
        },
        "outputId": "514ced93-0bc8-4e55-9221-40c2eb87bfdf"
      },
      "execution_count": 26,
      "outputs": [
        {
          "output_type": "stream",
          "name": "stdout",
          "text": [
            "+-----+------+-----------+----------+------+---------+-----------+\n",
            "|EmpID|  Name| Department|  JoinDate|Salary|ManagerID|TenureYears|\n",
            "+-----+------+-----------+----------+------+---------+-----------+\n",
            "|    3|Simran|Engineering|2022-07-10| 75000|        1|       2.92|\n",
            "+-----+------+-----------+----------+------+---------+-----------+\n",
            "\n"
          ]
        }
      ]
    },
    {
      "cell_type": "markdown",
      "source": [
        "# **Advanced**"
      ],
      "metadata": {
        "id": "a_H0qUzWzkpm"
      }
    },
    {
      "cell_type": "code",
      "source": [
        "# 8.1 Use a UDF to classify department as \"Tech\" vs \"Non-Tech\".\n",
        "def classifier(dept):\n",
        "  nonTechDepts = [\"Marketing\", \"HR\"]\n",
        "  if dept in nonTechDepts:\n",
        "    return \"Non-Tech\"\n",
        "  else:\n",
        "    return \"Tech\"\n",
        "\n",
        "spark.udf.register(\"classifier\", classifier)\n",
        "\n",
        "spark.sql(\"\"\"\n",
        "  SELECT Department, classifier(Department) AS DeptCategory FROM employees\n",
        "\"\"\").show()"
      ],
      "metadata": {
        "id": "dold0w0UzURq",
        "colab": {
          "base_uri": "https://localhost:8080/"
        },
        "outputId": "2e54e2d0-83f5-4400-d4ed-315413ed97b9"
      },
      "execution_count": 27,
      "outputs": [
        {
          "output_type": "stream",
          "name": "stdout",
          "text": [
            "+-----------+------------+\n",
            "| Department|DeptCategory|\n",
            "+-----------+------------+\n",
            "|         HR|    Non-Tech|\n",
            "|Engineering|        Tech|\n",
            "|Engineering|        Tech|\n",
            "|  Marketing|    Non-Tech|\n",
            "|         HR|    Non-Tech|\n",
            "+-----------+------------+\n",
            "\n"
          ]
        }
      ]
    },
    {
      "cell_type": "code",
      "source": [
        "# 8.2 Create a view emp_attendance_summary .\n",
        "att_summary.createOrReplaceTempView(\"emp_attendance_summary\")\n",
        "emp_attendance_summary = spark.sql(\"SELECT * FROM emp_attendance_summary\")\n",
        "emp_attendance_summary.show()"
      ],
      "metadata": {
        "id": "ssGhWGSC0AYr",
        "colab": {
          "base_uri": "https://localhost:8080/"
        },
        "outputId": "c60829ce-d900-4bc9-cdfd-281521035c4d"
      },
      "execution_count": 28,
      "outputs": [
        {
          "output_type": "stream",
          "name": "stdout",
          "text": [
            "+-----+---------+-----------+-----------+-----------+\n",
            "|EmpID|TotalDays|PresentDays|Attendance%| Department|\n",
            "+-----+---------+-----------+-----------+-----------+\n",
            "|    1|        2|          2|      100.0|         HR|\n",
            "|    3|        2|          2|      100.0|Engineering|\n",
            "|    5|        2|          2|      100.0|         HR|\n",
            "|    4|        2|          0|        0.0|  Marketing|\n",
            "|    2|        2|          1|       50.0|Engineering|\n",
            "+-----+---------+-----------+-----------+-----------+\n",
            "\n"
          ]
        }
      ]
    },
    {
      "cell_type": "code",
      "source": [
        "# 8.3 Save it as Parquet partitioned by Department .\n",
        "emp_attendance_summary.write.mode(\"overwrite\").parquet(path=r\"/content\", partitionBy=\"Department\")"
      ],
      "metadata": {
        "id": "8_RU6kZE043k"
      },
      "execution_count": 29,
      "outputs": []
    },
    {
      "cell_type": "code",
      "source": [],
      "metadata": {
        "id": "mLdzyK1H1lEn"
      },
      "execution_count": 29,
      "outputs": []
    }
  ]
}