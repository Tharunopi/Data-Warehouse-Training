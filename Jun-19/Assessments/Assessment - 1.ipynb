{
 "cells": [
  {
   "cell_type": "markdown",
   "metadata": {
    "application/vnd.databricks.v1+cell": {
     "cellMetadata": {},
     "inputWidgets": {},
     "nuid": "64dd0c2d-1b30-4ede-a045-2f2681285cae",
     "showTitle": false,
     "tableResultSettingsMap": {},
     "title": ""
    }
   },
   "source": [
    "#**Assessment-1**"
   ]
  },
  {
   "cell_type": "code",
   "execution_count": 0,
   "metadata": {
    "application/vnd.databricks.v1+cell": {
     "cellMetadata": {
      "byteLimit": 2048000,
      "rowLimit": 10000
     },
     "inputWidgets": {},
     "nuid": "6dae7e24-31f9-49ed-a5a9-ef2c154ca16d",
     "showTitle": false,
     "tableResultSettingsMap": {},
     "title": ""
    }
   },
   "outputs": [],
   "source": [
    "from pyspark.sql import SparkSession\n",
    "import pyspark.sql.functions as F\n",
    "from pyspark.sql import Window as W\n",
    "from pyspark.sql.types import *\n",
    "from delta.tables import DeltaTable"
   ]
  },
  {
   "cell_type": "code",
   "execution_count": 0,
   "metadata": {
    "application/vnd.databricks.v1+cell": {
     "cellMetadata": {
      "byteLimit": 2048000,
      "rowLimit": 10000
     },
     "inputWidgets": {},
     "nuid": "64595ea0-b0bd-4e8a-a9c7-4bc5d21bec11",
     "showTitle": false,
     "tableResultSettingsMap": {},
     "title": ""
    }
   },
   "outputs": [],
   "source": [
    "spark = SparkSession.builder.appName(\"dbshell-01\").getOrCreate()"
   ]
  },
  {
   "cell_type": "markdown",
   "metadata": {
    "application/vnd.databricks.v1+cell": {
     "cellMetadata": {},
     "inputWidgets": {},
     "nuid": "feb480a9-caed-4181-8952-68973d79063f",
     "showTitle": false,
     "tableResultSettingsMap": {},
     "title": ""
    }
   },
   "source": [
    "# **Data Ingesiton & Schema Analysis**"
   ]
  },
  {
   "cell_type": "code",
   "execution_count": 0,
   "metadata": {
    "application/vnd.databricks.v1+cell": {
     "cellMetadata": {
      "byteLimit": 2048000,
      "rowLimit": 10000
     },
     "inputWidgets": {},
     "nuid": "bc586ef0-2083-472c-bcbe-cfe98aef3be5",
     "showTitle": false,
     "tableResultSettingsMap": {},
     "title": ""
    }
   },
   "outputs": [],
   "source": [
    "# 1.1 Load CSV using PySpark with schema inference\n",
    "dfTrf = spark.read.csv(\"/FileStore/tables/traffic_logs.csv\", header=True, inferSchema=True)"
   ]
  },
  {
   "cell_type": "code",
   "execution_count": 0,
   "metadata": {
    "application/vnd.databricks.v1+cell": {
     "cellMetadata": {
      "byteLimit": 2048000,
      "rowLimit": 10000
     },
     "inputWidgets": {},
     "nuid": "50d4dee4-97b9-4003-9036-2661bbc6d3b3",
     "showTitle": false,
     "tableResultSettingsMap": {},
     "title": ""
    }
   },
   "outputs": [
    {
     "output_type": "stream",
     "name": "stdout",
     "output_type": "stream",
     "text": [
      "Infered Schema\nroot\n |-- LogID: string (nullable = true)\n |-- VehicleID: string (nullable = true)\n |-- EntryPoint: string (nullable = true)\n |-- ExitPoint: string (nullable = true)\n |-- EntryTime: timestamp (nullable = true)\n |-- ExitTime: timestamp (nullable = true)\n |-- VehicleType: string (nullable = true)\n |-- SpeedKMH: integer (nullable = true)\n |-- TollPaid: integer (nullable = true)\n\nManual Schema\nroot\n |-- LogID: string (nullable = true)\n |-- VechileID: string (nullable = true)\n |-- EntryPoint: string (nullable = true)\n |-- ExitPoint: string (nullable = true)\n |-- EntryTime: timestamp (nullable = true)\n |-- ExitTime: timestamp (nullable = true)\n |-- VechileType: string (nullable = true)\n |-- SpeedKMH: float (nullable = true)\n |-- TollPaid: float (nullable = true)\n\n"
     ]
    }
   ],
   "source": [
    "# 1.2 Manually define schema and compare\n",
    "schema = StructType(\n",
    "    [\n",
    "        StructField(\"LogID\", StringType(), nullable=False),\n",
    "        StructField(\"VechileID\", StringType(), True),\n",
    "        StructField(\"EntryPoint\", StringType(), True),\n",
    "        StructField(\"ExitPoint\", StringType(), True),\n",
    "        StructField(\"EntryTime\", TimestampType(), True),\n",
    "        StructField(\"ExitTime\", TimestampType(), True),\n",
    "        StructField(\"VechileType\", StringType(), True),\n",
    "        StructField(\"SpeedKMH\", FloatType(), True),\n",
    "        StructField(\"TollPaid\", FloatType(), True)\n",
    "    ]\n",
    ")\n",
    "dfTrfManual = spark.read.csv(\"/FileStore/tables/traffic_logs.csv\", header=True, schema=schema)\n",
    "\n",
    "print(\"Infered Schema\")\n",
    "dfTrf.printSchema()\n",
    "\n",
    "print(\"Manual Schema\")\n",
    "dfTrfManual.printSchema()"
   ]
  },
  {
   "cell_type": "code",
   "execution_count": 0,
   "metadata": {
    "application/vnd.databricks.v1+cell": {
     "cellMetadata": {
      "byteLimit": 2048000,
      "rowLimit": 10000
     },
     "inputWidgets": {},
     "nuid": "93c7e41b-66be-45b0-998e-33ec44ec5883",
     "showTitle": false,
     "tableResultSettingsMap": {},
     "title": ""
    }
   },
   "outputs": [
    {
     "output_type": "stream",
     "name": "stdout",
     "output_type": "stream",
     "text": [
      "+-----+---------+----------+---------+-------------------+-------------------+-----------+--------+--------+\n|LogID|VehicleID|EntryPoint|ExitPoint|          EntryTime|           ExitTime|VehicleType|SpeedKMH|TollPaid|\n+-----+---------+----------+---------+-------------------+-------------------+-----------+--------+--------+\n| L001|     V001|     GateA|    GateC|2024-05-01 08:01:00|2024-05-01 08:20:00|        Car|      60|      50|\n| L002|     V002|     GateB|    GateC|2024-05-01 08:10:00|2024-05-01 08:45:00|      Truck|      45|     100|\n| L003|     V003|     GateA|    GateD|2024-05-01 09:00:00|2024-05-01 09:18:00|       Bike|      55|      30|\n| L004|     V004|     GateC|    GateD|2024-05-01 09:15:00|2024-05-01 09:35:00|        Car|      80|      50|\n| L005|     V005|     GateB|    GateA|2024-05-01 10:05:00|2024-05-01 10:40:00|        Bus|      40|      70|\n+-----+---------+----------+---------+-------------------+-------------------+-----------+--------+--------+\n\n"
     ]
    }
   ],
   "source": [
    "# 1.3 Ensure EntryTime/ExitTime are timestamp\n",
    "dfTrf = dfTrf.withColumn(\"EntryTime\", F.to_timestamp(F.col(\"EntryTime\"))) \\\n",
    "             .withColumn(\"ExitTime\", F.to_timestamp(F.col(\"ExitTime\")))\n",
    "dfTrf.show()"
   ]
  },
  {
   "cell_type": "markdown",
   "metadata": {
    "application/vnd.databricks.v1+cell": {
     "cellMetadata": {},
     "inputWidgets": {},
     "nuid": "1f7c87b7-dea8-4adc-b93a-36a4a75b923f",
     "showTitle": false,
     "tableResultSettingsMap": {},
     "title": ""
    }
   },
   "source": [
    "# **Derived Column Creation**"
   ]
  },
  {
   "cell_type": "code",
   "execution_count": 0,
   "metadata": {
    "application/vnd.databricks.v1+cell": {
     "cellMetadata": {
      "byteLimit": 2048000,
      "rowLimit": 10000
     },
     "inputWidgets": {},
     "nuid": "d5552da3-01ad-4a5d-8491-30ff76874fc1",
     "showTitle": false,
     "tableResultSettingsMap": {},
     "title": ""
    }
   },
   "outputs": [
    {
     "output_type": "stream",
     "name": "stdout",
     "output_type": "stream",
     "text": [
      "+---------+-----------+-------------------+\n|VehicleID|VehicleType|TripDurationMinutes|\n+---------+-----------+-------------------+\n|     V001|        Car|               19.0|\n|     V002|      Truck|               35.0|\n|     V003|       Bike|               18.0|\n|     V004|        Car|               20.0|\n|     V005|        Bus|               35.0|\n+---------+-----------+-------------------+\n\n"
     ]
    }
   ],
   "source": [
    "# 2.1 Calculate TripDurationMinutes = ExitTime - EntryTime\n",
    "dfTrf = dfTrf.withColumn(\"TripDurationMinutes\", (F.unix_timestamp(dfTrf.ExitTime) - F.unix_timestamp(dfTrf.EntryTime)) / 60) \n",
    "dfTrf.select([\"VehicleID\",\"VehicleType\" , \"TripDurationMinutes\"]).show()"
   ]
  },
  {
   "cell_type": "code",
   "execution_count": 0,
   "metadata": {
    "application/vnd.databricks.v1+cell": {
     "cellMetadata": {
      "byteLimit": 2048000,
      "rowLimit": 10000
     },
     "inputWidgets": {},
     "nuid": "b55f1547-84e6-4516-87f3-e3468883bd75",
     "showTitle": false,
     "tableResultSettingsMap": {},
     "title": ""
    }
   },
   "outputs": [
    {
     "output_type": "stream",
     "name": "stdout",
     "output_type": "stream",
     "text": [
      "+---------+-----------+--------+-----------+\n|VehicleID|VehicleType|SpeedKMH|IsOverSpeed|\n+---------+-----------+--------+-----------+\n|     V001|        Car|      60|          0|\n|     V002|      Truck|      45|          0|\n|     V003|       Bike|      55|          0|\n|     V004|        Car|      80|          1|\n|     V005|        Bus|      40|          0|\n+---------+-----------+--------+-----------+\n\n"
     ]
    }
   ],
   "source": [
    "# 2.2 Add IsOverspeed = SpeedKMH > 60\n",
    "dfTrf.withColumn(\"IsOverSpeed\", F.when(F.col(\"SpeedKMH\") > 60, 1).otherwise(0)) \\\n",
    "    .select([\"VehicleID\",\"VehicleType\" ,\"SpeedKMH\" , \"IsOverSpeed\"]) \\\n",
    "    .show()"
   ]
  },
  {
   "cell_type": "markdown",
   "metadata": {
    "application/vnd.databricks.v1+cell": {
     "cellMetadata": {},
     "inputWidgets": {},
     "nuid": "4bff9d63-a1cb-44b3-ade5-0526b2a1725e",
     "showTitle": false,
     "tableResultSettingsMap": {},
     "title": ""
    }
   },
   "source": [
    "# **Vehicle Behavior Aggregations**"
   ]
  },
  {
   "cell_type": "code",
   "execution_count": 0,
   "metadata": {
    "application/vnd.databricks.v1+cell": {
     "cellMetadata": {
      "byteLimit": 2048000,
      "rowLimit": 10000
     },
     "inputWidgets": {},
     "nuid": "c6af3b1b-0c21-49f3-97de-fa6b9978d73c",
     "showTitle": false,
     "tableResultSettingsMap": {},
     "title": ""
    }
   },
   "outputs": [
    {
     "output_type": "stream",
     "name": "stdout",
     "output_type": "stream",
     "text": [
      "+-----------+------------+\n|VehicleType|AverageSpeed|\n+-----------+------------+\n|       Bike|        55.0|\n|        Car|        70.0|\n|      Truck|        45.0|\n|        Bus|        40.0|\n+-----------+------------+\n\n"
     ]
    }
   ],
   "source": [
    "# 3.1 Average speed per VehicleType\n",
    "dfTrf.groupBy(\"VehicleType\") \\\n",
    "  .agg(\n",
    "    F.round(F.mean(\"SpeedKMH\"), 2).alias(\"AverageSpeed\")\n",
    "  ) \\\n",
    "  .show()"
   ]
  },
  {
   "cell_type": "code",
   "execution_count": 0,
   "metadata": {
    "application/vnd.databricks.v1+cell": {
     "cellMetadata": {
      "byteLimit": 2048000,
      "rowLimit": 10000
     },
     "inputWidgets": {},
     "nuid": "01b23e7e-614f-4206-a2bc-9b1725811d82",
     "showTitle": false,
     "tableResultSettingsMap": {},
     "title": ""
    }
   },
   "outputs": [
    {
     "output_type": "stream",
     "name": "stdout",
     "output_type": "stream",
     "text": [
      "+----------+-----------+\n|EntryPoint|TotalAmount|\n+----------+-----------+\n|     GateA|         80|\n|     GateB|        170|\n|     GateC|         50|\n+----------+-----------+\n\n"
     ]
    }
   ],
   "source": [
    "# 3.2 Total toll collected per gate (EntryPoint)\n",
    "dfTrf.groupBy(\"EntryPoint\") \\\n",
    "    .agg(\n",
    "        F.sum(\"TollPaid\").alias(\"TotalAmount\")\n",
    "    ) \\\n",
    "    .show()"
   ]
  },
  {
   "cell_type": "code",
   "execution_count": 0,
   "metadata": {
    "application/vnd.databricks.v1+cell": {
     "cellMetadata": {
      "byteLimit": 2048000,
      "rowLimit": 10000
     },
     "inputWidgets": {},
     "nuid": "a5c0054c-29e8-4bb3-a83d-bea7726764a4",
     "showTitle": false,
     "tableResultSettingsMap": {},
     "title": ""
    }
   },
   "outputs": [
    {
     "output_type": "stream",
     "name": "stdout",
     "output_type": "stream",
     "text": [
      "+---------+----------+\n|ExitPoint|UsageCount|\n+---------+----------+\n|    GateD|         2|\n+---------+----------+\nonly showing top 1 row\n\n"
     ]
    }
   ],
   "source": [
    "# 3.3 Most used ExitPoint\n",
    "dfTrf.groupBy(\"ExitPoint\") \\\n",
    "    .agg(\n",
    "        F.count(\"ExitPoint\").alias(\"UsageCount\")\n",
    "    ) \\\n",
    "    .sort(\"UsageCount\", ascending=False) \\\n",
    "    .show(1)"
   ]
  },
  {
   "cell_type": "markdown",
   "metadata": {
    "application/vnd.databricks.v1+cell": {
     "cellMetadata": {},
     "inputWidgets": {},
     "nuid": "7f56c38d-0e74-4792-92de-cd05a3e2d04c",
     "showTitle": false,
     "tableResultSettingsMap": {},
     "title": ""
    }
   },
   "source": [
    "# **Window Functions**"
   ]
  },
  {
   "cell_type": "code",
   "execution_count": 0,
   "metadata": {
    "application/vnd.databricks.v1+cell": {
     "cellMetadata": {
      "byteLimit": 2048000,
      "rowLimit": 10000
     },
     "inputWidgets": {},
     "nuid": "8e0ff66d-41c2-4f54-b3e0-5ff94d8c6e06",
     "showTitle": false,
     "tableResultSettingsMap": {},
     "title": ""
    }
   },
   "outputs": [
    {
     "output_type": "stream",
     "name": "stdout",
     "output_type": "stream",
     "text": [
      "+---------+-----------+--------+---------+\n|VehicleID|VehicleType|SpeedKMH|SpeedRank|\n+---------+-----------+--------+---------+\n|     V003|       Bike|      55|        1|\n|     V005|        Bus|      40|        1|\n|     V004|        Car|      80|        1|\n|     V001|        Car|      60|        2|\n|     V002|      Truck|      45|        1|\n+---------+-----------+--------+---------+\n\n"
     ]
    }
   ],
   "source": [
    "# 4.1 Rank vehicles by speed within VehicleType\n",
    "win = W.partitionBy(\"VehicleType\").orderBy(F.desc(\"SpeedKMH\"))\n",
    "dfTrf.withColumn(\"SpeedRank\", F.rank().over(win)) \\\n",
    "    .select([\"VehicleID\",\"VehicleType\" ,\"SpeedKMH\" , \"SpeedRank\"]) \\\n",
    "    .show()"
   ]
  },
  {
   "cell_type": "code",
   "execution_count": 0,
   "metadata": {
    "application/vnd.databricks.v1+cell": {
     "cellMetadata": {
      "byteLimit": 2048000,
      "rowLimit": 10000
     },
     "inputWidgets": {},
     "nuid": "14499f16-9358-48ac-b9c4-f10aeaa9223f",
     "showTitle": false,
     "tableResultSettingsMap": {},
     "title": ""
    }
   },
   "outputs": [
    {
     "output_type": "stream",
     "name": "stdout",
     "output_type": "stream",
     "text": [
      "+---------+-----------+-------------------+-------------------+\n|VehicleID|VehicleType|           ExitTime|       LastExitTime|\n+---------+-----------+-------------------+-------------------+\n|     V001|        Car|2024-05-01 08:20:00|               null|\n|     V002|      Truck|2024-05-01 08:45:00|2024-05-01 08:20:00|\n|     V003|       Bike|2024-05-01 09:18:00|2024-05-01 08:45:00|\n|     V004|        Car|2024-05-01 09:35:00|2024-05-01 09:18:00|\n|     V005|        Bus|2024-05-01 10:40:00|2024-05-01 09:35:00|\n+---------+-----------+-------------------+-------------------+\n\n"
     ]
    }
   ],
   "source": [
    "# 4.2 Find last exit time for each vehicle using lag()\n",
    "win2 = W.orderBy(\"ExitTime\")\n",
    "dfTrf.withColumn(\"LastExitTime\", F.lag(\"ExitTime\", 1).over(win2)) \\\n",
    "    .select([\"VehicleID\",\"VehicleType\" ,\"ExitTime\" , \"LastExitTime\"]) \\\n",
    "    .show()"
   ]
  },
  {
   "cell_type": "markdown",
   "metadata": {
    "application/vnd.databricks.v1+cell": {
     "cellMetadata": {},
     "inputWidgets": {},
     "nuid": "330aaf02-6caf-4f1f-bd9b-26626908487c",
     "showTitle": false,
     "tableResultSettingsMap": {},
     "title": ""
    }
   },
   "source": [
    "# **Session Segmentation**"
   ]
  },
  {
   "cell_type": "code",
   "execution_count": 0,
   "metadata": {
    "application/vnd.databricks.v1+cell": {
     "cellMetadata": {
      "byteLimit": 2048000,
      "rowLimit": 10000
     },
     "inputWidgets": {},
     "nuid": "0be526c7-807d-4ff2-acdf-88e61e7e6832",
     "showTitle": false,
     "tableResultSettingsMap": {},
     "title": ""
    }
   },
   "outputs": [
    {
     "output_type": "stream",
     "name": "stdout",
     "output_type": "stream",
     "text": [
      "+---------+--------------------+-------------------+------------+------------+-------------+\n|VehicleID|DifferentEntryPoints|DifferentExitPoints|TotalMinutes|AverageSpeed|TotalTollPaid|\n+---------+--------------------+-------------------+------------+------------+-------------+\n|     V004|                   1|                  1|        20.0|        80.0|           50|\n|     V005|                   1|                  1|        35.0|        40.0|           70|\n|     V001|                   1|                  1|        19.0|        60.0|           50|\n|     V003|                   1|                  1|        18.0|        55.0|           30|\n|     V002|                   1|                  1|        35.0|        45.0|          100|\n+---------+--------------------+-------------------+------------+------------+-------------+\n\n"
     ]
    }
   ],
   "source": [
    "# 5.1 Group by VehicleID to simulate route sessions\n",
    "dfTrf.groupBy(\"VehicleID\") \\\n",
    "  .agg(\n",
    "    F.countDistinct(\"EntryPoint\").alias(\"DifferentEntryPoints\"),\n",
    "    F.countDistinct(\"ExitPoint\").alias(\"DifferentExitPoints\"),\n",
    "    F.sum(\"TripDurationMinutes\").alias(\"TotalMinutes\"),\n",
    "    F.round(F.mean(\"SpeedKMH\"), 2).alias(\"AverageSpeed\"), \n",
    "    F.sum(\"TollPaid\").alias(\"TotalTollPaid\")\n",
    "  ) \\\n",
    "  .show()"
   ]
  },
  {
   "cell_type": "code",
   "execution_count": 0,
   "metadata": {
    "application/vnd.databricks.v1+cell": {
     "cellMetadata": {
      "byteLimit": 2048000,
      "rowLimit": 10000
     },
     "inputWidgets": {},
     "nuid": "d441cd74-ac16-4924-8fea-80fbbf906770",
     "showTitle": false,
     "tableResultSettingsMap": {},
     "title": ""
    }
   },
   "outputs": [
    {
     "output_type": "stream",
     "name": "stdout",
     "output_type": "stream",
     "text": [
      "+---------+-------------------+-------------------+-------------+--------+\n|VehicleID|          EntryTime|           ExitTime|NextEntryTime|IdleTime|\n+---------+-------------------+-------------------+-------------+--------+\n|     V001|2024-05-01 08:01:00|2024-05-01 08:20:00|         null|    null|\n|     V002|2024-05-01 08:10:00|2024-05-01 08:45:00|         null|    null|\n|     V003|2024-05-01 09:00:00|2024-05-01 09:18:00|         null|    null|\n|     V004|2024-05-01 09:15:00|2024-05-01 09:35:00|         null|    null|\n|     V005|2024-05-01 10:05:00|2024-05-01 10:40:00|         null|    null|\n+---------+-------------------+-------------------+-------------+--------+\n\n"
     ]
    }
   ],
   "source": [
    "# 5.2 Find duration between subsequent trips (idle time)\n",
    "win3 = W.partitionBy(\"VehicleID\").orderBy(\"EntryTime\")\n",
    "\n",
    "dfTrf.withColumn(\"NextEntryTime\", F.lead(\"EntryTime\", 1).over(win3)) \\\n",
    "    .withColumn(\"IdleTime\", (F.unix_timestamp(\"NextEntryTime\") - F.unix_timestamp(\"ExitTime\")) / 60) \\\n",
    "    .select([\"VehicleID\", \"EntryTime\", \"ExitTime\", \"NextEntryTime\", \"IdleTime\"]) \\\n",
    "    .show()"
   ]
  },
  {
   "cell_type": "markdown",
   "metadata": {
    "application/vnd.databricks.v1+cell": {
     "cellMetadata": {},
     "inputWidgets": {},
     "nuid": "c06b1383-0de7-4634-a063-e09423581bd6",
     "showTitle": false,
     "tableResultSettingsMap": {},
     "title": ""
    }
   },
   "source": [
    "# **Anomaly Detection**"
   ]
  },
  {
   "cell_type": "code",
   "execution_count": 0,
   "metadata": {
    "application/vnd.databricks.v1+cell": {
     "cellMetadata": {
      "byteLimit": 2048000,
      "rowLimit": 10000
     },
     "inputWidgets": {},
     "nuid": "5ae5257f-ab49-43dd-aa88-244dd881ee34",
     "showTitle": false,
     "tableResultSettingsMap": {},
     "title": ""
    }
   },
   "outputs": [
    {
     "output_type": "stream",
     "name": "stdout",
     "output_type": "stream",
     "text": [
      "+---------+-----------+--------+-------------------+\n|VehicleID|VehicleType|SpeedKMH|TripDurationMinutes|\n+---------+-----------+--------+-------------------+\n+---------+-----------+--------+-------------------+\n\n"
     ]
    }
   ],
   "source": [
    "# 6.1 Identify vehicles with speed > 70 and TripDuration < 10 minutes\n",
    "dfTrf.filter((dfTrf.SpeedKMH > 70) & (dfTrf.TripDurationMinutes < 10)) \\\n",
    "  .select([\"VehicleID\", \"VehicleType\", \"SpeedKMH\", \"TripDurationMinutes\"]) \\\n",
    "  .show()"
   ]
  },
  {
   "cell_type": "code",
   "execution_count": 0,
   "metadata": {
    "application/vnd.databricks.v1+cell": {
     "cellMetadata": {
      "byteLimit": 2048000,
      "rowLimit": 10000
     },
     "inputWidgets": {},
     "nuid": "efb11d8e-4719-4690-abd2-457757bd8c87",
     "showTitle": false,
     "tableResultSettingsMap": {},
     "title": ""
    }
   },
   "outputs": [
    {
     "output_type": "stream",
     "name": "stdout",
     "output_type": "stream",
     "text": [
      "+---------+-----------+-------------------+-------------+\n|VehicleID|VehicleType|TripDurationMinutes|TollPerMinute|\n+---------+-----------+-------------------+-------------+\n|     V005|        Bus|               35.0|          2.0|\n|     V002|      Truck|               35.0|         2.86|\n|     V004|        Car|               20.0|          2.5|\n+---------+-----------+-------------------+-------------+\nonly showing top 3 rows\n\n"
     ]
    }
   ],
   "source": [
    "# 6.2 Vehicles that paid less toll for longer trips\n",
    "dfTrf.withColumn(\"TollPerMinute\", F.round(dfTrf.TollPaid / dfTrf.TripDurationMinutes, 2)) \\\n",
    "    .sort([\"TripDurationMinutes\", \"TollPerMinute\"], ascending=[False, True]) \\\n",
    "    .select([\"VehicleID\", \"VehicleType\", \"TripDurationMinutes\", \"TollPerMinute\"]) \\\n",
    "    .show(3)"
   ]
  },
  {
   "cell_type": "code",
   "execution_count": 0,
   "metadata": {
    "application/vnd.databricks.v1+cell": {
     "cellMetadata": {
      "byteLimit": 2048000,
      "rowLimit": 10000
     },
     "inputWidgets": {},
     "nuid": "8a01dfdb-dd2e-4543-bdca-0ed665c88349",
     "showTitle": false,
     "tableResultSettingsMap": {},
     "title": ""
    }
   },
   "outputs": [
    {
     "output_type": "stream",
     "name": "stdout",
     "output_type": "stream",
     "text": [
      "+---------+-----------+----------+\n|VehicleID|VehicleType|Suspicious|\n+---------+-----------+----------+\n|     V001|        Car|        No|\n|     V002|      Truck|        No|\n|     V003|       Bike|        No|\n|     V004|        Car|        No|\n|     V005|        Bus|        No|\n+---------+-----------+----------+\n\n"
     ]
    }
   ],
   "source": [
    "# 6.3 Suspicious backtracking (ExitPoint earlier than EntryPoint)\n",
    "dfTrf.withColumn(\"Suspicious\", F.when(dfTrf.ExitTime < dfTrf.EntryTime, \"Yes\").otherwise(\"No\")) \\\n",
    "    .select([\"VehicleID\", \"VehicleType\", \"Suspicious\"]) \\\n",
    "    .show()"
   ]
  },
  {
   "cell_type": "markdown",
   "metadata": {
    "application/vnd.databricks.v1+cell": {
     "cellMetadata": {},
     "inputWidgets": {},
     "nuid": "08b46a7f-d82f-47ff-8a12-dfc7600ef7d9",
     "showTitle": false,
     "tableResultSettingsMap": {},
     "title": ""
    }
   },
   "source": [
    "# **Join with Metadata**"
   ]
  },
  {
   "cell_type": "code",
   "execution_count": 0,
   "metadata": {
    "application/vnd.databricks.v1+cell": {
     "cellMetadata": {
      "byteLimit": 2048000,
      "rowLimit": 10000
     },
     "inputWidgets": {},
     "nuid": "5faa4fc6-8830-429e-91cf-281249be1d06",
     "showTitle": false,
     "tableResultSettingsMap": {},
     "title": ""
    }
   },
   "outputs": [
    {
     "output_type": "stream",
     "name": "stdout",
     "output_type": "stream",
     "text": [
      "+---------+---------+-----------+--------------+\n|VehicleID|OwnerName|      Model|RegisteredCity|\n+---------+---------+-----------+--------------+\n|     V001|     Anil|Hyundai i20|         Delhi|\n|     V002|   Rakesh| Tata Truck|       Chennai|\n|     V003|     Sana| Yamaha R15|        Mumbai|\n|     V004|     Neha| Honda City|     Bangalore|\n|     V005|     Zoya|  Volvo Bus|          Pune|\n+---------+---------+-----------+--------------+\n\n"
     ]
    }
   ],
   "source": [
    "\n",
    "# 7.1 Prepare this small vehicle_registry.csv :\n",
    "data = [\n",
    "  (\"V001\",\"Anil\",\"Hyundai i20\",\"Delhi\"),\n",
    "  (\"V002\",\"Rakesh\",\"Tata Truck\",\"Chennai\"),\n",
    "  (\"V003\",\"Sana\",\"Yamaha R15\",\"Mumbai\"),\n",
    "  (\"V004\",\"Neha\",\"Honda City\",\"Bangalore\"),\n",
    "  (\"V005\",\"Zoya\",\"Volvo Bus\",\"Pune\")\n",
    "]\n",
    "colums = [\"VehicleID\",\"OwnerName\",\"Model\",\"RegisteredCity\"]\n",
    "\n",
    "vehicle_registry = spark.createDataFrame(data, colums)\n",
    "vehicle_registry.show()"
   ]
  },
  {
   "cell_type": "code",
   "execution_count": 0,
   "metadata": {
    "application/vnd.databricks.v1+cell": {
     "cellMetadata": {
      "byteLimit": 2048000,
      "rowLimit": 10000
     },
     "inputWidgets": {},
     "nuid": "9a7a0a6a-e102-413d-a8ea-bb3a5912b6ca",
     "showTitle": false,
     "tableResultSettingsMap": {},
     "title": ""
    }
   },
   "outputs": [
    {
     "output_type": "stream",
     "name": "stdout",
     "output_type": "stream",
     "text": [
      "+--------------+-----------------+\n|RegisteredCity|TotalTripDuration|\n+--------------+-----------------+\n|         Delhi|             19.0|\n|       Chennai|             35.0|\n|        Mumbai|             18.0|\n|     Bangalore|             20.0|\n|          Pune|             35.0|\n+--------------+-----------------+\n\n"
     ]
    }
   ],
   "source": [
    "# 7.2 Join and group trips by RegisteredCity\n",
    "dfJoined = dfTrf.join(vehicle_registry, on=\"VehicleID\", how=\"inner\")\n",
    "dfJoined.groupBy(\"RegisteredCity\") \\\n",
    "    .agg(\n",
    "        F.sum(\"TripDurationMinutes\").alias(\"TotalTripDuration\")\n",
    "    ) \\\n",
    "    .show()"
   ]
  },
  {
   "cell_type": "markdown",
   "metadata": {
    "application/vnd.databricks.v1+cell": {
     "cellMetadata": {},
     "inputWidgets": {},
     "nuid": "d1aab83e-8410-445b-a8c6-99b0bc0c5845",
     "showTitle": false,
     "tableResultSettingsMap": {},
     "title": ""
    }
   },
   "source": [
    "# **Delta Lake Features**"
   ]
  },
  {
   "cell_type": "code",
   "execution_count": 0,
   "metadata": {
    "application/vnd.databricks.v1+cell": {
     "cellMetadata": {
      "byteLimit": 2048000,
      "rowLimit": 10000
     },
     "inputWidgets": {},
     "nuid": "c2eaf5af-e76e-4c2a-8d67-089ad219481a",
     "showTitle": false,
     "tableResultSettingsMap": {},
     "title": ""
    }
   },
   "outputs": [],
   "source": [
    "# 8.1 Save traffic_logs as Delta Table\n",
    "spark.sql(\"CREATE DATABASE IF NOT EXISTS vehicle\")\n",
    "spark.sql(\"USE vehicle\")\n",
    "\n",
    "dfTrf.write.format(\"delta\").mode(\"overwrite\").saveAsTable(\"vehicle.traffic_logs\")"
   ]
  },
  {
   "cell_type": "code",
   "execution_count": 0,
   "metadata": {
    "application/vnd.databricks.v1+cell": {
     "cellMetadata": {
      "byteLimit": 2048000,
      "rowLimit": 10000
     },
     "inputWidgets": {},
     "nuid": "0c393739-1dfb-4e74-b2b1-9ef855ccf81c",
     "showTitle": false,
     "tableResultSettingsMap": {},
     "title": ""
    }
   },
   "outputs": [
    {
     "output_type": "stream",
     "name": "stdout",
     "output_type": "stream",
     "text": [
      "Out[62]: DataFrame[num_affected_rows: bigint, num_updated_rows: bigint, num_deleted_rows: bigint, num_inserted_rows: bigint]"
     ]
    }
   ],
   "source": [
    "# 8.2 Apply MERGE INTO to update toll rates for all Bikes\n",
    "deltaTraffic = DeltaTable.forName(spark, \"vehicle.traffic_logs\")\n",
    "\n",
    "bikeupdate = deltaTraffic.toDF() \\\n",
    "             .filter(F.col(\"VehicleType\") == \"Bike\") \\\n",
    "             .withColumn(\"TollPaid\", F.col(\"TollPaid\") + 50)\n",
    "\n",
    "bikeupdate.createOrReplaceTempView(\"bike_update\")\n",
    "\n",
    "spark.sql(\"\"\"\n",
    "          MERGE INTO traffic_logs AS target\n",
    "          USING bike_update AS sourced\n",
    "          ON target.VehicleID = sourced.VehicleID\n",
    "          WHEN MATCHED THEN UPDATE SET *\n",
    "          WHEN NOT MATCHED THEN INSERT *\n",
    "          \"\"\")"
   ]
  },
  {
   "cell_type": "code",
   "execution_count": 0,
   "metadata": {
    "application/vnd.databricks.v1+cell": {
     "cellMetadata": {
      "byteLimit": 2048000,
      "rowLimit": 10000
     },
     "inputWidgets": {},
     "nuid": "c4219c88-e0c2-4a4a-b856-c6bd2da8a4f5",
     "showTitle": false,
     "tableResultSettingsMap": {},
     "title": ""
    }
   },
   "outputs": [
    {
     "output_type": "stream",
     "name": "stdout",
     "output_type": "stream",
     "text": [
      "Out[66]: DataFrame[num_affected_rows: bigint]"
     ]
    }
   ],
   "source": [
    "# 8.3 Delete trips longer than 60 minutes\n",
    "spark.sql(\"\"\"\n",
    "          DELETE FROM traffic_logs\n",
    "          WHERE TripDurationMinutes > 60\n",
    "          \"\"\")"
   ]
  },
  {
   "cell_type": "code",
   "execution_count": 0,
   "metadata": {
    "application/vnd.databricks.v1+cell": {
     "cellMetadata": {
      "byteLimit": 2048000,
      "rowLimit": 10000
     },
     "inputWidgets": {},
     "nuid": "f2771f4e-8842-402d-a0b6-1eeadb2fe985",
     "showTitle": false,
     "tableResultSettingsMap": {},
     "title": ""
    }
   },
   "outputs": [
    {
     "output_type": "stream",
     "name": "stdout",
     "output_type": "stream",
     "text": [
      "+-------+-------------------+----------------+--------------------+--------------------+--------------------+----+------------------+--------------------+-----------+-----------------+-------------+--------------------+------------+--------------------+\n|version|          timestamp|          userId|            userName|           operation| operationParameters| job|          notebook|           clusterId|readVersion|   isolationLevel|isBlindAppend|    operationMetrics|userMetadata|          engineInfo|\n+-------+-------------------+----------------+--------------------+--------------------+--------------------+----+------------------+--------------------+-----------+-----------------+-------------+--------------------+------------+--------------------+\n|      6|2025-06-19 05:24:06|8065524845430037|tharunaadhi6@gmai...|              DELETE|{predicate -> [\"(...|null|{4380051481415446}|0619-035229-6g9p739z|          5|WriteSerializable|        false|{numRemovedFiles ...|        null|Databricks-Runtim...|\n|      5|2025-06-19 05:20:16|8065524845430037|tharunaadhi6@gmai...|               MERGE|{predicate -> [\"(...|null|{4380051481415446}|0619-035229-6g9p739z|          4|WriteSerializable|        false|{numTargetRowsCop...|        null|Databricks-Runtim...|\n|      4|2025-06-19 05:14:26|8065524845430037|tharunaadhi6@gmai...|              DELETE|{predicate -> [\"(...|null|{4380051481415446}|0619-035229-6g9p739z|          3|WriteSerializable|        false|{numRemovedFiles ...|        null|Databricks-Runtim...|\n|      3|2025-06-19 05:13:45|8065524845430037|tharunaadhi6@gmai...|              DELETE|{predicate -> [\"(...|null|{4380051481415446}|0619-035229-6g9p739z|          2|WriteSerializable|        false|{numRemovedFiles ...|        null|Databricks-Runtim...|\n|      2|2025-06-19 05:10:48|8065524845430037|tharunaadhi6@gmai...|               MERGE|{predicate -> [\"(...|null|{4380051481415446}|0619-035229-6g9p739z|          1|WriteSerializable|        false|{numTargetRowsCop...|        null|Databricks-Runtim...|\n|      1|2025-06-19 05:10:24|8065524845430037|tharunaadhi6@gmai...|               MERGE|{predicate -> [\"(...|null|{4380051481415446}|0619-035229-6g9p739z|          0|WriteSerializable|        false|{numTargetRowsCop...|        null|Databricks-Runtim...|\n|      0|2025-06-19 05:02:17|8065524845430037|tharunaadhi6@gmai...|CREATE OR REPLACE...|{isManaged -> tru...|null|{4380051481415446}|0619-035229-6g9p739z|       null|WriteSerializable|        false|{numFiles -> 1, n...|        null|Databricks-Runtim...|\n+-------+-------------------+----------------+--------------------+--------------------+--------------------+----+------------------+--------------------+-----------+-----------------+-------------+--------------------+------------+--------------------+\n\n+-----+---------+----------+---------+-------------------+-------------------+-----------+--------+--------+-------------------+\n|LogID|VehicleID|EntryPoint|ExitPoint|          EntryTime|           ExitTime|VehicleType|SpeedKMH|TollPaid|TripDurationMinutes|\n+-----+---------+----------+---------+-------------------+-------------------+-----------+--------+--------+-------------------+\n| L001|     V001|     GateA|    GateC|2024-05-01 08:01:00|2024-05-01 08:20:00|        Car|      60|      50|               19.0|\n| L002|     V002|     GateB|    GateC|2024-05-01 08:10:00|2024-05-01 08:45:00|      Truck|      45|     100|               35.0|\n| L004|     V004|     GateC|    GateD|2024-05-01 09:15:00|2024-05-01 09:35:00|        Car|      80|      50|               20.0|\n| L005|     V005|     GateB|    GateA|2024-05-01 10:05:00|2024-05-01 10:40:00|        Bus|      40|      70|               35.0|\n| L003|     V003|     GateA|    GateD|2024-05-01 09:00:00|2024-05-01 09:18:00|       Bike|      55|     180|               18.0|\n+-----+---------+----------+---------+-------------------+-------------------+-----------+--------+--------+-------------------+\n\n"
     ]
    }
   ],
   "source": [
    "# 8.4 Use DESCRIBE HISTORY and VERSION AS OF\n",
    "spark.sql(\"\"\"\n",
    "        DESCRIBE HISTORY traffic_logs\n",
    "          \"\"\").show()\n",
    "\n",
    "spark.sql(\"\"\"\n",
    "          SELECT * FROM traffic_logs VERSION AS OF 5\n",
    "          \"\"\").show()"
   ]
  },
  {
   "cell_type": "markdown",
   "metadata": {
    "application/vnd.databricks.v1+cell": {
     "cellMetadata": {},
     "inputWidgets": {},
     "nuid": "174cb834-f252-4132-a482-2d045c139db1",
     "showTitle": false,
     "tableResultSettingsMap": {},
     "title": ""
    }
   },
   "source": [
    "# **Advanced Conditions**"
   ]
  },
  {
   "cell_type": "code",
   "execution_count": 0,
   "metadata": {
    "application/vnd.databricks.v1+cell": {
     "cellMetadata": {
      "byteLimit": 2048000,
      "rowLimit": 10000
     },
     "inputWidgets": {},
     "nuid": "e803ff0e-99f2-4b50-b7b2-94386e7d552f",
     "showTitle": false,
     "tableResultSettingsMap": {},
     "title": ""
    }
   },
   "outputs": [
    {
     "output_type": "stream",
     "name": "stdout",
     "output_type": "stream",
     "text": [
      "+---------+-------------------+--------+\n|VehicleID|TripDurationMinutes|TripType|\n+---------+-------------------+--------+\n|     V001|               19.0|  Medium|\n|     V002|               35.0|    Long|\n|     V003|               18.0|  Medium|\n|     V004|               20.0|  Medium|\n|     V005|               35.0|    Long|\n+---------+-------------------+--------+\n\n"
     ]
    }
   ],
   "source": [
    "#9.1 Tag trip type as:\n",
    "dfTrf.withColumn(\"TripType\", F.when(dfTrf.TripDurationMinutes < 15, \"Short\").when(dfTrf.TripDurationMinutes > 30, \"Long\").otherwise(\"Medium\")) \\\n",
    "    .select([\"VehicleID\", \"TripDurationMinutes\", \"TripType\"]) \\\n",
    "    .show()"
   ]
  },
  {
   "cell_type": "code",
   "execution_count": 0,
   "metadata": {
    "application/vnd.databricks.v1+cell": {
     "cellMetadata": {
      "byteLimit": 2048000,
      "rowLimit": 10000
     },
     "inputWidgets": {},
     "nuid": "a910f7be-c55c-45ca-93c9-666f9b48de48",
     "showTitle": false,
     "tableResultSettingsMap": {},
     "title": ""
    }
   },
   "outputs": [
    {
     "output_type": "stream",
     "name": "stdout",
     "output_type": "stream",
     "text": [
      "+---------+----------+\n|VehicleID|      Flag|\n+---------+----------+\n|     V004|NotFlagged|\n|     V005|NotFlagged|\n|     V001|NotFlagged|\n|     V003|NotFlagged|\n|     V002|NotFlagged|\n+---------+----------+\n\n"
     ]
    }
   ],
   "source": [
    "# 9.2 Flag vehicles with more than 3 trips in a day\n",
    "dfTrf.groupBy(\"VehicleID\").agg(\n",
    "    F.when(F.count(\"*\") > 3, \"Flagged3\").otherwise(\"NotFlagged\").alias(\"Flag\")\n",
    ").show()"
   ]
  },
  {
   "cell_type": "markdown",
   "metadata": {
    "application/vnd.databricks.v1+cell": {
     "cellMetadata": {},
     "inputWidgets": {},
     "nuid": "d7549bf5-49ae-40d7-aa8d-1cbfba888cfe",
     "showTitle": false,
     "tableResultSettingsMap": {},
     "title": ""
    }
   },
   "source": [
    "# **Export & Reporting**"
   ]
  },
  {
   "cell_type": "code",
   "execution_count": 0,
   "metadata": {
    "application/vnd.databricks.v1+cell": {
     "cellMetadata": {
      "byteLimit": 2048000,
      "rowLimit": 10000
     },
     "inputWidgets": {},
     "nuid": "eb670475-e002-4e45-a5cb-2e046f2705df",
     "showTitle": false,
     "tableResultSettingsMap": {},
     "title": ""
    }
   },
   "outputs": [],
   "source": [
    "10.1 # Write final enriched DataFrame to:\n",
    "# Parquet partitioned by VehicleType\n",
    "# CSV for dashboards\n",
    "dfJoined.write.mode(\"overwrite\").csv(\"/Users/tharunaadhi6@gmail.com/delta tables/dfJoinedcsv\")\n",
    "\n",
    "dfJoined.write.mode(\"overwrite\").parquet(\"/Users/tharunaadhi6@gmail.com/delta tables/dfJoinedparquet\", partitionBy=\"VehicleType\")"
   ]
  },
  {
   "cell_type": "code",
   "execution_count": 0,
   "metadata": {
    "application/vnd.databricks.v1+cell": {
     "cellMetadata": {
      "byteLimit": 2048000,
      "rowLimit": 10000
     },
     "inputWidgets": {},
     "nuid": "d627e8df-c365-4e35-9d9f-f81a0e1d5b0f",
     "showTitle": false,
     "tableResultSettingsMap": {},
     "title": ""
    }
   },
   "outputs": [
    {
     "output_type": "stream",
     "name": "stdout",
     "output_type": "stream",
     "text": [
      "+-----------+---------+---------+\n|VehicleType|ExitPoint|TotalToll|\n+-----------+---------+---------+\n|        Car|    GateD|       50|\n|      Truck|    GateC|      100|\n|       Bike|    GateD|       30|\n|        Bus|    GateA|       70|\n|        Car|    GateC|       50|\n+-----------+---------+---------+\n\n"
     ]
    }
   ],
   "source": [
    "# 10.2 Create summary SQL View: total toll by VehicleType + ExitPoint\n",
    "view = dfTrf.groupBy(\"VehicleType\", \"ExitPoint\").agg(\n",
    "    F.sum(\"TollPaid\").alias(\"TotalToll\")\n",
    ")\n",
    "view.createOrReplaceTempView(\"toll_view\")\n",
    "\n",
    "spark.sql(\"SELECT * FROM toll_view\").show()"
   ]
  },
  {
   "cell_type": "code",
   "execution_count": 0,
   "metadata": {
    "application/vnd.databricks.v1+cell": {
     "cellMetadata": {},
     "inputWidgets": {},
     "nuid": "111bc8a5-7ce9-4876-8a1e-7c5a78ec7af7",
     "showTitle": false,
     "tableResultSettingsMap": {},
     "title": ""
    }
   },
   "outputs": [],
   "source": []
  }
 ],
 "metadata": {
  "application/vnd.databricks.v1+notebook": {
   "computePreferences": null,
   "dashboards": [],
   "environmentMetadata": null,
   "inputWidgetPreferences": null,
   "language": "python",
   "notebookMetadata": {
    "pythonIndentUnit": 4
   },
   "notebookName": "Assignment-1",
   "widgets": {}
  }
 },
 "nbformat": 4,
 "nbformat_minor": 0
}