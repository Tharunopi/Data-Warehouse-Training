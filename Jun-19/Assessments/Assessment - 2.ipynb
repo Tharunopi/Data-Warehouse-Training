{
 "cells": [
  {
   "cell_type": "markdown",
   "metadata": {
    "application/vnd.databricks.v1+cell": {
     "cellMetadata": {},
     "inputWidgets": {},
     "nuid": "64dd0c2d-1b30-4ede-a045-2f2681285cae",
     "showTitle": false,
     "tableResultSettingsMap": {},
     "title": ""
    }
   },
   "source": [
    "#**Assessment-2**"
   ]
  },
  {
   "cell_type": "code",
   "execution_count": 0,
   "metadata": {
    "application/vnd.databricks.v1+cell": {
     "cellMetadata": {
      "byteLimit": 2048000,
      "rowLimit": 10000
     },
     "inputWidgets": {},
     "nuid": "c1a7df7f-c2f2-4fab-9360-1ce8318ccc34",
     "showTitle": false,
     "tableResultSettingsMap": {},
     "title": ""
    }
   },
   "outputs": [],
   "source": [
    "from pyspark.sql import SparkSession\n",
    "import pyspark.sql.functions as F\n",
    "from pyspark.sql.window import Window as W"
   ]
  },
  {
   "cell_type": "code",
   "execution_count": 0,
   "metadata": {
    "application/vnd.databricks.v1+cell": {
     "cellMetadata": {
      "byteLimit": 2048000,
      "rowLimit": 10000
     },
     "inputWidgets": {},
     "nuid": "64595ea0-b0bd-4e8a-a9c7-4bc5d21bec11",
     "showTitle": false,
     "tableResultSettingsMap": {},
     "title": ""
    }
   },
   "outputs": [],
   "source": [
    "spark = SparkSession.builder.appName(\"dbshell-01\").getOrCreate()"
   ]
  },
  {
   "cell_type": "markdown",
   "metadata": {
    "application/vnd.databricks.v1+cell": {
     "cellMetadata": {},
     "inputWidgets": {},
     "nuid": "436ba106-4eed-4e5b-83f9-4cedbf5d3015",
     "showTitle": false,
     "tableResultSettingsMap": {},
     "title": ""
    }
   },
   "source": [
    "# **Ingestion & Time Fields**"
   ]
  },
  {
   "cell_type": "code",
   "execution_count": 0,
   "metadata": {
    "application/vnd.databricks.v1+cell": {
     "cellMetadata": {
      "byteLimit": 2048000,
      "rowLimit": 10000
     },
     "inputWidgets": {},
     "nuid": "feee90af-e2e1-415d-9c63-6b3534564d11",
     "showTitle": false,
     "tableResultSettingsMap": {},
     "title": ""
    }
   },
   "outputs": [],
   "source": [
    "# 1.1 Load into PySpark with inferred schema\n",
    "df = spark.read.csv(\"/FileStore/tables/course_enrollments.csv\", header=True, inferSchema=True)"
   ]
  },
  {
   "cell_type": "code",
   "execution_count": 0,
   "metadata": {
    "application/vnd.databricks.v1+cell": {
     "cellMetadata": {
      "byteLimit": 2048000,
      "rowLimit": 10000
     },
     "inputWidgets": {},
     "nuid": "402b3f49-8ebe-4f22-a87f-16299a7299e9",
     "showTitle": false,
     "tableResultSettingsMap": {},
     "title": ""
    }
   },
   "outputs": [
    {
     "output_type": "stream",
     "name": "stdout",
     "output_type": "stream",
     "text": [
      "+----------+--------------+\n|EnrollDate|CompletionDate|\n+----------+--------------+\n|2024-04-01|    2024-04-10|\n|2024-04-02|          null|\n|2024-04-03|          null|\n|2024-04-04|    2024-04-20|\n|2024-04-05|    2024-04-16|\n+----------+--------------+\n\n"
     ]
    }
   ],
   "source": [
    "# 1.2 Convert EnrollDate and CompletionDate to date type\n",
    "df = df.withColumn(\"EnrollDate\", F.to_date(df.EnrollDate)) \\\n",
    "        .withColumn(\"CompletionDate\", F.to_date(df.CompletionDate))\n",
    "df.select([\"EnrollDate\", \"CompletionDate\"]).show()"
   ]
  },
  {
   "cell_type": "code",
   "execution_count": 0,
   "metadata": {
    "application/vnd.databricks.v1+cell": {
     "cellMetadata": {
      "byteLimit": 2048000,
      "rowLimit": 10000
     },
     "inputWidgets": {},
     "nuid": "05010f07-373d-47b6-8264-3f9114b7c47f",
     "showTitle": false,
     "tableResultSettingsMap": {},
     "title": ""
    }
   },
   "outputs": [
    {
     "output_type": "stream",
     "name": "stdout",
     "output_type": "stream",
     "text": [
      "+------+----------+--------------+--------------+\n|UserID|EnrollDate|CompletionDate|DaysToComplete|\n+------+----------+--------------+--------------+\n|  U001|2024-04-01|    2024-04-10|             9|\n|  U002|2024-04-02|          null|          null|\n|  U001|2024-04-03|          null|          null|\n|  U003|2024-04-04|    2024-04-20|            16|\n|  U004|2024-04-05|    2024-04-16|            11|\n+------+----------+--------------+--------------+\n\n"
     ]
    }
   ],
   "source": [
    "# 1.3 Add DaysToComplete column if completed\n",
    "df = df.withColumn(\"DaysToComplete\", F.when(F.col(\"CompletionDate\").isNotNull(), F.datediff(F.col(\"CompletionDate\"), F.col(\"EnrollDate\"))).otherwise(None))\n",
    "df.select([\"UserID\", \"EnrollDate\", \"CompletionDate\", \"DaysToComplete\"]).show()"
   ]
  },
  {
   "cell_type": "markdown",
   "metadata": {
    "application/vnd.databricks.v1+cell": {
     "cellMetadata": {},
     "inputWidgets": {},
     "nuid": "416f5017-3095-4677-99da-986fff2c5dff",
     "showTitle": false,
     "tableResultSettingsMap": {},
     "title": ""
    }
   },
   "source": [
    "# **User Learning Path Progress**"
   ]
  },
  {
   "cell_type": "code",
   "execution_count": 0,
   "metadata": {
    "application/vnd.databricks.v1+cell": {
     "cellMetadata": {
      "byteLimit": 2048000,
      "rowLimit": 10000
     },
     "inputWidgets": {},
     "nuid": "312b9fec-1b7a-4fa6-b7c6-967485d64e52",
     "showTitle": false,
     "tableResultSettingsMap": {},
     "title": ""
    }
   },
   "outputs": [
    {
     "output_type": "stream",
     "name": "stdout",
     "output_type": "stream",
     "text": [
      "+------+-----------+\n|UserID|CourseCount|\n+------+-----------+\n|  U004|          1|\n|  U002|          1|\n|  U003|          1|\n|  U001|          2|\n+------+-----------+\n\n"
     ]
    }
   ],
   "source": [
    "# 2.1 Group by UserID : count of courses enrolled\n",
    "df.groupBy(\"UserID\").agg(\n",
    "  F.countDistinct(\"CourseID\").alias(\"CourseCount\")\n",
    ").show()"
   ]
  },
  {
   "cell_type": "code",
   "execution_count": 0,
   "metadata": {
    "application/vnd.databricks.v1+cell": {
     "cellMetadata": {
      "byteLimit": 2048000,
      "rowLimit": 10000
     },
     "inputWidgets": {},
     "nuid": "594db3a3-c5fa-44e0-874e-999ce3f4bf80",
     "showTitle": false,
     "tableResultSettingsMap": {},
     "title": ""
    }
   },
   "outputs": [
    {
     "output_type": "stream",
     "name": "stdout",
     "output_type": "stream",
     "text": [
      "+------+-----------+--------+\n|UserID|CourseCount|Average%|\n+------+-----------+--------+\n|  U004|          1|   100.0|\n|  U002|          1|    45.0|\n|  U003|          1|   100.0|\n|  U001|          2|    65.0|\n+------+-----------+--------+\n\n"
     ]
    }
   ],
   "source": [
    "# 2.2 Avg progress % across all enrollments\n",
    "df.groupBy(\"UserID\").agg(\n",
    "  F.countDistinct(\"CourseID\").alias(\"CourseCount\"),\n",
    "  F.round(F.avg(\"ProgressPercent\"), 2).alias(\"Average%\")\n",
    ").show()"
   ]
  },
  {
   "cell_type": "code",
   "execution_count": 0,
   "metadata": {
    "application/vnd.databricks.v1+cell": {
     "cellMetadata": {
      "byteLimit": 2048000,
      "rowLimit": 10000
     },
     "inputWidgets": {},
     "nuid": "e8f95ae4-2093-4dca-8153-6a500a576337",
     "showTitle": false,
     "tableResultSettingsMap": {},
     "title": ""
    }
   },
   "outputs": [
    {
     "output_type": "stream",
     "name": "stdout",
     "output_type": "stream",
     "text": [
      "+------+---------------+-----------+\n|UserID|ProgressPercent|IsCompleted|\n+------+---------------+-----------+\n|  U001|            100|          1|\n|  U002|             45|          0|\n|  U001|             30|          0|\n|  U003|            100|          1|\n|  U004|            100|          1|\n+------+---------------+-----------+\n\n"
     ]
    }
   ],
   "source": [
    "# 2.3 Flag IsCompleted = ProgressPercent = 100\n",
    "df = df.withColumn(\"IsCompleted\", F.when(F.col(\"ProgressPercent\") == 100, 1).otherwise(0))\n",
    "df.select([\"UserID\", \"ProgressPercent\", \"IsCompleted\"]).show()"
   ]
  },
  {
   "cell_type": "markdown",
   "metadata": {
    "application/vnd.databricks.v1+cell": {
     "cellMetadata": {},
     "inputWidgets": {},
     "nuid": "dda71b8f-a847-478d-8535-69efb7940265",
     "showTitle": false,
     "tableResultSettingsMap": {},
     "title": ""
    }
   },
   "source": [
    "# **Engagement Scoring**"
   ]
  },
  {
   "cell_type": "code",
   "execution_count": 0,
   "metadata": {
    "application/vnd.databricks.v1+cell": {
     "cellMetadata": {
      "byteLimit": 2048000,
      "rowLimit": 10000
     },
     "inputWidgets": {},
     "nuid": "5674567e-608b-4425-809b-55cde61b2c58",
     "showTitle": false,
     "tableResultSettingsMap": {},
     "title": ""
    }
   },
   "outputs": [
    {
     "output_type": "stream",
     "name": "stdout",
     "output_type": "stream",
     "text": [
      "+------+---------------+------+-----+\n|UserID|ProgressPercent|Rating|Score|\n+------+---------------+------+-----+\n|  U001|            100|     4|  400|\n|  U002|             45|  null|    0|\n|  U001|             30|  null|    0|\n|  U003|            100|     5|  500|\n|  U004|            100|     4|  400|\n+------+---------------+------+-----+\n\n"
     ]
    }
   ],
   "source": [
    "# 3.1 Create a score: ProgressPercent * Rating (if not null)\n",
    "df = df.withColumn(\"Score\", F.when(F.col(\"Rating\").isNotNull(), df.ProgressPercent * df.Rating).otherwise(0))\n",
    "df.select([\"UserID\", \"ProgressPercent\", \"Rating\", \"Score\"]).show()"
   ]
  },
  {
   "cell_type": "code",
   "execution_count": 0,
   "metadata": {
    "application/vnd.databricks.v1+cell": {
     "cellMetadata": {
      "byteLimit": 2048000,
      "rowLimit": 10000
     },
     "inputWidgets": {},
     "nuid": "a8154e13-c86a-4e3a-b8cd-9a2f233f6078",
     "showTitle": false,
     "tableResultSettingsMap": {},
     "title": ""
    }
   },
   "outputs": [
    {
     "output_type": "stream",
     "name": "stdout",
     "output_type": "stream",
     "text": [
      "+------+\n|Rating|\n+------+\n|     4|\n|     0|\n|     0|\n|     5|\n|     4|\n+------+\n\n"
     ]
    }
   ],
   "source": [
    "# 3.2 Replace null Rating with 0 before computing\n",
    "df = df.fillna(0, subset=\"Rating\")\n",
    "df.select(\"Rating\").show()"
   ]
  },
  {
   "cell_type": "markdown",
   "metadata": {
    "application/vnd.databricks.v1+cell": {
     "cellMetadata": {},
     "inputWidgets": {},
     "nuid": "7ffce870-83ee-4662-bc76-fdbcda7c9872",
     "showTitle": false,
     "tableResultSettingsMap": {},
     "title": ""
    }
   },
   "source": [
    "# **Identify Drop-offs**"
   ]
  },
  {
   "cell_type": "code",
   "execution_count": 0,
   "metadata": {
    "application/vnd.databricks.v1+cell": {
     "cellMetadata": {
      "byteLimit": 2048000,
      "rowLimit": 10000
     },
     "inputWidgets": {},
     "nuid": "c54d7801-7ca2-46bf-983b-076be86a7c87",
     "showTitle": false,
     "tableResultSettingsMap": {},
     "title": ""
    }
   },
   "outputs": [
    {
     "output_type": "stream",
     "name": "stdout",
     "output_type": "stream",
     "text": [
      "+------+---------------+--------------+\n|UserID|ProgressPercent|CompletionDate|\n+------+---------------+--------------+\n|  U002|             45|          null|\n|  U001|             30|          null|\n+------+---------------+--------------+\n\n"
     ]
    }
   ],
   "source": [
    "# 4.1 Filter all records with ProgressPercent < 50 and CompletionDate is null\n",
    "dropouts = df.filter((df.ProgressPercent < 50) & (df.CompletionDate.isNull())) \\\n",
    "  .select([\"UserID\", \"ProgressPercent\", \"CompletionDate\"]) \n",
    "\n",
    "dropouts.show()"
   ]
  },
  {
   "cell_type": "code",
   "execution_count": 0,
   "metadata": {
    "application/vnd.databricks.v1+cell": {
     "cellMetadata": {
      "byteLimit": 2048000,
      "rowLimit": 10000
     },
     "inputWidgets": {},
     "nuid": "37eed312-e24a-4853-84d3-8ff6455a2028",
     "showTitle": false,
     "tableResultSettingsMap": {},
     "title": ""
    }
   },
   "outputs": [],
   "source": [
    "# 4.2 Create a view called Dropouts\n",
    "dropouts.createOrReplaceTempView(\"dropouts\")"
   ]
  },
  {
   "cell_type": "markdown",
   "metadata": {
    "application/vnd.databricks.v1+cell": {
     "cellMetadata": {},
     "inputWidgets": {},
     "nuid": "57bb2308-dd78-4dc3-9772-76dd3f253dad",
     "showTitle": false,
     "tableResultSettingsMap": {},
     "title": ""
    }
   },
   "source": [
    "# **Joins with Metadata**"
   ]
  },
  {
   "cell_type": "code",
   "execution_count": 0,
   "metadata": {
    "application/vnd.databricks.v1+cell": {
     "cellMetadata": {
      "byteLimit": 2048000,
      "rowLimit": 10000
     },
     "inputWidgets": {},
     "nuid": "1ab36740-54ef-4717-b05e-4060df3e6bb5",
     "showTitle": false,
     "tableResultSettingsMap": {},
     "title": ""
    }
   },
   "outputs": [],
   "source": [
    "# 5.1 Create course_catalog.csv :\n",
    "data = [\n",
    "  (\"C001\",\"Abdullah Khan\",8,\"Beginner\"),\n",
    "  (\"C002\",\"Sana Gupta\",5,\"Beginner\"),\n",
    "  (\"C003\",\"Ibrahim Khan\",10,\"Intermediate\"),\n",
    "  (\"C004\",\"Zoya Sheikh\",6,\"Beginner\")\n",
    "]\n",
    "columns = [\"CourseID\",\"Instructor\",\"DurationHours\",\"Level\"]\n",
    "\n",
    "course_catalog = spark.createDataFrame(data, columns)"
   ]
  },
  {
   "cell_type": "code",
   "execution_count": 0,
   "metadata": {
    "application/vnd.databricks.v1+cell": {
     "cellMetadata": {
      "byteLimit": 2048000,
      "rowLimit": 10000
     },
     "inputWidgets": {},
     "nuid": "48aa0a6e-9ef4-456e-9cc4-2255d0b084e9",
     "showTitle": false,
     "tableResultSettingsMap": {},
     "title": ""
    }
   },
   "outputs": [
    {
     "output_type": "stream",
     "name": "stdout",
     "output_type": "stream",
     "text": [
      "+-------------+---------------+\n|   Instructor|AverageProgress|\n+-------------+---------------+\n|Abdullah Khan|          100.0|\n|   Sana Gupta|           45.0|\n| Ibrahim Khan|           30.0|\n|  Zoya Sheikh|          100.0|\n+-------------+---------------+\n\n"
     ]
    }
   ],
   "source": [
    "# 5.2 Join to find average progress per instructor\n",
    "dfJoined = df.join(course_catalog, on=\"CourseID\", how=\"inner\")\n",
    "dfJoined.groupBy(\"Instructor\").agg(\n",
    "    F.round(F.avg(\"ProgressPercent\"), 2).alias(\"AverageProgress\")\n",
    ").show()"
   ]
  },
  {
   "cell_type": "code",
   "execution_count": 0,
   "metadata": {
    "application/vnd.databricks.v1+cell": {
     "cellMetadata": {
      "byteLimit": 2048000,
      "rowLimit": 10000
     },
     "inputWidgets": {},
     "nuid": "b02d9034-3726-4ea4-8907-585d2bb38dc7",
     "showTitle": false,
     "tableResultSettingsMap": {},
     "title": ""
    }
   },
   "outputs": [
    {
     "output_type": "stream",
     "name": "stdout",
     "output_type": "stream",
     "text": [
      "+-------------+-----------+\n|   Instructor|CourseCount|\n+-------------+-----------+\n|Abdullah Khan|          2|\n+-------------+-----------+\nonly showing top 1 row\n\n"
     ]
    }
   ],
   "source": [
    "# 5.3 Show who teaches the most enrolled course\n",
    "dfJoined.groupBy(\"Instructor\").agg(\n",
    "    F.count(\"*\").alias(\"CourseCount\")\n",
    ") \\\n",
    ".sort(\"CourseCount\", ascending=False) \\\n",
    ".show(1)"
   ]
  },
  {
   "cell_type": "markdown",
   "metadata": {
    "application/vnd.databricks.v1+cell": {
     "cellMetadata": {},
     "inputWidgets": {},
     "nuid": "9c41ee5a-2382-42ac-8461-5210dbc83f82",
     "showTitle": false,
     "tableResultSettingsMap": {},
     "title": ""
    }
   },
   "source": [
    "# **Delta Lake Practice**"
   ]
  },
  {
   "cell_type": "code",
   "execution_count": 0,
   "metadata": {
    "application/vnd.databricks.v1+cell": {
     "cellMetadata": {
      "byteLimit": 2048000,
      "rowLimit": 10000
     },
     "inputWidgets": {},
     "nuid": "7c2daeb7-728e-49ff-9970-56aece3e9188",
     "showTitle": false,
     "tableResultSettingsMap": {},
     "title": ""
    }
   },
   "outputs": [],
   "source": [
    "# 6.1 Save as Delta Table enrollments_delta\n",
    "spark.sql(\"CREATE DATABASE IF NOT EXISTS college\")\n",
    "spark.sql(\"USE college\")\n",
    "\n",
    "df.write.format(\"delta\").mode(\"overwrite\").saveAsTable(\"enrollments_delta\")"
   ]
  },
  {
   "cell_type": "code",
   "execution_count": 0,
   "metadata": {
    "application/vnd.databricks.v1+cell": {
     "cellMetadata": {
      "byteLimit": 2048000,
      "rowLimit": 10000
     },
     "inputWidgets": {},
     "nuid": "1311723e-5f94-40ea-8454-39e28d9476be",
     "showTitle": false,
     "tableResultSettingsMap": {},
     "title": ""
    }
   },
   "outputs": [
    {
     "output_type": "stream",
     "name": "stdout",
     "output_type": "stream",
     "text": [
      "Out[122]: DataFrame[num_affected_rows: bigint]"
     ]
    }
   ],
   "source": [
    "# 6.2 Update: Set all ratings to 5 where Course = 'Python Basics'\n",
    "spark.sql(\"\"\"\n",
    "          UPDATE enrollments_delta\n",
    "          SET Rating = 5\n",
    "          WHERE CourseName = 'Python Basics'\n",
    "          \"\"\")"
   ]
  },
  {
   "cell_type": "code",
   "execution_count": 0,
   "metadata": {
    "application/vnd.databricks.v1+cell": {
     "cellMetadata": {
      "byteLimit": 2048000,
      "rowLimit": 10000
     },
     "inputWidgets": {},
     "nuid": "1c17c7a0-0465-4cc4-a901-22daf0a15430",
     "showTitle": false,
     "tableResultSettingsMap": {},
     "title": ""
    }
   },
   "outputs": [
    {
     "output_type": "stream",
     "name": "stdout",
     "output_type": "stream",
     "text": [
      "Out[123]: DataFrame[num_affected_rows: bigint]"
     ]
    }
   ],
   "source": [
    "# 6.3 Delete: All rows where ProgressPercent = 0\n",
    "spark.sql(\"\"\"\n",
    "          DELETE FROM enrollments_delta\n",
    "          WHERE ProgressPercent = 0\n",
    "          \"\"\")"
   ]
  },
  {
   "cell_type": "code",
   "execution_count": 0,
   "metadata": {
    "application/vnd.databricks.v1+cell": {
     "cellMetadata": {
      "byteLimit": 2048000,
      "rowLimit": 10000
     },
     "inputWidgets": {},
     "nuid": "155c976d-1d66-44cd-bb68-4235a6093b63",
     "showTitle": false,
     "tableResultSettingsMap": {},
     "title": ""
    }
   },
   "outputs": [
    {
     "output_type": "stream",
     "name": "stdout",
     "output_type": "stream",
     "text": [
      "+-------+--------------------+\n|version|           operation|\n+-------+--------------------+\n|      2|              DELETE|\n|      1|              UPDATE|\n|      0|CREATE OR REPLACE...|\n+-------+--------------------+\n\n"
     ]
    }
   ],
   "source": [
    "# 6.4 Show DESCRIBE HISTORY\n",
    "spark.sql(\"DESCRIBE HISTORY enrollments_delta\").select([\"version\", \"operation\"]).show()"
   ]
  },
  {
   "cell_type": "markdown",
   "metadata": {
    "application/vnd.databricks.v1+cell": {
     "cellMetadata": {},
     "inputWidgets": {},
     "nuid": "f68f3ac8-2994-4b73-ae5e-137e5cc27f43",
     "showTitle": false,
     "tableResultSettingsMap": {},
     "title": ""
    }
   },
   "source": [
    "# **Window Functions**"
   ]
  },
  {
   "cell_type": "code",
   "execution_count": 0,
   "metadata": {
    "application/vnd.databricks.v1+cell": {
     "cellMetadata": {
      "byteLimit": 2048000,
      "rowLimit": 10000
     },
     "inputWidgets": {},
     "nuid": "9186f598-1c10-4a34-ac6c-0fb8ba7610a7",
     "showTitle": false,
     "tableResultSettingsMap": {},
     "title": ""
    }
   },
   "outputs": [
    {
     "output_type": "stream",
     "name": "stdout",
     "output_type": "stream",
     "text": [
      "+-----------------+--------------+----+\n|       CourseName|NumEnrollments|Rank|\n+-----------------+--------------+----+\n|    Python Basics|             2|   1|\n|Digital Marketing|             1|   2|\n|Excel for Finance|             1|   2|\n|  ML with PySpark|             1|   2|\n+-----------------+--------------+----+\n\n"
     ]
    }
   ],
   "source": [
    "# 7.1 Use dense_rank() to rank courses by number of enrollments\n",
    "win1 = W.orderBy(F.desc(\"NumEnrollments\"))\n",
    "df.groupBy(\"CourseName\") \\\n",
    "  .agg(\n",
    "  F.countDistinct(\"UserID\").alias(\"NumEnrollments\")\n",
    "  ) \\\n",
    "  .withColumn(\"Rank\", F.dense_rank().over(win1)) \\\n",
    "  .show()"
   ]
  },
  {
   "cell_type": "code",
   "execution_count": 0,
   "metadata": {
    "application/vnd.databricks.v1+cell": {
     "cellMetadata": {
      "byteLimit": 2048000,
      "rowLimit": 10000
     },
     "inputWidgets": {},
     "nuid": "2900b590-258a-4661-98bd-b26821d2a2ab",
     "showTitle": false,
     "tableResultSettingsMap": {},
     "title": ""
    }
   },
   "outputs": [
    {
     "output_type": "stream",
     "name": "stdout",
     "output_type": "stream",
     "text": [
      "+------+-----------------+---------------+\n|UserID|       CourseName|     NextCourse|\n+------+-----------------+---------------+\n|  U001|    Python Basics|ML with PySpark|\n|  U001|  ML with PySpark|           None|\n|  U002|Excel for Finance|           None|\n|  U003|    Python Basics|           None|\n|  U004|Digital Marketing|           None|\n+------+-----------------+---------------+\n\n"
     ]
    }
   ],
   "source": [
    "# 7.2 lead() to find next course by each user (sorted by EnrollDate)\n",
    "win2 = W.partitionBy(\"UserID\").orderBy(\"EnrollDate\")\n",
    "df.withColumn(\"NextCourse\", F.lead(\"CourseName\", 1, \"None\").over(win2)) \\\n",
    "    .select([\"UserID\", \"CourseName\", \"NextCourse\"]) \\\n",
    "    .show()"
   ]
  },
  {
   "cell_type": "markdown",
   "metadata": {
    "application/vnd.databricks.v1+cell": {
     "cellMetadata": {},
     "inputWidgets": {},
     "nuid": "0f187419-8cc3-42c1-aa21-495e8dbb5c44",
     "showTitle": false,
     "tableResultSettingsMap": {},
     "title": ""
    }
   },
   "source": [
    "# **SQL Logic for Dashboard Views**"
   ]
  },
  {
   "cell_type": "code",
   "execution_count": 0,
   "metadata": {
    "application/vnd.databricks.v1+cell": {
     "cellMetadata": {
      "byteLimit": 2048000,
      "rowLimit": 10000
     },
     "inputWidgets": {},
     "nuid": "3d54eb40-bcd3-40fe-9a9e-bc9058958c70",
     "showTitle": false,
     "tableResultSettingsMap": {},
     "title": ""
    }
   },
   "outputs": [],
   "source": [
    "# 8.1 Create views:\n",
    "# daily_enrollments\n",
    "daily_erollments = df.groupBy(\"EnrollDate\").agg(\n",
    "    F.count(\"*\").alias(\"EnrollmentCount\")\n",
    ")\n",
    "daily_erollments.createOrReplaceTempView(\"daily_enrollments\")"
   ]
  },
  {
   "cell_type": "code",
   "execution_count": 0,
   "metadata": {
    "application/vnd.databricks.v1+cell": {
     "cellMetadata": {
      "byteLimit": 2048000,
      "rowLimit": 10000
     },
     "inputWidgets": {},
     "nuid": "5be8875a-c2cc-4238-9b96-8351023ce42f",
     "showTitle": false,
     "tableResultSettingsMap": {},
     "title": ""
    }
   },
   "outputs": [],
   "source": [
    "# 8.2 Create views:\n",
    "# category_performance (avg rating by category)\n",
    "category_performance = df.groupBy(\"Category\").agg(\n",
    "    F.round(F.mean(\"Rating\")).alias(\"AverageRating\")\n",
    ")\n",
    "category_performance.createOrReplaceTempView(\"category_performance\")"
   ]
  },
  {
   "cell_type": "code",
   "execution_count": 0,
   "metadata": {
    "application/vnd.databricks.v1+cell": {
     "cellMetadata": {
      "byteLimit": 2048000,
      "rowLimit": 10000
     },
     "inputWidgets": {},
     "nuid": "0fd3eb28-35e7-4427-bce9-0522ccbe5d27",
     "showTitle": false,
     "tableResultSettingsMap": {},
     "title": ""
    }
   },
   "outputs": [],
   "source": [
    "# 8.3 Create views:\n",
    "# top_3_courses\n",
    "top_3_courses = df.groupBy(\"CourseName\").agg(\n",
    "    F.count(\"*\").alias(\"EnrollmentCount\")\n",
    ") \\\n",
    ".sort(\"EnrollmentCount\", ascending=False) \\\n",
    ".limit(3)\n",
    "\n",
    "top_3_courses.createOrReplaceTempView(\"top_3_courses\")"
   ]
  },
  {
   "cell_type": "markdown",
   "metadata": {
    "application/vnd.databricks.v1+cell": {
     "cellMetadata": {},
     "inputWidgets": {},
     "nuid": "d1fc1edd-3e08-4cd5-a516-e8e24f51ed0f",
     "showTitle": false,
     "tableResultSettingsMap": {},
     "title": ""
    }
   },
   "source": [
    "# **Time Travel**"
   ]
  },
  {
   "cell_type": "code",
   "execution_count": 0,
   "metadata": {
    "application/vnd.databricks.v1+cell": {
     "cellMetadata": {
      "byteLimit": 2048000,
      "rowLimit": 10000
     },
     "inputWidgets": {},
     "nuid": "6751b171-ed7b-456b-bde4-49be3de3f145",
     "showTitle": false,
     "tableResultSettingsMap": {},
     "title": ""
    }
   },
   "outputs": [
    {
     "output_type": "stream",
     "name": "stdout",
     "output_type": "stream",
     "text": [
      "+-------+--------------------+-------------------+\n|version|           operation|          timestamp|\n+-------+--------------------+-------------------+\n|      2|              DELETE|2025-06-19 06:17:10|\n|      1|              UPDATE|2025-06-19 06:16:11|\n|      0|CREATE OR REPLACE...|2025-06-19 06:15:12|\n+-------+--------------------+-------------------+\n\n"
     ]
    }
   ],
   "source": [
    "# 9.1 View previous version before update/delete\n",
    "spark.sql(\"DESCRIBE HISTORY enrollments_delta\").select([\"version\", \"operation\", \"timestamp\"]).show()"
   ]
  },
  {
   "cell_type": "code",
   "execution_count": 0,
   "metadata": {
    "application/vnd.databricks.v1+cell": {
     "cellMetadata": {
      "byteLimit": 2048000,
      "rowLimit": 10000
     },
     "inputWidgets": {},
     "nuid": "b4e90f72-eef4-4faa-9450-3abca9b363e0",
     "showTitle": false,
     "tableResultSettingsMap": {},
     "title": ""
    }
   },
   "outputs": [
    {
     "output_type": "stream",
     "name": "stdout",
     "output_type": "stream",
     "text": [
      "+--------+------+--------+-----------------+------------+----------+--------------+---------------+------+--------------+-----------+-----+\n|EnrollID|UserID|CourseID|       CourseName|    Category|EnrollDate|CompletionDate|ProgressPercent|Rating|DaysToComplete|IsCompleted|Score|\n+--------+------+--------+-----------------+------------+----------+--------------+---------------+------+--------------+-----------+-----+\n|    E001|  U001|    C001|    Python Basics| Programming|2024-04-01|    2024-04-10|            100|     4|             9|          1|  400|\n|    E002|  U002|    C002|Excel for Finance|Productivity|2024-04-02|          null|             45|     0|          null|          0|    0|\n|    E003|  U001|    C003|  ML with PySpark|Data Science|2024-04-03|          null|             30|     0|          null|          0|    0|\n|    E004|  U003|    C001|    Python Basics| Programming|2024-04-04|    2024-04-20|            100|     5|            16|          1|  500|\n|    E005|  U004|    C004|Digital Marketing|   Marketing|2024-04-05|    2024-04-16|            100|     4|            11|          1|  400|\n+--------+------+--------+-----------------+------------+----------+--------------+---------------+------+--------------+-----------+-----+\n\n+--------+------+--------+-----------------+------------+----------+--------------+---------------+------+--------------+-----------+-----+\n|EnrollID|UserID|CourseID|       CourseName|    Category|EnrollDate|CompletionDate|ProgressPercent|Rating|DaysToComplete|IsCompleted|Score|\n+--------+------+--------+-----------------+------------+----------+--------------+---------------+------+--------------+-----------+-----+\n|    E001|  U001|    C001|    Python Basics| Programming|2024-04-01|    2024-04-10|            100|     4|             9|          1|  400|\n|    E002|  U002|    C002|Excel for Finance|Productivity|2024-04-02|          null|             45|     0|          null|          0|    0|\n|    E003|  U001|    C003|  ML with PySpark|Data Science|2024-04-03|          null|             30|     0|          null|          0|    0|\n|    E004|  U003|    C001|    Python Basics| Programming|2024-04-04|    2024-04-20|            100|     5|            16|          1|  500|\n|    E005|  U004|    C004|Digital Marketing|   Marketing|2024-04-05|    2024-04-16|            100|     4|            11|          1|  400|\n+--------+------+--------+-----------------+------------+----------+--------------+---------------+------+--------------+-----------+-----+\n\n"
     ]
    }
   ],
   "source": [
    "# 9.2 Use VERSION AS OF and TIMESTAMP AS OF\n",
    "spark.sql(\"\"\"\n",
    "          SELECT * FROM enrollments_delta VERSION AS OF 0\n",
    "          \"\"\").show()\n",
    "\n",
    "spark.sql(\"\"\"\n",
    "          SELECT * FROM enrollments_delta TIMESTAMP AS OF '2025-06-19 06:15:12'\n",
    "          \"\"\").show()"
   ]
  },
  {
   "cell_type": "markdown",
   "metadata": {
    "application/vnd.databricks.v1+cell": {
     "cellMetadata": {},
     "inputWidgets": {},
     "nuid": "b14f18ea-9f66-4aa3-88ed-060d16414e5b",
     "showTitle": false,
     "tableResultSettingsMap": {},
     "title": ""
    }
   },
   "source": [
    "# **Export Reporting**"
   ]
  },
  {
   "cell_type": "code",
   "execution_count": 0,
   "metadata": {
    "application/vnd.databricks.v1+cell": {
     "cellMetadata": {
      "byteLimit": 2048000,
      "rowLimit": 10000
     },
     "inputWidgets": {},
     "nuid": "28e54ae9-de3f-4494-b954-0992d3de41a4",
     "showTitle": false,
     "tableResultSettingsMap": {},
     "title": ""
    }
   },
   "outputs": [],
   "source": [
    "# 10.1 Write to JSON, partitioned by Category\n",
    "df.write.mode(\"overwrite\").option(\"partitionby\", \"Category\").json(\"/FileStore/tables/enrollment_data\")"
   ]
  },
  {
   "cell_type": "code",
   "execution_count": 0,
   "metadata": {
    "application/vnd.databricks.v1+cell": {
     "cellMetadata": {
      "byteLimit": 2048000,
      "rowLimit": 10000
     },
     "inputWidgets": {},
     "nuid": "2776a85c-4d4c-40e5-95a8-959930a88bb3",
     "showTitle": false,
     "tableResultSettingsMap": {},
     "title": ""
    }
   },
   "outputs": [],
   "source": [
    "# 10.2 Create summary DataFrame: CourseName, TotalEnrollments, AvgRating, AvgProgress\n",
    "# Save as Parquet\n",
    "dfSummary = df.groupBy(\"CourseName\") \\\n",
    "            .agg(\n",
    "                F.count(\"*\").alias(\"TotalEnrollments\"),\n",
    "                F.round(F.mean(\"Rating\"), 2).alias(\"AvergaeRating\"),\n",
    "                F.round(F.mean(\"ProgressPercent\"), 2).alias(\"AverageProgress\")\n",
    "            )\n",
    "dfSummary.write.mode(\"overwrite\").parquet(\"/FileStore/tables/enrollment_summary\")"
   ]
  },
  {
   "cell_type": "code",
   "execution_count": 0,
   "metadata": {
    "application/vnd.databricks.v1+cell": {
     "cellMetadata": {},
     "inputWidgets": {},
     "nuid": "20cd7dd5-e41f-4e2a-a58b-5248b22d6976",
     "showTitle": false,
     "tableResultSettingsMap": {},
     "title": ""
    }
   },
   "outputs": [],
   "source": []
  }
 ],
 "metadata": {
  "application/vnd.databricks.v1+notebook": {
   "computePreferences": null,
   "dashboards": [],
   "environmentMetadata": null,
   "inputWidgetPreferences": null,
   "language": "python",
   "notebookMetadata": {
    "pythonIndentUnit": 4
   },
   "notebookName": "Assignment-1",
   "widgets": {}
  }
 },
 "nbformat": 4,
 "nbformat_minor": 0
}