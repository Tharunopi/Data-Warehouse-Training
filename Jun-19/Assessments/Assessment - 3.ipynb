{
 "cells": [
  {
   "cell_type": "markdown",
   "metadata": {
    "application/vnd.databricks.v1+cell": {
     "cellMetadata": {},
     "inputWidgets": {},
     "nuid": "64dd0c2d-1b30-4ede-a045-2f2681285cae",
     "showTitle": false,
     "tableResultSettingsMap": {},
     "title": ""
    }
   },
   "source": [
    "#**Assessment-3**"
   ]
  },
  {
   "cell_type": "code",
   "execution_count": 0,
   "metadata": {
    "application/vnd.databricks.v1+cell": {
     "cellMetadata": {
      "byteLimit": 2048000,
      "rowLimit": 10000
     },
     "inputWidgets": {},
     "nuid": "c1a7df7f-c2f2-4fab-9360-1ce8318ccc34",
     "showTitle": false,
     "tableResultSettingsMap": {},
     "title": ""
    }
   },
   "outputs": [],
   "source": [
    "from pyspark.sql import SparkSession\n",
    "import pyspark.sql.functions as F\n",
    "from pyspark.sql.window import Window as W"
   ]
  },
  {
   "cell_type": "code",
   "execution_count": 0,
   "metadata": {
    "application/vnd.databricks.v1+cell": {
     "cellMetadata": {
      "byteLimit": 2048000,
      "rowLimit": 10000
     },
     "inputWidgets": {},
     "nuid": "64595ea0-b0bd-4e8a-a9c7-4bc5d21bec11",
     "showTitle": false,
     "tableResultSettingsMap": {},
     "title": ""
    }
   },
   "outputs": [],
   "source": [
    "spark = SparkSession.builder.appName(\"dbshell-01\").getOrCreate()"
   ]
  },
  {
   "cell_type": "markdown",
   "metadata": {
    "application/vnd.databricks.v1+cell": {
     "cellMetadata": {},
     "inputWidgets": {},
     "nuid": "04488959-d58e-4894-a99f-9abe2a876320",
     "showTitle": false,
     "tableResultSettingsMap": {},
     "title": ""
    }
   },
   "source": [
    "# **Inventory Alerting System**"
   ]
  },
  {
   "cell_type": "code",
   "execution_count": 0,
   "metadata": {
    "application/vnd.databricks.v1+cell": {
     "cellMetadata": {
      "byteLimit": 2048000,
      "rowLimit": 10000
     },
     "inputWidgets": {},
     "nuid": "20cd7dd5-e41f-4e2a-a58b-5248b22d6976",
     "showTitle": false,
     "tableResultSettingsMap": {},
     "title": ""
    }
   },
   "outputs": [],
   "source": [
    "# 1.1 Load the data using PySpark.\n",
    "df = spark.read.csv(\"/FileStore/tables/inventory_supply.csv\", header=True, inferSchema=True)"
   ]
  },
  {
   "cell_type": "code",
   "execution_count": 0,
   "metadata": {
    "application/vnd.databricks.v1+cell": {
     "cellMetadata": {
      "byteLimit": 2048000,
      "rowLimit": 10000
     },
     "inputWidgets": {},
     "nuid": "c16ab421-b88d-4099-b9d9-0802082f9c43",
     "showTitle": false,
     "tableResultSettingsMap": {},
     "title": ""
    }
   },
   "outputs": [
    {
     "output_type": "stream",
     "name": "stdout",
     "output_type": "stream",
     "text": [
      "+------------+--------+------------+------------+\n|    ItemName|StockQty|ReorderLevel|NeedsReorder|\n+------------+--------+------------+------------+\n|      LED TV|      50|          20|           0|\n|      Laptop|      10|          15|           1|\n|Office Chair|      40|          10|           0|\n|Refrigerator|       5|          10|           1|\n|     Printer|       3|           5|           1|\n+------------+--------+------------+------------+\n\n"
     ]
    }
   ],
   "source": [
    "# 1.2 Create a new column NeedsReorder = StockQty < ReorderLevel .\n",
    "df = df.withColumn(\"NeedsReorder\", F.when(df.StockQty < df.ReorderLevel, 1).otherwise(0))\n",
    "df.select([\"ItemName\", \"StockQty\", \"ReorderLevel\", \"NeedsReorder\"]).show()"
   ]
  },
  {
   "cell_type": "code",
   "execution_count": 0,
   "metadata": {
    "application/vnd.databricks.v1+cell": {
     "cellMetadata": {
      "byteLimit": 2048000,
      "rowLimit": 10000
     },
     "inputWidgets": {},
     "nuid": "076b1bc7-068a-4a45-8751-7903add452ce",
     "showTitle": false,
     "tableResultSettingsMap": {},
     "title": ""
    }
   },
   "outputs": [],
   "source": [
    "# 1.3 Create a view of all items that need restocking.\n",
    "needRestock = df.filter(df.NeedsReorder == 1)\n",
    "needRestock.createOrReplaceTempView(\"needs_restock\")"
   ]
  },
  {
   "cell_type": "markdown",
   "metadata": {
    "application/vnd.databricks.v1+cell": {
     "cellMetadata": {},
     "inputWidgets": {},
     "nuid": "37ed75d9-1998-4a36-9dcf-326ce9ef3794",
     "showTitle": false,
     "tableResultSettingsMap": {},
     "title": ""
    }
   },
   "source": [
    "# **Supplier Price Optimization**"
   ]
  },
  {
   "cell_type": "code",
   "execution_count": 0,
   "metadata": {
    "application/vnd.databricks.v1+cell": {
     "cellMetadata": {
      "byteLimit": 2048000,
      "rowLimit": 10000
     },
     "inputWidgets": {},
     "nuid": "a3804079-9373-44d5-a752-ce48c78eae1d",
     "showTitle": false,
     "tableResultSettingsMap": {},
     "title": ""
    }
   },
   "outputs": [
    {
     "output_type": "stream",
     "name": "stdout",
     "output_type": "stream",
     "text": [
      "+---------+------------+----------------+\n| Supplier|    ItemName|AverageUnitPrice|\n+---------+------------+----------------+\n|TechWorld|      Laptop|         70000.0|\n|PrintFast|     Printer|          8000.0|\n| FreezeIt|Refrigerator|         25000.0|\n|   AVTech|      LED TV|         30000.0|\n|  ChairCo|Office Chair|          6000.0|\n+---------+------------+----------------+\n\n"
     ]
    }
   ],
   "source": [
    "# 2.1 Group items by Supplier and compute average price.\n",
    "supplierAverage = df.groupBy(\"Supplier\", \"ItemName\").agg(\n",
    "  F.round(F.mean(\"UnitPrice\")).alias(\"AverageUnitPrice\")\n",
    ")\n",
    "supplierAverage.show()"
   ]
  },
  {
   "cell_type": "code",
   "execution_count": 0,
   "metadata": {
    "application/vnd.databricks.v1+cell": {
     "cellMetadata": {
      "byteLimit": 2048000,
      "rowLimit": 10000
     },
     "inputWidgets": {},
     "nuid": "3693ef3c-71f7-4058-ba11-78d99047c97e",
     "showTitle": false,
     "tableResultSettingsMap": {},
     "title": ""
    }
   },
   "outputs": [
    {
     "output_type": "stream",
     "name": "stdout",
     "output_type": "stream",
     "text": [
      "+---------+------------+----------------+\n| Supplier|    ItemName|AverageUnitPrice|\n+---------+------------+----------------+\n|PrintFast|     Printer|          8000.0|\n| FreezeIt|Refrigerator|         25000.0|\n|  ChairCo|Office Chair|          6000.0|\n+---------+------------+----------------+\n\n"
     ]
    }
   ],
   "source": [
    "# 2.2 Find which suppliers offer items below average price in their category.\n",
    "priceAverage = supplierAverage.agg(F.mean(\"AverageUnitPrice\")).collect()[0][0]\n",
    "supplierAverage.filter(supplierAverage.AverageUnitPrice <= priceAverage).show()"
   ]
  },
  {
   "cell_type": "code",
   "execution_count": 0,
   "metadata": {
    "application/vnd.databricks.v1+cell": {
     "cellMetadata": {
      "byteLimit": 2048000,
      "rowLimit": 10000
     },
     "inputWidgets": {},
     "nuid": "1ae7d8c1-bd4d-4ec3-90b0-03e68819cd24",
     "showTitle": false,
     "tableResultSettingsMap": {},
     "title": ""
    }
   },
   "outputs": [
    {
     "output_type": "stream",
     "name": "stdout",
     "output_type": "stream",
     "text": [
      "+------------+---------+-----------+\n|    ItemName| Supplier|        Tag|\n+------------+---------+-----------+\n|      Laptop|TechWorld|NotGoodDeal|\n|     Printer|PrintFast|   GoodDeal|\n|Refrigerator| FreezeIt|   GoodDeal|\n|      LED TV|   AVTech|NotGoodDeal|\n|Office Chair|  ChairCo|   GoodDeal|\n+------------+---------+-----------+\n\n"
     ]
    }
   ],
   "source": [
    "# 2.3 Tag suppliers with Good Deal if >50% of their items are below market average.\n",
    "df = df.withColumn(\"BelowAverage\", F.when(F.col(\"UnitPrice\") <= priceAverage, 1).otherwise(0))\n",
    "\n",
    "average = df.groupBy(\"ItemName\").agg(\n",
    "    F.sum(\"BelowAverage\").alias(\"BelowAverageCount\"),\n",
    "    F.count(\"*\").alias(\"TotalCount\"),\n",
    "    F.round(F.col(\"BelowAverageCount\") / F.col(\"TotalCount\"), 2).alias(\"percentBelow\")\n",
    ")\n",
    "\n",
    "supplierAverage.join(average, on=\"ItemName\", how=\"inner\") \\\n",
    "    .withColumn(\"Tag\", F.when(F.col(\"percentBelow\") >= 0.50, \"GoodDeal\").otherwise(\"NotGoodDeal\")) \\\n",
    "    .select([\"ItemName\", \"Supplier\", \"Tag\"]) \\\n",
    "    .show()"
   ]
  },
  {
   "cell_type": "markdown",
   "metadata": {
    "application/vnd.databricks.v1+cell": {
     "cellMetadata": {},
     "inputWidgets": {},
     "nuid": "6ffbb695-ae5e-4f98-9e29-4fd7d3ff9ccd",
     "showTitle": false,
     "tableResultSettingsMap": {},
     "title": ""
    }
   },
   "source": [
    "# **Cost Forecasting**"
   ]
  },
  {
   "cell_type": "code",
   "execution_count": 0,
   "metadata": {
    "application/vnd.databricks.v1+cell": {
     "cellMetadata": {
      "byteLimit": 2048000,
      "rowLimit": 10000
     },
     "inputWidgets": {},
     "nuid": "198c6496-18c4-4701-87ce-744a3e59faa9",
     "showTitle": false,
     "tableResultSettingsMap": {},
     "title": ""
    }
   },
   "outputs": [
    {
     "output_type": "stream",
     "name": "stdout",
     "output_type": "stream",
     "text": [
      "+------------+---------------+\n|    ItemName|TotalStockValue|\n+------------+---------------+\n|      LED TV|        1500000|\n|      Laptop|         700000|\n|Office Chair|         240000|\n|Refrigerator|         125000|\n|     Printer|          24000|\n+------------+---------------+\n\n"
     ]
    }
   ],
   "source": [
    "# 3.1 Calculate TotalStockValue = StockQty * UnitPrice .\n",
    "df = df.withColumn(\"TotalStockValue\", df.StockQty * df.UnitPrice)\n",
    "df.select([\"ItemName\", \"TotalStockValue\"]).show()"
   ]
  },
  {
   "cell_type": "code",
   "execution_count": 0,
   "metadata": {
    "application/vnd.databricks.v1+cell": {
     "cellMetadata": {
      "byteLimit": 2048000,
      "rowLimit": 10000
     },
     "inputWidgets": {},
     "nuid": "03d2396d-c1ba-4b05-baa9-a3879811d9c9",
     "showTitle": false,
     "tableResultSettingsMap": {},
     "title": ""
    }
   },
   "outputs": [
    {
     "output_type": "stream",
     "name": "stdout",
     "output_type": "stream",
     "text": [
      "+------------+----------+\n|    ItemName|TotalValue|\n+------------+----------+\n|      LED TV|   1500000|\n|      Laptop|    700000|\n|Office Chair|    240000|\n+------------+----------+\n\n"
     ]
    }
   ],
   "source": [
    "# 3.2 Identify top 3 highest-value items.\n",
    "df.groupBy(\"ItemName\") \\\n",
    "    .agg(\n",
    "    F.sum(\"TotalStockValue\").alias(\"TotalValue\")\n",
    "    ) \\\n",
    "    .sort(\"TotalValue\", ascending=False) \\\n",
    "    .limit(3) \\\n",
    "    .show()"
   ]
  },
  {
   "cell_type": "code",
   "execution_count": 0,
   "metadata": {
    "application/vnd.databricks.v1+cell": {
     "cellMetadata": {
      "byteLimit": 2048000,
      "rowLimit": 10000
     },
     "inputWidgets": {},
     "nuid": "75605978-fd13-491b-8b93-64316d0c1e39",
     "showTitle": false,
     "tableResultSettingsMap": {},
     "title": ""
    }
   },
   "outputs": [],
   "source": [
    "# 3.3 Export the result as a Parquet file partitioned by Warehouse .\n",
    "df.write.mode(\"overwrite\").parquet(\"file:/Users/tharunaadhi6@gmail.com/delta_tables/export/warehouse_dataPARQUET\", partitionBy=\"Warehouse\")"
   ]
  },
  {
   "cell_type": "markdown",
   "metadata": {
    "application/vnd.databricks.v1+cell": {
     "cellMetadata": {},
     "inputWidgets": {},
     "nuid": "7a7c2696-9687-47ff-aebd-6a3c35fdde79",
     "showTitle": false,
     "tableResultSettingsMap": {},
     "title": ""
    }
   },
   "source": [
    "# **Warehouse Utilization**"
   ]
  },
  {
   "cell_type": "code",
   "execution_count": 0,
   "metadata": {
    "application/vnd.databricks.v1+cell": {
     "cellMetadata": {
      "byteLimit": 2048000,
      "rowLimit": 10000
     },
     "inputWidgets": {},
     "nuid": "3cbe1f9e-b4a8-499a-8bbb-d28130e27712",
     "showTitle": false,
     "tableResultSettingsMap": {},
     "title": ""
    }
   },
   "outputs": [
    {
     "output_type": "stream",
     "name": "stdout",
     "output_type": "stream",
     "text": [
      "+----------+---------+\n| Warehouse|ItemCount|\n+----------+---------+\n|WarehouseA|        2|\n|WarehouseC|        1|\n|WarehouseB|        2|\n+----------+---------+\n\n"
     ]
    }
   ],
   "source": [
    "# 4.1 Count items stored per warehouse.\n",
    "df.groupBy(\"Warehouse\").agg(\n",
    "  F.countDistinct(\"ItemID\").alias(\"ItemCount\")\n",
    ").show()"
   ]
  },
  {
   "cell_type": "code",
   "execution_count": 0,
   "metadata": {
    "application/vnd.databricks.v1+cell": {
     "cellMetadata": {
      "byteLimit": 2048000,
      "rowLimit": 10000
     },
     "inputWidgets": {},
     "nuid": "b04fcdd1-86e4-4b29-a08c-b05208e783e8",
     "showTitle": false,
     "tableResultSettingsMap": {},
     "title": ""
    }
   },
   "outputs": [
    {
     "output_type": "stream",
     "name": "stdout",
     "output_type": "stream",
     "text": [
      "+-----------+------------+\n|   Category|AverageStock|\n+-----------+------------+\n|Electronics|        21.0|\n|  Furniture|        40.0|\n| Appliances|         5.0|\n+-----------+------------+\n\n"
     ]
    }
   ],
   "source": [
    "# 4.2 Average stock per category in each warehouse.\n",
    "df.groupBy(\"Category\").agg(\n",
    "    F.round(F.mean(\"StockQty\"), 2).alias(\"AverageStock\")\n",
    ").show()"
   ]
  },
  {
   "cell_type": "code",
   "execution_count": 0,
   "metadata": {
    "application/vnd.databricks.v1+cell": {
     "cellMetadata": {
      "byteLimit": 2048000,
      "rowLimit": 10000
     },
     "inputWidgets": {},
     "nuid": "abf2b25f-f9d7-4e7f-87e3-0dc567e2c921",
     "showTitle": false,
     "tableResultSettingsMap": {},
     "title": ""
    }
   },
   "outputs": [
    {
     "output_type": "stream",
     "name": "stdout",
     "output_type": "stream",
     "text": [
      "+----------+----------+-------------+\n| Warehouse|TotalStock|UnderUtilized|\n+----------+----------+-------------+\n|WarehouseA|        90|          Yes|\n|WarehouseC|         5|          Yes|\n|WarehouseB|        13|          Yes|\n+----------+----------+-------------+\n\n"
     ]
    }
   ],
   "source": [
    "# 4.3 Determine underutilized warehouses ( total stock < 100 ).\n",
    "df.groupBy(\"Warehouse\") \\\n",
    "    .agg(\n",
    "    F.sum(\"StockQty\").alias(\"TotalStock\")\n",
    "    ) \\\n",
    "    .withColumn(\"UnderUtilized\", F.when(F.col(\"TotalStock\") < 100, \"Yes\").otherwise(\"No\")) \\\n",
    "    .show()"
   ]
  },
  {
   "cell_type": "markdown",
   "metadata": {
    "application/vnd.databricks.v1+cell": {
     "cellMetadata": {},
     "inputWidgets": {},
     "nuid": "01f83c43-9c4c-4dd0-99e0-16e196a92bf5",
     "showTitle": false,
     "tableResultSettingsMap": {},
     "title": ""
    }
   },
   "source": [
    "# **Delta Audit Trail**"
   ]
  },
  {
   "cell_type": "code",
   "execution_count": 0,
   "metadata": {
    "application/vnd.databricks.v1+cell": {
     "cellMetadata": {
      "byteLimit": 2048000,
      "rowLimit": 10000
     },
     "inputWidgets": {},
     "nuid": "79430546-3f02-4482-abb7-2269acbd7aab",
     "showTitle": false,
     "tableResultSettingsMap": {},
     "title": ""
    }
   },
   "outputs": [],
   "source": [
    "# 5.1 Save as Delta table retail_inventory .\n",
    "spark.sql(\"CREATE DATABASE IF NOT EXISTS inventory\")\n",
    "spark.sql(\"USE inventory\")\n",
    "\n",
    "df.write.format(\"delta\").mode(\"overwrite\").saveAsTable(\"inventory.retail_inventory\")"
   ]
  },
  {
   "cell_type": "code",
   "execution_count": 0,
   "metadata": {
    "application/vnd.databricks.v1+cell": {
     "cellMetadata": {
      "byteLimit": 2048000,
      "rowLimit": 10000
     },
     "inputWidgets": {},
     "nuid": "ac9f66a5-296c-4eb5-8195-3a6cad16f756",
     "showTitle": false,
     "tableResultSettingsMap": {},
     "title": ""
    }
   },
   "outputs": [
    {
     "output_type": "stream",
     "name": "stdout",
     "output_type": "stream",
     "text": [
      "Out[174]: DataFrame[num_affected_rows: bigint]"
     ]
    }
   ],
   "source": [
    "# 5.2 Update stock of 'Laptop' to 20.\n",
    "spark.sql(\"\"\"\n",
    "          UPDATE retail_inventory\n",
    "          SET StockQty = 20\n",
    "          WHERE ItemName = 'Laptop'\n",
    "          \"\"\")"
   ]
  },
  {
   "cell_type": "code",
   "execution_count": 0,
   "metadata": {
    "application/vnd.databricks.v1+cell": {
     "cellMetadata": {
      "byteLimit": 2048000,
      "rowLimit": 10000
     },
     "inputWidgets": {},
     "nuid": "5b892c8e-d646-41fa-a752-f66ba92d1038",
     "showTitle": false,
     "tableResultSettingsMap": {},
     "title": ""
    }
   },
   "outputs": [
    {
     "output_type": "stream",
     "name": "stdout",
     "output_type": "stream",
     "text": [
      "Out[175]: DataFrame[num_affected_rows: bigint]"
     ]
    }
   ],
   "source": [
    "# 5.3 Delete any item with StockQty = 0 .\n",
    "spark.sql(\"\"\"\n",
    "          DELETE FROM retail_inventory\n",
    "          WHERE StockQty = 0\n",
    "          \"\"\")"
   ]
  },
  {
   "cell_type": "code",
   "execution_count": 0,
   "metadata": {
    "application/vnd.databricks.v1+cell": {
     "cellMetadata": {
      "byteLimit": 2048000,
      "rowLimit": 10000
     },
     "inputWidgets": {},
     "nuid": "5bd0df2a-1950-458d-9dea-d486bd346899",
     "showTitle": false,
     "tableResultSettingsMap": {},
     "title": ""
    }
   },
   "outputs": [
    {
     "output_type": "stream",
     "name": "stdout",
     "output_type": "stream",
     "text": [
      "+-------+---------------------------------+\n|version|operation                        |\n+-------+---------------------------------+\n|3      |DELETE                           |\n|2      |UPDATE                           |\n|1      |CREATE OR REPLACE TABLE AS SELECT|\n|0      |CREATE OR REPLACE TABLE AS SELECT|\n+-------+---------------------------------+\n\n+------+------------+-----------+----------+--------+------------+-------------+---------+---------+------------+------------+---------------+\n|ItemID|    ItemName|   Category| Warehouse|StockQty|ReorderLevel|LastRestocked|UnitPrice| Supplier|NeedsReorder|BelowAverage|TotalStockValue|\n+------+------------+-----------+----------+--------+------------+-------------+---------+---------+------------+------------+---------------+\n|  I001|      LED TV|Electronics|WarehouseA|      50|          20|   2024-03-15|    30000|   AVTech|           0|           0|        1500000|\n|  I002|      Laptop|Electronics|WarehouseB|      10|          15|   2024-04-01|    70000|TechWorld|           1|           0|         700000|\n|  I003|Office Chair|  Furniture|WarehouseA|      40|          10|   2024-03-25|     6000|  ChairCo|           0|           1|         240000|\n|  I004|Refrigerator| Appliances|WarehouseC|       5|          10|   2024-02-20|    25000| FreezeIt|           1|           1|         125000|\n|  I005|     Printer|Electronics|WarehouseB|       3|           5|   2024-03-30|     8000|PrintFast|           1|           1|          24000|\n+------+------------+-----------+----------+--------+------------+-------------+---------+---------+------------+------------+---------------+\n\n"
     ]
    }
   ],
   "source": [
    "# 5.4 Run DESCRIBE HISTORY and query VERSION AS OF previous state.\n",
    "spark.sql(\"\"\"\n",
    "          DESCRIBE HISTORY retail_inventory\n",
    "          \"\"\").select([\"version\", \"operation\"]).show(truncate=False)\n",
    "\n",
    "spark.sql(\"\"\"\n",
    "          SELECT * FROM retail_inventory VERSION AS OF 1\n",
    "          \"\"\").show()"
   ]
  },
  {
   "cell_type": "markdown",
   "metadata": {
    "application/vnd.databricks.v1+cell": {
     "cellMetadata": {},
     "inputWidgets": {},
     "nuid": "391e6a5b-2af3-4dd5-9e89-9b43ad6825a2",
     "showTitle": false,
     "tableResultSettingsMap": {},
     "title": ""
    }
   },
   "source": [
    "# **Alerts from Restock Logs (Join Task)**"
   ]
  },
  {
   "cell_type": "code",
   "execution_count": 0,
   "metadata": {
    "application/vnd.databricks.v1+cell": {
     "cellMetadata": {
      "byteLimit": 2048000,
      "rowLimit": 10000
     },
     "inputWidgets": {},
     "nuid": "b6e3b788-e69f-4b82-83e6-8e7853f09480",
     "showTitle": false,
     "tableResultSettingsMap": {},
     "title": ""
    }
   },
   "outputs": [],
   "source": [
    "data = [\n",
    "  (\"I002\",\"2024-04-20\",10),\n",
    "  (\"I005\",\"2024-04-22\",5),\n",
    "  (\"I001\",\"2024-04-25\",20)\n",
    "]\n",
    "columns = [\"ItemID\",\"RestockDate\",\"QuantityAdded\"]\n",
    "\n",
    "restock_logs = spark.createDataFrame(data, columns)"
   ]
  },
  {
   "cell_type": "code",
   "execution_count": 0,
   "metadata": {
    "application/vnd.databricks.v1+cell": {
     "cellMetadata": {
      "byteLimit": 2048000,
      "rowLimit": 10000
     },
     "inputWidgets": {},
     "nuid": "9510d0b9-7e6b-4cc4-984c-8afafc8a5777",
     "showTitle": false,
     "tableResultSettingsMap": {},
     "title": ""
    }
   },
   "outputs": [
    {
     "output_type": "stream",
     "name": "stdout",
     "output_type": "stream",
     "text": [
      "+------+------------+-----------+----------+--------+------------+-------------+---------+---------+------------+------------+---------------+-----------+-------------+\n|ItemID|    ItemName|   Category| Warehouse|StockQty|ReorderLevel|LastRestocked|UnitPrice| Supplier|NeedsReorder|BelowAverage|TotalStockValue|RestockDate|QuantityAdded|\n+------+------------+-----------+----------+--------+------------+-------------+---------+---------+------------+------------+---------------+-----------+-------------+\n|  I001|      LED TV|Electronics|WarehouseA|      50|          20|   2024-03-15|    30000|   AVTech|           0|           0|        1500000| 2024-04-25|           20|\n|  I002|      Laptop|Electronics|WarehouseB|      10|          15|   2024-04-01|    70000|TechWorld|           1|           0|         700000| 2024-04-20|           10|\n|  I003|Office Chair|  Furniture|WarehouseA|      40|          10|   2024-03-25|     6000|  ChairCo|           0|           1|         240000|       null|         null|\n|  I004|Refrigerator| Appliances|WarehouseC|       5|          10|   2024-02-20|    25000| FreezeIt|           1|           1|         125000|       null|         null|\n|  I005|     Printer|Electronics|WarehouseB|       3|           5|   2024-03-30|     8000|PrintFast|           1|           1|          24000| 2024-04-22|            5|\n+------+------------+-----------+----------+--------+------------+-------------+---------+---------+------------+------------+---------------+-----------+-------------+\n\n"
     ]
    }
   ],
   "source": [
    "# 6.1 Join with inventory table to update StockQty.\n",
    "dfJoined = df.join(restock_logs, on=\"ItemID\", how=\"left\")\n",
    "newStockdf = dfJoined.withColumn(\"StockQty\", \n",
    "    F.coalesce(F.col(\"StockQty\") + F.col(\"QuantityAdded\"), F.col(\"StockQty\"))) \\\n",
    "    .withColumn(\"RestockDate\", F.col(\"RestockDate\")) \\\n",
    "    .select(df.columns)\n",
    "dfJoined.show()"
   ]
  },
  {
   "cell_type": "code",
   "execution_count": 0,
   "metadata": {
    "application/vnd.databricks.v1+cell": {
     "cellMetadata": {
      "byteLimit": 2048000,
      "rowLimit": 10000
     },
     "inputWidgets": {},
     "nuid": "fef730ef-f58d-4ec5-b8f2-f3e029b1c2c4",
     "showTitle": false,
     "tableResultSettingsMap": {},
     "title": ""
    }
   },
   "outputs": [],
   "source": [
    "# 6.2 Calculate new stock and flag RestockedRecently = true for updated items.\n",
    "newStockdf = newStockdf.withColumn(\"RestockedRecently\", \n",
    "    F.when(F.datediff(F.current_date(), F.col(\"LastRestocked\")) < 180, True)\n",
    "    .otherwise(False))"
   ]
  },
  {
   "cell_type": "code",
   "execution_count": 0,
   "metadata": {
    "application/vnd.databricks.v1+cell": {
     "cellMetadata": {
      "byteLimit": 2048000,
      "rowLimit": 10000
     },
     "inputWidgets": {},
     "nuid": "c51611fe-bcd6-4ac3-887f-8736758a9e7d",
     "showTitle": false,
     "tableResultSettingsMap": {},
     "title": ""
    }
   },
   "outputs": [
    {
     "output_type": "stream",
     "name": "stdout",
     "output_type": "stream",
     "text": [
      "Out[191]: DataFrame[num_affected_rows: bigint, num_updated_rows: bigint, num_deleted_rows: bigint, num_inserted_rows: bigint]"
     ]
    }
   ],
   "source": [
    "# 6.3 Use MERGE INTO to update in Delta.\n",
    "newStockdf.createOrReplaceTempView(\"new_stock_update\")\n",
    "\n",
    "spark.sql(\"\"\"\n",
    "          MERGE INTO retail_inventory AS target\n",
    "          USING new_stock_update AS source\n",
    "          ON target.ItemID = source.ItemID\n",
    "          WHEN MATCHED THEN UPDATE SET *\n",
    "          WHEN NOT MATCHED THEN INSERT *\n",
    "          \"\"\")"
   ]
  },
  {
   "cell_type": "markdown",
   "metadata": {
    "application/vnd.databricks.v1+cell": {
     "cellMetadata": {},
     "inputWidgets": {},
     "nuid": "79e63246-1122-4faa-b859-b9abb228130b",
     "showTitle": false,
     "tableResultSettingsMap": {},
     "title": ""
    }
   },
   "source": [
    "#**Report Generation with SQL Views Tasks**"
   ]
  },
  {
   "cell_type": "code",
   "execution_count": 0,
   "metadata": {
    "application/vnd.databricks.v1+cell": {
     "cellMetadata": {
      "byteLimit": 2048000,
      "rowLimit": 10000
     },
     "inputWidgets": {},
     "nuid": "439bbddd-d1cc-4534-b829-99f6fafd50c6",
     "showTitle": false,
     "tableResultSettingsMap": {},
     "title": ""
    }
   },
   "outputs": [
    {
     "output_type": "stream",
     "name": "stdout",
     "output_type": "stream",
     "text": [
      "+------------+-----------+--------+------------+---------------+\n|    ItemName|   Category|StockQty|NeedsReorder|TotalStockValue|\n+------------+-----------+--------+------------+---------------+\n|      Laptop|Electronics|      10|           1|         700000|\n|Office Chair|  Furniture|      40|           0|         240000|\n|     Printer|Electronics|       3|           1|          24000|\n|      LED TV|Electronics|      50|           0|        1500000|\n|Refrigerator| Appliances|       5|           1|         125000|\n+------------+-----------+--------+------------+---------------+\n\n"
     ]
    }
   ],
   "source": [
    "# 7.1 Create SQL view inventory_summary with:\n",
    "# ItemName, Category, StockQty, NeedsReorder, TotalStockValue\n",
    "df.groupBy([\"ItemName\", \"Category\"]).agg(\n",
    "  F.sum(\"StockQty\").alias(\"StockQty\"),\n",
    "  F.max(\"NeedsReorder\").alias(\"NeedsReorder\"),\n",
    "  F.sum(\"TotalStockValue\").alias(\"TotalStockValue\")\n",
    ").show()"
   ]
  },
  {
   "cell_type": "code",
   "execution_count": 0,
   "metadata": {
    "application/vnd.databricks.v1+cell": {
     "cellMetadata": {
      "byteLimit": 2048000,
      "rowLimit": 10000
     },
     "inputWidgets": {},
     "nuid": "7c153402-82a5-443a-9821-711537081024",
     "showTitle": false,
     "tableResultSettingsMap": {},
     "title": ""
    }
   },
   "outputs": [
    {
     "output_type": "stream",
     "name": "stdout",
     "output_type": "stream",
     "text": [
      "+---------+----------------+\n| Supplier|AverageUnitPrice|\n+---------+----------------+\n|TechWorld|         70000.0|\n|   AVTech|         30000.0|\n| FreezeIt|         25000.0|\n|PrintFast|          8000.0|\n|  ChairCo|          6000.0|\n+---------+----------------+\n\n"
     ]
    }
   ],
   "source": [
    "# 7.2 Create view supplier_leaderboard sorted by average price\n",
    "supplierLeaderboard = supplierAverage \\\n",
    "    .sort(\"AverageUnitPrice\", ascending=False) \\\n",
    "    .select([\"Supplier\", \"AverageUnitPrice\"]) \n",
    "\n",
    "supplierLeaderboard.createOrReplaceTempView(\"supplierLeaderboard\")\n",
    "supplierLeaderboard.show()"
   ]
  },
  {
   "cell_type": "markdown",
   "metadata": {
    "application/vnd.databricks.v1+cell": {
     "cellMetadata": {},
     "inputWidgets": {},
     "nuid": "0fad8dba-dab4-46be-860a-b1314dbc31cd",
     "showTitle": false,
     "tableResultSettingsMap": {},
     "title": ""
    }
   },
   "source": [
    "# **Advanced Filtering**"
   ]
  },
  {
   "cell_type": "code",
   "execution_count": 0,
   "metadata": {
    "application/vnd.databricks.v1+cell": {
     "cellMetadata": {
      "byteLimit": 2048000,
      "rowLimit": 10000
     },
     "inputWidgets": {},
     "nuid": "07ece724-3941-4e3a-bf18-c9c7ef8c3ca0",
     "showTitle": false,
     "tableResultSettingsMap": {},
     "title": ""
    }
   },
   "outputs": [
    {
     "output_type": "stream",
     "name": "stdout",
     "output_type": "stream",
     "text": [
      "+------------+--------+------------+-----------+\n|    ItemName|StockQty|ReorderLevel|StockStatus|\n+------------+--------+------------+-----------+\n|      LED TV|      50|          20|overStocked|\n|      Laptop|      10|          15|   Lowstock|\n|Office Chair|      40|          10|overStocked|\n|Refrigerator|       5|          10|   Lowstock|\n|     Printer|       3|           5|   Lowstock|\n+------------+--------+------------+-----------+\n\n"
     ]
    }
   ],
   "source": [
    "# 8.1 Use when / otherwise to categorize items:\n",
    "# \"Overstocked\" (>2x ReorderLevel)\n",
    "# \"LowStock\"\n",
    "df.withColumn(\n",
    "  \"StockStatus\", \n",
    "  F.when(F.col(\"StockQty\") > F.col(\"Reorderlevel\") * 2, \"overStocked\").otherwise(\"Lowstock\")\n",
    "  ) \\\n",
    "  .select([\"ItemName\", \"StockQty\", \"ReorderLevel\", \"StockStatus\"]) \\\n",
    "  .show()"
   ]
  },
  {
   "cell_type": "code",
   "execution_count": 0,
   "metadata": {
    "application/vnd.databricks.v1+cell": {
     "cellMetadata": {
      "byteLimit": 2048000,
      "rowLimit": 10000
     },
     "inputWidgets": {},
     "nuid": "1ab8a01b-999a-4852-a2f3-abbd4830684a",
     "showTitle": false,
     "tableResultSettingsMap": {},
     "title": ""
    }
   },
   "outputs": [
    {
     "output_type": "stream",
     "name": "stdout",
     "output_type": "stream",
     "text": [
      "+------------+--------+\n|    ItemName|StockQty|\n+------------+--------+\n|      LED TV|      50|\n|Office Chair|      40|\n+------------+--------+\n\n+------------+--------+\n|    ItemName|StockQty|\n+------------+--------+\n|      LED TV|      50|\n|Office Chair|      40|\n+------------+--------+\n\n"
     ]
    }
   ],
   "source": [
    "# 8.2 Use .filter() and .where() for the same and compare.\n",
    "df.filter(df.StockQty > 35) \\\n",
    "    .select([\"ItemName\", \"StockQty\"]) \\\n",
    "    .show()\n",
    "\n",
    "df.where(df.StockQty > 35) \\\n",
    "    .select([\"ItemName\", \"StockQty\"]) \\\n",
    "    .show()"
   ]
  },
  {
   "cell_type": "markdown",
   "metadata": {
    "application/vnd.databricks.v1+cell": {
     "cellMetadata": {},
     "inputWidgets": {},
     "nuid": "9bfd7844-1dc0-4150-a6c9-215703e1452a",
     "showTitle": false,
     "tableResultSettingsMap": {},
     "title": ""
    }
   },
   "source": [
    "# **Feature Engineering**"
   ]
  },
  {
   "cell_type": "code",
   "execution_count": 0,
   "metadata": {
    "application/vnd.databricks.v1+cell": {
     "cellMetadata": {
      "byteLimit": 2048000,
      "rowLimit": 10000
     },
     "inputWidgets": {},
     "nuid": "14222881-5eed-486e-aad8-313664ddd86b",
     "showTitle": false,
     "tableResultSettingsMap": {},
     "title": ""
    }
   },
   "outputs": [
    {
     "output_type": "stream",
     "name": "stdout",
     "output_type": "stream",
     "text": [
      "+------------+-------------+------------+\n|    ItemName|LastRestocked|RestockMonth|\n+------------+-------------+------------+\n|      LED TV|   2024-03-15|           3|\n|      Laptop|   2024-04-01|           4|\n|Office Chair|   2024-03-25|           3|\n|Refrigerator|   2024-02-20|           2|\n|     Printer|   2024-03-30|           3|\n+------------+-------------+------------+\n\n"
     ]
    }
   ],
   "source": [
    "# 9.1 Extract RestockMonth from LastRestocked .\n",
    "df.withColumn(\"RestockMonth\", F.month(\"LastRestocked\")) \\\n",
    "  .select([\"ItemName\", \"LastRestocked\", \"RestockMonth\"]) \\\n",
    "  .show()"
   ]
  },
  {
   "cell_type": "code",
   "execution_count": 0,
   "metadata": {
    "application/vnd.databricks.v1+cell": {
     "cellMetadata": {
      "byteLimit": 2048000,
      "rowLimit": 10000
     },
     "inputWidgets": {},
     "nuid": "0efe607d-c1e0-4b8f-aa4f-6824a58eb758",
     "showTitle": false,
     "tableResultSettingsMap": {},
     "title": ""
    }
   },
   "outputs": [
    {
     "output_type": "stream",
     "name": "stdout",
     "output_type": "stream",
     "text": [
      "+------------+-------------+--------+\n|    ItemName|LastRestocked|StockAge|\n+------------+-------------+--------+\n|      LED TV|   2024-03-15|     461|\n|      Laptop|   2024-04-01|     444|\n|Office Chair|   2024-03-25|     451|\n|Refrigerator|   2024-02-20|     485|\n|     Printer|   2024-03-30|     446|\n+------------+-------------+--------+\n\n"
     ]
    }
   ],
   "source": [
    "# 9.2 Create feature: StockAge = CURRENT_DATE - LastRestocked\n",
    "df = df.withColumn(\"StockAge\", F.datediff(F.current_date(), F.col(\"LastRestocked\")))\n",
    "\n",
    "df.select([\"ItemName\", \"LastRestocked\", \"StockAge\"]) .show()"
   ]
  },
  {
   "cell_type": "code",
   "execution_count": 0,
   "metadata": {
    "application/vnd.databricks.v1+cell": {
     "cellMetadata": {
      "byteLimit": 2048000,
      "rowLimit": 10000
     },
     "inputWidgets": {},
     "nuid": "7d8015a6-f0ab-4169-8f6b-700e9ba5c3cf",
     "showTitle": false,
     "tableResultSettingsMap": {},
     "title": ""
    }
   },
   "outputs": [
    {
     "output_type": "stream",
     "name": "stdout",
     "output_type": "stream",
     "text": [
      "+------------+-------------+--------+\n|    ItemName|LastRestocked|StockAge|\n+------------+-------------+--------+\n|      LED TV|   2024-03-15|   Stale|\n|      Laptop|   2024-04-01|   Stale|\n|Office Chair|   2024-03-25|   Stale|\n|Refrigerator|   2024-02-20|   Stale|\n|     Printer|   2024-03-30|   Stale|\n+------------+-------------+--------+\n\n"
     ]
    }
   ],
   "source": [
    "# 9.3 Bucket StockAge into: New, Moderate, Stale\n",
    "df.withColumn(\n",
    "    \"StockAge\", \n",
    "    F.when(F.col(\"StockAge\") < 180, \"New\") \\\n",
    "    .when(F.col(\"StockAge\") < 360, \"Moderate\") \\\n",
    "    .otherwise(\"Stale\")\n",
    "    ) \\\n",
    "    .select([\"ItemName\", \"LastRestocked\", \"StockAge\"]) \\\n",
    "    .show()"
   ]
  },
  {
   "cell_type": "markdown",
   "metadata": {
    "application/vnd.databricks.v1+cell": {
     "cellMetadata": {},
     "inputWidgets": {},
     "nuid": "fdd3ad20-c6db-4b95-968f-aa9a499e3f90",
     "showTitle": false,
     "tableResultSettingsMap": {},
     "title": ""
    }
   },
   "source": [
    "# **Export Options**"
   ]
  },
  {
   "cell_type": "code",
   "execution_count": 0,
   "metadata": {
    "application/vnd.databricks.v1+cell": {
     "cellMetadata": {
      "byteLimit": 2048000,
      "rowLimit": 10000
     },
     "inputWidgets": {},
     "nuid": "6bf1a129-0ca9-4786-8c9c-852a313ef4b7",
     "showTitle": false,
     "tableResultSettingsMap": {},
     "title": ""
    }
   },
   "outputs": [],
   "source": [
    "# 10.1 1. Write full DataFrame to:\n",
    "# CSV for analysts\n",
    "df.write.mode(\"overwrite\").csv(\"file:/Users/tharunaadhi6@gmail.com/delta_tables/export/csv/inventory_details\")\n",
    "# JSON for integration\n",
    "df.write.mode(\"overwrite\").json(\"file:/Users/tharunaadhi6@gmail.com/delta_tables/export/json/inventory_intergation_data\")\n",
    "# Delta for pipelines\n",
    "df.write.mode(\"overwrite\").format(\"delta\").save(\"/Users/tharunaadhi6@gmail.com/delta_tables/export/delta_table/inventory_dlt\")\n",
    "\n"
   ]
  },
  {
   "cell_type": "code",
   "execution_count": 0,
   "metadata": {
    "application/vnd.databricks.v1+cell": {
     "cellMetadata": {
      "byteLimit": 2048000,
      "rowLimit": 10000
     },
     "inputWidgets": {},
     "nuid": "32577de9-537e-4b7a-9b6b-3a9d9a5a31aa",
     "showTitle": false,
     "tableResultSettingsMap": {},
     "title": ""
    }
   },
   "outputs": [],
   "source": [
    "# 10.2 Save with meaningful file and partition names like /export/inventory/stale_items/\n",
    "filterddf = df.filter(df.StockAge == \"Stale\")\n",
    "filterddf.write.mode(\"overwrite\").option(\"partitionBy\", \"Status\").json(\"file:/Users/tharunaadhi6@gmail.com/delta_tables/export/inventory/stale_items/staleJSON\")"
   ]
  },
  {
   "cell_type": "code",
   "execution_count": 0,
   "metadata": {
    "application/vnd.databricks.v1+cell": {
     "cellMetadata": {},
     "inputWidgets": {},
     "nuid": "e6b87f90-c96a-449e-a626-1fef02222a88",
     "showTitle": false,
     "tableResultSettingsMap": {},
     "title": ""
    }
   },
   "outputs": [],
   "source": []
  }
 ],
 "metadata": {
  "application/vnd.databricks.v1+notebook": {
   "computePreferences": null,
   "dashboards": [],
   "environmentMetadata": null,
   "inputWidgetPreferences": null,
   "language": "python",
   "notebookMetadata": {
    "pythonIndentUnit": 4
   },
   "notebookName": "Assignment-1",
   "widgets": {}
  }
 },
 "nbformat": 4,
 "nbformat_minor": 0
}